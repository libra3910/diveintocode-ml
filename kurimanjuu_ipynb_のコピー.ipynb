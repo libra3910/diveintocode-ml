{
  "nbformat": 4,
  "nbformat_minor": 0,
  "metadata": {
    "kernelspec": {
      "display_name": "Python 3",
      "language": "python",
      "name": "python3"
    },
    "language_info": {
      "codemirror_mode": {
        "name": "ipython",
        "version": 3
      },
      "file_extension": ".py",
      "mimetype": "text/x-python",
      "name": "python",
      "nbconvert_exporter": "python",
      "pygments_lexer": "ipython3",
      "version": "3.8.5"
    },
    "colab": {
      "name": "kurimanjuu.ipynb のコピー",
      "provenance": [],
      "include_colab_link": true
    }
  },
  "cells": [
    {
      "cell_type": "markdown",
      "metadata": {
        "id": "view-in-github",
        "colab_type": "text"
      },
      "source": [
        "<a href=\"https://colab.research.google.com/github/libra3910/diveintocode-ml/blob/master/kurimanjuu_ipynb_%E3%81%AE%E3%82%B3%E3%83%94%E3%83%BC.ipynb\" target=\"_parent\"><img src=\"https://colab.research.google.com/assets/colab-badge.svg\" alt=\"Open In Colab\"/></a>"
      ]
    },
    {
      "cell_type": "markdown",
      "metadata": {
        "id": "sot0Nh_P2Cmd"
      },
      "source": [
        "# 栗まんじゅう問題"
      ]
    },
    {
      "cell_type": "markdown",
      "metadata": {
        "id": "eYI2b1T_2Cmf"
      },
      "source": [
        "# 【問題】栗まんじゅうが太陽系を覆う日"
      ]
    },
    {
      "cell_type": "code",
      "metadata": {
        "id": "nII4yv1w2Cmg",
        "outputId": "ec5eb164-97b2-43e0-9246-d6096f047d20"
      },
      "source": [
        "import math\n",
        "def kuri_manju(taiseki):\n",
        "  manju = 0.05*0.05*0.025\n",
        "  i = 1\n",
        "  while manju <= taiseki:\n",
        "    i += 1\n",
        "    manju *= 2\n",
        "    i *= 5\n",
        "  return i\n",
        "    \n",
        "taiyoukei = 4/3 * math.pi * (39.44506973*149597870700)**3\n",
        "print(\"太陽系の体積を超えるのは、{}分後\".format(kuri_manju(taiseki=taiyoukei)))\n",
        "tokyodome = 1240000\n",
        "print(\"東京ドームの体積を超えるのは、{}分後\".format(kuri_manju(taiseki=tokyodome)))"
      ],
      "execution_count": null,
      "outputs": [
        {
          "output_type": "stream",
          "text": [
            "太陽系の体積を超えるのは、100893489431386829106508529996873961452178859815109135566508916440064957953381963307037949562072753905分後\n",
            "東京ドームの体積を超えるのは、6548361852765083312988280分後\n"
          ],
          "name": "stdout"
        }
      ]
    },
    {
      "cell_type": "code",
      "metadata": {
        "id": "xtkjBnYV2Cmg"
      },
      "source": [
        ""
      ],
      "execution_count": null,
      "outputs": []
    }
  ]
}