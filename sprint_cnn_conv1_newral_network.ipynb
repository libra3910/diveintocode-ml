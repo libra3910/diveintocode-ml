{
  "nbformat": 4,
  "nbformat_minor": 0,
  "metadata": {
    "kernelspec": {
      "display_name": "Python 3",
      "language": "python",
      "name": "python3"
    },
    "colab": {
      "name": "sprint_cnn_conv1_newral_network.ipynb",
      "provenance": [],
      "collapsed_sections": [
        "pCBPTFzDtkvO",
        "XNBNUF8utkvQ",
        "qG3ztUCHtkvS",
        "HiKlMRWztkvV",
        "wreKXVSktkvV",
        "ui0GDhLYtkvW",
        "5I-vR9FjtkvX"
      ],
      "include_colab_link": true
    }
  },
  "cells": [
    {
      "cell_type": "markdown",
      "metadata": {
        "id": "view-in-github",
        "colab_type": "text"
      },
      "source": [
        "<a href=\"https://colab.research.google.com/github/libra3910/diveintocode-ml/blob/master/sprint_cnn_conv1_newral_network.ipynb\" target=\"_parent\"><img src=\"https://colab.research.google.com/assets/colab-badge.svg\" alt=\"Open In Colab\"/></a>"
      ]
    },
    {
      "cell_type": "markdown",
      "metadata": {
        "id": "npdtJr10tkvC"
      },
      "source": [
        "# Sprint 深層学習スクラッチ ディープニューラルネットワーク"
      ]
    },
    {
      "cell_type": "code",
      "metadata": {
        "id": "dEjC7nuktkvE"
      },
      "source": [
        "import numpy as np"
      ],
      "execution_count": null,
      "outputs": []
    },
    {
      "cell_type": "markdown",
      "metadata": {
        "id": "CS8H4osMtkvG"
      },
      "source": [
        "### ミニバッチ"
      ]
    },
    {
      "cell_type": "code",
      "metadata": {
        "id": "9Z3UAt3utkvH"
      },
      "source": [
        "# Utilityクラス\n",
        "# GetMiniBatch\n",
        "class GetMiniBatch:\n",
        "\n",
        "    def __init__(self, X, y, batch_size = 20, seed=0):\n",
        "        \n",
        "        self.batch_size = batch_size\n",
        "        np.random.seed(seed)\n",
        "        shuffle_index = np.random.permutation(np.arange(X.shape[0]))\n",
        "        self._X = X[shuffle_index]\n",
        "        self._y = y[shuffle_index]\n",
        "        self._stop = np.ceil(X.shape[0]/self.batch_size).astype(np.int)\n",
        "        \n",
        "    def __len__(self):\n",
        "        \n",
        "        return self._stop\n",
        "    \n",
        "    def __getitem__(self,item):\n",
        "        \n",
        "        p0 = item*self.batch_size\n",
        "        p1 = item*self.batch_size + self.batch_size\n",
        "        \n",
        "        return self._X[p0:p1], self._y[p0:p1]   \n",
        "    \n",
        "    def __iter__(self):\n",
        "        \n",
        "        self._counter = 0\n",
        "        \n",
        "        return self\n",
        "    \n",
        "    def __next__(self):\n",
        "        \n",
        "        if self._counter >= self._stop:\n",
        "            raise StopIteration()\n",
        "        p0 = self._counter*self.batch_size\n",
        "        p1 = self._counter*self.batch_size + self.batch_size\n",
        "        self._counter += 1\n",
        "        \n",
        "        return self._X[p0:p1], self._y[p0:p1]"
      ],
      "execution_count": null,
      "outputs": []
    },
    {
      "cell_type": "markdown",
      "metadata": {
        "id": "cNADvQm8tkvI"
      },
      "source": [
        "### 全結合層"
      ]
    },
    {
      "cell_type": "code",
      "metadata": {
        "id": "S9Uf-z0btkvI"
      },
      "source": [
        "# Initializerクラス\n",
        "# SimpleInitializer 【問題2】初期化方法のクラス化\n",
        "class SimpleInitializer:\n",
        "    \n",
        "    def __init__(self, sigma, seed=0):\n",
        "        \n",
        "        self.sigma = sigma\n",
        "        self.seed = seed\n",
        "        np.random.seed(self.seed)\n",
        "        \n",
        "    def W(self, n_nodes1, n_nodes2):\n",
        "        \n",
        "        W = self.sigma * np.random.randn(n_nodes1, n_nodes2)\n",
        "        \n",
        "        return W\n",
        "    \n",
        "    def B(self, n_nodes2):\n",
        "        \n",
        "        B = self.sigma * np.random.randn(n_nodes2)\n",
        "        \n",
        "        return B"
      ],
      "execution_count": null,
      "outputs": []
    },
    {
      "cell_type": "code",
      "metadata": {
        "id": "FAx_RZGitkvJ"
      },
      "source": [
        "# Xavier\n",
        "class Xavier:\n",
        "    \"\"\"\n",
        "    初期値を正規分布化するため、前層のノード数の根で除算する。\n",
        "    活性化関数がシグモイド関数やハイパボリックタンジェント関数の場合に適用。\n",
        "    \n",
        "    \"\"\"\n",
        "    def __init__(self, sigma, seed=0):\n",
        "        \n",
        "        self.sigma = sigma\n",
        "        self.seed = seed\n",
        "        np.random.seed(self.seed)\n",
        "        \n",
        "    def W(self, n_nodes1, n_nodes2):\n",
        "        \n",
        "        W = self.sigma * np.random.randn(n_nodes1, n_nodes2) * (1 / np.sqrt(n_nodes1))\n",
        "        \n",
        "        return W\n",
        "    \n",
        "    def B(self, n_nodes2):\n",
        "        \n",
        "        B = self.sigma * np.random.randn(n_nodes2)\n",
        "        \n",
        "        return B"
      ],
      "execution_count": null,
      "outputs": []
    },
    {
      "cell_type": "code",
      "metadata": {
        "id": "oIFcoQZPtkvK"
      },
      "source": [
        "# He\n",
        "class He:\n",
        "    \"\"\"\n",
        "    （2×前層のノード数の根）で除算する。\n",
        "    活性化関数がReLU関数の場合に適用。\n",
        "    \n",
        "    \"\"\"\n",
        "    def __init__(self, sigma, seed=0):\n",
        "        \n",
        "        self.sigma = sigma\n",
        "        self.seed = seed\n",
        "        np.random.seed(self.seed)\n",
        "        \n",
        "    def W(self, n_nodes1, n_nodes2):\n",
        "        \n",
        "        W = self.sigma * np.random.randn(n_nodes1, n_nodes2) * (2 / np.sqrt(n_nodes1))\n",
        "        \n",
        "        return W\n",
        "    \n",
        "    def B(self, n_nodes2):\n",
        "        \n",
        "        B = self.sigma * np.random.randn(n_nodes2)\n",
        "        \n",
        "        return B"
      ],
      "execution_count": null,
      "outputs": []
    },
    {
      "cell_type": "code",
      "metadata": {
        "id": "NLx8bsBhtkvK"
      },
      "source": [
        "# Optimizerクラス\n",
        "# SGD\n",
        "class SGD:\n",
        "\n",
        "    def __init__(self, lr):\n",
        "        \n",
        "        self.lr = lr\n",
        "        \n",
        "    def update(self, layer):\n",
        "\n",
        "        #layer.W -= self.lr * np.dot(layer.X.T, layer.dA)\n",
        "        #layer.B -= self.lr * np.sum(layer.dA, axis=0)\n",
        "        layer.W -= self.lr * layer.dAW\n",
        "        layer.B -= self.lr * layer.dAB\n",
        "        \n",
        "        return layer"
      ],
      "execution_count": null,
      "outputs": []
    },
    {
      "cell_type": "code",
      "metadata": {
        "id": "5iNWfHuqtkvL"
      },
      "source": [
        "# AdaGrad\n",
        "class AdaGrad:\n",
        "\n",
        "    def __init__(self, lr):\n",
        "        \n",
        "        self.lr = lr\n",
        "        self.HiW = 0\n",
        "        self.HiB = 0\n",
        "        \n",
        "    def update(self, layer):\n",
        "        \n",
        "        self.HiW += layer.dAW ** 2\n",
        "        self.HiB += layer.dAB ** 2\n",
        "        \n",
        "        layer.W -= self.lr * (1 / (np.sqrt(self.HiW) + 1e-7)) * layer.dAW\n",
        "        layer.B -= self.lr * (1 / (np.sqrt(self.HiB) + 1e-7)) * layer.dAB\n",
        "        \n",
        "        return layer\n",
        "        "
      ],
      "execution_count": null,
      "outputs": []
    },
    {
      "cell_type": "code",
      "metadata": {
        "id": "dSToes0GtkvL"
      },
      "source": [
        "# Layerクラス\n",
        "# FC\n",
        "class FC:\n",
        "\n",
        "    def __init__(self, n_nodes1, n_nodes2, initializer, optimizer):\n",
        "\n",
        "        self.n_nodes1 = n_nodes1\n",
        "        self.n_nodes2 = n_nodes2\n",
        "        self.initializer = initializer\n",
        "        self.optimizer = optimizer\n",
        "\n",
        "        # 初期化\n",
        "        # initializerのメソッドを使い、self.Wとself.Bを初期化する\n",
        "\n",
        "        self.W = self.initializer.W(n_nodes1, n_nodes2)\n",
        "        self.B = self.initializer.B(n_nodes2)\n",
        "        self.X = None\n",
        "        self.dA = None\n",
        "        \n",
        "    def forward(self, X):\n",
        "\n",
        "        self.X = X\n",
        "        A = np.dot(self.X, self.W) + self.B\n",
        "        return A\n",
        "    \n",
        "    def backward(self, dA):\n",
        "\n",
        "        self.dA = dA\n",
        "\n",
        "        self.dAW = np.dot(self.X.T, self.dA)\n",
        "        self.dAB = np.sum(self.dA, axis=0)\n",
        "        \n",
        "        dz = np.dot(dA, self.W.T)\n",
        "        \n",
        "        self = self.optimizer.update(self)\n",
        "\n",
        "        return dz\n"
      ],
      "execution_count": null,
      "outputs": []
    },
    {
      "cell_type": "code",
      "metadata": {
        "id": "I72VhBnWtkvM"
      },
      "source": [
        "# ReLU\n",
        "class ReLU:\n",
        "\n",
        "    def __init__(self):\n",
        "\n",
        "        self.A = None\n",
        "    \n",
        "    def forward(self, X):\n",
        "  \n",
        "        self.A = np.copy(X)\n",
        "        \n",
        "        return np.maximum(0, X)\n",
        "        \n",
        "    def backward(self, dA):\n",
        "\n",
        "        return np.where(self.A > 0, dA, 0)"
      ],
      "execution_count": null,
      "outputs": []
    },
    {
      "cell_type": "code",
      "metadata": {
        "id": "Nvuo1KbatkvN"
      },
      "source": [
        "# Tanh\n",
        "class Tanh:\n",
        "\n",
        "    def __init__(self):\n",
        "\n",
        "        pass\n",
        "\n",
        "    def forward(self, X):\n",
        "\n",
        "        self.Z = (np.exp(X) - np.exp(-X)) / (np.exp(X) + np.exp(-X))\n",
        "        return self.Z\n",
        "        \n",
        "    def backward(self, dA):\n",
        "        \n",
        "        dA2 = dA * (1 - self.Z**2)\n",
        "        \n",
        "        return dA2"
      ],
      "execution_count": null,
      "outputs": []
    },
    {
      "cell_type": "code",
      "metadata": {
        "id": "8c4SsflbtkvN"
      },
      "source": [
        "# Softmax\n",
        "class Softmax:\n",
        "    \n",
        "    def __init__(self):\n",
        "        \n",
        "        pass\n",
        "    \n",
        "    def forward(self, X):\n",
        "        \n",
        "        dz = np.exp(X) / np.sum(np.exp(X), axis=1, keepdims=True)\n",
        "        return dz\n",
        "    \n",
        "    def backward(self, Z3, y):\n",
        "\n",
        "        y_one_hot = (y.reshape(-1,1)==np.arange(10))\n",
        "        dza = (Z3 - y) / y.shape[0]\n",
        "        #【問題3】交差エントロピー誤差の実装\n",
        "        L = np.sum(np.mean(-(y_one_hot * Z3), axis=0))\n",
        "        C = np.sum(np.array(dza).argmax(axis=1) == y)\n",
        "        \n",
        "        return dza, L, C"
      ],
      "execution_count": null,
      "outputs": []
    },
    {
      "cell_type": "code",
      "metadata": {
        "id": "WhrPa_lWtkvO"
      },
      "source": [
        "# Calculates log(sum(exp(x)))\n",
        "class logsumexp:\n",
        "    \n",
        "    def __init__(self):\n",
        "\n",
        "        pass\n",
        "\n",
        "    def forward(self, X):\n",
        "        \n",
        "        xmax = X.max(axis=1, keepdims=True)\n",
        "        self.Z = np.log(np.exp(X - xmax).sum(axis=1, keepdims=True)) + xmax\n",
        "        \n",
        "        return self.Z\n",
        "\n",
        "    def backward(self, Z3, log_Z3, y):\n",
        "\n",
        "        y_one_hot = (y.reshape(-1,1)==np.arange(10))\n",
        "        dza = (Z3 - y_one_hot) / y_one_hot.shape[0]\n",
        "\n",
        "        L = np.sum(np.mean(-(y_one_hot * log_Z3), axis=0))\n",
        "        C = np.sum(Z3.argmax(axis=1) == y)\n",
        "        \n",
        "        return dza, L, C"
      ],
      "execution_count": null,
      "outputs": []
    },
    {
      "cell_type": "markdown",
      "metadata": {
        "id": "pCBPTFzDtkvO"
      },
      "source": [
        "### 畳み込み層"
      ]
    },
    {
      "cell_type": "code",
      "metadata": {
        "id": "waUTHI0etkvO"
      },
      "source": [
        "# Initializerクラス\n",
        "# SimpleInitializer 【問題2】初期化方法のクラス化\n",
        "class SimpleInitializerConv1d:\n",
        "    \n",
        "    def __init__(self, sigma, seed=0):\n",
        "        \n",
        "        self.sigma = sigma\n",
        "        self.seed = seed\n",
        "        np.random.seed(self.seed)\n",
        "        \n",
        "    def W(self, out_channel, in_channel, filter_size):\n",
        "        \n",
        "        W = self.sigma * np.random.randn(out_channel, in_channel, filter_size)\n",
        "        \n",
        "        return W\n",
        "    \n",
        "    def B(self, out_channel):\n",
        "        \n",
        "        B = self.sigma * np.random.randn(out_channel)\n",
        "        \n",
        "        return B"
      ],
      "execution_count": null,
      "outputs": []
    },
    {
      "cell_type": "code",
      "metadata": {
        "id": "J6QWuQT-tkvP"
      },
      "source": [
        "# 1次元畳み込み層\n",
        "class SimpleConv1d:\n",
        "    \n",
        "    def __init__(self, out_channel, in_channel, filter_size,\n",
        "                padding_size = 0, stride_size = 1,\n",
        "                initializer = None, optimizer = None):\n",
        "        \n",
        "        self.padding_size = padding_size\n",
        "        self.stride_size = stride_size\n",
        "        self.initializer = initializer\n",
        "        self.optimizer = optimizer\n",
        "        \n",
        "        # 初期化\n",
        "        # initializerのメソッドを使い、self.Wとself.Bを初期化する\n",
        "\n",
        "        self.W = self.initializer.W(out_channel, in_channel, filter_size)\n",
        "        self.B = self.initializer.B(out_channel)\n",
        "        self.X = None\n",
        "        self.dA = None\n",
        "        \n",
        "    def forward(self, X):\n",
        "\n",
        "        self.X = X[:, np.newaxis, :]\n",
        "        self.N_out = int((self.X.shape[2] + 2 * self.padding_size - self.W.shape[2]) / self.stride_size) + 1 # 【問題２】1次元畳み込み後の出力サイズの計算\n",
        "        \n",
        "        a = np.array([])\n",
        "        for n in range(self.X.shape[0]):\n",
        "            Yhat = np.array([])\n",
        "            for j in range(self.N_out):\n",
        "                Yhat_tmp = 0\n",
        "                for i in range(self.X.shape[1]): # ストライドする分はループが必要か\n",
        "                    Yhat_tmp += (self.X[n, i, j:j+self.W.shape[2]].dot(self.W[n, i, :])).astype(np.float64)\n",
        "                Yhat = np.append(Yhat, np.sum(Yhat_tmp, axis=0) + self.B[n])\n",
        "\n",
        "            a = np.append(a, Yhat)\n",
        "        \n",
        "        a = a.reshape(self.X.shape[0], self.N_out)\n",
        "\n",
        "        return a\n",
        "        \n",
        "    def backward(self, delta_a):\n",
        "        \n",
        "        delta_a = delta_a[:, np.newaxis, :]\n",
        "        \n",
        "        # Xを更新\n",
        "        self.aX = np.zeros(self.X.shape)\n",
        "        for n in range(self.X.shape[0]):\n",
        "            for j in range(self.W.shape[0]):\n",
        "                for i in range(self.W.shape[1]):\n",
        "                    for h in range(self.W.shape[2]):\n",
        "                        for k in range(self.N_out):\n",
        "                            self.aX[n, i, h+k] += (self.W[j, i, h] * delta_a[n, i, k]).astype(np.float64)\n",
        "\n",
        "        # Wを更新\n",
        "        self.dAW = np.zeros(self.W.shape)\n",
        "        for n in range(self.X.shape[0]):\n",
        "            for j in range(self.W.shape[0]):\n",
        "                for i in range(self.W.shape[1]):\n",
        "                    for h in range(self.W.shape[2]):\n",
        "                        for k in range(self.N_out):\n",
        "                            self.dAW[j, i, h] += (self.X[n, i, h+k] * delta_a[n, i, k]).astype(np.float64)\n",
        "                            \n",
        "        # Bを更新\n",
        "\n",
        "        self.dAB = np.sum(delta_a.reshape(self.X.shape[0], -1), axis=1)\n",
        "\n",
        "        self = self.optimizer.update(self)\n",
        "        \n",
        "        return self.aX"
      ],
      "execution_count": null,
      "outputs": []
    },
    {
      "cell_type": "markdown",
      "metadata": {
        "id": "XNBNUF8utkvQ"
      },
      "source": [
        "### 学習および推定"
      ]
    },
    {
      "cell_type": "code",
      "metadata": {
        "id": "Ou0_p9-WtkvQ"
      },
      "source": [
        "import matplotlib.pyplot as plt\n",
        "%matplotlib inline\n",
        "# Tranerクラス\n",
        "class ScratchDeepNeuralNetrowkClassifier():\n",
        "    \"\"\"\n",
        "    Trainerクラスの定義\n",
        "    \n",
        "    \"\"\"\n",
        "    # self.sigma : ガウス分布の標準偏差\n",
        "    # self.lr : 学習率\n",
        "    # self.n_nodes1 : 1層目のノード数\n",
        "    # self.n_nodes2 : 2層目のノード数\n",
        "    # self.n_output : 出力層のノード数\n",
        "    \n",
        "    batch_size = 20\n",
        "    sigma = 0.01\n",
        "    n_features = 782\n",
        "    n_nodes1 = 400\n",
        "    n_nodes2 = 200\n",
        "    n_output = 10\n",
        "    lr = 0.01\n",
        "\n",
        "    def __init__(self, seed=0, verbose = True, verbose2 = False):\n",
        "        \n",
        "        self.seed = 0\n",
        "        self.verbose = verbose\n",
        "        self.verbose2 = verbose2\n",
        "\n",
        "    def fit(self, X, y, X_val=None, y_val=None, pinit=\"Initializer\", pact1=\"Tanh\", pact2=\"logsumexp\", popt=\"SGD\",\n",
        "            cinit = \"InitializerConv1d\", cact = \"ReLU\", copt = \"SGD\", \n",
        "            out_channel = 20, in_channel = 1, filter_size = 3, padding_size = 0, stride_size = 1):\n",
        "\n",
        "        # 畳み込み層　初期化、学習用の各関数を定義\n",
        "        # 初期化関数\n",
        "        if cinit == \"InitializerConv1d\":\n",
        "            initializerConv1d =SimpleInitializerConv1d(self.sigma, self.seed)\n",
        "        \n",
        "        # 最適化関数\n",
        "        if copt == \"SGD\":\n",
        "            optimizerConv1d = SGD(self.lr)\n",
        "        \n",
        "        # 活性化関数\n",
        "        if cact == \"ReLU\":\n",
        "            self.activationConv1d = ReLU()\n",
        "        \n",
        "        # 学習用関数初期化\n",
        "        if copt == \"SGD\":\n",
        "            self.Conv1d = SimpleConv1d(out_channel, in_channel, filter_size, padding_size, stride_size, \n",
        "                                       initializerConv1d, optimizerConv1d)\n",
        "       \n",
        "        # 全結合層　初期化、最適化、活性化、学習用の各関数を定義\n",
        "        # 初期化関数\n",
        "        if pinit == \"Initializer\":\n",
        "            initializer = SimpleInitializer(self.sigma, self.seed)\n",
        "        elif pinit == \"Xavier\":\n",
        "            initializer = Xavier(self.sigma, self.seed)\n",
        "        elif pinit == \"He\":\n",
        "            initializer = He(self.sigma, self.seed)\n",
        "        \n",
        "        # 最適化関数\n",
        "        if popt == \"SGD\":\n",
        "            optimizer = SGD(self.lr)\n",
        "        elif popt == \"AdaGrad\":\n",
        "            optimizer1 = AdaGrad(self.lr) \n",
        "            optimizer2 = AdaGrad(self.lr) \n",
        "            optimizer3 = AdaGrad(self.lr) \n",
        "        \n",
        "        # 活性化関数1\n",
        "        if pact1 == \"Tanh\":\n",
        "            self.activation1 = Tanh()\n",
        "            self.activation2 = Tanh()\n",
        "        if pact1 == \"ReLU\":\n",
        "            self.activation1 = ReLU()\n",
        "            self.activation2 = ReLU()\n",
        "\n",
        "        # 活性化関数2\n",
        "        if pact2 == \"logsumexp\":\n",
        "            self.activation3 = logsumexp()\n",
        "        elif pact2 == \"Softmax\":\n",
        "            self.activation3 = Softmax()\n",
        "        \n",
        "        # 学習用関数初期化\n",
        "        if popt == \"SGD\":\n",
        "            self.FC1 = FC(self.n_features, self.n_nodes1, initializer, optimizer) # W1: (782, 400)\n",
        "            self.FC2 = FC(self.n_nodes1, self.n_nodes2, initializer, optimizer) # W2: (400, 200) \n",
        "            self.FC3 = FC(self.n_nodes2, self.n_output, initializer, optimizer) # W3: (200, 10)\n",
        "        elif popt == \"AdaGrad\":\n",
        "            self.FC1 = FC(self.n_features, self.n_nodes1, initializer, optimizer1) # W1: (782, 400)\n",
        "            self.FC2 = FC(self.n_nodes1, self.n_nodes2, initializer, optimizer2) # W2: (400, 200) \n",
        "            self.FC3 = FC(self.n_nodes2, self.n_output, initializer, optimizer3) # W3: (200, 10)            \n",
        "        \n",
        "        epoch = 20\n",
        "        n_step_iteration_report = 1\n",
        "        plot_data = []\n",
        "        \n",
        "        # Utility(epochごとに、全データ分ミニバッチを取得)\n",
        "        for i in range(epoch):\n",
        "\n",
        "            sum_of_loss = 0\n",
        "            get_mini_batch = GetMiniBatch(X, y, batch_size = self.batch_size)\n",
        "            for j, (mini_X_train, mini_y_train) in enumerate(get_mini_batch):\n",
        "                \n",
        "                # 畳み込み層　学習用Forward Propergation\n",
        "                C1  = self.Conv1d.forward(mini_X_train)\n",
        "                ZC1 = self.activationConv1d.forward(C1)\n",
        "                \n",
        "                # 全結合層　学習用Forward Propergation\n",
        "                A1 = self.FC1.forward(ZC1)\n",
        "                Z1 = self.activation1.forward(A1)\n",
        "                A2 = self.FC2.forward(Z1)\n",
        "                Z2 = self.activation2.forward(A2)\n",
        "                A3 = self.FC3.forward(Z2)\n",
        "                log_Z3 = A3 - self.activation3.forward(A3)\n",
        "                Z3 = np.exp(log_Z3)\n",
        "                \n",
        "                # 全結合層　学習用Back Propergation\n",
        "                dA3,L,C = self.activation3.backward(Z3, log_Z3, mini_y_train) # 交差エントロピー誤差とソフトマックスを合わせている\n",
        "                dZ2 = self.FC3.backward(dA3)\n",
        "                dA2 = self.activation2.backward(dZ2)\n",
        "                dZ1 = self.FC2.backward(dA2)\n",
        "                dA1 = self.activation1.backward(dZ1)\n",
        "                dZ0 = self.FC1.backward(dA1) # dZ0は使用しない\n",
        "                \n",
        "                # 畳み込み層　学習用Back Propergation\n",
        "                dA0 = self.activationConv1d.backward(dZ0)\n",
        "                dZC = self.Conv1d.backward(dA0)\n",
        "                \n",
        "                # ログ出力\n",
        "                sum_of_loss += L\n",
        "                if self.verbose and (j + 1) % n_step_iteration_report == 0:\n",
        "                    train_loss = sum_of_loss / n_step_iteration_report\n",
        "\n",
        "                    # 検証用Forward Propergation、損失、Accuracy\n",
        "                    #C1  = self.Conv1d.forward(X_val)\n",
        "                    #ZC1 = self.activationConv1d.forward(C1)                    \n",
        "                    #A1 = self.FC1.forward(ZC1)\n",
        "                    #Z1 = self.activation1.forward(A1)\n",
        "                    #A2 = self.FC2.forward(Z1)\n",
        "                    #Z2 = self.activation2.forward(A2)\n",
        "                    #A3 = self.FC3.forward(Z2)\n",
        "                    #log_Z3 = A3 - self.activation3.forward(A3)\n",
        "                    #Z3 = np.exp(log_Z3)\n",
        "\n",
        "                    #dA3,val_loss,val_accuracy = self.activation3.backward(Z3, log_Z3, y_val)\n",
        "                    \n",
        "                    #print(f'epoch: {i+1}, iteration: {j+1}, train_loss: {train_loss:.3}, val_loss: {val_loss:.3}, accuracty: {val_accuracy / len(y_val):.3}')\n",
        "                    print(f'epoch: {i+1}, iteration: {j+1}, train_loss: {train_loss:.3}, accuracy: {C / len(mini_y_train):.3}')\n",
        "                    sum_of_loss = 0\n",
        "\n",
        "                    iters_per_epoch = len(X_train) / self.batch_size\n",
        "                    print(\"iters_per_epoch={}\".format(iters_per_epoch))\n",
        "                    #plot_data.append((i + (j + 1) / iters_per_epoch, train_loss, val_loss))\n",
        "                    plot_data.append((i + (j + 1) / iters_per_epoch, train_loss))\n",
        "                \n",
        "            if self.verbose:\n",
        "                #verboseをTrueにした際は学習過程などを出力する\n",
        "                pass\n",
        "                \n",
        "                if self.verbose2:\n",
        "                    print(\"epoch={}\".format(i))\n",
        "                    print(\"forward propergation\")                    \n",
        "                    print(\" A1={}\".format(A1))\n",
        "                    print(\" Z1={}\".format(Z1))\n",
        "                    print(\" A2={}\".format(A2))\n",
        "                    print(\" Z2={}\".format(Z2))\n",
        "                    print(\" A3={}\".format(A3))\n",
        "                    print(\" Z3={}\".format(Z3))\n",
        "                    print(\"back propergation\")\n",
        "                    print(\"dA3={}\".format(dA3))                    \n",
        "                    print(\"dZ2={}\".format(dZ2))\n",
        "                    print(\"dA2={}\".format(dA2))\n",
        "                    print(\"dZ1={}\".format(dZ1))\n",
        "                    print(\"dA1={}\".format(dA1))\n",
        "                    print(\"dA0={}\".format(dA0)) \n",
        "                    \n",
        "        if self.verbose:\n",
        "            #verboseをTrueにした際は学習過程などを出力する\n",
        "            #epochs, train_loss, val_loss = zip(*plot_data)\n",
        "            epochs, train_loss = zip(*plot_data)\n",
        "            plt.plot(epochs, train_loss, color='r', label='train_loss')\n",
        "            #plt.plot(epochs, val_loss, color='b', label='val_loss')\n",
        "            plt.xlabel('epoch')\n",
        "            plt.ylabel('loss')\n",
        "            plt.show()\n",
        "\n",
        "    def predict(self, X):\n",
        "\n",
        "        C1  = self.Conv1d.forward(X)\n",
        "        ZC1 = self.activationConv1d.forward(C1)\n",
        "        A1 = self.FC1.forward(ZC1)\n",
        "        Z1 = self.activation1.forward(A1)\n",
        "        A2 = self.FC2.forward(Z1)\n",
        "        Z2 = self.activation2.forward(A2)\n",
        "        A3 = self.FC3.forward(Z2)\n",
        "        log_Z3 = A3 - self.activation3.forward(A3)\n",
        "        y_pred = log_Z3.argmax(axis=1)\n",
        "        \n",
        "        return y_pred"
      ],
      "execution_count": null,
      "outputs": []
    },
    {
      "cell_type": "markdown",
      "metadata": {
        "id": "qG3ztUCHtkvS"
      },
      "source": [
        "### 【問題8】学習と推定"
      ]
    },
    {
      "cell_type": "code",
      "metadata": {
        "id": "0eDZveVAtkvS"
      },
      "source": [
        "# データセットをダウンロードするコード\n",
        "from keras.datasets import mnist\n",
        "(X_train, y_train), (X_test, y_test) = mnist.load_data()"
      ],
      "execution_count": null,
      "outputs": []
    },
    {
      "cell_type": "code",
      "metadata": {
        "id": "ZvpmcAu6tkvS"
      },
      "source": [
        "# 平滑化\n",
        "X_train = X_train.reshape(-1, 784)\n",
        "X_test = X_test.reshape(-1, 784)"
      ],
      "execution_count": null,
      "outputs": []
    },
    {
      "cell_type": "code",
      "metadata": {
        "id": "8xYzDEtYtkvT",
        "outputId": "ce88221f-3b8b-484b-eefd-7a3ac9c2f4b9"
      },
      "source": [
        "# 前処理\n",
        "X_train = X_train.astype(np.float)\n",
        "X_test = X_test.astype(np.float)\n",
        "X_train /= 255\n",
        "X_test /= 255\n",
        "print(X_train.max()) # 1.0\n",
        "print(X_train.min()) # 0.0"
      ],
      "execution_count": null,
      "outputs": [
        {
          "output_type": "stream",
          "text": [
            "1.0\n",
            "0.0\n"
          ],
          "name": "stdout"
        }
      ]
    },
    {
      "cell_type": "code",
      "metadata": {
        "id": "vGKyrZtetkvT",
        "outputId": "a2bf1f3e-0c6c-42c3-a66d-ec7d5fc8e7ac"
      },
      "source": [
        "y_train_one_hot = (y_train.reshape(-1,1) == np.arange(10)).astype(np.float64)\n",
        "y_test_one_hot = (y_train.reshape(-1,1) == np.arange(10)).astype(np.float64)\n",
        "print(y_train.shape)\n",
        "print(y_train_one_hot.shape)\n",
        "print(y_train_one_hot.dtype)"
      ],
      "execution_count": null,
      "outputs": [
        {
          "output_type": "stream",
          "text": [
            "(60000,)\n",
            "(60000, 10)\n",
            "float64\n"
          ],
          "name": "stdout"
        }
      ]
    },
    {
      "cell_type": "code",
      "metadata": {
        "id": "-3C5yVSOtkvU",
        "outputId": "5cf49259-e787-4a2c-9c89-048261bcbcb7"
      },
      "source": [
        "def split_data(X, permutation, val_size_rate=0.90):\n",
        "    X = X[permutation]\n",
        "    val_size = int(len(X) * val_size_rate)\n",
        "    val = X[:val_size]\n",
        "    train = X[val_size:]\n",
        "    return train, val\n",
        "\n",
        "permutation = np.random.permutation(np.arange(len(X_train)))\n",
        "X_train, X_val = split_data(X_train, permutation)\n",
        "y_train, y_val = split_data(y_train, permutation)\n",
        "print(X_train.shape)\n",
        "print(y_train.shape)\n",
        "print(X_val.shape)\n",
        "print(y_val.shape)"
      ],
      "execution_count": null,
      "outputs": [
        {
          "output_type": "stream",
          "text": [
            "(60, 784)\n",
            "(60,)\n",
            "(540, 784)\n",
            "(540,)\n"
          ],
          "name": "stdout"
        }
      ]
    },
    {
      "cell_type": "code",
      "metadata": {
        "id": "UCjIeuzvtkvU",
        "outputId": "b2d8be67-4f91-4546-9545-bf83227ec605"
      },
      "source": [
        "dnnc = ScratchDeepNeuralNetrowkClassifier()\n",
        "dnnc.fit(X_train, y_train, X_val, y_val, pinit=\"Initializer\", pact1=\"Tanh\", pact2=\"logsumexp\", popt=\"SGD\",\n",
        "        cinit = \"InitializerConv1d\", cact = \"ReLU\", copt = \"SGD\",\n",
        "        out_channel = 20, in_channel = 1, filter_size = 3, padding_size = 0, stride_size = 1)"
      ],
      "execution_count": null,
      "outputs": [
        {
          "output_type": "stream",
          "text": [
            "epoch: 1, iteration: 1, train_loss: 2.3, accuracy: 0.1\n",
            "iters_per_epoch=3.0\n",
            "epoch: 1, iteration: 2, train_loss: 2.3, accuracy: 0.2\n",
            "iters_per_epoch=3.0\n",
            "epoch: 1, iteration: 3, train_loss: 2.3, accuracy: 0.05\n",
            "iters_per_epoch=3.0\n",
            "epoch: 2, iteration: 1, train_loss: 2.3, accuracy: 0.15\n",
            "iters_per_epoch=3.0\n",
            "epoch: 2, iteration: 2, train_loss: 2.3, accuracy: 0.2\n",
            "iters_per_epoch=3.0\n",
            "epoch: 2, iteration: 3, train_loss: 2.3, accuracy: 0.2\n",
            "iters_per_epoch=3.0\n",
            "epoch: 3, iteration: 1, train_loss: 2.3, accuracy: 0.15\n",
            "iters_per_epoch=3.0\n",
            "epoch: 3, iteration: 2, train_loss: 2.3, accuracy: 0.2\n",
            "iters_per_epoch=3.0\n",
            "epoch: 3, iteration: 3, train_loss: 2.3, accuracy: 0.2\n",
            "iters_per_epoch=3.0\n",
            "epoch: 4, iteration: 1, train_loss: 2.3, accuracy: 0.15\n",
            "iters_per_epoch=3.0\n",
            "epoch: 4, iteration: 2, train_loss: 2.3, accuracy: 0.2\n",
            "iters_per_epoch=3.0\n",
            "epoch: 4, iteration: 3, train_loss: 2.3, accuracy: 0.2\n",
            "iters_per_epoch=3.0\n",
            "epoch: 5, iteration: 1, train_loss: 2.3, accuracy: 0.15\n",
            "iters_per_epoch=3.0\n",
            "epoch: 5, iteration: 2, train_loss: 2.3, accuracy: 0.2\n",
            "iters_per_epoch=3.0\n",
            "epoch: 5, iteration: 3, train_loss: 2.3, accuracy: 0.2\n",
            "iters_per_epoch=3.0\n",
            "epoch: 6, iteration: 1, train_loss: 2.3, accuracy: 0.15\n",
            "iters_per_epoch=3.0\n",
            "epoch: 6, iteration: 2, train_loss: 2.3, accuracy: 0.2\n",
            "iters_per_epoch=3.0\n",
            "epoch: 6, iteration: 3, train_loss: 2.3, accuracy: 0.2\n",
            "iters_per_epoch=3.0\n",
            "epoch: 7, iteration: 1, train_loss: 2.3, accuracy: 0.15\n",
            "iters_per_epoch=3.0\n",
            "epoch: 7, iteration: 2, train_loss: 2.3, accuracy: 0.2\n",
            "iters_per_epoch=3.0\n",
            "epoch: 7, iteration: 3, train_loss: 2.3, accuracy: 0.2\n",
            "iters_per_epoch=3.0\n",
            "epoch: 8, iteration: 1, train_loss: 2.3, accuracy: 0.15\n",
            "iters_per_epoch=3.0\n",
            "epoch: 8, iteration: 2, train_loss: 2.3, accuracy: 0.2\n",
            "iters_per_epoch=3.0\n",
            "epoch: 8, iteration: 3, train_loss: 2.3, accuracy: 0.2\n",
            "iters_per_epoch=3.0\n",
            "epoch: 9, iteration: 1, train_loss: 2.3, accuracy: 0.15\n",
            "iters_per_epoch=3.0\n",
            "epoch: 9, iteration: 2, train_loss: 2.3, accuracy: 0.2\n",
            "iters_per_epoch=3.0\n",
            "epoch: 9, iteration: 3, train_loss: 2.3, accuracy: 0.2\n",
            "iters_per_epoch=3.0\n",
            "epoch: 10, iteration: 1, train_loss: 2.3, accuracy: 0.15\n",
            "iters_per_epoch=3.0\n",
            "epoch: 10, iteration: 2, train_loss: 2.3, accuracy: 0.2\n",
            "iters_per_epoch=3.0\n",
            "epoch: 10, iteration: 3, train_loss: 2.3, accuracy: 0.2\n",
            "iters_per_epoch=3.0\n",
            "epoch: 11, iteration: 1, train_loss: 2.3, accuracy: 0.15\n",
            "iters_per_epoch=3.0\n",
            "epoch: 11, iteration: 2, train_loss: 2.29, accuracy: 0.2\n",
            "iters_per_epoch=3.0\n",
            "epoch: 11, iteration: 3, train_loss: 2.29, accuracy: 0.2\n",
            "iters_per_epoch=3.0\n",
            "epoch: 12, iteration: 1, train_loss: 2.3, accuracy: 0.15\n",
            "iters_per_epoch=3.0\n",
            "epoch: 12, iteration: 2, train_loss: 2.29, accuracy: 0.2\n",
            "iters_per_epoch=3.0\n",
            "epoch: 12, iteration: 3, train_loss: 2.29, accuracy: 0.2\n",
            "iters_per_epoch=3.0\n",
            "epoch: 13, iteration: 1, train_loss: 2.29, accuracy: 0.15\n",
            "iters_per_epoch=3.0\n",
            "epoch: 13, iteration: 2, train_loss: 2.29, accuracy: 0.2\n",
            "iters_per_epoch=3.0\n",
            "epoch: 13, iteration: 3, train_loss: 2.29, accuracy: 0.2\n",
            "iters_per_epoch=3.0\n",
            "epoch: 14, iteration: 1, train_loss: 2.29, accuracy: 0.15\n",
            "iters_per_epoch=3.0\n",
            "epoch: 14, iteration: 2, train_loss: 2.29, accuracy: 0.2\n",
            "iters_per_epoch=3.0\n",
            "epoch: 14, iteration: 3, train_loss: 2.29, accuracy: 0.2\n",
            "iters_per_epoch=3.0\n",
            "epoch: 15, iteration: 1, train_loss: 2.29, accuracy: 0.15\n",
            "iters_per_epoch=3.0\n",
            "epoch: 15, iteration: 2, train_loss: 2.29, accuracy: 0.2\n",
            "iters_per_epoch=3.0\n",
            "epoch: 15, iteration: 3, train_loss: 2.29, accuracy: 0.2\n",
            "iters_per_epoch=3.0\n",
            "epoch: 16, iteration: 1, train_loss: 2.29, accuracy: 0.15\n",
            "iters_per_epoch=3.0\n",
            "epoch: 16, iteration: 2, train_loss: 2.29, accuracy: 0.2\n",
            "iters_per_epoch=3.0\n",
            "epoch: 16, iteration: 3, train_loss: 2.29, accuracy: 0.2\n",
            "iters_per_epoch=3.0\n",
            "epoch: 17, iteration: 1, train_loss: 2.29, accuracy: 0.15\n",
            "iters_per_epoch=3.0\n",
            "epoch: 17, iteration: 2, train_loss: 2.29, accuracy: 0.2\n",
            "iters_per_epoch=3.0\n",
            "epoch: 17, iteration: 3, train_loss: 2.29, accuracy: 0.2\n",
            "iters_per_epoch=3.0\n",
            "epoch: 18, iteration: 1, train_loss: 2.29, accuracy: 0.15\n",
            "iters_per_epoch=3.0\n",
            "epoch: 18, iteration: 2, train_loss: 2.29, accuracy: 0.2\n",
            "iters_per_epoch=3.0\n",
            "epoch: 18, iteration: 3, train_loss: 2.29, accuracy: 0.2\n",
            "iters_per_epoch=3.0\n",
            "epoch: 19, iteration: 1, train_loss: 2.29, accuracy: 0.15\n",
            "iters_per_epoch=3.0\n",
            "epoch: 19, iteration: 2, train_loss: 2.29, accuracy: 0.2\n",
            "iters_per_epoch=3.0\n",
            "epoch: 19, iteration: 3, train_loss: 2.29, accuracy: 0.2\n",
            "iters_per_epoch=3.0\n",
            "epoch: 20, iteration: 1, train_loss: 2.29, accuracy: 0.15\n",
            "iters_per_epoch=3.0\n",
            "epoch: 20, iteration: 2, train_loss: 2.29, accuracy: 0.2\n",
            "iters_per_epoch=3.0\n",
            "epoch: 20, iteration: 3, train_loss: 2.29, accuracy: 0.2\n",
            "iters_per_epoch=3.0\n"
          ],
          "name": "stdout"
        },
        {
          "output_type": "display_data",
          "data": {
            "image/png": "[encoded data removed]",
            "text/plain": [
              "<Figure size 432x288 with 1 Axes>"
            ]
          },
          "metadata": {
            "tags": [],
            "needs_background": "light"
          }
        }
      ]
    },
    {
      "cell_type": "code",
      "metadata": {
        "id": "bkluICrbtkvU",
        "outputId": "bf0cea19-b729-4c2e-c09c-992a8b842694"
      },
      "source": [
        "dnnc.predict(X_val[0:20])"
      ],
      "execution_count": null,
      "outputs": [
        {
          "output_type": "execute_result",
          "data": {
            "text/plain": [
              "array([1, 1, 1, 1, 1, 1, 1, 1, 1, 1, 1, 1, 1, 1, 1, 1, 1, 1, 1, 1],\n",
              "      dtype=int64)"
            ]
          },
          "metadata": {
            "tags": []
          },
          "execution_count": 26
        }
      ]
    },
    {
      "cell_type": "markdown",
      "metadata": {
        "id": "HiKlMRWztkvV"
      },
      "source": [
        "### 【問題2】1次元畳み込み後の出力サイズの計算"
      ]
    },
    {
      "cell_type": "code",
      "metadata": {
        "id": "0nINMG07tkvV",
        "outputId": "7ce00373-616e-4b69-c602-1fb0d7406084"
      },
      "source": [
        "X=np.array([1,2,3,4]) # X　入力サイズ\n",
        "W=np.array([3,5,7]) # ウエイト\n",
        "b=1 # バイアス\n",
        "pad=0 #パディング\n",
        "strd=1 #ストライド\n",
        "\n",
        "N_out = int((len(X) + 2*pad - W.shape[0]) / strd) + 1\n",
        "print(N_out)"
      ],
      "execution_count": null,
      "outputs": [
        {
          "output_type": "stream",
          "text": [
            "2\n"
          ],
          "name": "stdout"
        }
      ]
    },
    {
      "cell_type": "markdown",
      "metadata": {
        "id": "wreKXVSktkvV"
      },
      "source": [
        "### 【問題3】小さな配列での1次元畳み込み層の実験"
      ]
    },
    {
      "cell_type": "code",
      "metadata": {
        "id": "i9_kVrw8tkvV",
        "outputId": "f3230e3f-f991-416e-e484-16f66f19fff2"
      },
      "source": [
        "# Forward Propergation\n",
        "# Xの要素の位置をストライドして計算\n",
        "X=np.array([1,2,3,4])\n",
        "W=np.array([3,5,7])\n",
        "b=1\n",
        "pad=0\n",
        "strd=1\n",
        "\n",
        "N_out = int((len(X) + 2*pad - W.shape[0]) / strd) + 1 # 【問題２】1次元畳み込み後の出力サイズの計算\n",
        "Yhat = np.array([])\n",
        "\n",
        "for i in range(N_out): # ストライドする分はループが必要か\n",
        "    Yhat = np.append(Yhat, int(X[i:i+len(W)].dot(W) + b))\n",
        "print(Yhat.astype(int))"
      ],
      "execution_count": null,
      "outputs": [
        {
          "output_type": "stream",
          "text": [
            "[35 50]\n"
          ],
          "name": "stdout"
        }
      ]
    },
    {
      "cell_type": "code",
      "metadata": {
        "id": "YzC_SVdotkvV",
        "outputId": "bf840531-b436-4233-fc98-61fb117a60f2"
      },
      "source": [
        "# Back Propergation\n",
        "\n",
        "a=np.zeros([len(X)])\n",
        "delta_a = np.array([10, 20])\n",
        "\n",
        "# Xを更新\n",
        "aX=np.array([])\n",
        "\n",
        "for i in range(N_out): # ストライドする分はループが必要か\n",
        "    a=np.zeros([X.shape[0]])\n",
        "    for j in range(W.shape[0]): # ストライドした分、ずらしながらaに格納するループ\n",
        "        a[j+i]=W[j]\n",
        "    aX = np.append(aX,a).reshape(N_out,-1)\n",
        "aX = delta_a.dot(aX)\n",
        "print(\"aX={}\".format(aX))\n",
        "\n",
        "# Wを更新\n",
        "indexes = np.array([])\n",
        "aW = np.array([])\n",
        "\n",
        "for i in range(N_out): # ストライドする分はループが必要か\n",
        "    indexes = np.append(indexes, [np.arange(i,W.shape[0]+i)]).astype(np.int) # ([[1, 2, 3], [2, 3, 4]])\n",
        "aW = delta_a.reshape(1,-1).dot(X[indexes].reshape(N_out,-1)).reshape(-1)\n",
        "print(\"aW={}\".format(aW))\n",
        "\n",
        "# Bを更新\n",
        "aB = np.sum(delta_a)\n",
        "print(\"aB={}\".format(aB))"
      ],
      "execution_count": null,
      "outputs": [
        {
          "output_type": "stream",
          "text": [
            "aX=[ 30. 110. 170. 140.]\n",
            "aW=[ 50  80 110]\n",
            "aB=30\n"
          ],
          "name": "stdout"
        }
      ]
    },
    {
      "cell_type": "markdown",
      "metadata": {
        "id": "ui0GDhLYtkvW"
      },
      "source": [
        "### 【問題4】チャンネル数を限定しない1次元畳み込み層クラスの作成"
      ]
    },
    {
      "cell_type": "code",
      "metadata": {
        "id": "nKyZhZjrtkvW"
      },
      "source": [
        "# フォワード\n",
        "X=np.array([[1, 2, 3, 4], [2, 3, 4, 5]])\n",
        "W = np.ones((3, 2, 3))\n",
        "b=np.array([1, 2, 3])"
      ],
      "execution_count": null,
      "outputs": []
    },
    {
      "cell_type": "code",
      "metadata": {
        "id": "oopgWSOHtkvW",
        "outputId": "053b1519-c873-406f-a61f-a0b82c9ede83"
      },
      "source": [
        "# Forward Propergation\n",
        "# Xの要素の位置をストライドして計算\n",
        "\n",
        "pad=0\n",
        "strd=1\n",
        "\n",
        "Yhat = np.array([])\n",
        "\n",
        "N_out = int((X.shape[1] + 2*pad - W.shape[2]) / strd) + 1 # 【問題２】1次元畳み込み後の出力サイズの計算\n",
        "\n",
        "for j in range(W.shape[0]):\n",
        "    for i in range(N_out): # ストライドする分はループが必要か\n",
        "        Yhat_tmp = 0\n",
        "        for h in range(X.shape[0]):\n",
        "            Yhat_tmp += int(X[h, i:i+W.shape[2]].dot(W[j, i, :]))\n",
        "        Yhat = np.append(Yhat, np.sum(Yhat_tmp, axis=0) + b[j])\n",
        "\n",
        "Yhat = Yhat.reshape(W.shape[0], N_out)\n",
        "print(Yhat)"
      ],
      "execution_count": null,
      "outputs": [
        {
          "output_type": "stream",
          "text": [
            "[[16. 22.]\n",
            " [17. 23.]\n",
            " [18. 24.]]\n"
          ],
          "name": "stdout"
        }
      ]
    },
    {
      "cell_type": "code",
      "metadata": {
        "id": "Kuq8qIL7tkvW"
      },
      "source": [
        "# バックワード\n",
        "delta_a = np.array([[10, 20],\n",
        "                    [20,30],\n",
        "                    [30,40]])"
      ],
      "execution_count": null,
      "outputs": []
    },
    {
      "cell_type": "code",
      "metadata": {
        "id": "ZrZLgh_ItkvX",
        "outputId": "be807f3f-a180-4777-f4a7-37a88de784a4"
      },
      "source": [
        "# Back Propergation\n",
        "\n",
        "# Xを更新\n",
        "aX = np.zeros([2,4])\n",
        "for j in range(W.shape[0]):\n",
        "    for i in range(W.shape[1]):\n",
        "        for h in range(W.shape[2]):\n",
        "            for k in range(N_out):\n",
        "                aX[i, h+k] += W[j, i, h] * delta_a[j, k]\n",
        "print(\"aX={}\".format(aX))\n",
        "\n",
        "# Wを更新\n",
        "aW = np.zeros([3,2,3])\n",
        "for j in range(W.shape[0]):\n",
        "    for i in range(W.shape[1]):\n",
        "        for h in range(W.shape[2]):\n",
        "            for k in range(N_out):\n",
        "                aW[j, i, h] += X[i, h+k] * delta_a[j, k]\n",
        "print(\"aW={}\".format(aW))\n",
        "\n",
        "# Bを更新\n",
        "aB = np.sum(delta_a, axis=1)\n",
        "print(\"aB={}\".format(aB))"
      ],
      "execution_count": null,
      "outputs": [
        {
          "output_type": "stream",
          "text": [
            "aX=[[ 60. 150. 150.  90.]\n",
            " [ 60. 150. 150.  90.]]\n",
            "aW=[[[ 50.  80. 110.]\n",
            "  [ 80. 110. 140.]]\n",
            "\n",
            " [[ 80. 130. 180.]\n",
            "  [130. 180. 230.]]\n",
            "\n",
            " [[110. 180. 250.]\n",
            "  [180. 250. 320.]]]\n",
            "aB=[30 50 70]\n"
          ],
          "name": "stdout"
        }
      ]
    },
    {
      "cell_type": "markdown",
      "metadata": {
        "id": "5I-vR9FjtkvX"
      },
      "source": [
        "### 【問題6】（アドバンス課題）ミニバッチへの対応"
      ]
    },
    {
      "cell_type": "code",
      "metadata": {
        "id": "kQy9wzxctkvX"
      },
      "source": [
        "# フォワード\n",
        "X=np.array([[1, 2, 3, 4], [2, 3, 4, 5]]*3).reshape(3,2,4)\n",
        "W = np.ones((3, 2, 3))\n",
        "B=np.array([1, 2, 3])"
      ],
      "execution_count": null,
      "outputs": []
    },
    {
      "cell_type": "code",
      "metadata": {
        "id": "8LhgRNnvtkvX",
        "outputId": "bb395748-2017-40b8-ad43-dde4be2401aa"
      },
      "source": [
        "# Forward Propergation\n",
        "# Xの要素の位置をストライドして計算\n",
        "\n",
        "pad=0\n",
        "strd=1\n",
        "\n",
        "N_out = int((X.shape[2] + 2*pad - W.shape[2]) / strd) + 1 # 【問題２】1次元畳み込み後の出力サイズの計算\n",
        "\n",
        "a = np.array([])\n",
        "for n in range(X.shape[0]):\n",
        "    Yhat = np.array([])\n",
        "    for j in range(N_out):\n",
        "        Yhat_tmp = 0\n",
        "        for i in range(X.shape[1]): # ストライドする分はループが必要か\n",
        "            Yhat_tmp += X[n, i, j:j+W.shape[2]].dot(W[n, i, :])\n",
        "        Yhat = np.append(Yhat, np.sum(Yhat_tmp, axis=0) + B[n])\n",
        "            \n",
        "    a = np.append(a, Yhat)\n",
        "    \n",
        "a = a.reshape(X.shape[0], N_out)\n",
        "\n",
        "print(a)"
      ],
      "execution_count": null,
      "outputs": [
        {
          "output_type": "stream",
          "text": [
            "[[16. 22.]\n",
            " [17. 23.]\n",
            " [18. 24.]]\n"
          ],
          "name": "stdout"
        }
      ]
    },
    {
      "cell_type": "code",
      "metadata": {
        "id": "5DzWiEqttkvY"
      },
      "source": [
        "# バックワード\n",
        "delta_a = np.array([[10, 20],\n",
        "                    [20,30],\n",
        "                    [30,40]]*3).reshape(3,3,2)\n"
      ],
      "execution_count": null,
      "outputs": []
    },
    {
      "cell_type": "code",
      "metadata": {
        "id": "QqhFfcZmtkvY",
        "outputId": "05ff7aa9-f004-48d3-f492-66be379e807b"
      },
      "source": [
        "# Back Propergation\n",
        "\n",
        "# Xを更新\n",
        "aX = np.zeros(X.shape)\n",
        "for n in range(X.shape[0]):\n",
        "    for j in range(W.shape[0]):\n",
        "        for i in range(W.shape[1]):\n",
        "            for h in range(W.shape[2]):\n",
        "                for k in range(N_out):\n",
        "                    aX[n, i, h+k] += W[j, i, h] * delta_a[n, j, k]\n",
        "print(\"aX={}\".format(aX))\n",
        "\n",
        "# Wを更新\n",
        "aW = np.zeros([3,2,3])\n",
        "for n in range(X.shape[0]):\n",
        "    for j in range(W.shape[0]):\n",
        "        for i in range(W.shape[1]):\n",
        "            for h in range(W.shape[2]):\n",
        "                for k in range(N_out):\n",
        "                    aW[j, i, h] += X[n, i, h+k] * delta_a[n, j, k]\n",
        "print(\"aW={}\".format(aW))\n",
        "\n",
        "# Bを更新\n",
        "aB = np.sum(delta_a, axis=1)\n",
        "print(\"aB={}\".format(aB))"
      ],
      "execution_count": null,
      "outputs": [
        {
          "output_type": "stream",
          "text": [
            "aX=[[[ 60. 150. 150.  90.]\n",
            "  [ 60. 150. 150.  90.]]\n",
            "\n",
            " [[ 60. 150. 150.  90.]\n",
            "  [ 60. 150. 150.  90.]]\n",
            "\n",
            " [[ 60. 150. 150.  90.]\n",
            "  [ 60. 150. 150.  90.]]]\n",
            "aW=[[[150. 240. 330.]\n",
            "  [240. 330. 420.]]\n",
            "\n",
            " [[240. 390. 540.]\n",
            "  [390. 540. 690.]]\n",
            "\n",
            " [[330. 540. 750.]\n",
            "  [540. 750. 960.]]]\n",
            "aB=[[60 90]\n",
            " [60 90]\n",
            " [60 90]]\n"
          ],
          "name": "stdout"
        }
      ]
    },
    {
      "cell_type": "code",
      "metadata": {
        "id": "5PlG-P68tkvY"
      },
      "source": [
        ""
      ],
      "execution_count": null,
      "outputs": []
    }
  ]
}