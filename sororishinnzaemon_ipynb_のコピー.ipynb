{
  "nbformat": 4,
  "nbformat_minor": 0,
  "metadata": {
    "kernelspec": {
      "display_name": "Python 3",
      "language": "python",
      "name": "python3"
    },
    "language_info": {
      "codemirror_mode": {
        "name": "ipython",
        "version": 3
      },
      "file_extension": ".py",
      "mimetype": "text/x-python",
      "name": "python",
      "nbconvert_exporter": "python",
      "pygments_lexer": "ipython3",
      "version": "3.8.5"
    },
    "colab": {
      "name": "sororishinnzaemon.ipynb のコピー",
      "provenance": [],
      "include_colab_link": true
    }
  },
  "cells": [
    {
      "cell_type": "markdown",
      "metadata": {
        "id": "view-in-github",
        "colab_type": "text"
      },
      "source": [
        "<a href=\"https://colab.research.google.com/github/libra3910/diveintocode-ml/blob/master/sororishinnzaemon_ipynb_%E3%81%AE%E3%82%B3%E3%83%94%E3%83%BC.ipynb\" target=\"_parent\"><img src=\"https://colab.research.google.com/assets/colab-badge.svg\" alt=\"Open In Colab\"/></a>"
      ]
    },
    {
      "cell_type": "markdown",
      "metadata": {
        "id": "3788h6Qn0nXq"
      },
      "source": [
        "# 【問題1】100日目の米粒の数"
      ]
    },
    {
      "cell_type": "code",
      "metadata": {
        "id": "pt2XHIF70nXs"
      },
      "source": [
        ""
      ],
      "execution_count": null,
      "outputs": []
    },
    {
      "cell_type": "code",
      "metadata": {
        "id": "Vnu7QXWJ0nXt",
        "outputId": "4b37168e-69b0-4588-ebf3-0d2172d99655"
      },
      "source": [
        "first_day = 1\n",
        "amt_of_day = [first_day]\n",
        "amt_of_total = [first_day]\n",
        "print(\"{}日目：その日の米の数：{}、コメの数の累計{}\".format(1,amt_of_day[0],amt_of_total[0]))\n",
        "for i in range(0,99):\n",
        "  amt_of_day.append(amt_of_day[-1]*2)\n",
        "  amt_of_total.append(amt_of_total[-1]+amt_of_day[-1])\n",
        "  print(\"{}日目：その日の米の数：{}、コメの数の累計{}\".format(i+2,amt_of_day[i+1],amt_of_total[i+1]))"
      ],
      "execution_count": null,
      "outputs": [
        {
          "output_type": "stream",
          "text": [
            "1日目：その日の米の数：1、コメの数の累計1\n",
            "2日目：その日の米の数：2、コメの数の累計3\n",
            "3日目：その日の米の数：4、コメの数の累計7\n",
            "4日目：その日の米の数：8、コメの数の累計15\n",
            "5日目：その日の米の数：16、コメの数の累計31\n",
            "6日目：その日の米の数：32、コメの数の累計63\n",
            "7日目：その日の米の数：64、コメの数の累計127\n",
            "8日目：その日の米の数：128、コメの数の累計255\n",
            "9日目：その日の米の数：256、コメの数の累計511\n",
            "10日目：その日の米の数：512、コメの数の累計1023\n",
            "11日目：その日の米の数：1024、コメの数の累計2047\n",
            "12日目：その日の米の数：2048、コメの数の累計4095\n",
            "13日目：その日の米の数：4096、コメの数の累計8191\n",
            "14日目：その日の米の数：8192、コメの数の累計16383\n",
            "15日目：その日の米の数：16384、コメの数の累計32767\n",
            "16日目：その日の米の数：32768、コメの数の累計65535\n",
            "17日目：その日の米の数：65536、コメの数の累計131071\n",
            "18日目：その日の米の数：131072、コメの数の累計262143\n",
            "19日目：その日の米の数：262144、コメの数の累計524287\n",
            "20日目：その日の米の数：524288、コメの数の累計1048575\n",
            "21日目：その日の米の数：1048576、コメの数の累計2097151\n",
            "22日目：その日の米の数：2097152、コメの数の累計4194303\n",
            "23日目：その日の米の数：4194304、コメの数の累計8388607\n",
            "24日目：その日の米の数：8388608、コメの数の累計16777215\n",
            "25日目：その日の米の数：16777216、コメの数の累計33554431\n",
            "26日目：その日の米の数：33554432、コメの数の累計67108863\n",
            "27日目：その日の米の数：67108864、コメの数の累計134217727\n",
            "28日目：その日の米の数：134217728、コメの数の累計268435455\n",
            "29日目：その日の米の数：268435456、コメの数の累計536870911\n",
            "30日目：その日の米の数：536870912、コメの数の累計1073741823\n",
            "31日目：その日の米の数：1073741824、コメの数の累計2147483647\n",
            "32日目：その日の米の数：2147483648、コメの数の累計4294967295\n",
            "33日目：その日の米の数：4294967296、コメの数の累計8589934591\n",
            "34日目：その日の米の数：8589934592、コメの数の累計17179869183\n",
            "35日目：その日の米の数：17179869184、コメの数の累計34359738367\n",
            "36日目：その日の米の数：34359738368、コメの数の累計68719476735\n",
            "37日目：その日の米の数：68719476736、コメの数の累計137438953471\n",
            "38日目：その日の米の数：137438953472、コメの数の累計274877906943\n",
            "39日目：その日の米の数：274877906944、コメの数の累計549755813887\n",
            "40日目：その日の米の数：549755813888、コメの数の累計1099511627775\n",
            "41日目：その日の米の数：1099511627776、コメの数の累計2199023255551\n",
            "42日目：その日の米の数：2199023255552、コメの数の累計4398046511103\n",
            "43日目：その日の米の数：4398046511104、コメの数の累計8796093022207\n",
            "44日目：その日の米の数：8796093022208、コメの数の累計17592186044415\n",
            "45日目：その日の米の数：17592186044416、コメの数の累計35184372088831\n",
            "46日目：その日の米の数：35184372088832、コメの数の累計70368744177663\n",
            "47日目：その日の米の数：70368744177664、コメの数の累計140737488355327\n",
            "48日目：その日の米の数：140737488355328、コメの数の累計281474976710655\n",
            "49日目：その日の米の数：281474976710656、コメの数の累計562949953421311\n",
            "50日目：その日の米の数：562949953421312、コメの数の累計1125899906842623\n",
            "51日目：その日の米の数：1125899906842624、コメの数の累計2251799813685247\n",
            "52日目：その日の米の数：2251799813685248、コメの数の累計4503599627370495\n",
            "53日目：その日の米の数：4503599627370496、コメの数の累計9007199254740991\n",
            "54日目：その日の米の数：9007199254740992、コメの数の累計18014398509481983\n",
            "55日目：その日の米の数：18014398509481984、コメの数の累計36028797018963967\n",
            "56日目：その日の米の数：36028797018963968、コメの数の累計72057594037927935\n",
            "57日目：その日の米の数：72057594037927936、コメの数の累計144115188075855871\n",
            "58日目：その日の米の数：144115188075855872、コメの数の累計288230376151711743\n",
            "59日目：その日の米の数：288230376151711744、コメの数の累計576460752303423487\n",
            "60日目：その日の米の数：576460752303423488、コメの数の累計1152921504606846975\n",
            "61日目：その日の米の数：1152921504606846976、コメの数の累計2305843009213693951\n",
            "62日目：その日の米の数：2305843009213693952、コメの数の累計4611686018427387903\n",
            "63日目：その日の米の数：4611686018427387904、コメの数の累計9223372036854775807\n",
            "64日目：その日の米の数：9223372036854775808、コメの数の累計18446744073709551615\n",
            "65日目：その日の米の数：18446744073709551616、コメの数の累計36893488147419103231\n",
            "66日目：その日の米の数：36893488147419103232、コメの数の累計73786976294838206463\n",
            "67日目：その日の米の数：73786976294838206464、コメの数の累計147573952589676412927\n",
            "68日目：その日の米の数：147573952589676412928、コメの数の累計295147905179352825855\n",
            "69日目：その日の米の数：295147905179352825856、コメの数の累計590295810358705651711\n",
            "70日目：その日の米の数：590295810358705651712、コメの数の累計1180591620717411303423\n",
            "71日目：その日の米の数：1180591620717411303424、コメの数の累計2361183241434822606847\n",
            "72日目：その日の米の数：2361183241434822606848、コメの数の累計4722366482869645213695\n",
            "73日目：その日の米の数：4722366482869645213696、コメの数の累計9444732965739290427391\n",
            "74日目：その日の米の数：9444732965739290427392、コメの数の累計18889465931478580854783\n",
            "75日目：その日の米の数：18889465931478580854784、コメの数の累計37778931862957161709567\n",
            "76日目：その日の米の数：37778931862957161709568、コメの数の累計75557863725914323419135\n",
            "77日目：その日の米の数：75557863725914323419136、コメの数の累計151115727451828646838271\n",
            "78日目：その日の米の数：151115727451828646838272、コメの数の累計302231454903657293676543\n",
            "79日目：その日の米の数：302231454903657293676544、コメの数の累計604462909807314587353087\n",
            "80日目：その日の米の数：604462909807314587353088、コメの数の累計1208925819614629174706175\n",
            "81日目：その日の米の数：1208925819614629174706176、コメの数の累計2417851639229258349412351\n",
            "82日目：その日の米の数：2417851639229258349412352、コメの数の累計4835703278458516698824703\n",
            "83日目：その日の米の数：4835703278458516698824704、コメの数の累計9671406556917033397649407\n",
            "84日目：その日の米の数：9671406556917033397649408、コメの数の累計19342813113834066795298815\n",
            "85日目：その日の米の数：19342813113834066795298816、コメの数の累計38685626227668133590597631\n",
            "86日目：その日の米の数：38685626227668133590597632、コメの数の累計77371252455336267181195263\n",
            "87日目：その日の米の数：77371252455336267181195264、コメの数の累計154742504910672534362390527\n",
            "88日目：その日の米の数：154742504910672534362390528、コメの数の累計309485009821345068724781055\n",
            "89日目：その日の米の数：309485009821345068724781056、コメの数の累計618970019642690137449562111\n",
            "90日目：その日の米の数：618970019642690137449562112、コメの数の累計1237940039285380274899124223\n",
            "91日目：その日の米の数：1237940039285380274899124224、コメの数の累計2475880078570760549798248447\n",
            "92日目：その日の米の数：2475880078570760549798248448、コメの数の累計4951760157141521099596496895\n",
            "93日目：その日の米の数：4951760157141521099596496896、コメの数の累計9903520314283042199192993791\n",
            "94日目：その日の米の数：9903520314283042199192993792、コメの数の累計19807040628566084398385987583\n",
            "95日目：その日の米の数：19807040628566084398385987584、コメの数の累計39614081257132168796771975167\n",
            "96日目：その日の米の数：39614081257132168796771975168、コメの数の累計79228162514264337593543950335\n",
            "97日目：その日の米の数：79228162514264337593543950336、コメの数の累計158456325028528675187087900671\n",
            "98日目：その日の米の数：158456325028528675187087900672、コメの数の累計316912650057057350374175801343\n",
            "99日目：その日の米の数：316912650057057350374175801344、コメの数の累計633825300114114700748351602687\n",
            "100日目：その日の米の数：633825300114114700748351602688、コメの数の累計1267650600228229401496703205375\n"
          ],
          "name": "stdout"
        }
      ]
    },
    {
      "cell_type": "code",
      "metadata": {
        "id": "dIjiCLfE0nXu",
        "outputId": "ba3ea22e-64b0-4001-be23-5017df4bea8f"
      },
      "source": [
        "import matplotlib.pyplot as plt\n",
        "plt.title(\"100days of rice\")\n",
        "plt.xlabel(\"DAYS\")\n",
        "plt.ylabel(\"amount of rice\")\n",
        "plt.plot(amt_of_day)\n",
        "plt.plot(amt_of_total)\n",
        "plt.show()"
      ],
      "execution_count": null,
      "outputs": [
        {
          "output_type": "display_data",
          "data": {
            "image/png": "[encoded data removed]",
            "text/plain": [
              "<Figure size 432x288 with 1 Axes>"
            ]
          },
          "metadata": {
            "tags": [],
            "needs_background": "light"
          }
        }
      ]
    },
    {
      "cell_type": "markdown",
      "metadata": {
        "id": "cXNhL4Gz0nXu"
      },
      "source": [
        "# 【問題2】100日目以外の米粒の数"
      ]
    },
    {
      "cell_type": "code",
      "metadata": {
        "id": "w6OuXJSz0nXv",
        "outputId": "025daa30-5183-476e-ec99-24b373c852e1"
      },
      "source": [
        "def compute_sorori_shinzaemon(day=100):\n",
        "    \"\"\"\n",
        "    曽呂利新左衛門の米の逸話を検証する関数。日にちごとの米の粒の数を計算する。\n",
        "    Parameteres\n",
        "    --------------\n",
        "    day: int\n",
        "        米を貰う日数 (default : 100)\n",
        "    Returns\n",
        "    --------------\n",
        "    list_n_grains : list\n",
        "        ある日に貰う米の数のリスト（リストの長さはdayに等しくなる）\n",
        "    list_total_grains : list\n",
        "        ある日までに累計で貰う米の数のリスト（リストの長さはdayに等しくなる）\n",
        "    \"\"\"\n",
        "    # ここにコードを書く。passは何もしないことを意味する命令である。\n",
        "    pass\n",
        "    first_day = 1\n",
        "    list_n_grains = [first_day]\n",
        "    list_total_grains = [first_day]\n",
        "    for i in range(0,day-1):\n",
        "        list_n_grains.append(list_n_grains[-1]*2)\n",
        "        list_total_grains.append(list_total_grains[-1]+list_n_grains[-1])\n",
        "    return list_n_grains, list_total_grains\n",
        "list_n_grains, list_total_grains = compute_sorori_shinzaemon(day=10)\n",
        "\n",
        "plt.title(\"days of rice\")\n",
        "plt.xlabel(\"DAYS\")\n",
        "plt.ylabel(\"amount of rice\")\n",
        "plt.plot(list_n_grains)\n",
        "plt.plot(list_total_grains)\n",
        "plt.show()"
      ],
      "execution_count": null,
      "outputs": [
        {
          "output_type": "display_data",
          "data": {
            "image/png": "[encoded data removed]",
            "text/plain": [
              "<Figure size 432x288 with 1 Axes>"
            ]
          },
          "metadata": {
            "tags": [],
            "needs_background": "light"
          }
        }
      ]
    },
    {
      "cell_type": "markdown",
      "metadata": {
        "id": "bv3XIKci0nXv"
      },
      "source": [
        "# 【問題3】貰える米で何人が何日生活できるか"
      ]
    },
    {
      "cell_type": "code",
      "metadata": {
        "id": "EObWsNmp0nXw",
        "outputId": "c1bf795b-15ae-4c34-da2a-7fa18d62055c"
      },
      "source": [
        "def how_many_days_of_survive(day, number_of_people, enough_in_day=3000):\n",
        "    list_n_grains, list_total_grains = compute_sorori_shinzaemon(day=day)\n",
        "    survive_day = list_total_grains[-1] / (number_of_people * enough_in_day)\n",
        "    return survive_day\n",
        "print(\"{}日生存可能\".format(how_many_days_of_survive(day=30, number_of_people=5, enough_in_day=3000)))"
      ],
      "execution_count": null,
      "outputs": [
        {
          "output_type": "stream",
          "text": [
            "71582.7882日生存可能\n"
          ],
          "name": "stdout"
        }
      ]
    },
    {
      "cell_type": "code",
      "metadata": {
        "id": "6e3glmAY0nXw"
      },
      "source": [
        ""
      ],
      "execution_count": null,
      "outputs": []
    }
  ]
}