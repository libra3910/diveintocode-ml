{
  "nbformat": 4,
  "nbformat_minor": 0,
  "metadata": {
    "colab": {
      "name": "scratch_deep_learning_FrameWork1",
      "provenance": [],
      "collapsed_sections": [],
      "toc_visible": true,
      "authorship_tag": "ABX9TyNpYG9TlacflhQwo56OvN3G",
      "include_colab_link": true
    },
    "kernelspec": {
      "name": "python3",
      "display_name": "Python 3"
    }
  },
  "cells": [
    {
      "cell_type": "markdown",
      "metadata": {
        "id": "view-in-github",
        "colab_type": "text"
      },
      "source": [
        "<a href=\"https://colab.research.google.com/github/libra3910/diveintocode-ml/blob/master/scratch_deep_learning_FrameWork1.ipynb\" target=\"_parent\"><img src=\"https://colab.research.google.com/assets/colab-badge.svg\" alt=\"Open In Colab\"/></a>"
      ]
    },
    {
      "cell_type": "markdown",
      "metadata": {
        "id": "Z_zp3WwjZmcM"
      },
      "source": [
        "# sprint ディープラーニングフレームワーク１"
      ]
    },
    {
      "cell_type": "markdown",
      "metadata": {
        "id": "jvQ-DQ5VXZpE"
      },
      "source": [
        "## 【問題１】スクラッチを振り返る\n",
        "### ここまでのスクラッチを振り返り、ディープラーニングを実装するためにはどのようなものが必要だったかを列挙してください。\n",
        "```py\n",
        "①勾配降下法を使用した目的関数の最小化ロジックの実装\n",
        "②重みとバイアスの初期値設定に乱数の生成\n",
        "③重みとバイアスの更新ロジックの記述\n",
        "④学習率の設定\n",
        "⑤バッチ数ごとの読み取り\n",
        "```"
      ]
    },
    {
      "cell_type": "markdown",
      "metadata": {
        "id": "DGDno14SZOFb"
      },
      "source": [
        "### 【問題２】スクラッチとTensorFlowの対応を考える"
      ]
    },
    {
      "cell_type": "markdown",
      "metadata": {
        "id": "GizOaQZQmbXs"
      },
      "source": [
        "### 「ディープラーニングを実装するために必要なもの」がTensorFlowではどう実装されているかを確認"
      ]
    },
    {
      "cell_type": "markdown",
      "metadata": {
        "id": "qUTxYr8n_cP1"
      },
      "source": [
        "```py\n",
        "①目的関数の最小化ロジックはtf.nn.softmax_cross_entropy_with_logitsを使用。\n",
        "②重みとバイアスはvariableとして用意。\n",
        "③重みとバイアスは、最適化手法（optimizer.minimize）により更新される。\n",
        "④学習率は最適化手法（optimizer）で使用する。\n",
        "⑤ミニバッチで分割した学習データを最適化手法により学習させる。\n",
        "⑥推定結果、指標値計算はTensowFlowを使用する。\n",
        "```"
      ]
    },
    {
      "cell_type": "markdown",
      "metadata": {
        "id": "ZWum0v-zkozC"
      },
      "source": [
        "### 【問題3】3種類全ての目的変数を使用したIrisのモデルを作成"
      ]
    },
    {
      "cell_type": "code",
      "metadata": {
        "id": "OqXArB66lObl",
        "colab": {
          "base_uri": "https://localhost:8080/"
        },
        "outputId": "025a4d9d-c1ce-493a-f8b8-82ac480123d8"
      },
      "source": [
        "!pip install --upgrade tensorflow==1.13.2"
      ],
      "execution_count": 1,
      "outputs": [
        {
          "output_type": "stream",
          "text": [
            "Requirement already up-to-date: tensorflow==1.13.2 in /usr/local/lib/python3.7/dist-packages (1.13.2)\n",
            "Requirement already satisfied, skipping upgrade: absl-py>=0.1.6 in /usr/local/lib/python3.7/dist-packages (from tensorflow==1.13.2) (0.10.0)\n",
            "Requirement already satisfied, skipping upgrade: termcolor>=1.1.0 in /usr/local/lib/python3.7/dist-packages (from tensorflow==1.13.2) (1.1.0)\n",
            "Requirement already satisfied, skipping upgrade: six>=1.10.0 in /usr/local/lib/python3.7/dist-packages (from tensorflow==1.13.2) (1.15.0)\n",
            "Requirement already satisfied, skipping upgrade: tensorflow-estimator<1.14.0rc0,>=1.13.0 in /usr/local/lib/python3.7/dist-packages (from tensorflow==1.13.2) (1.13.0)\n",
            "Requirement already satisfied, skipping upgrade: keras-applications>=1.0.6 in /usr/local/lib/python3.7/dist-packages (from tensorflow==1.13.2) (1.0.8)\n",
            "Requirement already satisfied, skipping upgrade: wheel>=0.26 in /usr/local/lib/python3.7/dist-packages (from tensorflow==1.13.2) (0.36.2)\n",
            "Requirement already satisfied, skipping upgrade: keras-preprocessing>=1.0.5 in /usr/local/lib/python3.7/dist-packages (from tensorflow==1.13.2) (1.1.2)\n",
            "Requirement already satisfied, skipping upgrade: tensorboard<1.14.0,>=1.13.0 in /usr/local/lib/python3.7/dist-packages (from tensorflow==1.13.2) (1.13.1)\n",
            "Requirement already satisfied, skipping upgrade: gast>=0.2.0 in /usr/local/lib/python3.7/dist-packages (from tensorflow==1.13.2) (0.3.3)\n",
            "Requirement already satisfied, skipping upgrade: numpy<2.0,>=1.16.0 in /usr/local/lib/python3.7/dist-packages (from tensorflow==1.13.2) (1.19.5)\n",
            "Requirement already satisfied, skipping upgrade: astor>=0.6.0 in /usr/local/lib/python3.7/dist-packages (from tensorflow==1.13.2) (0.8.1)\n",
            "Requirement already satisfied, skipping upgrade: grpcio>=1.8.6 in /usr/local/lib/python3.7/dist-packages (from tensorflow==1.13.2) (1.32.0)\n",
            "Requirement already satisfied, skipping upgrade: protobuf>=3.6.1 in /usr/local/lib/python3.7/dist-packages (from tensorflow==1.13.2) (3.12.4)\n",
            "Requirement already satisfied, skipping upgrade: mock>=2.0.0 in /usr/local/lib/python3.7/dist-packages (from tensorflow-estimator<1.14.0rc0,>=1.13.0->tensorflow==1.13.2) (4.0.3)\n",
            "Requirement already satisfied, skipping upgrade: h5py in /usr/local/lib/python3.7/dist-packages (from keras-applications>=1.0.6->tensorflow==1.13.2) (2.10.0)\n",
            "Requirement already satisfied, skipping upgrade: werkzeug>=0.11.15 in /usr/local/lib/python3.7/dist-packages (from tensorboard<1.14.0,>=1.13.0->tensorflow==1.13.2) (1.0.1)\n",
            "Requirement already satisfied, skipping upgrade: markdown>=2.6.8 in /usr/local/lib/python3.7/dist-packages (from tensorboard<1.14.0,>=1.13.0->tensorflow==1.13.2) (3.3.4)\n",
            "Requirement already satisfied, skipping upgrade: setuptools in /usr/local/lib/python3.7/dist-packages (from protobuf>=3.6.1->tensorflow==1.13.2) (54.1.2)\n",
            "Requirement already satisfied, skipping upgrade: importlib-metadata; python_version < \"3.8\" in /usr/local/lib/python3.7/dist-packages (from markdown>=2.6.8->tensorboard<1.14.0,>=1.13.0->tensorflow==1.13.2) (3.7.2)\n",
            "Requirement already satisfied, skipping upgrade: typing-extensions>=3.6.4; python_version < \"3.8\" in /usr/local/lib/python3.7/dist-packages (from importlib-metadata; python_version < \"3.8\"->markdown>=2.6.8->tensorboard<1.14.0,>=1.13.0->tensorflow==1.13.2) (3.7.4.3)\n",
            "Requirement already satisfied, skipping upgrade: zipp>=0.5 in /usr/local/lib/python3.7/dist-packages (from importlib-metadata; python_version < \"3.8\"->markdown>=2.6.8->tensorboard<1.14.0,>=1.13.0->tensorflow==1.13.2) (3.4.1)\n"
          ],
          "name": "stdout"
        }
      ]
    },
    {
      "cell_type": "code",
      "metadata": {
        "id": "Vcfv_vBRl02F",
        "colab": {
          "base_uri": "https://localhost:8080/"
        },
        "outputId": "ce7b21ed-a628-4f9c-d8bf-6da81993d26a"
      },
      "source": [
        "pip list"
      ],
      "execution_count": 2,
      "outputs": [
        {
          "output_type": "stream",
          "text": [
            "Package                       Version       \n",
            "----------------------------- --------------\n",
            "absl-py                       0.10.0        \n",
            "alabaster                     0.7.12        \n",
            "albumentations                0.1.12        \n",
            "altair                        4.1.0         \n",
            "appdirs                       1.4.4         \n",
            "argon2-cffi                   20.1.0        \n",
            "asgiref                       3.3.1         \n",
            "astor                         0.8.1         \n",
            "astropy                       4.2           \n",
            "astunparse                    1.6.3         \n",
            "async-generator               1.10          \n",
            "atari-py                      0.2.6         \n",
            "atomicwrites                  1.4.0         \n",
            "attrs                         20.3.0        \n",
            "audioread                     2.1.9         \n",
            "autograd                      1.3           \n",
            "Babel                         2.9.0         \n",
            "backcall                      0.2.0         \n",
            "beautifulsoup4                4.6.3         \n",
            "bleach                        3.3.0         \n",
            "blis                          0.4.1         \n",
            "bokeh                         2.1.1         \n",
            "Bottleneck                    1.3.2         \n",
            "branca                        0.4.2         \n",
            "bs4                           0.0.1         \n",
            "CacheControl                  0.12.6        \n",
            "cachetools                    4.2.1         \n",
            "catalogue                     1.0.0         \n",
            "certifi                       2020.12.5     \n",
            "cffi                          1.14.5        \n",
            "chainer                       7.4.0         \n",
            "chardet                       3.0.4         \n",
            "click                         7.1.2         \n",
            "cloudpickle                   1.3.0         \n",
            "cmake                         3.12.0        \n",
            "cmdstanpy                     0.9.5         \n",
            "colorlover                    0.3.0         \n",
            "community                     1.0.0b1       \n",
            "contextlib2                   0.5.5         \n",
            "convertdate                   2.3.1         \n",
            "coverage                      3.7.1         \n",
            "coveralls                     0.5           \n",
            "crcmod                        1.7           \n",
            "cufflinks                     0.17.3        \n",
            "cvxopt                        1.2.6         \n",
            "cvxpy                         1.0.31        \n",
            "cycler                        0.10.0        \n",
            "cymem                         2.0.5         \n",
            "Cython                        0.29.22       \n",
            "daft                          0.0.4         \n",
            "dask                          2.12.0        \n",
            "datascience                   0.10.6        \n",
            "debugpy                       1.0.0         \n",
            "decorator                     4.4.2         \n",
            "defusedxml                    0.7.1         \n",
            "descartes                     1.1.0         \n",
            "dill                          0.3.3         \n",
            "distributed                   1.25.3        \n",
            "Django                        3.1.7         \n",
            "dlib                          19.18.0       \n",
            "dm-tree                       0.1.5         \n",
            "docopt                        0.6.2         \n",
            "docutils                      0.16          \n",
            "dopamine-rl                   1.0.5         \n",
            "earthengine-api               0.1.255       \n",
            "easydict                      1.9           \n",
            "ecos                          2.0.7.post1   \n",
            "editdistance                  0.5.3         \n",
            "en-core-web-sm                2.2.5         \n",
            "entrypoints                   0.3           \n",
            "ephem                         3.7.7.1       \n",
            "et-xmlfile                    1.0.1         \n",
            "fa2                           0.3.5         \n",
            "fancyimpute                   0.4.3         \n",
            "fastai                        1.0.61        \n",
            "fastdtw                       0.3.4         \n",
            "fastprogress                  1.0.0         \n",
            "fastrlock                     0.5           \n",
            "fbprophet                     0.7.1         \n",
            "feather-format                0.4.1         \n",
            "filelock                      3.0.12        \n",
            "firebase-admin                4.4.0         \n",
            "fix-yahoo-finance             0.0.22        \n",
            "Flask                         1.1.2         \n",
            "flatbuffers                   1.12          \n",
            "folium                        0.8.3         \n",
            "future                        0.16.0        \n",
            "gast                          0.3.3         \n",
            "GDAL                          2.2.2         \n",
            "gdown                         3.6.4         \n",
            "gensim                        3.6.0         \n",
            "geographiclib                 1.50          \n",
            "geopy                         1.17.0        \n",
            "gin-config                    0.4.0         \n",
            "glob2                         0.7           \n",
            "google                        2.0.3         \n",
            "google-api-core               1.26.1        \n",
            "google-api-python-client      1.12.8        \n",
            "google-auth                   1.27.1        \n",
            "google-auth-httplib2          0.0.4         \n",
            "google-auth-oauthlib          0.4.3         \n",
            "google-cloud-bigquery         1.21.0        \n",
            "google-cloud-bigquery-storage 1.1.0         \n",
            "google-cloud-core             1.0.3         \n",
            "google-cloud-datastore        1.8.0         \n",
            "google-cloud-firestore        1.7.0         \n",
            "google-cloud-language         1.2.0         \n",
            "google-cloud-storage          1.18.1        \n",
            "google-cloud-translate        1.5.0         \n",
            "google-colab                  1.0.0         \n",
            "google-pasta                  0.2.0         \n",
            "google-resumable-media        0.4.1         \n",
            "googleapis-common-protos      1.53.0        \n",
            "googledrivedownloader         0.4           \n",
            "graphviz                      0.10.1        \n",
            "grpcio                        1.32.0        \n",
            "gspread                       3.0.1         \n",
            "gspread-dataframe             3.0.8         \n",
            "gym                           0.17.3        \n",
            "h5py                          2.10.0        \n",
            "HeapDict                      1.0.1         \n",
            "hijri-converter               2.1.1         \n",
            "holidays                      0.10.5.2      \n",
            "holoviews                     1.13.5        \n",
            "html5lib                      1.0.1         \n",
            "httpimport                    0.5.18        \n",
            "httplib2                      0.17.4        \n",
            "httplib2shim                  0.0.3         \n",
            "humanize                      0.5.1         \n",
            "hyperopt                      0.1.2         \n",
            "ideep4py                      2.0.0.post3   \n",
            "idna                          2.10          \n",
            "image                         1.5.33        \n",
            "imageio                       2.4.1         \n",
            "imagesize                     1.2.0         \n",
            "imbalanced-learn              0.4.3         \n",
            "imblearn                      0.0           \n",
            "imgaug                        0.2.9         \n",
            "importlib-metadata            3.7.2         \n",
            "importlib-resources           5.1.2         \n",
            "imutils                       0.5.4         \n",
            "inflect                       2.1.0         \n",
            "iniconfig                     1.1.1         \n",
            "intel-openmp                  2021.1.2      \n",
            "intervaltree                  2.1.0         \n",
            "ipykernel                     4.10.1        \n",
            "ipython                       5.5.0         \n",
            "ipython-genutils              0.2.0         \n",
            "ipython-sql                   0.3.9         \n",
            "ipywidgets                    7.6.3         \n",
            "itsdangerous                  1.1.0         \n",
            "jax                           0.2.10        \n",
            "jaxlib                        0.1.62+cuda110\n",
            "jdcal                         1.4.1         \n",
            "jedi                          0.18.0        \n",
            "jieba                         0.42.1        \n",
            "Jinja2                        2.11.3        \n",
            "joblib                        1.0.1         \n",
            "jpeg4py                       0.1.4         \n",
            "jsonschema                    2.6.0         \n",
            "jupyter                       1.0.0         \n",
            "jupyter-client                5.3.5         \n",
            "jupyter-console               5.2.0         \n",
            "jupyter-core                  4.7.1         \n",
            "jupyterlab-pygments           0.1.2         \n",
            "jupyterlab-widgets            1.0.0         \n",
            "kaggle                        1.5.10        \n",
            "kapre                         0.1.3.1       \n",
            "Keras                         2.4.3         \n",
            "Keras-Applications            1.0.8         \n",
            "Keras-Preprocessing           1.1.2         \n",
            "keras-vis                     0.4.1         \n",
            "kiwisolver                    1.3.1         \n",
            "knnimpute                     0.1.0         \n",
            "korean-lunar-calendar         0.2.1         \n",
            "librosa                       0.8.0         \n",
            "lightgbm                      2.2.3         \n",
            "llvmlite                      0.34.0        \n",
            "lmdb                          0.99          \n",
            "lucid                         0.3.8         \n",
            "LunarCalendar                 0.0.9         \n",
            "lxml                          4.2.6         \n",
            "Markdown                      3.3.4         \n",
            "MarkupSafe                    1.1.1         \n",
            "matplotlib                    3.2.2         \n",
            "matplotlib-venn               0.11.6        \n",
            "missingno                     0.4.2         \n",
            "mistune                       0.8.4         \n",
            "mizani                        0.6.0         \n",
            "mkl                           2019.0        \n",
            "mlxtend                       0.14.0        \n",
            "mock                          4.0.3         \n",
            "more-itertools                8.7.0         \n",
            "moviepy                       0.2.3.5       \n",
            "mpmath                        1.2.1         \n",
            "msgpack                       1.0.2         \n",
            "multiprocess                  0.70.11.1     \n",
            "multitasking                  0.0.9         \n",
            "murmurhash                    1.0.5         \n",
            "music21                       5.5.0         \n",
            "natsort                       5.5.0         \n",
            "nbclient                      0.5.3         \n",
            "nbconvert                     5.6.1         \n",
            "nbformat                      5.1.2         \n",
            "nest-asyncio                  1.5.1         \n",
            "networkx                      2.5           \n",
            "nibabel                       3.0.2         \n",
            "nltk                          3.2.5         \n",
            "notebook                      5.3.1         \n",
            "np-utils                      0.5.12.1      \n",
            "numba                         0.51.2        \n",
            "numexpr                       2.7.3         \n",
            "numpy                         1.19.5        \n",
            "nvidia-ml-py3                 7.352.0       \n",
            "oauth2client                  4.1.3         \n",
            "oauthlib                      3.1.0         \n",
            "okgrade                       0.4.3         \n",
            "opencv-contrib-python         4.1.2.30      \n",
            "opencv-python                 4.1.2.30      \n",
            "openpyxl                      2.5.9         \n",
            "opt-einsum                    3.3.0         \n",
            "osqp                          0.6.2.post0   \n",
            "packaging                     20.9          \n",
            "palettable                    3.3.0         \n",
            "pandas                        1.1.5         \n",
            "pandas-datareader             0.9.0         \n",
            "pandas-gbq                    0.13.3        \n",
            "pandas-profiling              1.4.1         \n",
            "pandocfilters                 1.4.3         \n",
            "panel                         0.9.7         \n",
            "param                         1.10.1        \n",
            "parso                         0.8.1         \n",
            "pathlib                       1.0.1         \n",
            "patsy                         0.5.1         \n",
            "pexpect                       4.8.0         \n",
            "pickleshare                   0.7.5         \n",
            "Pillow                        7.0.0         \n",
            "pip                           19.3.1        \n",
            "pip-tools                     4.5.1         \n",
            "plac                          1.1.3         \n",
            "plotly                        4.4.1         \n",
            "plotnine                      0.6.0         \n",
            "pluggy                        0.7.1         \n",
            "pooch                         1.3.0         \n",
            "portpicker                    1.3.1         \n",
            "prefetch-generator            1.0.1         \n",
            "preshed                       3.0.5         \n",
            "prettytable                   2.1.0         \n",
            "progressbar2                  3.38.0        \n",
            "prometheus-client             0.9.0         \n",
            "promise                       2.3           \n",
            "prompt-toolkit                1.0.18        \n",
            "protobuf                      3.12.4        \n",
            "psutil                        5.4.8         \n",
            "psycopg2                      2.7.6.1       \n",
            "ptyprocess                    0.7.0         \n",
            "py                            1.10.0        \n",
            "pyarrow                       3.0.0         \n",
            "pyasn1                        0.4.8         \n",
            "pyasn1-modules                0.2.8         \n",
            "pycocotools                   2.0.2         \n",
            "pycparser                     2.20          \n",
            "pyct                          0.4.8         \n",
            "pydata-google-auth            1.1.0         \n",
            "pydot                         1.3.0         \n",
            "pydot-ng                      2.0.0         \n",
            "pydotplus                     2.0.2         \n",
            "PyDrive                       1.3.1         \n",
            "pyemd                         0.5.1         \n",
            "pyerfa                        1.7.2         \n",
            "pyglet                        1.5.0         \n",
            "Pygments                      2.6.1         \n",
            "pygobject                     3.26.1        \n",
            "pymc3                         3.7           \n",
            "PyMeeus                       0.5.9         \n",
            "pymongo                       3.11.3        \n",
            "pymystem3                     0.2.0         \n",
            "pynndescent                   0.5.2         \n",
            "PyOpenGL                      3.1.5         \n",
            "pyparsing                     2.4.7         \n",
            "pyrsistent                    0.17.3        \n",
            "pysndfile                     1.3.8         \n",
            "PySocks                       1.7.1         \n",
            "pystan                        2.19.1.1      \n",
            "pytest                        3.6.4         \n",
            "python-apt                    0.0.0         \n",
            "python-chess                  0.23.11       \n",
            "python-dateutil               2.8.1         \n",
            "python-louvain                0.15          \n",
            "python-slugify                4.0.1         \n",
            "python-utils                  2.5.6         \n",
            "pytz                          2018.9        \n",
            "pyviz-comms                   2.0.1         \n",
            "PyWavelets                    1.1.1         \n",
            "PyYAML                        3.13          \n",
            "pyzmq                         22.0.3        \n",
            "qdldl                         0.1.5.post0   \n",
            "qtconsole                     5.0.3         \n",
            "QtPy                          1.9.0         \n",
            "regex                         2019.12.20    \n",
            "requests                      2.23.0        \n",
            "requests-oauthlib             1.3.0         \n",
            "resampy                       0.2.2         \n",
            "retrying                      1.3.3         \n",
            "rpy2                          3.4.2         \n",
            "rsa                           4.7.2         \n",
            "scikit-image                  0.16.2        \n",
            "scikit-learn                  0.22.2.post1  \n",
            "scipy                         1.4.1         \n",
            "screen-resolution-extra       0.0.0         \n",
            "scs                           2.1.2         \n",
            "seaborn                       0.11.1        \n",
            "Send2Trash                    1.5.0         \n",
            "setuptools                    54.1.2        \n",
            "setuptools-git                1.2           \n",
            "Shapely                       1.7.1         \n",
            "simplegeneric                 0.8.1         \n",
            "six                           1.15.0        \n",
            "sklearn                       0.0           \n",
            "sklearn-pandas                1.8.0         \n",
            "smart-open                    4.2.0         \n",
            "snowballstemmer               2.1.0         \n",
            "sortedcontainers              2.3.0         \n",
            "SoundFile                     0.10.3.post1  \n",
            "spacy                         2.2.4         \n",
            "Sphinx                        1.8.5         \n",
            "sphinxcontrib-serializinghtml 1.1.4         \n",
            "sphinxcontrib-websupport      1.2.4         \n",
            "SQLAlchemy                    1.3.23        \n",
            "sqlparse                      0.4.1         \n",
            "srsly                         1.0.5         \n",
            "statsmodels                   0.10.2        \n",
            "sympy                         1.7.1         \n",
            "tables                        3.4.4         \n",
            "tabulate                      0.8.9         \n",
            "tblib                         1.7.0         \n",
            "tensorboard                   1.13.1        \n",
            "tensorboard-plugin-wit        1.8.0         \n",
            "tensorflow                    1.13.2        \n",
            "tensorflow-datasets           4.0.1         \n",
            "tensorflow-estimator          1.13.0        \n",
            "tensorflow-gcs-config         2.4.0         \n",
            "tensorflow-hub                0.11.0        \n",
            "tensorflow-metadata           0.28.0        \n",
            "tensorflow-probability        0.12.1        \n",
            "termcolor                     1.1.0         \n",
            "terminado                     0.9.2         \n",
            "testpath                      0.4.4         \n",
            "text-unidecode                1.3           \n",
            "textblob                      0.15.3        \n",
            "textgenrnn                    1.4.1         \n",
            "Theano                        1.0.5         \n",
            "thinc                         7.4.0         \n",
            "tifffile                      2021.3.17     \n",
            "toml                          0.10.2        \n",
            "toolz                         0.11.1        \n",
            "torch                         1.8.0+cu101   \n",
            "torchsummary                  1.5.1         \n",
            "torchtext                     0.9.0         \n",
            "torchvision                   0.9.0+cu101   \n",
            "tornado                       5.1.1         \n",
            "tqdm                          4.41.1        \n",
            "traitlets                     5.0.5         \n",
            "tweepy                        3.10.0        \n",
            "typeguard                     2.7.1         \n",
            "typing-extensions             3.7.4.3       \n",
            "tzlocal                       1.5.1         \n",
            "umap-learn                    0.5.1         \n",
            "uritemplate                   3.0.1         \n",
            "urllib3                       1.24.3        \n",
            "vega-datasets                 0.9.0         \n",
            "wasabi                        0.8.2         \n",
            "wcwidth                       0.2.5         \n",
            "webencodings                  0.5.1         \n",
            "Werkzeug                      1.0.1         \n",
            "wheel                         0.36.2        \n",
            "widgetsnbextension            3.5.1         \n",
            "wordcloud                     1.5.0         \n",
            "wrapt                         1.12.1        \n",
            "xarray                        0.15.1        \n",
            "xgboost                       0.90          \n",
            "xkit                          0.0.0         \n",
            "xlrd                          1.1.0         \n",
            "xlwt                          1.3.0         \n",
            "yellowbrick                   0.9.1         \n",
            "zict                          2.0.0         \n",
            "zipp                          3.4.1         \n"
          ],
          "name": "stdout"
        }
      ]
    },
    {
      "cell_type": "code",
      "metadata": {
        "id": "qqDvLvIwky2Y",
        "colab": {
          "base_uri": "https://localhost:8080/"
        },
        "outputId": "85d66796-de0d-4011-adc7-b45980515827"
      },
      "source": [
        "import numpy as np\n",
        "import pandas as pd\n",
        "from sklearn.model_selection import train_test_split\n",
        "import tensorflow as tf\n",
        "import math\n",
        "import matplotlib.pyplot as plt"
      ],
      "execution_count": 3,
      "outputs": [
        {
          "output_type": "stream",
          "text": [
            "/usr/local/lib/python3.7/dist-packages/tensorflow/python/framework/dtypes.py:526: FutureWarning: Passing (type, 1) or '1type' as a synonym of type is deprecated; in a future version of numpy, it will be understood as (type, (1,)) / '(1,)type'.\n",
            "  _np_qint8 = np.dtype([(\"qint8\", np.int8, 1)])\n",
            "/usr/local/lib/python3.7/dist-packages/tensorflow/python/framework/dtypes.py:527: FutureWarning: Passing (type, 1) or '1type' as a synonym of type is deprecated; in a future version of numpy, it will be understood as (type, (1,)) / '(1,)type'.\n",
            "  _np_quint8 = np.dtype([(\"quint8\", np.uint8, 1)])\n",
            "/usr/local/lib/python3.7/dist-packages/tensorflow/python/framework/dtypes.py:528: FutureWarning: Passing (type, 1) or '1type' as a synonym of type is deprecated; in a future version of numpy, it will be understood as (type, (1,)) / '(1,)type'.\n",
            "  _np_qint16 = np.dtype([(\"qint16\", np.int16, 1)])\n",
            "/usr/local/lib/python3.7/dist-packages/tensorflow/python/framework/dtypes.py:529: FutureWarning: Passing (type, 1) or '1type' as a synonym of type is deprecated; in a future version of numpy, it will be understood as (type, (1,)) / '(1,)type'.\n",
            "  _np_quint16 = np.dtype([(\"quint16\", np.uint16, 1)])\n",
            "/usr/local/lib/python3.7/dist-packages/tensorflow/python/framework/dtypes.py:530: FutureWarning: Passing (type, 1) or '1type' as a synonym of type is deprecated; in a future version of numpy, it will be understood as (type, (1,)) / '(1,)type'.\n",
            "  _np_qint32 = np.dtype([(\"qint32\", np.int32, 1)])\n",
            "/usr/local/lib/python3.7/dist-packages/tensorflow/python/framework/dtypes.py:535: FutureWarning: Passing (type, 1) or '1type' as a synonym of type is deprecated; in a future version of numpy, it will be understood as (type, (1,)) / '(1,)type'.\n",
            "  np_resource = np.dtype([(\"resource\", np.ubyte, 1)])\n"
          ],
          "name": "stderr"
        }
      ]
    },
    {
      "cell_type": "code",
      "metadata": {
        "id": "AINpzfMvor-1"
      },
      "source": [
        "from sklearn.datasets import load_iris\n",
        "data = load_iris()"
      ],
      "execution_count": 4,
      "outputs": []
    },
    {
      "cell_type": "code",
      "metadata": {
        "id": "Sbu1BhV_pHr3"
      },
      "source": [
        "x = pd.DataFrame(data = data.data, columns=['sepal_length', 'sepal_width', 'petal_length', 'petal_width'])"
      ],
      "execution_count": 5,
      "outputs": []
    },
    {
      "cell_type": "code",
      "metadata": {
        "id": "BDMT0OA1R474"
      },
      "source": [
        "from sklearn.preprocessing import OneHotEncoder"
      ],
      "execution_count": 6,
      "outputs": []
    },
    {
      "cell_type": "code",
      "metadata": {
        "id": "DNm_vMkluUJu"
      },
      "source": [
        "y = pd.DataFrame(data = data.target, columns=['spacies'])"
      ],
      "execution_count": 7,
      "outputs": []
    },
    {
      "cell_type": "code",
      "metadata": {
        "id": "qSBl4ot0uaiM"
      },
      "source": [
        "# NumPy 配列に変換\n",
        "X = np.array(x)\n",
        "y = np.array(y)\n",
        "enc = OneHotEncoder(handle_unknown='ignore', sparse=False)\n",
        "y = enc.fit_transform(y)"
      ],
      "execution_count": 8,
      "outputs": []
    },
    {
      "cell_type": "code",
      "metadata": {
        "id": "KiKcR1ABo8kn"
      },
      "source": [
        "# trainとtestに分割\n",
        "X_train, X_test, y_train, y_test = train_test_split(X, y, test_size=0.2, random_state=0)\n",
        "\n",
        "# さらにtrainとvalに分割\n",
        "X_train, X_val, y_train, y_val = train_test_split(X_train, y_train, test_size=0.2, random_state=0)"
      ],
      "execution_count": 9,
      "outputs": []
    },
    {
      "cell_type": "code",
      "metadata": {
        "id": "jNsDYTngnnEe"
      },
      "source": [
        "class GetMiniBatch:\n",
        "\n",
        "    def __init__(self, X, y, batch_size = 10, seed=0):\n",
        "\n",
        "        self.batch_size = batch_size\n",
        "        np.random.seed(seed)\n",
        "        shuffle_index = np.random.permutation(np.arange(X.shape[0]))\n",
        "        self.X = X[shuffle_index]\n",
        "        self.y = y[shuffle_index]\n",
        "        self._stop = np.ceil(X.shape[0]/self.batch_size).astype(np.int)\n",
        "\n",
        "    def __len__(self):\n",
        "\n",
        "        return self._stop\n",
        "\n",
        "    def __getitem__(self,item):\n",
        "\n",
        "        p0 = item*self.batch_size\n",
        "        p1 = item*self.batch_size + self.batch_size\n",
        "\n",
        "        return self.X[p0:p1], self.y[p0:p1]  \n",
        "\n",
        "    def __iter__(self):\n",
        "\n",
        "        self._counter = 0\n",
        "\n",
        "        return self\n",
        "\n",
        "    def __next__(self):\n",
        "\n",
        "        if self._counter >= self._stop:\n",
        "            raise StopIteration()\n",
        "        p0 = self._counter*self.batch_size\n",
        "        p1 = self._counter*self.batch_size + self.batch_size\n",
        "        self._counter += 1\n",
        "\n",
        "        return self.X[p0:p1], self.y[p0:p1]"
      ],
      "execution_count": 10,
      "outputs": []
    },
    {
      "cell_type": "code",
      "metadata": {
        "id": "nYjSDD2Bwt7X"
      },
      "source": [
        "# ハイパーパラメータの設定\n",
        "learning_rate = 0.001 # 学習率\n",
        "batch_size = 10 # バッチサイズ\n",
        "num_epochs = 100 # エポック数\n",
        "n_hidden1 = 50 # 第一隠れ層のノード数\n",
        "n_hidden2 = 100 # 第二隠れ層ノードの数\n",
        "n_input = X_train.shape[1] # 入力層のノード数（特徴量の数）\n",
        "n_samples = X_train.shape[0] # サンプル数\n",
        "#n_classes = 1 # 出力層のノード数\n",
        "n_classes = 3 # 出力層のノード数\n",
        "\n",
        "# 計算グラフに渡す引数の形を決める\n",
        "X = tf.placeholder(\"float\", [None, n_input]) # 学習データをTensorFlowのデータフローグラフに入力ための placeholder を用意\n",
        "Y = tf.placeholder(\"float\", [None, n_classes]) # 学習データをTensorFlowのデータフローグラフに入力ための placeholder を用意\n",
        "    \n",
        "# trainのミニバッチイテレータ\n",
        "get_mini_batch_train = GetMiniBatch(X_train, y_train, batch_size=batch_size)"
      ],
      "execution_count": 11,
      "outputs": []
    },
    {
      "cell_type": "code",
      "metadata": {
        "id": "XzSwVg5Yw_q8"
      },
      "source": [
        "def example_net(x):\n",
        "    \"\"\"\n",
        "    単純な3層ニューラルネットワーク\n",
        "    \"\"\"\n",
        "    tf.random.set_random_seed(0)\n",
        "    # 重みとバイアスの宣言\n",
        "    weights = {\n",
        "        'w1': tf.Variable(tf.random_normal([n_input, n_hidden1])), # 行列（4 * 50）\n",
        "        'w2': tf.Variable(tf.random_normal([n_hidden1, n_hidden2])), # 行列（50 * 100）\n",
        "        'w3': tf.Variable(tf.random_normal([n_hidden2, n_classes])) # 行列（100 * 3)\n",
        "    }\n",
        "    biases = {\n",
        "        'b1': tf.Variable(tf.random_normal([n_hidden1])), # 第一隠れ層のバイアス\n",
        "        'b2': tf.Variable(tf.random_normal([n_hidden2])), # 第二隠れ層のバイアス\n",
        "        'b3': tf.Variable(tf.random_normal([n_classes])) # 出力層のバイアス\n",
        "    }\n",
        "    layer_1 = tf.add(tf.matmul(x, weights['w1']), biases['b1']) # 第一隠れ層の行列積およびバイアスの加算\n",
        "    layer_1 = tf.nn.relu(layer_1)                               # 活性化関数（relu）の実行\n",
        "    layer_2 = tf.add(tf.matmul(layer_1, weights['w2']), biases['b2']) # 第二隠れ層の行列積およびバイアスの加算\n",
        "    layer_2 = tf.nn.relu(layer_2)                               # 活性化関数（relu）の実行\n",
        "    layer_output = tf.matmul(layer_2, weights['w3']) + biases['b3'] # tf.addと+は等価である　出力層の行列積およびバイアスの加算\n",
        "    return layer_output                                     # 予測値（Yhat）を返す"
      ],
      "execution_count": 12,
      "outputs": []
    },
    {
      "cell_type": "code",
      "metadata": {
        "colab": {
          "base_uri": "https://localhost:8080/"
        },
        "id": "wmb26wPCyhm-",
        "outputId": "6f4c29be-e739-4aec-d2f3-86b5444d45ca"
      },
      "source": [
        "# ネットワーク構造の読み込み                               \n",
        "logits = example_net(X)\n",
        "# 目的関数\n",
        "loss_op = tf.reduce_mean(tf.nn.softmax_cross_entropy_with_logits(labels=Y, logits=logits)) # sigmoid → softmaxに変更してみた\n",
        "# 最適化手法\n",
        "optimizer = tf.train.AdamOptimizer(learning_rate=learning_rate) # 最適化手法：Adam\n",
        "train_op = optimizer.minimize(loss_op) \n",
        "# 推定結果\n",
        "correct_pred = tf.equal(tf.argmax(Y, axis=1), tf.argmax(logits, axis=1) )\n",
        "# 指標値計算\n",
        "accuracy = tf.reduce_mean(tf.cast(correct_pred, tf.float32))\n",
        "# variableの初期化\n",
        "init = tf.global_variables_initializer()"
      ],
      "execution_count": 13,
      "outputs": [
        {
          "output_type": "stream",
          "text": [
            "WARNING:tensorflow:From /usr/local/lib/python3.7/dist-packages/tensorflow/python/framework/op_def_library.py:263: colocate_with (from tensorflow.python.framework.ops) is deprecated and will be removed in a future version.\n",
            "Instructions for updating:\n",
            "Colocations handled automatically by placer.\n",
            "WARNING:tensorflow:From <ipython-input-13-9e391eec4576>:4: softmax_cross_entropy_with_logits (from tensorflow.python.ops.nn_ops) is deprecated and will be removed in a future version.\n",
            "Instructions for updating:\n",
            "\n",
            "Future major versions of TensorFlow will allow gradients to flow\n",
            "into the labels input on backprop by default.\n",
            "\n",
            "See `tf.nn.softmax_cross_entropy_with_logits_v2`.\n",
            "\n"
          ],
          "name": "stdout"
        }
      ]
    },
    {
      "cell_type": "code",
      "metadata": {
        "colab": {
          "base_uri": "https://localhost:8080/",
          "height": 1000
        },
        "id": "8QaWAPc5ykAI",
        "outputId": "ff000d09-6606-4a76-e92c-4d7d60881c3c"
      },
      "source": [
        "# 計算グラフの実行\n",
        "with tf.Session() as sess: # データを入力して計算ため、Sessionオブジェクトを作成\n",
        "    sess.run(init)\n",
        "    loss_list = []\n",
        "    val_loss_list = []\n",
        "    acc_list = []\n",
        "    val_acc_list = []\n",
        "    for epoch in range(num_epochs):\n",
        "        # エポックごとにループ\n",
        "        total_batch = np.ceil(X_train.shape[0]/batch_size).astype(np.int64) # ミニバッチがバッチサイズ以下は切り捨て\n",
        "        total_loss = 0\n",
        "        total_acc = 0\n",
        "        for i, (mini_batch_x, mini_batch_y) in enumerate(get_mini_batch_train):\n",
        "            # ミニバッチごとにループ\n",
        "            sess.run(train_op, feed_dict={X: mini_batch_x, Y: mini_batch_y}) # ミニバッチで取得した学習データを最適化（勾配降下法適用）する。\n",
        "            loss, acc = sess.run([loss_op, accuracy], feed_dict={X: mini_batch_x, Y: mini_batch_y}) # 学習データにおける損失およびaccuracyを計算する。\n",
        "            total_loss += loss\n",
        "            loss_list.append(loss)\n",
        "            acc_list.append(acc)\n",
        "        total_loss /= n_samples\n",
        "        val_loss, acc = sess.run([loss_op, accuracy], feed_dict={X: X_val, Y: y_val}) # 検証データにおける損失およびaccuracyを計算する。\n",
        "        val_loss_list.append(val_loss)\n",
        "        val_acc_list.append(acc)\n",
        "        print(\"Epoch {}, loss : {:.4f}, val_loss : {:.4f}, acc : {:.3f}\".format(epoch, total_loss, val_loss, acc))\n",
        "    test_acc = sess.run(accuracy, feed_dict={X: X_test, Y: y_test})\n",
        "    print(\"test_acc : {:.3f}\".format(test_acc))\n",
        "\n",
        "    # 学習曲線のグラフ表示\n",
        "    plt.title(\"Curve of study\")\n",
        "    plt.xlabel(\"epoch\")\n",
        "    plt.ylabel(\"Objective Function\")\n",
        "    plt.plot(loss_list, label=\"train\")\n",
        "    plt.plot(val_loss_list, label=\"val\")\n",
        "    plt.legend()\n",
        "    plt.show()\n",
        "\n",
        "    # Accuracyの推移\n",
        "    plt.title(\"Curve of Accuracy\")\n",
        "    plt.xlabel(\"epoch\")\n",
        "    plt.ylabel(\"Objective Function\")\n",
        "    plt.plot(acc_list, label=\"train\")\n",
        "    plt.plot(val_acc_list, label=\"val\")\n",
        "    plt.legend()\n",
        "    plt.show()    "
      ],
      "execution_count": 14,
      "outputs": [
        {
          "output_type": "stream",
          "text": [
            "Epoch 0, loss : 8.9375, val_loss : 81.3085, acc : 0.208\n",
            "Epoch 1, loss : 7.2378, val_loss : 65.2474, acc : 0.167\n",
            "Epoch 2, loss : 5.5441, val_loss : 50.4016, acc : 0.292\n",
            "Epoch 3, loss : 4.0362, val_loss : 35.3467, acc : 0.250\n",
            "Epoch 4, loss : 2.7381, val_loss : 22.1988, acc : 0.250\n",
            "Epoch 5, loss : 1.4189, val_loss : 11.0752, acc : 0.333\n",
            "Epoch 6, loss : 0.6049, val_loss : 6.4574, acc : 0.583\n",
            "Epoch 7, loss : 0.2951, val_loss : 4.2441, acc : 0.625\n",
            "Epoch 8, loss : 0.1821, val_loss : 3.6027, acc : 0.708\n",
            "Epoch 9, loss : 0.1297, val_loss : 3.1117, acc : 0.750\n",
            "Epoch 10, loss : 0.1125, val_loss : 2.9398, acc : 0.750\n",
            "Epoch 11, loss : 0.0966, val_loss : 2.6876, acc : 0.750\n",
            "Epoch 12, loss : 0.0880, val_loss : 2.7179, acc : 0.750\n",
            "Epoch 13, loss : 0.0787, val_loss : 2.8630, acc : 0.792\n",
            "Epoch 14, loss : 0.0696, val_loss : 2.7105, acc : 0.792\n",
            "Epoch 15, loss : 0.0644, val_loss : 2.8510, acc : 0.792\n",
            "Epoch 16, loss : 0.0553, val_loss : 2.5994, acc : 0.792\n",
            "Epoch 17, loss : 0.0527, val_loss : 2.6849, acc : 0.792\n",
            "Epoch 18, loss : 0.0486, val_loss : 2.4041, acc : 0.792\n",
            "Epoch 19, loss : 0.0482, val_loss : 2.4009, acc : 0.792\n",
            "Epoch 20, loss : 0.0452, val_loss : 2.1480, acc : 0.833\n",
            "Epoch 21, loss : 0.0449, val_loss : 2.1471, acc : 0.833\n",
            "Epoch 22, loss : 0.0423, val_loss : 1.9741, acc : 0.833\n",
            "Epoch 23, loss : 0.0417, val_loss : 1.9253, acc : 0.833\n",
            "Epoch 24, loss : 0.0399, val_loss : 1.7985, acc : 0.833\n",
            "Epoch 25, loss : 0.0388, val_loss : 1.7027, acc : 0.833\n",
            "Epoch 26, loss : 0.0375, val_loss : 1.6066, acc : 0.875\n",
            "Epoch 27, loss : 0.0360, val_loss : 1.4984, acc : 0.875\n",
            "Epoch 28, loss : 0.0349, val_loss : 1.4060, acc : 0.875\n",
            "Epoch 29, loss : 0.0333, val_loss : 1.2992, acc : 0.875\n",
            "Epoch 30, loss : 0.0310, val_loss : 1.1651, acc : 0.875\n",
            "Epoch 31, loss : 0.0291, val_loss : 1.0319, acc : 0.875\n",
            "Epoch 32, loss : 0.0269, val_loss : 0.9350, acc : 0.875\n",
            "Epoch 33, loss : 0.0247, val_loss : 0.8429, acc : 0.917\n",
            "Epoch 34, loss : 0.0230, val_loss : 0.7922, acc : 0.917\n",
            "Epoch 35, loss : 0.0215, val_loss : 0.7657, acc : 0.917\n",
            "Epoch 36, loss : 0.0201, val_loss : 0.7604, acc : 0.917\n",
            "Epoch 37, loss : 0.0188, val_loss : 0.7507, acc : 0.917\n",
            "Epoch 38, loss : 0.0182, val_loss : 0.7696, acc : 0.917\n",
            "Epoch 39, loss : 0.0170, val_loss : 0.7568, acc : 0.917\n",
            "Epoch 40, loss : 0.0166, val_loss : 0.7880, acc : 0.917\n",
            "Epoch 41, loss : 0.0153, val_loss : 0.7672, acc : 0.917\n",
            "Epoch 42, loss : 0.0152, val_loss : 0.8090, acc : 0.917\n",
            "Epoch 43, loss : 0.0137, val_loss : 0.7800, acc : 0.917\n",
            "Epoch 44, loss : 0.0139, val_loss : 0.8137, acc : 0.917\n",
            "Epoch 45, loss : 0.0124, val_loss : 0.7987, acc : 0.917\n",
            "Epoch 46, loss : 0.0122, val_loss : 0.8235, acc : 0.917\n",
            "Epoch 47, loss : 0.0109, val_loss : 0.8365, acc : 0.917\n",
            "Epoch 48, loss : 0.0103, val_loss : 0.8379, acc : 0.917\n",
            "Epoch 49, loss : 0.0100, val_loss : 0.8763, acc : 0.917\n",
            "Epoch 50, loss : 0.0092, val_loss : 0.8528, acc : 0.917\n",
            "Epoch 51, loss : 0.0093, val_loss : 0.8994, acc : 0.917\n",
            "Epoch 52, loss : 0.0086, val_loss : 0.8685, acc : 0.917\n",
            "Epoch 53, loss : 0.0087, val_loss : 0.9183, acc : 0.917\n",
            "Epoch 54, loss : 0.0081, val_loss : 0.8841, acc : 0.917\n",
            "Epoch 55, loss : 0.0082, val_loss : 0.9154, acc : 0.917\n",
            "Epoch 56, loss : 0.0077, val_loss : 0.8957, acc : 0.917\n",
            "Epoch 57, loss : 0.0078, val_loss : 0.9202, acc : 0.917\n",
            "Epoch 58, loss : 0.0074, val_loss : 0.9059, acc : 0.917\n",
            "Epoch 59, loss : 0.0074, val_loss : 0.9210, acc : 0.917\n",
            "Epoch 60, loss : 0.0071, val_loss : 0.9111, acc : 0.917\n",
            "Epoch 61, loss : 0.0071, val_loss : 0.9214, acc : 0.917\n",
            "Epoch 62, loss : 0.0068, val_loss : 0.9138, acc : 0.917\n",
            "Epoch 63, loss : 0.0065, val_loss : 0.9140, acc : 0.917\n",
            "Epoch 64, loss : 0.0060, val_loss : 0.9053, acc : 0.917\n",
            "Epoch 65, loss : 0.0056, val_loss : 0.8982, acc : 0.917\n",
            "Epoch 66, loss : 0.0052, val_loss : 0.8934, acc : 0.917\n",
            "Epoch 67, loss : 0.0048, val_loss : 0.8912, acc : 0.917\n",
            "Epoch 68, loss : 0.0045, val_loss : 0.8888, acc : 0.917\n",
            "Epoch 69, loss : 0.0041, val_loss : 0.8888, acc : 0.917\n",
            "Epoch 70, loss : 0.0038, val_loss : 0.8914, acc : 0.917\n",
            "Epoch 71, loss : 0.0035, val_loss : 0.8931, acc : 0.917\n",
            "Epoch 72, loss : 0.0032, val_loss : 0.8983, acc : 0.917\n",
            "Epoch 73, loss : 0.0030, val_loss : 0.9035, acc : 0.917\n",
            "Epoch 74, loss : 0.0028, val_loss : 0.9095, acc : 0.917\n",
            "Epoch 75, loss : 0.0026, val_loss : 0.9189, acc : 0.917\n",
            "Epoch 76, loss : 0.0025, val_loss : 0.9200, acc : 0.917\n",
            "Epoch 77, loss : 0.0024, val_loss : 0.9281, acc : 0.917\n",
            "Epoch 78, loss : 0.0022, val_loss : 0.9316, acc : 0.917\n",
            "Epoch 79, loss : 0.0021, val_loss : 0.9360, acc : 0.917\n",
            "Epoch 80, loss : 0.0021, val_loss : 0.9432, acc : 0.917\n",
            "Epoch 81, loss : 0.0020, val_loss : 0.9520, acc : 0.917\n",
            "Epoch 82, loss : 0.0020, val_loss : 0.9433, acc : 0.917\n",
            "Epoch 83, loss : 0.0019, val_loss : 0.9521, acc : 0.917\n",
            "Epoch 84, loss : 0.0019, val_loss : 0.9469, acc : 0.917\n",
            "Epoch 85, loss : 0.0018, val_loss : 0.9585, acc : 0.917\n",
            "Epoch 86, loss : 0.0018, val_loss : 0.9580, acc : 0.917\n",
            "Epoch 87, loss : 0.0017, val_loss : 0.9542, acc : 0.917\n",
            "Epoch 88, loss : 0.0017, val_loss : 0.9635, acc : 0.917\n",
            "Epoch 89, loss : 0.0017, val_loss : 0.9667, acc : 0.917\n",
            "Epoch 90, loss : 0.0016, val_loss : 0.9599, acc : 0.917\n",
            "Epoch 91, loss : 0.0015, val_loss : 0.9670, acc : 0.917\n",
            "Epoch 92, loss : 0.0016, val_loss : 0.9705, acc : 0.917\n",
            "Epoch 93, loss : 0.0015, val_loss : 0.9620, acc : 0.917\n",
            "Epoch 94, loss : 0.0015, val_loss : 0.9738, acc : 0.917\n",
            "Epoch 95, loss : 0.0014, val_loss : 0.9661, acc : 0.917\n",
            "Epoch 96, loss : 0.0014, val_loss : 0.9735, acc : 0.917\n",
            "Epoch 97, loss : 0.0014, val_loss : 0.9708, acc : 0.917\n",
            "Epoch 98, loss : 0.0013, val_loss : 0.9714, acc : 0.917\n",
            "Epoch 99, loss : 0.0013, val_loss : 0.9766, acc : 0.917\n",
            "test_acc : 1.000\n"
          ],
          "name": "stdout"
        },
        {
          "output_type": "display_data",
          "data": {
            "image/png": "[encoded data removed]",
            "text/plain": [
              "<Figure size 432x288 with 1 Axes>"
            ]
          },
          "metadata": {
            "tags": [],
            "needs_background": "light"
          }
        },
        {
          "output_type": "display_data",
          "data": {
            "image/png": "[encoded data removed]",
            "text/plain": [
              "<Figure size 432x288 with 1 Axes>"
            ]
          },
          "metadata": {
            "tags": [],
            "needs_background": "light"
          }
        }
      ]
    },
    {
      "cell_type": "markdown",
      "metadata": {
        "id": "CKi2473J9HYf"
      },
      "source": [
        "### 【問題4】House Pricesのモデルを作成"
      ]
    },
    {
      "cell_type": "markdown",
      "metadata": {
        "id": "i24Uo3w6DZ9q"
      },
      "source": [
        "参考文献　https://qiita.com/MahoTakara/items/0d7284774c2adf1f05ec　"
      ]
    },
    {
      "cell_type": "code",
      "metadata": {
        "colab": {
          "base_uri": "https://localhost:8080/"
        },
        "id": "57zzz6Wq-Aqv",
        "outputId": "6dbec6ef-5564-457d-a87d-37696e1e1381"
      },
      "source": [
        "from google.colab import drive\n",
        "drive.mount('/content/drive')"
      ],
      "execution_count": 15,
      "outputs": [
        {
          "output_type": "stream",
          "text": [
            "Drive already mounted at /content/drive; to attempt to forcibly remount, call drive.mount(\"/content/drive\", force_remount=True).\n"
          ],
          "name": "stdout"
        }
      ]
    },
    {
      "cell_type": "code",
      "metadata": {
        "id": "6x7QlWA-69J8"
      },
      "source": [
        "DATA_DIR='/content/drive/My Drive/'\n",
        "data = pd.read_csv(f'{DATA_DIR}train.csv')"
      ],
      "execution_count": 43,
      "outputs": []
    },
    {
      "cell_type": "code",
      "metadata": {
        "id": "Stdtmwg77xKv",
        "colab": {
          "base_uri": "https://localhost:8080/"
        },
        "outputId": "dddbc11e-d547-4dc8-edc4-13191bd19933"
      },
      "source": [
        "lendata = len(data)\n",
        "col_names = data.columns\n",
        "for col_name in col_names:\n",
        "  missing_num = sum(pd.isnull(data[col_name]))\n",
        "  print('{} : missing {} , missing_ratio {:.1f}%'.format(col_name, missing_num , missing_num / lendata * 100))"
      ],
      "execution_count": 44,
      "outputs": [
        {
          "output_type": "stream",
          "text": [
            "Id : missing 0 , missing_ratio 0.0%\n",
            "MSSubClass : missing 0 , missing_ratio 0.0%\n",
            "MSZoning : missing 0 , missing_ratio 0.0%\n",
            "LotFrontage : missing 259 , missing_ratio 17.7%\n",
            "LotArea : missing 0 , missing_ratio 0.0%\n",
            "Street : missing 0 , missing_ratio 0.0%\n",
            "Alley : missing 1369 , missing_ratio 93.8%\n",
            "LotShape : missing 0 , missing_ratio 0.0%\n",
            "LandContour : missing 0 , missing_ratio 0.0%\n",
            "Utilities : missing 0 , missing_ratio 0.0%\n",
            "LotConfig : missing 0 , missing_ratio 0.0%\n",
            "LandSlope : missing 0 , missing_ratio 0.0%\n",
            "Neighborhood : missing 0 , missing_ratio 0.0%\n",
            "Condition1 : missing 0 , missing_ratio 0.0%\n",
            "Condition2 : missing 0 , missing_ratio 0.0%\n",
            "BldgType : missing 0 , missing_ratio 0.0%\n",
            "HouseStyle : missing 0 , missing_ratio 0.0%\n",
            "OverallQual : missing 0 , missing_ratio 0.0%\n",
            "OverallCond : missing 0 , missing_ratio 0.0%\n",
            "YearBuilt : missing 0 , missing_ratio 0.0%\n",
            "YearRemodAdd : missing 0 , missing_ratio 0.0%\n",
            "RoofStyle : missing 0 , missing_ratio 0.0%\n",
            "RoofMatl : missing 0 , missing_ratio 0.0%\n",
            "Exterior1st : missing 0 , missing_ratio 0.0%\n",
            "Exterior2nd : missing 0 , missing_ratio 0.0%\n",
            "MasVnrType : missing 8 , missing_ratio 0.5%\n",
            "MasVnrArea : missing 8 , missing_ratio 0.5%\n",
            "ExterQual : missing 0 , missing_ratio 0.0%\n",
            "ExterCond : missing 0 , missing_ratio 0.0%\n",
            "Foundation : missing 0 , missing_ratio 0.0%\n",
            "BsmtQual : missing 37 , missing_ratio 2.5%\n",
            "BsmtCond : missing 37 , missing_ratio 2.5%\n",
            "BsmtExposure : missing 38 , missing_ratio 2.6%\n",
            "BsmtFinType1 : missing 37 , missing_ratio 2.5%\n",
            "BsmtFinSF1 : missing 0 , missing_ratio 0.0%\n",
            "BsmtFinType2 : missing 38 , missing_ratio 2.6%\n",
            "BsmtFinSF2 : missing 0 , missing_ratio 0.0%\n",
            "BsmtUnfSF : missing 0 , missing_ratio 0.0%\n",
            "TotalBsmtSF : missing 0 , missing_ratio 0.0%\n",
            "Heating : missing 0 , missing_ratio 0.0%\n",
            "HeatingQC : missing 0 , missing_ratio 0.0%\n",
            "CentralAir : missing 0 , missing_ratio 0.0%\n",
            "Electrical : missing 1 , missing_ratio 0.1%\n",
            "1stFlrSF : missing 0 , missing_ratio 0.0%\n",
            "2ndFlrSF : missing 0 , missing_ratio 0.0%\n",
            "LowQualFinSF : missing 0 , missing_ratio 0.0%\n",
            "GrLivArea : missing 0 , missing_ratio 0.0%\n",
            "BsmtFullBath : missing 0 , missing_ratio 0.0%\n",
            "BsmtHalfBath : missing 0 , missing_ratio 0.0%\n",
            "FullBath : missing 0 , missing_ratio 0.0%\n",
            "HalfBath : missing 0 , missing_ratio 0.0%\n",
            "BedroomAbvGr : missing 0 , missing_ratio 0.0%\n",
            "KitchenAbvGr : missing 0 , missing_ratio 0.0%\n",
            "KitchenQual : missing 0 , missing_ratio 0.0%\n",
            "TotRmsAbvGrd : missing 0 , missing_ratio 0.0%\n",
            "Functional : missing 0 , missing_ratio 0.0%\n",
            "Fireplaces : missing 0 , missing_ratio 0.0%\n",
            "FireplaceQu : missing 690 , missing_ratio 47.3%\n",
            "GarageType : missing 81 , missing_ratio 5.5%\n",
            "GarageYrBlt : missing 81 , missing_ratio 5.5%\n",
            "GarageFinish : missing 81 , missing_ratio 5.5%\n",
            "GarageCars : missing 0 , missing_ratio 0.0%\n",
            "GarageArea : missing 0 , missing_ratio 0.0%\n",
            "GarageQual : missing 81 , missing_ratio 5.5%\n",
            "GarageCond : missing 81 , missing_ratio 5.5%\n",
            "PavedDrive : missing 0 , missing_ratio 0.0%\n",
            "WoodDeckSF : missing 0 , missing_ratio 0.0%\n",
            "OpenPorchSF : missing 0 , missing_ratio 0.0%\n",
            "EnclosedPorch : missing 0 , missing_ratio 0.0%\n",
            "3SsnPorch : missing 0 , missing_ratio 0.0%\n",
            "ScreenPorch : missing 0 , missing_ratio 0.0%\n",
            "PoolArea : missing 0 , missing_ratio 0.0%\n",
            "PoolQC : missing 1453 , missing_ratio 99.5%\n",
            "Fence : missing 1179 , missing_ratio 80.8%\n",
            "MiscFeature : missing 1406 , missing_ratio 96.3%\n",
            "MiscVal : missing 0 , missing_ratio 0.0%\n",
            "MoSold : missing 0 , missing_ratio 0.0%\n",
            "YrSold : missing 0 , missing_ratio 0.0%\n",
            "SaleType : missing 0 , missing_ratio 0.0%\n",
            "SaleCondition : missing 0 , missing_ratio 0.0%\n",
            "SalePrice : missing 0 , missing_ratio 0.0%\n"
          ],
          "name": "stdout"
        }
      ]
    },
    {
      "cell_type": "code",
      "metadata": {
        "id": "qOKszltK-rcO"
      },
      "source": [
        "data=data.dropna(thresh=lendata-4, axis=1)\n",
        "data = data.dropna(how='any')"
      ],
      "execution_count": 45,
      "outputs": []
    },
    {
      "cell_type": "code",
      "metadata": {
        "colab": {
          "base_uri": "https://localhost:8080/"
        },
        "id": "c-omm7RR-zHo",
        "outputId": "d310d2e4-39d5-4e21-a998-84ee9808c06f"
      },
      "source": [
        "col_names = data.columns\n",
        "for col_name in col_names:\n",
        "  missing_num = sum(pd.isnull(data[col_name]))\n",
        "  print('{} : missing {} , missing_ratio {:.1f}%'.format(col_name, missing_num , missing_num / lendata * 100))"
      ],
      "execution_count": 46,
      "outputs": [
        {
          "output_type": "stream",
          "text": [
            "Id : missing 0 , missing_ratio 0.0%\n",
            "MSSubClass : missing 0 , missing_ratio 0.0%\n",
            "MSZoning : missing 0 , missing_ratio 0.0%\n",
            "LotArea : missing 0 , missing_ratio 0.0%\n",
            "Street : missing 0 , missing_ratio 0.0%\n",
            "LotShape : missing 0 , missing_ratio 0.0%\n",
            "LandContour : missing 0 , missing_ratio 0.0%\n",
            "Utilities : missing 0 , missing_ratio 0.0%\n",
            "LotConfig : missing 0 , missing_ratio 0.0%\n",
            "LandSlope : missing 0 , missing_ratio 0.0%\n",
            "Neighborhood : missing 0 , missing_ratio 0.0%\n",
            "Condition1 : missing 0 , missing_ratio 0.0%\n",
            "Condition2 : missing 0 , missing_ratio 0.0%\n",
            "BldgType : missing 0 , missing_ratio 0.0%\n",
            "HouseStyle : missing 0 , missing_ratio 0.0%\n",
            "OverallQual : missing 0 , missing_ratio 0.0%\n",
            "OverallCond : missing 0 , missing_ratio 0.0%\n",
            "YearBuilt : missing 0 , missing_ratio 0.0%\n",
            "YearRemodAdd : missing 0 , missing_ratio 0.0%\n",
            "RoofStyle : missing 0 , missing_ratio 0.0%\n",
            "RoofMatl : missing 0 , missing_ratio 0.0%\n",
            "Exterior1st : missing 0 , missing_ratio 0.0%\n",
            "Exterior2nd : missing 0 , missing_ratio 0.0%\n",
            "ExterQual : missing 0 , missing_ratio 0.0%\n",
            "ExterCond : missing 0 , missing_ratio 0.0%\n",
            "Foundation : missing 0 , missing_ratio 0.0%\n",
            "BsmtFinSF1 : missing 0 , missing_ratio 0.0%\n",
            "BsmtFinSF2 : missing 0 , missing_ratio 0.0%\n",
            "BsmtUnfSF : missing 0 , missing_ratio 0.0%\n",
            "TotalBsmtSF : missing 0 , missing_ratio 0.0%\n",
            "Heating : missing 0 , missing_ratio 0.0%\n",
            "HeatingQC : missing 0 , missing_ratio 0.0%\n",
            "CentralAir : missing 0 , missing_ratio 0.0%\n",
            "Electrical : missing 0 , missing_ratio 0.0%\n",
            "1stFlrSF : missing 0 , missing_ratio 0.0%\n",
            "2ndFlrSF : missing 0 , missing_ratio 0.0%\n",
            "LowQualFinSF : missing 0 , missing_ratio 0.0%\n",
            "GrLivArea : missing 0 , missing_ratio 0.0%\n",
            "BsmtFullBath : missing 0 , missing_ratio 0.0%\n",
            "BsmtHalfBath : missing 0 , missing_ratio 0.0%\n",
            "FullBath : missing 0 , missing_ratio 0.0%\n",
            "HalfBath : missing 0 , missing_ratio 0.0%\n",
            "BedroomAbvGr : missing 0 , missing_ratio 0.0%\n",
            "KitchenAbvGr : missing 0 , missing_ratio 0.0%\n",
            "KitchenQual : missing 0 , missing_ratio 0.0%\n",
            "TotRmsAbvGrd : missing 0 , missing_ratio 0.0%\n",
            "Functional : missing 0 , missing_ratio 0.0%\n",
            "Fireplaces : missing 0 , missing_ratio 0.0%\n",
            "GarageCars : missing 0 , missing_ratio 0.0%\n",
            "GarageArea : missing 0 , missing_ratio 0.0%\n",
            "PavedDrive : missing 0 , missing_ratio 0.0%\n",
            "WoodDeckSF : missing 0 , missing_ratio 0.0%\n",
            "OpenPorchSF : missing 0 , missing_ratio 0.0%\n",
            "EnclosedPorch : missing 0 , missing_ratio 0.0%\n",
            "3SsnPorch : missing 0 , missing_ratio 0.0%\n",
            "ScreenPorch : missing 0 , missing_ratio 0.0%\n",
            "PoolArea : missing 0 , missing_ratio 0.0%\n",
            "MiscVal : missing 0 , missing_ratio 0.0%\n",
            "MoSold : missing 0 , missing_ratio 0.0%\n",
            "YrSold : missing 0 , missing_ratio 0.0%\n",
            "SaleType : missing 0 , missing_ratio 0.0%\n",
            "SaleCondition : missing 0 , missing_ratio 0.0%\n",
            "SalePrice : missing 0 , missing_ratio 0.0%\n"
          ],
          "name": "stdout"
        }
      ]
    },
    {
      "cell_type": "code",
      "metadata": {
        "colab": {
          "base_uri": "https://localhost:8080/",
          "height": 304
        },
        "id": "cdXWetH3-3Jh",
        "outputId": "630edf0c-954d-405f-b83e-69edaa2d1d38"
      },
      "source": [
        "data.describe()"
      ],
      "execution_count": 47,
      "outputs": [
        {
          "output_type": "execute_result",
          "data": {
            "text/html": [
              "<div>\n",
              "<style scoped>\n",
              "    .dataframe tbody tr th:only-of-type {\n",
              "        vertical-align: middle;\n",
              "    }\n",
              "\n",
              "    .dataframe tbody tr th {\n",
              "        vertical-align: top;\n",
              "    }\n",
              "\n",
              "    .dataframe thead th {\n",
              "        text-align: right;\n",
              "    }\n",
              "</style>\n",
              "<table border=\"1\" class=\"dataframe\">\n",
              "  <thead>\n",
              "    <tr style=\"text-align: right;\">\n",
              "      <th></th>\n",
              "      <th>Id</th>\n",
              "      <th>MSSubClass</th>\n",
              "      <th>LotArea</th>\n",
              "      <th>OverallQual</th>\n",
              "      <th>OverallCond</th>\n",
              "      <th>YearBuilt</th>\n",
              "      <th>YearRemodAdd</th>\n",
              "      <th>BsmtFinSF1</th>\n",
              "      <th>BsmtFinSF2</th>\n",
              "      <th>BsmtUnfSF</th>\n",
              "      <th>TotalBsmtSF</th>\n",
              "      <th>1stFlrSF</th>\n",
              "      <th>2ndFlrSF</th>\n",
              "      <th>LowQualFinSF</th>\n",
              "      <th>GrLivArea</th>\n",
              "      <th>BsmtFullBath</th>\n",
              "      <th>BsmtHalfBath</th>\n",
              "      <th>FullBath</th>\n",
              "      <th>HalfBath</th>\n",
              "      <th>BedroomAbvGr</th>\n",
              "      <th>KitchenAbvGr</th>\n",
              "      <th>TotRmsAbvGrd</th>\n",
              "      <th>Fireplaces</th>\n",
              "      <th>GarageCars</th>\n",
              "      <th>GarageArea</th>\n",
              "      <th>WoodDeckSF</th>\n",
              "      <th>OpenPorchSF</th>\n",
              "      <th>EnclosedPorch</th>\n",
              "      <th>3SsnPorch</th>\n",
              "      <th>ScreenPorch</th>\n",
              "      <th>PoolArea</th>\n",
              "      <th>MiscVal</th>\n",
              "      <th>MoSold</th>\n",
              "      <th>YrSold</th>\n",
              "      <th>SalePrice</th>\n",
              "    </tr>\n",
              "  </thead>\n",
              "  <tbody>\n",
              "    <tr>\n",
              "      <th>count</th>\n",
              "      <td>1459.000000</td>\n",
              "      <td>1459.000000</td>\n",
              "      <td>1459.000000</td>\n",
              "      <td>1459.000000</td>\n",
              "      <td>1459.000000</td>\n",
              "      <td>1459.000000</td>\n",
              "      <td>1459.000000</td>\n",
              "      <td>1459.000000</td>\n",
              "      <td>1459.000000</td>\n",
              "      <td>1459.000000</td>\n",
              "      <td>1459.000000</td>\n",
              "      <td>1459.000000</td>\n",
              "      <td>1459.000000</td>\n",
              "      <td>1459.000000</td>\n",
              "      <td>1459.000000</td>\n",
              "      <td>1459.000000</td>\n",
              "      <td>1459.000000</td>\n",
              "      <td>1459.000000</td>\n",
              "      <td>1459.000000</td>\n",
              "      <td>1459.000000</td>\n",
              "      <td>1459.000000</td>\n",
              "      <td>1459.000000</td>\n",
              "      <td>1459.000000</td>\n",
              "      <td>1459.000000</td>\n",
              "      <td>1459.000000</td>\n",
              "      <td>1459.000000</td>\n",
              "      <td>1459.000000</td>\n",
              "      <td>1459.000000</td>\n",
              "      <td>1459.000000</td>\n",
              "      <td>1459.000000</td>\n",
              "      <td>1459.000000</td>\n",
              "      <td>1459.000000</td>\n",
              "      <td>1459.000000</td>\n",
              "      <td>1459.000000</td>\n",
              "      <td>1459.000000</td>\n",
              "    </tr>\n",
              "    <tr>\n",
              "      <th>mean</th>\n",
              "      <td>730.054832</td>\n",
              "      <td>56.881426</td>\n",
              "      <td>10517.363948</td>\n",
              "      <td>6.100069</td>\n",
              "      <td>5.575737</td>\n",
              "      <td>1971.244003</td>\n",
              "      <td>1984.850583</td>\n",
              "      <td>443.943797</td>\n",
              "      <td>46.581220</td>\n",
              "      <td>567.366004</td>\n",
              "      <td>1057.891021</td>\n",
              "      <td>1162.906785</td>\n",
              "      <td>346.791638</td>\n",
              "      <td>5.848526</td>\n",
              "      <td>1515.546950</td>\n",
              "      <td>0.425634</td>\n",
              "      <td>0.057574</td>\n",
              "      <td>1.564770</td>\n",
              "      <td>0.382454</td>\n",
              "      <td>2.866347</td>\n",
              "      <td>1.046607</td>\n",
              "      <td>6.517478</td>\n",
              "      <td>0.613434</td>\n",
              "      <td>1.766964</td>\n",
              "      <td>473.030158</td>\n",
              "      <td>94.240576</td>\n",
              "      <td>46.692255</td>\n",
              "      <td>21.969157</td>\n",
              "      <td>3.411926</td>\n",
              "      <td>15.071282</td>\n",
              "      <td>2.760795</td>\n",
              "      <td>43.518849</td>\n",
              "      <td>6.322824</td>\n",
              "      <td>2007.815627</td>\n",
              "      <td>180930.394791</td>\n",
              "    </tr>\n",
              "    <tr>\n",
              "      <th>std</th>\n",
              "      <td>421.411181</td>\n",
              "      <td>42.310746</td>\n",
              "      <td>9984.666267</td>\n",
              "      <td>1.383171</td>\n",
              "      <td>1.113079</td>\n",
              "      <td>30.199555</td>\n",
              "      <td>20.644343</td>\n",
              "      <td>456.106417</td>\n",
              "      <td>161.369977</td>\n",
              "      <td>441.992392</td>\n",
              "      <td>438.500975</td>\n",
              "      <td>386.572089</td>\n",
              "      <td>436.610637</td>\n",
              "      <td>48.639512</td>\n",
              "      <td>525.650927</td>\n",
              "      <td>0.518969</td>\n",
              "      <td>0.238830</td>\n",
              "      <td>0.550987</td>\n",
              "      <td>0.502798</td>\n",
              "      <td>0.816050</td>\n",
              "      <td>0.220410</td>\n",
              "      <td>1.625902</td>\n",
              "      <td>0.644687</td>\n",
              "      <td>0.747546</td>\n",
              "      <td>213.869604</td>\n",
              "      <td>125.381679</td>\n",
              "      <td>66.267472</td>\n",
              "      <td>61.137400</td>\n",
              "      <td>29.327247</td>\n",
              "      <td>55.775138</td>\n",
              "      <td>40.191018</td>\n",
              "      <td>496.291826</td>\n",
              "      <td>2.704331</td>\n",
              "      <td>1.328542</td>\n",
              "      <td>79468.964025</td>\n",
              "    </tr>\n",
              "    <tr>\n",
              "      <th>min</th>\n",
              "      <td>1.000000</td>\n",
              "      <td>20.000000</td>\n",
              "      <td>1300.000000</td>\n",
              "      <td>1.000000</td>\n",
              "      <td>1.000000</td>\n",
              "      <td>1872.000000</td>\n",
              "      <td>1950.000000</td>\n",
              "      <td>0.000000</td>\n",
              "      <td>0.000000</td>\n",
              "      <td>0.000000</td>\n",
              "      <td>0.000000</td>\n",
              "      <td>334.000000</td>\n",
              "      <td>0.000000</td>\n",
              "      <td>0.000000</td>\n",
              "      <td>334.000000</td>\n",
              "      <td>0.000000</td>\n",
              "      <td>0.000000</td>\n",
              "      <td>0.000000</td>\n",
              "      <td>0.000000</td>\n",
              "      <td>0.000000</td>\n",
              "      <td>0.000000</td>\n",
              "      <td>2.000000</td>\n",
              "      <td>0.000000</td>\n",
              "      <td>0.000000</td>\n",
              "      <td>0.000000</td>\n",
              "      <td>0.000000</td>\n",
              "      <td>0.000000</td>\n",
              "      <td>0.000000</td>\n",
              "      <td>0.000000</td>\n",
              "      <td>0.000000</td>\n",
              "      <td>0.000000</td>\n",
              "      <td>0.000000</td>\n",
              "      <td>1.000000</td>\n",
              "      <td>2006.000000</td>\n",
              "      <td>34900.000000</td>\n",
              "    </tr>\n",
              "    <tr>\n",
              "      <th>25%</th>\n",
              "      <td>365.500000</td>\n",
              "      <td>20.000000</td>\n",
              "      <td>7549.000000</td>\n",
              "      <td>5.000000</td>\n",
              "      <td>5.000000</td>\n",
              "      <td>1954.000000</td>\n",
              "      <td>1967.000000</td>\n",
              "      <td>0.000000</td>\n",
              "      <td>0.000000</td>\n",
              "      <td>223.000000</td>\n",
              "      <td>796.000000</td>\n",
              "      <td>882.000000</td>\n",
              "      <td>0.000000</td>\n",
              "      <td>0.000000</td>\n",
              "      <td>1129.000000</td>\n",
              "      <td>0.000000</td>\n",
              "      <td>0.000000</td>\n",
              "      <td>1.000000</td>\n",
              "      <td>0.000000</td>\n",
              "      <td>2.000000</td>\n",
              "      <td>1.000000</td>\n",
              "      <td>5.000000</td>\n",
              "      <td>0.000000</td>\n",
              "      <td>1.000000</td>\n",
              "      <td>333.000000</td>\n",
              "      <td>0.000000</td>\n",
              "      <td>0.000000</td>\n",
              "      <td>0.000000</td>\n",
              "      <td>0.000000</td>\n",
              "      <td>0.000000</td>\n",
              "      <td>0.000000</td>\n",
              "      <td>0.000000</td>\n",
              "      <td>5.000000</td>\n",
              "      <td>2007.000000</td>\n",
              "      <td>129950.000000</td>\n",
              "    </tr>\n",
              "    <tr>\n",
              "      <th>50%</th>\n",
              "      <td>730.000000</td>\n",
              "      <td>50.000000</td>\n",
              "      <td>9477.000000</td>\n",
              "      <td>6.000000</td>\n",
              "      <td>5.000000</td>\n",
              "      <td>1973.000000</td>\n",
              "      <td>1994.000000</td>\n",
              "      <td>384.000000</td>\n",
              "      <td>0.000000</td>\n",
              "      <td>479.000000</td>\n",
              "      <td>992.000000</td>\n",
              "      <td>1088.000000</td>\n",
              "      <td>0.000000</td>\n",
              "      <td>0.000000</td>\n",
              "      <td>1464.000000</td>\n",
              "      <td>0.000000</td>\n",
              "      <td>0.000000</td>\n",
              "      <td>2.000000</td>\n",
              "      <td>0.000000</td>\n",
              "      <td>3.000000</td>\n",
              "      <td>1.000000</td>\n",
              "      <td>6.000000</td>\n",
              "      <td>1.000000</td>\n",
              "      <td>2.000000</td>\n",
              "      <td>480.000000</td>\n",
              "      <td>0.000000</td>\n",
              "      <td>25.000000</td>\n",
              "      <td>0.000000</td>\n",
              "      <td>0.000000</td>\n",
              "      <td>0.000000</td>\n",
              "      <td>0.000000</td>\n",
              "      <td>0.000000</td>\n",
              "      <td>6.000000</td>\n",
              "      <td>2008.000000</td>\n",
              "      <td>163000.000000</td>\n",
              "    </tr>\n",
              "    <tr>\n",
              "      <th>75%</th>\n",
              "      <td>1094.500000</td>\n",
              "      <td>70.000000</td>\n",
              "      <td>11603.000000</td>\n",
              "      <td>7.000000</td>\n",
              "      <td>6.000000</td>\n",
              "      <td>2000.000000</td>\n",
              "      <td>2004.000000</td>\n",
              "      <td>712.500000</td>\n",
              "      <td>0.000000</td>\n",
              "      <td>808.000000</td>\n",
              "      <td>1298.500000</td>\n",
              "      <td>1391.500000</td>\n",
              "      <td>728.000000</td>\n",
              "      <td>0.000000</td>\n",
              "      <td>1777.500000</td>\n",
              "      <td>1.000000</td>\n",
              "      <td>0.000000</td>\n",
              "      <td>2.000000</td>\n",
              "      <td>1.000000</td>\n",
              "      <td>3.000000</td>\n",
              "      <td>1.000000</td>\n",
              "      <td>7.000000</td>\n",
              "      <td>1.000000</td>\n",
              "      <td>2.000000</td>\n",
              "      <td>576.000000</td>\n",
              "      <td>168.000000</td>\n",
              "      <td>68.000000</td>\n",
              "      <td>0.000000</td>\n",
              "      <td>0.000000</td>\n",
              "      <td>0.000000</td>\n",
              "      <td>0.000000</td>\n",
              "      <td>0.000000</td>\n",
              "      <td>8.000000</td>\n",
              "      <td>2009.000000</td>\n",
              "      <td>214000.000000</td>\n",
              "    </tr>\n",
              "    <tr>\n",
              "      <th>max</th>\n",
              "      <td>1460.000000</td>\n",
              "      <td>190.000000</td>\n",
              "      <td>215245.000000</td>\n",
              "      <td>10.000000</td>\n",
              "      <td>9.000000</td>\n",
              "      <td>2010.000000</td>\n",
              "      <td>2010.000000</td>\n",
              "      <td>5644.000000</td>\n",
              "      <td>1474.000000</td>\n",
              "      <td>2336.000000</td>\n",
              "      <td>6110.000000</td>\n",
              "      <td>4692.000000</td>\n",
              "      <td>2065.000000</td>\n",
              "      <td>572.000000</td>\n",
              "      <td>5642.000000</td>\n",
              "      <td>3.000000</td>\n",
              "      <td>2.000000</td>\n",
              "      <td>3.000000</td>\n",
              "      <td>2.000000</td>\n",
              "      <td>8.000000</td>\n",
              "      <td>3.000000</td>\n",
              "      <td>14.000000</td>\n",
              "      <td>3.000000</td>\n",
              "      <td>4.000000</td>\n",
              "      <td>1418.000000</td>\n",
              "      <td>857.000000</td>\n",
              "      <td>547.000000</td>\n",
              "      <td>552.000000</td>\n",
              "      <td>508.000000</td>\n",
              "      <td>480.000000</td>\n",
              "      <td>738.000000</td>\n",
              "      <td>15500.000000</td>\n",
              "      <td>12.000000</td>\n",
              "      <td>2010.000000</td>\n",
              "      <td>755000.000000</td>\n",
              "    </tr>\n",
              "  </tbody>\n",
              "</table>\n",
              "</div>"
            ],
            "text/plain": [
              "                Id   MSSubClass  ...       YrSold      SalePrice\n",
              "count  1459.000000  1459.000000  ...  1459.000000    1459.000000\n",
              "mean    730.054832    56.881426  ...  2007.815627  180930.394791\n",
              "std     421.411181    42.310746  ...     1.328542   79468.964025\n",
              "min       1.000000    20.000000  ...  2006.000000   34900.000000\n",
              "25%     365.500000    20.000000  ...  2007.000000  129950.000000\n",
              "50%     730.000000    50.000000  ...  2008.000000  163000.000000\n",
              "75%    1094.500000    70.000000  ...  2009.000000  214000.000000\n",
              "max    1460.000000   190.000000  ...  2010.000000  755000.000000\n",
              "\n",
              "[8 rows x 35 columns]"
            ]
          },
          "metadata": {
            "tags": []
          },
          "execution_count": 47
        }
      ]
    },
    {
      "cell_type": "code",
      "metadata": {
        "id": "tuz1eRIx_Ewg"
      },
      "source": [
        "X = pd.DataFrame(data=data, columns=['GrLivArea','YearBuilt'])\n",
        "y = pd.DataFrame(data=data, columns=['SalePrice'])\n",
        "# NumPy 配列に変換\n",
        "X = np.array(X)\n",
        "y = np.array(y)"
      ],
      "execution_count": 48,
      "outputs": []
    },
    {
      "cell_type": "code",
      "metadata": {
        "id": "dTP2K8ckfVBY"
      },
      "source": [
        "# trainとtestに分割\n",
        "X_train, X_test, y_train, y_test = train_test_split(X, y, test_size=0.2, random_state=0)\n",
        "\n",
        "# さらにtrainとvalに分割\n",
        "X_train, X_val, y_train, y_val = train_test_split(X_train, y_train, test_size=0.2, random_state=0)"
      ],
      "execution_count": 49,
      "outputs": []
    },
    {
      "cell_type": "code",
      "metadata": {
        "id": "gBd74SqOAgsf"
      },
      "source": [
        "class GetMiniBatch:\n",
        "\n",
        "    def __init__(self, X, y, batch_size = 10, seed=0):\n",
        "\n",
        "        self.batch_size = batch_size\n",
        "        np.random.seed(seed)\n",
        "        shuffle_index = np.random.permutation(np.arange(X.shape[0]))\n",
        "        self.X = X[shuffle_index]\n",
        "        self.y = y[shuffle_index]\n",
        "        self._stop = np.ceil(X.shape[0]/self.batch_size).astype(np.int)\n",
        "\n",
        "    def __len__(self):\n",
        "\n",
        "        return self._stop\n",
        "\n",
        "    def __getitem__(self,item):\n",
        "\n",
        "        p0 = item*self.batch_size\n",
        "        p1 = item*self.batch_size + self.batch_size\n",
        "\n",
        "        return self.X[p0:p1], self.y[p0:p1]  \n",
        "\n",
        "    def __iter__(self):\n",
        "\n",
        "        self._counter = 0\n",
        "\n",
        "        return self\n",
        "\n",
        "    def __next__(self):\n",
        "\n",
        "        if self._counter >= self._stop:\n",
        "            raise StopIteration()\n",
        "        p0 = self._counter*self.batch_size\n",
        "        p1 = self._counter*self.batch_size + self.batch_size\n",
        "        self._counter += 1\n",
        "\n",
        "        return self.X[p0:p1], self.y[p0:p1]"
      ],
      "execution_count": 50,
      "outputs": []
    },
    {
      "cell_type": "code",
      "metadata": {
        "id": "UEa4Kgw5e5xN"
      },
      "source": [
        "# ハイパーパラメータの設定\n",
        "learning_rate = 0.001\n",
        "batch_size = 10\n",
        "num_epochs = 100\n",
        "n_hidden1 = 50\n",
        "n_hidden2 = 100\n",
        "n_input = X_train.shape[1]\n",
        "n_samples = X_train.shape[0]\n",
        "n_val_samples = X_val.shape[0]\n",
        "n_test_samples = X_test.shape[0]\n",
        "n_classes = 1\n",
        "# 計算グラフに渡す引数の形を決める\n",
        "X = tf.placeholder(\"float\", [None, n_input])\n",
        "Y = tf.placeholder(\"float\", [None, n_classes])\n",
        "# trainのミニバッチイテレータ\n",
        "get_mini_batch_train = GetMiniBatch(X_train, y_train, batch_size=batch_size)"
      ],
      "execution_count": 51,
      "outputs": []
    },
    {
      "cell_type": "code",
      "metadata": {
        "id": "coteUjs5Asuw"
      },
      "source": [
        "def example_net(x):\n",
        "    \"\"\"\n",
        "    単純な3層ニューラルネットワーク\n",
        "    \"\"\"\n",
        "    tf.random.set_random_seed(0)\n",
        "    # 重みとバイアスの宣言\n",
        "    weights = {\n",
        "        'w1': tf.Variable(tf.random_normal([n_input, n_hidden1])), # 行列（2 * 50）\n",
        "        'w2': tf.Variable(tf.random_normal([n_hidden1, n_hidden2])), # 行列（50 * 100）\n",
        "        'w3': tf.Variable(tf.random_normal([n_hidden2, n_classes])) # 行列（100 * 1)\n",
        "    }\n",
        "    biases = {\n",
        "        'b1': tf.Variable(tf.random_normal([n_hidden1])), # 第一隠れ層のバイアス\n",
        "        'b2': tf.Variable(tf.random_normal([n_hidden2])), # 第二隠れ層のバイアス\n",
        "        'b3': tf.Variable(tf.random_normal([n_classes])) # 出力層のバイアス\n",
        "    }\n",
        "    layer_1 = tf.add(tf.matmul(x, weights['w1']), biases['b1']) # 第一隠れ層の行列積およびバイアスの加算\n",
        "    layer_1 = tf.nn.relu(layer_1)                               # 活性化関数（relu）の実行\n",
        "    layer_2 = tf.add(tf.matmul(layer_1, weights['w2']), biases['b2']) # 第二隠れ層の行列積およびバイアスの加算\n",
        "    layer_2 = tf.nn.relu(layer_2)                               # 活性化関数（relu）の実行\n",
        "    layer_output = tf.matmul(layer_2, weights['w3']) + biases['b3'] # tf.addと+は等価である　出力層の行列積およびバイアスの加算\n",
        "    return layer_output                                         # 予測値（Yhat）を返す"
      ],
      "execution_count": 52,
      "outputs": []
    },
    {
      "cell_type": "code",
      "metadata": {
        "id": "X7ahBdqdA9Wz"
      },
      "source": [
        "# ネットワーク構造の読み込み                               \n",
        "logits = example_net(X)\n",
        "# 目的関数\n",
        "loss_op = tf.reduce_sum(tf.square(logits-Y)) # 損失関数は予測値と実測値の最小二乗誤差を取るものとする\n",
        "# 最適化手法\n",
        "optimizer = tf.train.AdamOptimizer(learning_rate=learning_rate) # 最適化手法：Adam\n",
        "train_op = optimizer.minimize(loss_op) \n",
        "# variableの初期化\n",
        "init = tf.global_variables_initializer()"
      ],
      "execution_count": 53,
      "outputs": []
    },
    {
      "cell_type": "code",
      "metadata": {
        "colab": {
          "base_uri": "https://localhost:8080/",
          "height": 1000
        },
        "id": "zxpSmZp_Z_9w",
        "outputId": "1636a943-18a9-445d-ec6a-6d5dc5cc9aae"
      },
      "source": [
        "# 計算グラフの実行\n",
        "with tf.Session() as sess: # データを入力して計算ため、Sessionオブジェクトを作成\n",
        "    sess.run(init)\n",
        "    loss_list = []\n",
        "    val_loss_list = []\n",
        "    for epoch in range(num_epochs):\n",
        "        # エポックごとにループ\n",
        "        total_batch = np.ceil(X_train.shape[0]/batch_size).astype(np.int64) # ミニバッチがバッチサイズ以下は切り捨て\n",
        "        total_loss = 0\n",
        "        for i, (mini_batch_x, mini_batch_y) in enumerate(get_mini_batch_train):\n",
        "            # ミニバッチごとにループ\n",
        "            sess.run(train_op, feed_dict={X: mini_batch_x, Y: mini_batch_y}) # ミニバッチで取得した学習データを最適化（勾配降下法適用）する。\n",
        "            loss = sess.run(loss_op, feed_dict={X: mini_batch_x, Y: mini_batch_y}) # 学習データにおける損失を計算する。\n",
        "            total_loss += math.sqrt(loss) / batch_size\n",
        "        total_loss /= n_samples\n",
        "        loss_list.append(total_loss)\n",
        "        val_loss = sess.run(loss_op, feed_dict={X: X_val, Y: y_val}) # 検証データにおける損失を計算する。\n",
        "        val_loss = math.sqrt(val_loss) / n_val_samples\n",
        "        val_loss_list.append(val_loss)\n",
        "        print(\"Epoch {}, loss : {:.4f}, val_loss : {:.4f}\".format(epoch, total_loss, val_loss))\n",
        "    n_samples = X_test.shape[0]\n",
        "    test_loss = sess.run(loss_op, feed_dict={X: X_test, Y: y_test}) # 検証データにおける損失を計算する。\n",
        "    test_loss = math.sqrt(test_loss) / n_test_samples\n",
        "    print(\"test_loss : {:.4f}\".format(test_loss))\n",
        "\n",
        "    # 学習曲線のグラフ表示\n",
        "    plt.title(\"Curve of study\")\n",
        "    plt.xlabel(\"epoch\")\n",
        "    plt.ylabel(\"Objective Function\")\n",
        "    plt.plot(loss_list, label=\"train\")\n",
        "    plt.plot(val_loss_list, label=\"val\")\n",
        "    plt.legend()\n",
        "    plt.show()"
      ],
      "execution_count": 56,
      "outputs": [
        {
          "output_type": "stream",
          "text": [
            "Epoch 0, loss : 14443.6625, val_loss : 5570.0092\n",
            "Epoch 1, loss : 6250.5419, val_loss : 4203.5099\n",
            "Epoch 2, loss : 5688.6317, val_loss : 4005.4132\n",
            "Epoch 3, loss : 5479.6351, val_loss : 3877.9806\n",
            "Epoch 4, loss : 5355.6832, val_loss : 3833.6299\n",
            "Epoch 5, loss : 5332.7077, val_loss : 3828.3621\n",
            "Epoch 6, loss : 5328.9140, val_loss : 3831.6775\n",
            "Epoch 7, loss : 5328.6819, val_loss : 3836.3291\n",
            "Epoch 8, loss : 5328.4650, val_loss : 3838.0636\n",
            "Epoch 9, loss : 5327.9240, val_loss : 3842.3226\n",
            "Epoch 10, loss : 5327.4450, val_loss : 3847.2711\n",
            "Epoch 11, loss : 5326.9209, val_loss : 3851.1077\n",
            "Epoch 12, loss : 5326.4807, val_loss : 3854.8476\n",
            "Epoch 13, loss : 5326.1973, val_loss : 3858.6684\n",
            "Epoch 14, loss : 5325.7402, val_loss : 3861.8693\n",
            "Epoch 15, loss : 5325.4352, val_loss : 3864.8900\n",
            "Epoch 16, loss : 5325.0823, val_loss : 3867.0826\n",
            "Epoch 17, loss : 5324.7102, val_loss : 3870.4190\n",
            "Epoch 18, loss : 5324.7010, val_loss : 3871.8233\n",
            "Epoch 19, loss : 5324.3080, val_loss : 3874.3574\n",
            "Epoch 20, loss : 5324.1139, val_loss : 3873.3168\n",
            "Epoch 21, loss : 5323.9083, val_loss : 3874.8152\n",
            "Epoch 22, loss : 5323.6439, val_loss : 3876.4879\n",
            "Epoch 23, loss : 5323.3825, val_loss : 3878.4918\n",
            "Epoch 24, loss : 5323.1987, val_loss : 3880.0429\n",
            "Epoch 25, loss : 5322.7610, val_loss : 3881.4089\n",
            "Epoch 26, loss : 5322.4447, val_loss : 3883.2355\n",
            "Epoch 27, loss : 5322.2682, val_loss : 3883.7576\n",
            "Epoch 28, loss : 5322.2314, val_loss : 3884.3419\n",
            "Epoch 29, loss : 5322.1566, val_loss : 3884.7607\n",
            "Epoch 30, loss : 5321.9871, val_loss : 3884.7273\n",
            "Epoch 31, loss : 5322.0869, val_loss : 3885.4332\n",
            "Epoch 32, loss : 5321.9282, val_loss : 3884.7181\n",
            "Epoch 33, loss : 5321.8856, val_loss : 3885.2976\n",
            "Epoch 34, loss : 5321.7105, val_loss : 3884.5082\n",
            "Epoch 35, loss : 5321.8868, val_loss : 3884.7838\n",
            "Epoch 36, loss : 5321.6299, val_loss : 3884.0166\n",
            "Epoch 37, loss : 5321.7437, val_loss : 3884.0482\n",
            "Epoch 38, loss : 5321.6121, val_loss : 3883.3668\n",
            "Epoch 39, loss : 5321.5956, val_loss : 3883.4788\n",
            "Epoch 40, loss : 5321.3480, val_loss : 3882.4600\n",
            "Epoch 41, loss : 5321.5277, val_loss : 3882.3359\n",
            "Epoch 42, loss : 5321.4278, val_loss : 3882.2201\n",
            "Epoch 43, loss : 5321.0434, val_loss : 3881.3946\n",
            "Epoch 44, loss : 5321.3047, val_loss : 3882.0772\n",
            "Epoch 45, loss : 5321.1939, val_loss : 3880.9621\n",
            "Epoch 46, loss : 5321.0010, val_loss : 3880.1250\n",
            "Epoch 47, loss : 5321.0963, val_loss : 3879.8142\n",
            "Epoch 48, loss : 5321.0849, val_loss : 3879.3559\n",
            "Epoch 49, loss : 5320.8082, val_loss : 3879.0323\n",
            "Epoch 50, loss : 5320.6669, val_loss : 3878.1275\n",
            "Epoch 51, loss : 5320.8902, val_loss : 3877.8480\n",
            "Epoch 52, loss : 5320.8091, val_loss : 3877.1821\n",
            "Epoch 53, loss : 5320.6486, val_loss : 3876.2150\n",
            "Epoch 54, loss : 5320.3202, val_loss : 3875.7629\n",
            "Epoch 55, loss : 5320.5645, val_loss : 3874.9519\n",
            "Epoch 56, loss : 5320.5560, val_loss : 3874.3307\n",
            "Epoch 57, loss : 5320.4917, val_loss : 3873.9808\n",
            "Epoch 58, loss : 5320.2599, val_loss : 3873.1084\n",
            "Epoch 59, loss : 5320.3810, val_loss : 3872.0182\n",
            "Epoch 60, loss : 5320.3185, val_loss : 3871.7617\n",
            "Epoch 61, loss : 5320.2347, val_loss : 3871.0171\n",
            "Epoch 62, loss : 5320.3274, val_loss : 3870.5004\n",
            "Epoch 63, loss : 5320.0131, val_loss : 3869.4950\n",
            "Epoch 64, loss : 5320.1884, val_loss : 3868.9438\n",
            "Epoch 65, loss : 5319.9586, val_loss : 3868.3860\n",
            "Epoch 66, loss : 5319.8215, val_loss : 3868.2659\n",
            "Epoch 67, loss : 5320.2550, val_loss : 3868.0270\n",
            "Epoch 68, loss : 5319.7981, val_loss : 3866.4505\n",
            "Epoch 69, loss : 5319.8853, val_loss : 3865.8851\n",
            "Epoch 70, loss : 5319.6308, val_loss : 3864.8834\n",
            "Epoch 71, loss : 5319.7298, val_loss : 3864.0436\n",
            "Epoch 72, loss : 5319.7143, val_loss : 3863.6276\n",
            "Epoch 73, loss : 5319.6698, val_loss : 3863.0876\n",
            "Epoch 74, loss : 5319.6505, val_loss : 3862.5582\n",
            "Epoch 75, loss : 5319.4005, val_loss : 3861.4405\n",
            "Epoch 76, loss : 5319.4041, val_loss : 3861.0328\n",
            "Epoch 77, loss : 5319.4671, val_loss : 3860.3143\n",
            "Epoch 78, loss : 5319.4351, val_loss : 3859.9523\n",
            "Epoch 79, loss : 5319.4583, val_loss : 3859.2836\n",
            "Epoch 80, loss : 5319.2147, val_loss : 3858.2918\n",
            "Epoch 81, loss : 5319.2464, val_loss : 3857.5840\n",
            "Epoch 82, loss : 5319.2584, val_loss : 3857.2052\n",
            "Epoch 83, loss : 5319.3207, val_loss : 3856.6905\n",
            "Epoch 84, loss : 5319.0332, val_loss : 3855.6425\n",
            "Epoch 85, loss : 5319.0817, val_loss : 3855.3689\n",
            "Epoch 86, loss : 5319.0512, val_loss : 3854.7145\n",
            "Epoch 87, loss : 5318.9275, val_loss : 3854.2637\n",
            "Epoch 88, loss : 5318.8346, val_loss : 3853.2635\n",
            "Epoch 89, loss : 5318.9384, val_loss : 3852.7189\n",
            "Epoch 90, loss : 5318.9022, val_loss : 3852.2953\n",
            "Epoch 91, loss : 5318.7448, val_loss : 3851.3288\n",
            "Epoch 92, loss : 5318.6101, val_loss : 3850.5159\n",
            "Epoch 93, loss : 5318.7873, val_loss : 3850.0614\n",
            "Epoch 94, loss : 5318.6657, val_loss : 3849.4655\n",
            "Epoch 95, loss : 5318.7402, val_loss : 3848.7089\n",
            "Epoch 96, loss : 5318.4187, val_loss : 3847.8737\n",
            "Epoch 97, loss : 5318.8181, val_loss : 3848.0241\n",
            "Epoch 98, loss : 5318.4112, val_loss : 3847.3926\n",
            "Epoch 99, loss : 5318.4768, val_loss : 3846.2245\n",
            "test_loss : 3119.7408\n"
          ],
          "name": "stdout"
        },
        {
          "output_type": "display_data",
          "data": {
            "image/png": "[encoded data removed]",
            "text/plain": [
              "<Figure size 432x288 with 1 Axes>"
            ]
          },
          "metadata": {
            "tags": [],
            "needs_background": "light"
          }
        }
      ]
    },
    {
      "cell_type": "markdown",
      "metadata": {
        "id": "4kERqBcXrty3"
      },
      "source": [
        "### 【問題5】MNISTのモデルを作成"
      ]
    },
    {
      "cell_type": "code",
      "metadata": {
        "id": "1K-DS9Qi6qr9"
      },
      "source": [
        "from google.colab import drive\n",
        "drive.mount('/content/drive')"
      ],
      "execution_count": null,
      "outputs": []
    },
    {
      "cell_type": "code",
      "metadata": {
        "id": "1J8uDVlYFJzS"
      },
      "source": [
        "from sklearn.preprocessing import OneHotEncoder"
      ],
      "execution_count": 58,
      "outputs": []
    },
    {
      "cell_type": "code",
      "metadata": {
        "colab": {
          "base_uri": "https://localhost:8080/"
        },
        "id": "p6FiFlVb6td8",
        "outputId": "d6cdf900-972a-49e2-b69b-5d1dcb985371"
      },
      "source": [
        "# データセットを取り込むコード\n",
        "X_train = np.load(\"/content/drive/My Drive/X_train.npy\")\n",
        "y_train = np.load(\"/content/drive/My Drive/y_train.npy\")\n",
        "X_test = np.load(\"/content/drive/My Drive/X_test.npy\")\n",
        "y_test = np.load(\"/content/drive/My Drive/y_test.npy\")\n",
        "y_train = (y_train.reshape(-1,1) == np.arange(10)).astype(np.float64)\n",
        "y_test = (y_test.reshape(-1,1) == np.arange(10)).astype(np.float64)\n",
        "print(y_train.shape)\n",
        "print(y_test.shape)"
      ],
      "execution_count": 59,
      "outputs": [
        {
          "output_type": "stream",
          "text": [
            "(60000, 10)\n",
            "(10000, 10)\n"
          ],
          "name": "stdout"
        }
      ]
    },
    {
      "cell_type": "code",
      "metadata": {
        "colab": {
          "base_uri": "https://localhost:8080/"
        },
        "id": "jAQUov8T7N4U",
        "outputId": "76a76fa7-c560-493d-da49-f3b6f3fa673f"
      },
      "source": [
        "# データセットの確認\n",
        "print(X_train.shape)\n",
        "print(y_train.shape)\n",
        "print(X_test.shape)\n",
        "print(y_test.shape)"
      ],
      "execution_count": 60,
      "outputs": [
        {
          "output_type": "stream",
          "text": [
            "(60000, 28, 28)\n",
            "(60000, 10)\n",
            "(10000, 28, 28)\n",
            "(10000, 10)\n"
          ],
          "name": "stdout"
        }
      ]
    },
    {
      "cell_type": "code",
      "metadata": {
        "id": "_2RbM9I67PZX"
      },
      "source": [
        "# 平滑化\n",
        "X_train = X_train.reshape(-1, 784)\n",
        "X_test = X_test.reshape(-1, 784)"
      ],
      "execution_count": 61,
      "outputs": []
    },
    {
      "cell_type": "code",
      "metadata": {
        "colab": {
          "base_uri": "https://localhost:8080/",
          "height": 281
        },
        "id": "wwnUCQAW893E",
        "outputId": "bb07b396-b83d-4b74-dbfb-b55119a2f0b8"
      },
      "source": [
        "# 画像データの可視化\n",
        "import matplotlib.pyplot as plt\n",
        "%matplotlib inline\n",
        "index = 2\n",
        "image = X_train[index].reshape(28,28)\n",
        "# X_train[index]: (784,)\n",
        "# image: (28, 28)\n",
        "plt.imshow(image, 'gray')\n",
        "plt.title('label : {}'.format(y_train[index]))\n",
        "plt.show()"
      ],
      "execution_count": 62,
      "outputs": [
        {
          "output_type": "display_data",
          "data": {
            "image/png": "[encoded data removed]",
            "text/plain": [
              "<Figure size 432x288 with 1 Axes>"
            ]
          },
          "metadata": {
            "tags": [],
            "needs_background": "light"
          }
        }
      ]
    },
    {
      "cell_type": "code",
      "metadata": {
        "colab": {
          "base_uri": "https://localhost:8080/"
        },
        "id": "-UojsCs79GLr",
        "outputId": "766b39f3-2bee-4f8e-a88f-76b5a3c151f4"
      },
      "source": [
        "# 前処理\n",
        "X_train = X_train.astype(np.float)\n",
        "X_test = X_test.astype(np.float)\n",
        "X_train /= 255\n",
        "X_test /= 255\n",
        "print(X_train.max()) # 1.0\n",
        "print(X_train.min()) # 0.0"
      ],
      "execution_count": 63,
      "outputs": [
        {
          "output_type": "stream",
          "text": [
            "1.0\n",
            "0.0\n"
          ],
          "name": "stdout"
        }
      ]
    },
    {
      "cell_type": "code",
      "metadata": {
        "colab": {
          "base_uri": "https://localhost:8080/"
        },
        "id": "yABIyVqD9OLE",
        "outputId": "5e36e0b9-f648-498e-a560-dc6b4028238f"
      },
      "source": [
        "y_train_one_hot = (y_train.reshape(-1,1) == np.arange(10)).astype(np.float64)\n",
        "y_test_one_hot = (y_test.reshape(-1,1) == np.arange(10)).astype(np.float64)\n",
        "print(y_train.shape)\n",
        "print(y_train_one_hot.shape)\n",
        "print(y_train_one_hot.dtype)"
      ],
      "execution_count": 64,
      "outputs": [
        {
          "output_type": "stream",
          "text": [
            "(60000, 10)\n",
            "(600000, 10)\n",
            "float64\n"
          ],
          "name": "stdout"
        }
      ]
    },
    {
      "cell_type": "code",
      "metadata": {
        "colab": {
          "base_uri": "https://localhost:8080/"
        },
        "id": "w34VrYyM90tl",
        "outputId": "81710de4-3ead-4a1b-ea68-c43e7aae6bed"
      },
      "source": [
        "def split_data(X, permutation, val_size_rate=0.2):\n",
        "    X = X[permutation]\n",
        "    val_size = int(len(X) * val_size_rate)\n",
        "    val = X[:val_size]\n",
        "    train = X[val_size:]\n",
        "    return train, val\n",
        "\n",
        "permutation = np.random.permutation(np.arange(len(X_train)))\n",
        "X_train, X_val = split_data(X_train, permutation)\n",
        "y_train, y_val = split_data(y_train_one_hot, permutation)\n",
        "print(X_train.shape)\n",
        "print(y_train.shape)\n",
        "print(X_val.shape)\n",
        "print(y_val.shape)"
      ],
      "execution_count": 65,
      "outputs": [
        {
          "output_type": "stream",
          "text": [
            "(48000, 784)\n",
            "(48000, 10)\n",
            "(12000, 784)\n",
            "(12000, 10)\n"
          ],
          "name": "stdout"
        }
      ]
    },
    {
      "cell_type": "code",
      "metadata": {
        "id": "9v7o8j7j-CCA"
      },
      "source": [
        "class GetMiniBatch:\n",
        "\n",
        "    def __init__(self, X, y, batch_size = 10, seed=0):\n",
        "\n",
        "        self.batch_size = batch_size\n",
        "        np.random.seed(seed)\n",
        "        shuffle_index = np.random.permutation(np.arange(X.shape[0]))\n",
        "        self.X = X[shuffle_index]\n",
        "        self.y = y[shuffle_index]\n",
        "        self._stop = np.ceil(X.shape[0]/self.batch_size).astype(np.int)\n",
        "\n",
        "    def __len__(self):\n",
        "\n",
        "        return self._stop\n",
        "\n",
        "    def __getitem__(self,item):\n",
        "\n",
        "        p0 = item*self.batch_size\n",
        "        p1 = item*self.batch_size + self.batch_size\n",
        "\n",
        "        return self.X[p0:p1], self.y[p0:p1]  \n",
        "\n",
        "    def __iter__(self):\n",
        "\n",
        "        self._counter = 0\n",
        "\n",
        "        return self\n",
        "\n",
        "    def __next__(self):\n",
        "\n",
        "        if self._counter >= self._stop:\n",
        "            raise StopIteration()\n",
        "        p0 = self._counter*self.batch_size\n",
        "        p1 = self._counter*self.batch_size + self.batch_size\n",
        "        self._counter += 1\n",
        "\n",
        "        return self.X[p0:p1], self.y[p0:p1]"
      ],
      "execution_count": 66,
      "outputs": []
    },
    {
      "cell_type": "code",
      "metadata": {
        "id": "Rgc7YsDe-QEv"
      },
      "source": [
        "# ハイパーパラメータの設定\n",
        "learning_rate = 0.001 # 学習率\n",
        "batch_size = 10 # バッチサイズ\n",
        "num_epochs = 10 # エポック数\n",
        "n_hidden1 = 400 # 第一隠れ層のノード数\n",
        "n_hidden2 = 200 # 第二隠れ層ノードの数\n",
        "n_input = X_train.shape[1] # 入力層のノード数（特徴量の数）\n",
        "n_samples = X_train.shape[0] # サンプル数\n",
        "n_classes = 10 # 出力層のノード数\n",
        "\n",
        "# 計算グラフに渡す引数の形を決める\n",
        "X = tf.placeholder(\"float\", [None, n_input]) # 学習データをTensorFlowのデータフローグラフに入力ための placeholder を用意\n",
        "Y = tf.placeholder(\"float\", [None, n_classes]) # 学習データをTensorFlowのデータフローグラフに入力ための placeholder を用意\n",
        "    \n",
        "# trainのミニバッチイテレータ\n",
        "get_mini_batch_train = GetMiniBatch(X_train, y_train, batch_size=batch_size)"
      ],
      "execution_count": 67,
      "outputs": []
    },
    {
      "cell_type": "code",
      "metadata": {
        "id": "1bYAv4Zx_kOw"
      },
      "source": [
        "# ネットワーク構造の読み込み                               \n",
        "logits = example_net(X)\n",
        "# 目的関数\n",
        "loss_op = tf.reduce_mean(tf.nn.softmax_cross_entropy_with_logits(labels=Y, logits=logits)) # sigmoid → softmaxに変更してみた\n",
        "# 最適化手法\n",
        "optimizer = tf.train.AdamOptimizer(learning_rate=learning_rate) # 最適化手法：Adam\n",
        "train_op = optimizer.minimize(loss_op) \n",
        "# 推定結果\n",
        "correct_pred = tf.equal(tf.argmax(Y, axis=1), tf.argmax(logits, axis=1) )\n",
        "# 指標値計算\n",
        "accuracy = tf.reduce_mean(tf.cast(correct_pred, tf.float32))\n",
        "# variableの初期化\n",
        "init = tf.global_variables_initializer()"
      ],
      "execution_count": 68,
      "outputs": []
    },
    {
      "cell_type": "code",
      "metadata": {
        "id": "hBQhuRGN-zFD"
      },
      "source": [
        "def example_net(x):\n",
        "    \"\"\"\n",
        "    単純な3層ニューラルネットワーク\n",
        "    \"\"\"\n",
        "    tf.random.set_random_seed(0)\n",
        "    # 重みとバイアスの宣言\n",
        "    weights = {\n",
        "        'w1': tf.Variable(tf.random_normal([n_input, n_hidden1])), # 行列（4 * 50）\n",
        "        'w2': tf.Variable(tf.random_normal([n_hidden1, n_hidden2])), # 行列（50 * 100）\n",
        "        'w3': tf.Variable(tf.random_normal([n_hidden2, n_classes])) # 行列（100 * 3)\n",
        "    }\n",
        "    biases = {\n",
        "        'b1': tf.Variable(tf.random_normal([n_hidden1])), # 第一隠れ層のバイアス\n",
        "        'b2': tf.Variable(tf.random_normal([n_hidden2])), # 第二隠れ層のバイアス\n",
        "        'b3': tf.Variable(tf.random_normal([n_classes])) # 出力層のバイアス\n",
        "    }\n",
        "    layer_1 = tf.add(tf.matmul(x, weights['w1']), biases['b1']) # 第一隠れ層の行列積およびバイアスの加算\n",
        "    layer_1 = tf.nn.relu(layer_1)                               # 活性化関数（relu）の実行\n",
        "    layer_2 = tf.add(tf.matmul(layer_1, weights['w2']), biases['b2']) # 第二隠れ層の行列積およびバイアスの加算\n",
        "    layer_2 = tf.nn.relu(layer_2)                               # 活性化関数（relu）の実行\n",
        "    layer_output = tf.matmul(layer_2, weights['w3']) + biases['b3'] # tf.addと+は等価である　出力層の行列積およびバイアスの加算\n",
        "    return layer_output                                         # 予測値（Yhat）を返す"
      ],
      "execution_count": 69,
      "outputs": []
    },
    {
      "cell_type": "code",
      "metadata": {
        "colab": {
          "base_uri": "https://localhost:8080/",
          "height": 766
        },
        "id": "MzPPYkDH-7PO",
        "outputId": "f86bd4b5-28f0-4354-f5da-e574b9c42ef9"
      },
      "source": [
        "# 計算グラフの実行\n",
        "with tf.Session() as sess: # データを入力して計算ため、Sessionオブジェクトを作成\n",
        "    sess.run(init)\n",
        "    loss_list = []\n",
        "    val_loss_list = []\n",
        "    acc_list = []\n",
        "    val_acc_list = []\n",
        "    for epoch in range(num_epochs):\n",
        "        # エポックごとにループ\n",
        "        total_batch = np.ceil(X_train.shape[0]/batch_size).astype(np.int64) # ミニバッチがバッチサイズ以下は切り捨て\n",
        "        total_loss = 0\n",
        "        total_acc = 0\n",
        "        for i, (mini_batch_x, mini_batch_y) in enumerate(get_mini_batch_train):\n",
        "            # ミニバッチごとにループ\n",
        "            sess.run(train_op, feed_dict={X: mini_batch_x, Y: mini_batch_y}) # ミニバッチで取得した学習データを最適化（勾配降下法適用）する。\n",
        "            loss, acc = sess.run([loss_op, accuracy], feed_dict={X: mini_batch_x, Y: mini_batch_y}) # 学習データにおける損失およびaccuracyを計算する。\n",
        "            total_loss += loss\n",
        "            loss_list.append(loss)\n",
        "            acc_list.append(acc)\n",
        "        total_loss /= n_samples\n",
        "        val_loss, acc = sess.run([loss_op, accuracy], feed_dict={X: X_val, Y: y_val}) # 検証データにおける損失およびaccuracyを計算する。\n",
        "        val_loss_list.append(val_loss)\n",
        "        val_acc_list.append(acc)\n",
        "        print(\"Epoch {}, loss : {:.4f}, val_loss : {:.4f}, acc : {:.3f}\".format(epoch, total_loss, val_loss, acc))\n",
        "    test_acc = sess.run(accuracy, feed_dict={X: X_test, Y: y_test})\n",
        "    print(\"test_acc : {:.3f}\".format(test_acc))\n",
        "\n",
        "    # 学習曲線のグラフ表示\n",
        "    plt.title(\"Curve of study\")\n",
        "    plt.xlabel(\"epoch\")\n",
        "    plt.ylabel(\"Objective Function\")\n",
        "    plt.plot(loss_list, label=\"train\")\n",
        "    plt.plot(val_loss_list, label=\"val\")\n",
        "    plt.legend()\n",
        "    plt.show()\n",
        "\n",
        "    # Accuracyの推移\n",
        "    plt.title(\"Curve of Accuracy\")\n",
        "    plt.xlabel(\"epoch\")\n",
        "    plt.ylabel(\"Objective Function\")\n",
        "    plt.plot(acc_list, label=\"train\")\n",
        "    plt.plot(val_acc_list, label=\"val\")\n",
        "    plt.legend()\n",
        "    plt.show()   "
      ],
      "execution_count": 70,
      "outputs": [
        {
          "output_type": "stream",
          "text": [
            "Epoch 0, loss : 6.5655, val_loss : 35.9178, acc : 0.804\n",
            "Epoch 1, loss : 1.8911, val_loss : 17.9288, acc : 0.813\n",
            "Epoch 2, loss : 0.7754, val_loss : 12.3666, acc : 0.743\n",
            "Epoch 3, loss : 0.3857, val_loss : 8.9478, acc : 0.765\n",
            "Epoch 4, loss : 0.2240, val_loss : 7.0799, acc : 0.795\n",
            "Epoch 5, loss : 0.1392, val_loss : 6.5023, acc : 0.765\n",
            "Epoch 6, loss : 0.0958, val_loss : 6.7349, acc : 0.745\n",
            "Epoch 7, loss : 0.0738, val_loss : 5.9202, acc : 0.774\n",
            "Epoch 8, loss : 0.0545, val_loss : 5.2676, acc : 0.821\n",
            "Epoch 9, loss : 0.0427, val_loss : 6.9753, acc : 0.687\n",
            "test_acc : 0.103\n"
          ],
          "name": "stdout"
        },
        {
          "output_type": "display_data",
          "data": {
            "image/png": "[encoded data removed]",
            "text/plain": [
              "<Figure size 432x288 with 1 Axes>"
            ]
          },
          "metadata": {
            "tags": [],
            "needs_background": "light"
          }
        },
        {
          "output_type": "display_data",
          "data": {
            "image/png": "[encoded data removed]",
            "text/plain": [
              "<Figure size 432x288 with 1 Axes>"
            ]
          },
          "metadata": {
            "tags": [],
            "needs_background": "light"
          }
        }
      ]
    },
    {
      "cell_type": "code",
      "metadata": {
        "id": "lHkVX1Vc_HQV"
      },
      "source": [
        ""
      ],
      "execution_count": 70,
      "outputs": []
    }
  ]
}