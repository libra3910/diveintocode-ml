{
  "nbformat": 4,
  "nbformat_minor": 0,
  "metadata": {
    "colab": {
      "name": "ML2101期_Week1_遠藤伸.ipynb",
      "provenance": [],
      "collapsed_sections": [],
      "authorship_tag": "ABX9TyMMkD0h9zu+rszTgx+ddETU",
      "include_colab_link": true
    },
    "kernelspec": {
      "name": "python3",
      "display_name": "Python 3"
    }
  },
  "cells": [
    {
      "cell_type": "markdown",
      "metadata": {
        "id": "view-in-github",
        "colab_type": "text"
      },
      "source": [
        "<a href=\"https://colab.research.google.com/github/libra3910/diveintocode-ml/blob/master/ML2101%E6%9C%9F_Week1_%E9%81%A0%E8%97%A4%E4%BC%B8.ipynb\" target=\"_parent\"><img src=\"https://colab.research.google.com/assets/colab-badge.svg\" alt=\"Open In Colab\"/></a>"
      ]
    },
    {
      "cell_type": "markdown",
      "metadata": {
        "id": "3ZxpuB6V4muJ"
      },
      "source": [
        "# 【問題1】べき乗の算術演算子を使用して作成"
      ]
    },
    {
      "cell_type": "code",
      "metadata": {
        "colab": {
          "base_uri": "https://localhost:8080/"
        },
        "id": "IYZBp41G4hAa",
        "outputId": "dfc48a3c-9fcf-4db1-81a5-1f4226c8ac65"
      },
      "source": [
        "\"\"\"\r\n",
        "紙を1回折った時の厚さを計算するコード\r\n",
        "\"\"\"\r\n",
        "THICKNESS = 0.00008\r\n",
        "folded_thickness = THICKNESS*2**43\r\n",
        "print(\"厚さ： {}メートル\".format(folded_thickness))"
      ],
      "execution_count": 1,
      "outputs": [
        {
          "output_type": "stream",
          "text": [
            "厚さ： 703687441.77664メートル\n"
          ],
          "name": "stdout"
        }
      ]
    },
    {
      "cell_type": "markdown",
      "metadata": {
        "id": "BogQFRHZ5D6h"
      },
      "source": [
        "# 【問題2】単位の変換\r\n"
      ]
    },
    {
      "cell_type": "code",
      "metadata": {
        "colab": {
          "base_uri": "https://localhost:8080/"
        },
        "id": "XxEBNtXY4zw-",
        "outputId": "2703fb9f-bb2a-4ce1-8c88-825a16dc6f2c"
      },
      "source": [
        "# メートルをキロメートルに変換して小数点以下2桁で表示する\r\n",
        "print(\"厚さ： {:.2f}キロメートル\".format(folded_thickness/1000))"
      ],
      "execution_count": 2,
      "outputs": [
        {
          "output_type": "stream",
          "text": [
            "厚さ： 703687.44キロメートル\n"
          ],
          "name": "stdout"
        }
      ]
    },
    {
      "cell_type": "markdown",
      "metadata": {
        "id": "MsGPcfpk5Zk7"
      },
      "source": [
        "# 【問題3】for文を使用して作成"
      ]
    },
    {
      "cell_type": "code",
      "metadata": {
        "colab": {
          "base_uri": "https://localhost:8080/"
        },
        "id": "4Xdtch4I5QXZ",
        "outputId": "2748735d-e6d6-4b55-a6cb-19ec335f3d6f"
      },
      "source": [
        "THICKNESS = 0.00008\r\n",
        "folded_thickness = THICKNESS\r\n",
        "for i in range(43):\r\n",
        "  folded_thickness *= 2\r\n",
        "print(\"厚さ： {:.2f}キロメートル\".format(folded_thickness/1000))"
      ],
      "execution_count": 3,
      "outputs": [
        {
          "output_type": "stream",
          "text": [
            "厚さ： 703687.44キロメートル\n"
          ],
          "name": "stdout"
        }
      ]
    },
    {
      "cell_type": "markdown",
      "metadata": {
        "id": "i_P-f6ZKafH1"
      },
      "source": [
        "## 【問題4】計算時間の比較"
      ]
    },
    {
      "cell_type": "markdown",
      "metadata": {
        "id": "e_vzNfC2bYQe"
      },
      "source": [
        "べき乗による計算ロジックの実行時間を計測する"
      ]
    },
    {
      "cell_type": "code",
      "metadata": {
        "colab": {
          "base_uri": "https://localhost:8080/"
        },
        "id": "nqHFEN0_6Pbl",
        "outputId": "bcadc155-f5a8-4755-b5d1-b00fb388157a"
      },
      "source": [
        "#%%timeit\r\n",
        "import time\r\n",
        "start = time.time()\r\n",
        "#####\r\n",
        "# べき乗による計算ロジックの実行時間を計測する\r\n",
        "THICKNESS = 0.00008\r\n",
        "folded_thickness = THICKNESS*2**1023\r\n",
        "#####\r\n",
        "elapsed_time = time.time() - start\r\n",
        "print(\"time : {}[s]\".format(elapsed_time))"
      ],
      "execution_count": 4,
      "outputs": [
        {
          "output_type": "stream",
          "text": [
            "time : 7.963180541992188e-05[s]\n"
          ],
          "name": "stdout"
        }
      ]
    },
    {
      "cell_type": "markdown",
      "metadata": {
        "id": "EWL5V29-bhsd"
      },
      "source": [
        "for文を使用して計算した場合の実行時間を計測する"
      ]
    },
    {
      "cell_type": "code",
      "metadata": {
        "colab": {
          "base_uri": "https://localhost:8080/"
        },
        "id": "McfEt-l1a6L-",
        "outputId": "137aa09b-321d-49e9-e2d2-9c115dd62239"
      },
      "source": [
        "#%%timeit\r\n",
        "import time\r\n",
        "start = time.time()\r\n",
        "#####\r\n",
        "# for文を使用して計算した場合の実行時間を計測する\r\n",
        "THICKNESS = 0.00008\r\n",
        "folded_thickness = THICKNESS\r\n",
        "for i in range(1023):\r\n",
        "  folded_thickness *= 2\r\n",
        "#####\r\n",
        "elapsed_time = time.time() - start\r\n",
        "print(\"time : {}[s]\".format(elapsed_time))"
      ],
      "execution_count": 5,
      "outputs": [
        {
          "output_type": "stream",
          "text": [
            "time : 0.00030922889709472656[s]\n"
          ],
          "name": "stdout"
        }
      ]
    },
    {
      "cell_type": "markdown",
      "metadata": {
        "id": "dTdZdy3HzzsN"
      },
      "source": [
        "### ◆実行条件\r\n",
        "　べき乗が1024以上でOverflowErrorが発生するため、べき乗の数およびfor文の繰り返し回数とも1023とした。\r\n",
        "### ◆比較結果\r\n",
        "　べき乗による計算のほうが、for文を使用した計算よりも、2倍～3倍ほど実行時間が短い。\r\n"
      ]
    },
    {
      "cell_type": "markdown",
      "metadata": {
        "id": "Wo_S7Rfpdjrs"
      },
      "source": [
        "# 【問題5】リストへの保存"
      ]
    },
    {
      "cell_type": "code",
      "metadata": {
        "colab": {
          "base_uri": "https://localhost:8080/"
        },
        "id": "0-Pcra6XbHHM",
        "outputId": "286e8421-54b2-464e-d093-6296da1153a1"
      },
      "source": [
        "THICKNESS = 0.00008\r\n",
        "folded_thickness = THICKNESS\r\n",
        "every_folded_thickness = []\r\n",
        "every_folded_thickness.append(folded_thickness)\r\n",
        "for i in range(43):\r\n",
        "  folded_thickness *= 2\r\n",
        "  every_folded_thickness.append(folded_thickness)\r\n",
        "print(\"厚さ： {:.2f}キロメートル\".format(folded_thickness/1000))"
      ],
      "execution_count": 6,
      "outputs": [
        {
          "output_type": "stream",
          "text": [
            "厚さ： 703687.44キロメートル\n"
          ],
          "name": "stdout"
        }
      ]
    },
    {
      "cell_type": "code",
      "metadata": {
        "colab": {
          "base_uri": "https://localhost:8080/"
        },
        "id": "q2EFs3ktePg5",
        "outputId": "3e479ba7-b41a-48d2-bb93-05c8d69603c3"
      },
      "source": [
        "every_folded_thickness"
      ],
      "execution_count": 7,
      "outputs": [
        {
          "output_type": "execute_result",
          "data": {
            "text/plain": [
              "[8e-05,\n",
              " 0.00016,\n",
              " 0.00032,\n",
              " 0.00064,\n",
              " 0.00128,\n",
              " 0.00256,\n",
              " 0.00512,\n",
              " 0.01024,\n",
              " 0.02048,\n",
              " 0.04096,\n",
              " 0.08192,\n",
              " 0.16384,\n",
              " 0.32768,\n",
              " 0.65536,\n",
              " 1.31072,\n",
              " 2.62144,\n",
              " 5.24288,\n",
              " 10.48576,\n",
              " 20.97152,\n",
              " 41.94304,\n",
              " 83.88608,\n",
              " 167.77216,\n",
              " 335.54432,\n",
              " 671.08864,\n",
              " 1342.17728,\n",
              " 2684.35456,\n",
              " 5368.70912,\n",
              " 10737.41824,\n",
              " 21474.83648,\n",
              " 42949.67296,\n",
              " 85899.34592,\n",
              " 171798.69184,\n",
              " 343597.38368,\n",
              " 687194.76736,\n",
              " 1374389.53472,\n",
              " 2748779.06944,\n",
              " 5497558.13888,\n",
              " 10995116.27776,\n",
              " 21990232.55552,\n",
              " 43980465.11104,\n",
              " 87960930.22208,\n",
              " 175921860.44416,\n",
              " 351843720.88832,\n",
              " 703687441.77664]"
            ]
          },
          "metadata": {
            "tags": []
          },
          "execution_count": 7
        }
      ]
    },
    {
      "cell_type": "markdown",
      "metadata": {
        "id": "Rg6Kse7Eej0i"
      },
      "source": [
        "# 【問題6】折れ線グラフの表示"
      ]
    },
    {
      "cell_type": "code",
      "metadata": {
        "colab": {
          "base_uri": "https://localhost:8080/",
          "height": 295
        },
        "id": "pu0ncBFyeTOA",
        "outputId": "17ebc7bd-d36c-4ba8-c297-d2dc8cb6e4b2"
      },
      "source": [
        "\"\"\"\r\n",
        "グラフを表示する。タイトルと軸ラベル名付き。\r\n",
        "\"\"\"\r\n",
        "import matplotlib.pyplot as plt\r\n",
        "%matplotlib inline\r\n",
        "plt.title(\"thickness of folded paper\")\r\n",
        "plt.xlabel(\"number of folds\")\r\n",
        "plt.ylabel(\"thickness[m]\")\r\n",
        "plt.plot(every_folded_thickness) # 「リスト名」のところにリストの変数名を入れる\r\n",
        "plt.show()"
      ],
      "execution_count": 8,
      "outputs": [
        {
          "output_type": "display_data",
          "data": {
            "image/png": "[encoded data removed]",
            "text/plain": [
              "<Figure size 432x288 with 1 Axes>"
            ]
          },
          "metadata": {
            "tags": [],
            "needs_background": "light"
          }
        }
      ]
    },
    {
      "cell_type": "markdown",
      "metadata": {
        "id": "Z0fnuO9EfStU"
      },
      "source": [
        "# 【問題7】グラフのカスタマイズ"
      ]
    },
    {
      "cell_type": "markdown",
      "metadata": {
        "id": "_iZaK5LLx0r_"
      },
      "source": [
        "線の色を緑に変更する。"
      ]
    },
    {
      "cell_type": "code",
      "metadata": {
        "colab": {
          "base_uri": "https://localhost:8080/",
          "height": 295
        },
        "id": "s7oul9A3e2JH",
        "outputId": "ec616d63-53bd-48b4-8a29-0b96f0309c58"
      },
      "source": [
        "\"\"\"\r\n",
        "グラフを表示する。タイトルと軸ラベル名付き。\r\n",
        "\"\"\"\r\n",
        "import matplotlib.pyplot as plt\r\n",
        "%matplotlib inline\r\n",
        "plt.title(\"thickness of folded paper\")\r\n",
        "plt.xlabel(\"number of folds\")\r\n",
        "plt.ylabel(\"thickness[m]\")\r\n",
        "plt.plot(every_folded_thickness, color='green') # 「リスト名」のところにリストの変数名を入れる\r\n",
        "plt.show()"
      ],
      "execution_count": 9,
      "outputs": [
        {
          "output_type": "display_data",
          "data": {
            "image/png": "[encoded data removed]",
            "text/plain": [
              "<Figure size 432x288 with 1 Axes>"
            ]
          },
          "metadata": {
            "tags": [],
            "needs_background": "light"
          }
        }
      ]
    },
    {
      "cell_type": "markdown",
      "metadata": {
        "id": "gJhJUphux-R_"
      },
      "source": [
        "さらに線の太さを、3にする"
      ]
    },
    {
      "cell_type": "code",
      "metadata": {
        "colab": {
          "base_uri": "https://localhost:8080/",
          "height": 295
        },
        "id": "3SE-ZhQcfhw3",
        "outputId": "381cdace-5225-40af-8802-ae5cdf21f023"
      },
      "source": [
        "\"\"\"\r\n",
        "グラフを表示する。タイトルと軸ラベル名付き。\r\n",
        "\"\"\"\r\n",
        "import matplotlib.pyplot as plt\r\n",
        "%matplotlib inline\r\n",
        "plt.title(\"thickness of folded paper\")\r\n",
        "plt.xlabel(\"number of folds\")\r\n",
        "plt.ylabel(\"thickness[m]\")\r\n",
        "plt.plot(every_folded_thickness, color='green', linewidth=3) # 「リスト名」のところにリストの変数名を入れる\r\n",
        "plt.show()"
      ],
      "execution_count": 10,
      "outputs": [
        {
          "output_type": "display_data",
          "data": {
            "image/png": "[encoded data removed]",
            "text/plain": [
              "<Figure size 432x288 with 1 Axes>"
            ]
          },
          "metadata": {
            "tags": [],
            "needs_background": "light"
          }
        }
      ]
    },
    {
      "cell_type": "markdown",
      "metadata": {
        "id": "_NuIoKrmzQMv"
      },
      "source": [
        "さらに、線を破線にする"
      ]
    },
    {
      "cell_type": "code",
      "metadata": {
        "colab": {
          "base_uri": "https://localhost:8080/",
          "height": 295
        },
        "id": "rxp5CosAxc2b",
        "outputId": "704dde38-6a44-4e5f-8ef0-df9e48eea791"
      },
      "source": [
        "\"\"\"\r\n",
        "グラフを表示する。タイトルと軸ラベル名付き。\r\n",
        "\"\"\"\r\n",
        "import matplotlib.pyplot as plt\r\n",
        "%matplotlib inline\r\n",
        "plt.title(\"thickness of folded paper\")\r\n",
        "plt.xlabel(\"number of folds\")\r\n",
        "plt.ylabel(\"thickness[m]\")\r\n",
        "plt.plot(every_folded_thickness, color='green', linewidth=3,linestyle='dashed') # 「リスト名」のところにリストの変数名を入れる\r\n",
        "plt.show()"
      ],
      "execution_count": 11,
      "outputs": [
        {
          "output_type": "display_data",
          "data": {
            "image/png": "[encoded data removed]",
            "text/plain": [
              "<Figure size 432x288 with 1 Axes>"
            ]
          },
          "metadata": {
            "tags": [],
            "needs_background": "light"
          }
        }
      ]
    },
    {
      "cell_type": "markdown",
      "metadata": {
        "id": "Gfldye2vyrxf"
      },
      "source": [
        "さらに、マーカーを円にする"
      ]
    },
    {
      "cell_type": "code",
      "metadata": {
        "colab": {
          "base_uri": "https://localhost:8080/",
          "height": 295
        },
        "id": "Ys23xwJgxoGD",
        "outputId": "18121df6-3a22-4aa7-cd34-e0a80bd8f6b0"
      },
      "source": [
        "\"\"\"\r\n",
        "グラフを表示する。タイトルと軸ラベル名付き。\r\n",
        "\"\"\"\r\n",
        "import matplotlib.pyplot as plt\r\n",
        "%matplotlib inline\r\n",
        "plt.title(\"thickness of folded paper\")\r\n",
        "plt.xlabel(\"number of folds\")\r\n",
        "plt.ylabel(\"thickness[m]\")\r\n",
        "plt.plot(every_folded_thickness, 'o', color='green', linewidth=2,linestyle='dashed') # 「リスト名」のところにリストの変数名を入れる\r\n",
        "plt.show()"
      ],
      "execution_count": 12,
      "outputs": [
        {
          "output_type": "display_data",
          "data": {
            "image/png": "[encoded data removed]",
            "text/plain": [
              "<Figure size 432x288 with 1 Axes>"
            ]
          },
          "metadata": {
            "tags": [],
            "needs_background": "light"
          }
        }
      ]
    }
  ]
}