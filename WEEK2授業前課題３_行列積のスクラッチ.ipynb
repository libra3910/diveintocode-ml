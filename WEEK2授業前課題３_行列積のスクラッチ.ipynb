{
  "nbformat": 4,
  "nbformat_minor": 0,
  "metadata": {
    "kernelspec": {
      "display_name": "Python 3",
      "language": "python",
      "name": "python3"
    },
    "language_info": {
      "codemirror_mode": {
        "name": "ipython",
        "version": 3
      },
      "file_extension": ".py",
      "mimetype": "text/x-python",
      "name": "python",
      "nbconvert_exporter": "python",
      "pygments_lexer": "ipython3",
      "version": "3.8.5"
    },
    "colab": {
      "name": "WEEK2授業前課題３_行列積のスクラッチ.ipynb",
      "provenance": [],
      "include_colab_link": true
    }
  },
  "cells": [
    {
      "cell_type": "markdown",
      "metadata": {
        "id": "view-in-github",
        "colab_type": "text"
      },
      "source": [
        "<a href=\"https://colab.research.google.com/github/libra3910/diveintocode-ml/blob/master/WEEK2%E6%8E%88%E6%A5%AD%E5%89%8D%E8%AA%B2%E9%A1%8C%EF%BC%93_%E8%A1%8C%E5%88%97%E7%A9%8D%E3%81%AE%E3%82%B9%E3%82%AF%E3%83%A9%E3%83%83%E3%83%81.ipynb\" target=\"_parent\"><img src=\"https://colab.research.google.com/assets/colab-badge.svg\" alt=\"Open In Colab\"/></a>"
      ]
    },
    {
      "cell_type": "markdown",
      "metadata": {
        "id": "xs7ZPu2WFBP8"
      },
      "source": [
        "【問題1】行列積を手計算する"
      ]
    },
    {
      "cell_type": "markdown",
      "metadata": {
        "id": "yVDY2TiwFBP-"
      },
      "source": [
        "A = [[([-1,2,3] * [0,0,2]), ([-1,2,3] * [2,2,9]), ([-1,2,3] * [1,-8,-1])],\n",
        "     [([4,-5,6] * [0,0,2]), ([4,-5,6] * [2,2,9]), ([4,-5,6] * [1,-8,-1])],\n",
        "     [([7,8,-9] * [0,0,2]), ([7,8,-9] * [2,2,9]), ([7,8,-9] * [1,-8,-1])]]\n",
        "  \n",
        "  = [[(-1 * 0 + 2 * 0 + 3 * 2), (-1 * 2+ 2 * 2 + 3 * 9), (-1 * 1 + 2 * -8 + 3 * -1)]\n",
        "     [(4 * 0 + -5 * 0 + 6 * 2), (4 * 2 + -5 * 2 + 6 * 9), (4 * 1 + -5 * -8 + 6 * -1)]\n",
        "     [(7 * 0 + 8 * 0 + -9 * 2), (7 * 2 + 8 * 2 + -9 * 9), (7 * 1 + 8 * -8 + -9 * -1)]]\n",
        "  \n",
        "  = [[  6, 29,-20],\n",
        "     [ 12, 52, 38],\n",
        "     [-18,-51,-48]]"
      ]
    },
    {
      "cell_type": "markdown",
      "metadata": {
        "id": "8zi3-pB4FBQA"
      },
      "source": [
        "【問題2】NumPyの関数による計算"
      ]
    },
    {
      "cell_type": "code",
      "metadata": {
        "id": "Gscj637nFBP3",
        "outputId": "932414c7-5afc-4b56-cf0b-524675bd4573"
      },
      "source": [
        "import numpy as np\n",
        "a = np.array([[-1,2,3],[4,-5,6],[7,8,-9]])\n",
        "b = np.array([[0,2,1],[0,2,-8],[2,9,-1]])\n",
        "\n",
        "A = np.matmul(a,b)\n",
        "A"
      ],
      "execution_count": null,
      "outputs": [
        {
          "output_type": "execute_result",
          "data": {
            "text/plain": [
              "array([[  6,  29, -20],\n",
              "       [ 12,  52,  38],\n",
              "       [-18, -51, -48]])"
            ]
          },
          "metadata": {
            "tags": []
          },
          "execution_count": 1
        }
      ]
    },
    {
      "cell_type": "code",
      "metadata": {
        "id": "SdU49vZ-FBP4",
        "outputId": "b8a5eeb3-0537-4315-943d-854bc7c723cf"
      },
      "source": [
        "B = np.dot(a,b)\n",
        "B"
      ],
      "execution_count": null,
      "outputs": [
        {
          "output_type": "execute_result",
          "data": {
            "text/plain": [
              "array([[  6,  29, -20],\n",
              "       [ 12,  52,  38],\n",
              "       [-18, -51, -48]])"
            ]
          },
          "metadata": {
            "tags": []
          },
          "execution_count": 2
        }
      ]
    },
    {
      "cell_type": "code",
      "metadata": {
        "id": "flIv4z5GFBP5",
        "outputId": "b4246de7-559d-4aef-86d5-249a1cb71731"
      },
      "source": [
        "C = a@b\n",
        "C"
      ],
      "execution_count": null,
      "outputs": [
        {
          "output_type": "execute_result",
          "data": {
            "text/plain": [
              "array([[  6,  29, -20],\n",
              "       [ 12,  52,  38],\n",
              "       [-18, -51, -48]])"
            ]
          },
          "metadata": {
            "tags": []
          },
          "execution_count": 3
        }
      ]
    },
    {
      "cell_type": "markdown",
      "metadata": {
        "id": "GWfFsxccFBP5"
      },
      "source": [
        "【問題3】ある要素の計算を実装"
      ]
    },
    {
      "cell_type": "code",
      "metadata": {
        "id": "rKkYS4f8FBP6",
        "outputId": "762f142c-0850-43b5-f85f-dbdc847778d7"
      },
      "source": [
        "n = 3\n",
        "D = []\n",
        "for i in range(n):\n",
        "  for j in range(n):\n",
        "    mid_val = 0\n",
        "    for k in range(n):\n",
        "      mid_val += a[i, k] * b[k, j]\n",
        "    D.append(mid_val)\n",
        "D"
      ],
      "execution_count": null,
      "outputs": [
        {
          "output_type": "execute_result",
          "data": {
            "text/plain": [
              "[6, 29, -20, 12, 52, 38, -18, -51, -48]"
            ]
          },
          "metadata": {
            "tags": []
          },
          "execution_count": 4
        }
      ]
    },
    {
      "cell_type": "markdown",
      "metadata": {
        "id": "IUlO9h3SFBP6"
      },
      "source": [
        "【問題4】行列積を行う関数の作成"
      ]
    },
    {
      "cell_type": "code",
      "metadata": {
        "id": "EfQpm_FBFBP7",
        "outputId": "f66bfdb1-5dcc-4da9-97e3-24f9c5d418e8"
      },
      "source": [
        "def matrix_product(a,b):\n",
        "  n = len(a)\n",
        "  D = []\n",
        "  for i in range(n):\n",
        "    for j in range(n):\n",
        "      mid_val = 0\n",
        "      for k in range(n):\n",
        "        mid_val += a[i, k] * b[k, j]\n",
        "      D.append(mid_val)\n",
        "  return(D)\n",
        "\n",
        "a2 = np.array([[-1,2,3,4],[4,-5,6,7],[7,8,-9,0],[3,5,6,-7]])\n",
        "b2 = np.array([[0,2,1,0],[0,2,-8,6],[2,9,-1,3],[4,5,6,-7]])\n",
        "print(matrix_product(a2,b2))"
      ],
      "execution_count": null,
      "outputs": [
        {
          "output_type": "stream",
          "text": [
            "[22, 49, 4, -7, 40, 87, 80, -61, -18, -51, -48, 21, -16, 35, -85, 97]\n"
          ],
          "name": "stdout"
        }
      ]
    },
    {
      "cell_type": "markdown",
      "metadata": {
        "id": "ZxDy7dJaFBP7"
      },
      "source": [
        "【問題5】計算が定義されない入力を判定する"
      ]
    },
    {
      "cell_type": "code",
      "metadata": {
        "id": "xwB1JP2cFBP7",
        "outputId": "2d31600f-7687-422e-b24d-078a8cc7314c"
      },
      "source": [
        "def matrix_product(a,b):\n",
        "  l = a.shape\n",
        "  m = b.shape\n",
        "  if (l[1] == m[0]):\n",
        "    n = len(a)\n",
        "    D = []\n",
        "    for i in range(n):\n",
        "      for j in range(n):\n",
        "        mid_val = 0\n",
        "        for k in range(n):\n",
        "          mid_val += a[i, k] * b[k, j]\n",
        "        D.append(mid_val)\n",
        "    return(D)\n",
        "  else:\n",
        "      return(\"cannot be multiple: {}×{}\".format(l[1],m[0]))\n",
        "\n",
        "d_ndarray = np.array([[-1, 2, 3], [4, -5, 6]])\n",
        "e_ndarray = np.array([[-9, 8, 7], [6, -5, 4]])\n",
        "print(matrix_product(d_ndarray,e_ndarray))\n",
        "#print(matrix_product(a2,b2))"
      ],
      "execution_count": null,
      "outputs": [
        {
          "output_type": "stream",
          "text": [
            "cannot be multiple: 3×2\n"
          ],
          "name": "stdout"
        }
      ]
    },
    {
      "cell_type": "markdown",
      "metadata": {
        "id": "ng4kYpTJFBP8"
      },
      "source": [
        "【問題6】転置"
      ]
    },
    {
      "cell_type": "code",
      "metadata": {
        "id": "GWZRv454FBP8",
        "outputId": "22bcebb8-c0bf-447f-bbb8-084403cb6969"
      },
      "source": [
        "print(matrix_product(d_ndarray, np.transpose(e_ndarray)))"
      ],
      "execution_count": null,
      "outputs": [
        {
          "output_type": "stream",
          "text": [
            "[25, -16, -76, 49]\n"
          ],
          "name": "stdout"
        }
      ]
    },
    {
      "cell_type": "code",
      "metadata": {
        "id": "IK2fsM6AFBP8",
        "outputId": "b3cfd4a2-1ca8-4d46-a779-216a30cc34bf"
      },
      "source": [
        "print(matrix_product(d_ndarray, e_ndarray.T))"
      ],
      "execution_count": null,
      "outputs": [
        {
          "output_type": "stream",
          "text": [
            "[25, -16, -76, 49]\n"
          ],
          "name": "stdout"
        }
      ]
    },
    {
      "cell_type": "code",
      "metadata": {
        "id": "kMZSZZz5FBP9"
      },
      "source": [
        ""
      ],
      "execution_count": null,
      "outputs": []
    }
  ]
}