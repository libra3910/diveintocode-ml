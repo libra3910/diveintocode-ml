{
  "nbformat": 4,
  "nbformat_minor": 0,
  "metadata": {
    "kernelspec": {
      "display_name": "Python 3",
      "language": "python",
      "name": "python3"
    },
    "language_info": {
      "codemirror_mode": {
        "name": "ipython",
        "version": 3
      },
      "file_extension": ".py",
      "mimetype": "text/x-python",
      "name": "python",
      "nbconvert_exporter": "python",
      "pygments_lexer": "ipython3",
      "version": "3.8.5"
    },
    "colab": {
      "name": "deep_learning_framewrok_2.ipynb",
      "provenance": [],
      "include_colab_link": true
    }
  },
  "cells": [
    {
      "cell_type": "markdown",
      "metadata": {
        "id": "view-in-github",
        "colab_type": "text"
      },
      "source": [
        "<a href=\"https://colab.research.google.com/github/libra3910/diveintocode-ml/blob/master/deep_learning_framewrok_2.ipynb\" target=\"_parent\"><img src=\"https://colab.research.google.com/assets/colab-badge.svg\" alt=\"Open In Colab\"/></a>"
      ]
    },
    {
      "cell_type": "markdown",
      "metadata": {
        "id": "ReBer7NAAfke"
      },
      "source": [
        "# ディープラーニングフレームワーク２"
      ]
    },
    {
      "cell_type": "code",
      "metadata": {
        "id": "AxEfpad5Afkg"
      },
      "source": [
        "from keras.models import Sequential\n",
        "from keras.layers import Dense, Dropout, Input, Flatten\n",
        "from keras.layers import Conv2D, MaxPooling2D, GlobalMaxPooling2D\n",
        "from keras.preprocessing.image import ImageDataGenerator\n",
        "from keras.layers.normalization import BatchNormalization\n",
        "from keras.layers.merge import Concatenate\n",
        "from keras.models import Model\n",
        "from keras.optimizers import Adam\n",
        "from keras.callbacks import ModelCheckpoint, Callback, EarlyStopping\n",
        "\n",
        "import os\n",
        "import numpy as np\n",
        "import pandas as pd\n",
        "import matplotlib.pyplot as plt"
      ],
      "execution_count": null,
      "outputs": []
    },
    {
      "cell_type": "markdown",
      "metadata": {
        "id": "9pXlfhM-Afki"
      },
      "source": [
        "## 【問題3】Iris（2値分類）をKerasで学習"
      ]
    },
    {
      "cell_type": "code",
      "metadata": {
        "id": "BGKSs73ZAfki"
      },
      "source": [
        "from sklearn.datasets import load_iris\n",
        "data = load_iris()\n",
        "\n",
        "x = pd.DataFrame(data = data.data[:100,], columns=['sepal_length', 'sepal_width', 'petal_length', 'petal_width'])\n",
        "\n",
        "y = pd.DataFrame(data = data.target[:100,], columns=['spacies'])\n",
        "\n",
        "# NumPy 配列に変換\n",
        "X = np.array(x)\n",
        "y = np.array(y)\n",
        "\n",
        "from sklearn.model_selection import train_test_split\n",
        "# trainとtestに分割\n",
        "X_train, X_test, y_train, y_test = train_test_split(X, y, test_size=0.2, random_state=0)\n",
        "\n",
        "# さらにtrainとvalに分割\n",
        "X_train, X_val, y_train, y_val = train_test_split(X_train, y_train, test_size=0.2, random_state=0)"
      ],
      "execution_count": null,
      "outputs": []
    },
    {
      "cell_type": "code",
      "metadata": {
        "id": "r3l8IGNAAfkj",
        "outputId": "19034925-6cef-4c84-f9bf-5c2b12913604"
      },
      "source": [
        "# ハイパーパラメタの設定\n",
        "batch_size = 10\n",
        "epochs = 15\n",
        "inputs= Input(shape=(4,))\n",
        "\n",
        "# モデルの定義\n",
        "x = Dense(128, activation='relu', input_shape = (X_train.shape[1],))(inputs)\n",
        "x = Dense(64, activation='relu', input_shape = (128,))(x)\n",
        "x = Dense(32, activation='relu', input_shape = (64,))(x)\n",
        "predictions = Dense(1, activation='sigmoid', input_shape = (32,))(x)\n",
        "\n",
        "# モデルの呼び出し\n",
        "model = Model(inputs=inputs, outputs=predictions) \n",
        "\n",
        "# モデルのコンパイル\n",
        "model.compile(optimizer='Adam',\n",
        "              loss='binary_crossentropy',\n",
        "              metrics=['accuracy'] )\n",
        "\n",
        "# 学習および検証\n",
        "model.fit(X_train, y_train, epochs=30, batch_size=30, validation_data = (X_val, y_val))"
      ],
      "execution_count": null,
      "outputs": [
        {
          "output_type": "stream",
          "text": [
            "Epoch 1/30\n",
            "3/3 [==============================] - 1s 211ms/step - loss: 0.6799 - accuracy: 0.5115 - val_loss: 0.6486 - val_accuracy: 0.3750\n",
            "Epoch 2/30\n",
            "3/3 [==============================] - 0s 25ms/step - loss: 0.5646 - accuracy: 0.5531 - val_loss: 0.5555 - val_accuracy: 1.0000\n",
            "Epoch 3/30\n",
            "3/3 [==============================] - 0s 26ms/step - loss: 0.5171 - accuracy: 1.0000 - val_loss: 0.4961 - val_accuracy: 1.0000\n",
            "Epoch 4/30\n",
            "3/3 [==============================] - 0s 24ms/step - loss: 0.4867 - accuracy: 1.0000 - val_loss: 0.4485 - val_accuracy: 1.0000\n",
            "Epoch 5/30\n",
            "3/3 [==============================] - 0s 24ms/step - loss: 0.4421 - accuracy: 1.0000 - val_loss: 0.4088 - val_accuracy: 1.0000\n",
            "Epoch 6/30\n",
            "3/3 [==============================] - 0s 25ms/step - loss: 0.4020 - accuracy: 1.0000 - val_loss: 0.3752 - val_accuracy: 1.0000\n",
            "Epoch 7/30\n",
            "3/3 [==============================] - 0s 24ms/step - loss: 0.3678 - accuracy: 1.0000 - val_loss: 0.3467 - val_accuracy: 1.0000\n",
            "Epoch 8/30\n",
            "3/3 [==============================] - 0s 24ms/step - loss: 0.3222 - accuracy: 1.0000 - val_loss: 0.3136 - val_accuracy: 1.0000\n",
            "Epoch 9/30\n",
            "3/3 [==============================] - 0s 24ms/step - loss: 0.2974 - accuracy: 1.0000 - val_loss: 0.2668 - val_accuracy: 1.0000\n",
            "Epoch 10/30\n",
            "3/3 [==============================] - 0s 23ms/step - loss: 0.2520 - accuracy: 1.0000 - val_loss: 0.2225 - val_accuracy: 1.0000\n",
            "Epoch 11/30\n",
            "3/3 [==============================] - 0s 25ms/step - loss: 0.2210 - accuracy: 1.0000 - val_loss: 0.1822 - val_accuracy: 1.0000\n",
            "Epoch 12/30\n",
            "3/3 [==============================] - 0s 31ms/step - loss: 0.1799 - accuracy: 1.0000 - val_loss: 0.1507 - val_accuracy: 1.0000\n",
            "Epoch 13/30\n",
            "3/3 [==============================] - 0s 25ms/step - loss: 0.1525 - accuracy: 1.0000 - val_loss: 0.1258 - val_accuracy: 1.0000\n",
            "Epoch 14/30\n",
            "3/3 [==============================] - 0s 25ms/step - loss: 0.1310 - accuracy: 1.0000 - val_loss: 0.1030 - val_accuracy: 1.0000\n",
            "Epoch 15/30\n",
            "3/3 [==============================] - 0s 25ms/step - loss: 0.1072 - accuracy: 1.0000 - val_loss: 0.0848 - val_accuracy: 1.0000\n",
            "Epoch 16/30\n",
            "3/3 [==============================] - 0s 26ms/step - loss: 0.0877 - accuracy: 1.0000 - val_loss: 0.0686 - val_accuracy: 1.0000\n",
            "Epoch 17/30\n",
            "3/3 [==============================] - 0s 25ms/step - loss: 0.0714 - accuracy: 1.0000 - val_loss: 0.0566 - val_accuracy: 1.0000\n",
            "Epoch 18/30\n",
            "3/3 [==============================] - 0s 23ms/step - loss: 0.0634 - accuracy: 1.0000 - val_loss: 0.0463 - val_accuracy: 1.0000\n",
            "Epoch 19/30\n",
            "3/3 [==============================] - 0s 24ms/step - loss: 0.0536 - accuracy: 1.0000 - val_loss: 0.0375 - val_accuracy: 1.0000\n",
            "Epoch 20/30\n",
            "3/3 [==============================] - 0s 29ms/step - loss: 0.0443 - accuracy: 1.0000 - val_loss: 0.0308 - val_accuracy: 1.0000\n",
            "Epoch 21/30\n",
            "3/3 [==============================] - 0s 27ms/step - loss: 0.0366 - accuracy: 1.0000 - val_loss: 0.0257 - val_accuracy: 1.0000\n",
            "Epoch 22/30\n",
            "3/3 [==============================] - 0s 28ms/step - loss: 0.0297 - accuracy: 1.0000 - val_loss: 0.0214 - val_accuracy: 1.0000\n",
            "Epoch 23/30\n",
            "3/3 [==============================] - 0s 26ms/step - loss: 0.0260 - accuracy: 1.0000 - val_loss: 0.0178 - val_accuracy: 1.0000\n",
            "Epoch 24/30\n",
            "3/3 [==============================] - 0s 25ms/step - loss: 0.0230 - accuracy: 1.0000 - val_loss: 0.0151 - val_accuracy: 1.0000\n",
            "Epoch 25/30\n",
            "3/3 [==============================] - 0s 26ms/step - loss: 0.0193 - accuracy: 1.0000 - val_loss: 0.0130 - val_accuracy: 1.0000\n",
            "Epoch 26/30\n",
            "3/3 [==============================] - 0s 24ms/step - loss: 0.0176 - accuracy: 1.0000 - val_loss: 0.0112 - val_accuracy: 1.0000\n",
            "Epoch 27/30\n",
            "3/3 [==============================] - 0s 26ms/step - loss: 0.0150 - accuracy: 1.0000 - val_loss: 0.0096 - val_accuracy: 1.0000\n",
            "Epoch 28/30\n",
            "3/3 [==============================] - 0s 26ms/step - loss: 0.0138 - accuracy: 1.0000 - val_loss: 0.0083 - val_accuracy: 1.0000\n",
            "Epoch 29/30\n",
            "3/3 [==============================] - 0s 25ms/step - loss: 0.0121 - accuracy: 1.0000 - val_loss: 0.0072 - val_accuracy: 1.0000\n",
            "Epoch 30/30\n",
            "3/3 [==============================] - 0s 26ms/step - loss: 0.0102 - accuracy: 1.0000 - val_loss: 0.0062 - val_accuracy: 1.0000\n"
          ],
          "name": "stdout"
        },
        {
          "output_type": "execute_result",
          "data": {
            "text/plain": [
              "<tensorflow.python.keras.callbacks.History at 0x2738e9d55e0>"
            ]
          },
          "metadata": {
            "tags": []
          },
          "execution_count": 36
        }
      ]
    },
    {
      "cell_type": "markdown",
      "metadata": {
        "id": "YPVmvYn0Afkk"
      },
      "source": [
        "## 【問題4】Iris（多値分類）をKerasで学習"
      ]
    },
    {
      "cell_type": "code",
      "metadata": {
        "id": "tlHFOwpgAfkk"
      },
      "source": [
        "from sklearn.preprocessing import OneHotEncoder\n",
        "from sklearn.datasets import load_iris\n",
        "data = load_iris()\n",
        "\n",
        "x = pd.DataFrame(data = data.data[:150,], columns=['sepal_length', 'sepal_width', 'petal_length', 'petal_width'])\n",
        "y = pd.DataFrame(data = data.target[:150,], columns=['spacies'])\n",
        "\n",
        "# NumPy 配列に変換\n",
        "X = np.array(x)\n",
        "y = np.array(y)\n",
        "enc = OneHotEncoder(handle_unknown='ignore', sparse=False)\n",
        "y = enc.fit_transform(y)\n",
        "\n",
        "from sklearn.model_selection import train_test_split\n",
        "# trainとtestに分割\n",
        "X_train, X_test, y_train, y_test = train_test_split(X, y, test_size=0.2, random_state=0)\n",
        "\n",
        "# さらにtrainとvalに分割\n",
        "X_train, X_val, y_train, y_val = train_test_split(X_train, y_train, test_size=0.2, random_state=0)"
      ],
      "execution_count": null,
      "outputs": []
    },
    {
      "cell_type": "code",
      "metadata": {
        "collapsed": true,
        "id": "VaPAV-QSAfkl",
        "outputId": "e40ffc90-850d-49d9-bb9e-0a554d9ec8c4"
      },
      "source": [
        "y_train"
      ],
      "execution_count": null,
      "outputs": [
        {
          "output_type": "execute_result",
          "data": {
            "text/plain": [
              "array([[0., 1., 0.],\n",
              "       [1., 0., 0.],\n",
              "       [0., 0., 1.],\n",
              "       [1., 0., 0.],\n",
              "       [0., 0., 1.],\n",
              "       [0., 0., 1.],\n",
              "       [0., 1., 0.],\n",
              "       [1., 0., 0.],\n",
              "       [0., 0., 1.],\n",
              "       [1., 0., 0.],\n",
              "       [0., 0., 1.],\n",
              "       [0., 0., 1.],\n",
              "       [1., 0., 0.],\n",
              "       [1., 0., 0.],\n",
              "       [0., 0., 1.],\n",
              "       [0., 0., 1.],\n",
              "       [1., 0., 0.],\n",
              "       [0., 0., 1.],\n",
              "       [1., 0., 0.],\n",
              "       [1., 0., 0.],\n",
              "       [0., 0., 1.],\n",
              "       [0., 0., 1.],\n",
              "       [0., 1., 0.],\n",
              "       [1., 0., 0.],\n",
              "       [0., 0., 1.],\n",
              "       [1., 0., 0.],\n",
              "       [0., 0., 1.],\n",
              "       [0., 1., 0.],\n",
              "       [0., 0., 1.],\n",
              "       [0., 1., 0.],\n",
              "       [0., 0., 1.],\n",
              "       [1., 0., 0.],\n",
              "       [0., 1., 0.],\n",
              "       [0., 0., 1.],\n",
              "       [0., 1., 0.],\n",
              "       [0., 0., 1.],\n",
              "       [1., 0., 0.],\n",
              "       [0., 0., 1.],\n",
              "       [1., 0., 0.],\n",
              "       [0., 1., 0.],\n",
              "       [0., 0., 1.],\n",
              "       [0., 1., 0.],\n",
              "       [1., 0., 0.],\n",
              "       [0., 0., 1.],\n",
              "       [0., 1., 0.],\n",
              "       [0., 1., 0.],\n",
              "       [0., 0., 1.],\n",
              "       [0., 1., 0.],\n",
              "       [0., 1., 0.],\n",
              "       [1., 0., 0.],\n",
              "       [0., 1., 0.],\n",
              "       [1., 0., 0.],\n",
              "       [1., 0., 0.],\n",
              "       [0., 1., 0.],\n",
              "       [0., 0., 1.],\n",
              "       [0., 0., 1.],\n",
              "       [1., 0., 0.],\n",
              "       [0., 1., 0.],\n",
              "       [0., 0., 1.],\n",
              "       [0., 0., 1.],\n",
              "       [0., 1., 0.],\n",
              "       [0., 1., 0.],\n",
              "       [0., 0., 1.],\n",
              "       [0., 0., 1.],\n",
              "       [0., 1., 0.],\n",
              "       [1., 0., 0.],\n",
              "       [1., 0., 0.],\n",
              "       [0., 1., 0.],\n",
              "       [0., 1., 0.],\n",
              "       [0., 1., 0.],\n",
              "       [1., 0., 0.],\n",
              "       [0., 0., 1.],\n",
              "       [0., 0., 1.],\n",
              "       [1., 0., 0.],\n",
              "       [0., 1., 0.],\n",
              "       [0., 0., 1.],\n",
              "       [1., 0., 0.],\n",
              "       [1., 0., 0.],\n",
              "       [0., 0., 1.],\n",
              "       [1., 0., 0.],\n",
              "       [0., 0., 1.],\n",
              "       [0., 0., 1.],\n",
              "       [1., 0., 0.],\n",
              "       [1., 0., 0.],\n",
              "       [0., 1., 0.],\n",
              "       [0., 1., 0.],\n",
              "       [0., 0., 1.],\n",
              "       [1., 0., 0.],\n",
              "       [0., 1., 0.],\n",
              "       [0., 1., 0.],\n",
              "       [1., 0., 0.],\n",
              "       [1., 0., 0.],\n",
              "       [0., 0., 1.],\n",
              "       [0., 1., 0.],\n",
              "       [0., 1., 0.],\n",
              "       [0., 1., 0.]])"
            ]
          },
          "metadata": {
            "tags": []
          },
          "execution_count": 30
        }
      ]
    },
    {
      "cell_type": "code",
      "metadata": {
        "id": "K7KX37VZAfkl",
        "outputId": "22331371-b14d-4540-984e-b63ec3b2ed1a"
      },
      "source": [
        "# ハイパーパラメタの設定\n",
        "batch_size = 10\n",
        "epochs = 15\n",
        "inputs= Input(shape=(4,))\n",
        "\n",
        "# モデルの定義\n",
        "x = Dense(128, activation='relu', input_shape = (X_train.shape[1],))(inputs)\n",
        "x = Dense(64, activation='relu', input_shape = (128,))(x)\n",
        "x = Dense(32, activation='relu', input_shape = (64,))(x)\n",
        "predictions = Dense(3, activation='softmax', input_shape = (32,))(x) # 多項目分類のため、活性化関数はsoftmaxを選択\n",
        "\n",
        "# モデルの呼び出し\n",
        "model = Model(inputs=inputs, outputs=predictions) \n",
        "\n",
        "# モデルのコンパイル\n",
        "model.compile(optimizer='Adam',\n",
        "              loss='categorical_crossentropy',\n",
        "              metrics=['accuracy'] )\n",
        "\n",
        "# 学習および検証\n",
        "model.fit(X_train, y_train, epochs=30, batch_size=30, validation_data = (X_val, y_val))"
      ],
      "execution_count": null,
      "outputs": [
        {
          "output_type": "stream",
          "text": [
            "Epoch 1/30\n",
            "4/4 [==============================] - 1s 135ms/step - loss: 1.2492 - accuracy: 0.3394 - val_loss: 1.0470 - val_accuracy: 0.3333\n",
            "Epoch 2/30\n",
            "4/4 [==============================] - 0s 22ms/step - loss: 1.0563 - accuracy: 0.1925 - val_loss: 0.9694 - val_accuracy: 0.5000\n",
            "Epoch 3/30\n",
            "4/4 [==============================] - 0s 21ms/step - loss: 0.9844 - accuracy: 0.3942 - val_loss: 0.8903 - val_accuracy: 0.7083\n",
            "Epoch 4/30\n",
            "4/4 [==============================] - 0s 19ms/step - loss: 0.9045 - accuracy: 0.6664 - val_loss: 0.8300 - val_accuracy: 0.7083\n",
            "Epoch 5/30\n",
            "4/4 [==============================] - 0s 18ms/step - loss: 0.8243 - accuracy: 0.6972 - val_loss: 0.7738 - val_accuracy: 0.7083\n",
            "Epoch 6/30\n",
            "4/4 [==============================] - 0s 17ms/step - loss: 0.7816 - accuracy: 0.6794 - val_loss: 0.7251 - val_accuracy: 0.7083\n",
            "Epoch 7/30\n",
            "4/4 [==============================] - 0s 17ms/step - loss: 0.7235 - accuracy: 0.7006 - val_loss: 0.6757 - val_accuracy: 0.7083\n",
            "Epoch 8/30\n",
            "4/4 [==============================] - 0s 17ms/step - loss: 0.6818 - accuracy: 0.6794 - val_loss: 0.6424 - val_accuracy: 0.7083\n",
            "Epoch 9/30\n",
            "4/4 [==============================] - 0s 17ms/step - loss: 0.6325 - accuracy: 0.6861 - val_loss: 0.5936 - val_accuracy: 0.7083\n",
            "Epoch 10/30\n",
            "4/4 [==============================] - 0s 16ms/step - loss: 0.5803 - accuracy: 0.7481 - val_loss: 0.5612 - val_accuracy: 0.8333\n",
            "Epoch 11/30\n",
            "4/4 [==============================] - 0s 16ms/step - loss: 0.5423 - accuracy: 0.8889 - val_loss: 0.5277 - val_accuracy: 0.8750\n",
            "Epoch 12/30\n",
            "4/4 [==============================] - 0s 17ms/step - loss: 0.5159 - accuracy: 0.9056 - val_loss: 0.4964 - val_accuracy: 0.7083\n",
            "Epoch 13/30\n",
            "4/4 [==============================] - 0s 19ms/step - loss: 0.4967 - accuracy: 0.7403 - val_loss: 0.4809 - val_accuracy: 0.7083\n",
            "Epoch 14/30\n",
            "4/4 [==============================] - 0s 16ms/step - loss: 0.4269 - accuracy: 0.7633 - val_loss: 0.4436 - val_accuracy: 0.9167\n",
            "Epoch 15/30\n",
            "4/4 [==============================] - 0s 16ms/step - loss: 0.4515 - accuracy: 0.9347 - val_loss: 0.4306 - val_accuracy: 0.9167\n",
            "Epoch 16/30\n",
            "4/4 [==============================] - 0s 16ms/step - loss: 0.4024 - accuracy: 0.9272 - val_loss: 0.4238 - val_accuracy: 0.7083\n",
            "Epoch 17/30\n",
            "4/4 [==============================] - 0s 17ms/step - loss: 0.3785 - accuracy: 0.7972 - val_loss: 0.3999 - val_accuracy: 0.7917\n",
            "Epoch 18/30\n",
            "4/4 [==============================] - 0s 16ms/step - loss: 0.3774 - accuracy: 0.8956 - val_loss: 0.3835 - val_accuracy: 0.9167\n",
            "Epoch 19/30\n",
            "4/4 [==============================] - 0s 18ms/step - loss: 0.3353 - accuracy: 0.9872 - val_loss: 0.3667 - val_accuracy: 0.9167\n",
            "Epoch 20/30\n",
            "4/4 [==============================] - 0s 18ms/step - loss: 0.3333 - accuracy: 0.9231 - val_loss: 0.3563 - val_accuracy: 0.9167\n",
            "Epoch 21/30\n",
            "4/4 [==============================] - 0s 17ms/step - loss: 0.3138 - accuracy: 0.9839 - val_loss: 0.3530 - val_accuracy: 0.9583\n",
            "Epoch 22/30\n",
            "4/4 [==============================] - 0s 19ms/step - loss: 0.3016 - accuracy: 0.9772 - val_loss: 0.3385 - val_accuracy: 0.9167\n",
            "Epoch 23/30\n",
            "4/4 [==============================] - 0s 18ms/step - loss: 0.2957 - accuracy: 0.9150 - val_loss: 0.3441 - val_accuracy: 0.8333\n",
            "Epoch 24/30\n",
            "4/4 [==============================] - 0s 18ms/step - loss: 0.2807 - accuracy: 0.9347 - val_loss: 0.3206 - val_accuracy: 0.9167\n",
            "Epoch 25/30\n",
            "4/4 [==============================] - 0s 17ms/step - loss: 0.2553 - accuracy: 0.9806 - val_loss: 0.3114 - val_accuracy: 0.9167\n",
            "Epoch 26/30\n",
            "4/4 [==============================] - 0s 17ms/step - loss: 0.2625 - accuracy: 0.9644 - val_loss: 0.3131 - val_accuracy: 0.9167\n",
            "Epoch 27/30\n",
            "4/4 [==============================] - 0s 16ms/step - loss: 0.2633 - accuracy: 0.9247 - val_loss: 0.3037 - val_accuracy: 0.9583\n",
            "Epoch 28/30\n",
            "4/4 [==============================] - 0s 16ms/step - loss: 0.2322 - accuracy: 0.9675 - val_loss: 0.2894 - val_accuracy: 0.9167\n",
            "Epoch 29/30\n",
            "4/4 [==============================] - 0s 15ms/step - loss: 0.2256 - accuracy: 0.9797 - val_loss: 0.2902 - val_accuracy: 0.9167\n",
            "Epoch 30/30\n",
            "4/4 [==============================] - 0s 18ms/step - loss: 0.1985 - accuracy: 0.9731 - val_loss: 0.2805 - val_accuracy: 0.9583\n"
          ],
          "name": "stdout"
        },
        {
          "output_type": "execute_result",
          "data": {
            "text/plain": [
              "<tensorflow.python.keras.callbacks.History at 0x2738e178940>"
            ]
          },
          "metadata": {
            "tags": []
          },
          "execution_count": 33
        }
      ]
    },
    {
      "cell_type": "markdown",
      "metadata": {
        "id": "sMRnbA1wAfkm"
      },
      "source": [
        "## 【問題5】House PricesをKerasで学習"
      ]
    },
    {
      "cell_type": "code",
      "metadata": {
        "id": "Sr6HhVngAfkm"
      },
      "source": [
        "import pandas as pd\n",
        "\n",
        "DATA_DIR='C:/Users/es/Documents/Python Scripts/1.Jan/Week4/'\n",
        "data = pd.read_csv(f'{DATA_DIR}train.csv')\n",
        "\n",
        "X = data.loc[:,['GrLivArea','YearBuilt']]\n",
        "y = data.loc[:,['SalePrice']]"
      ],
      "execution_count": null,
      "outputs": []
    },
    {
      "cell_type": "code",
      "metadata": {
        "id": "uuctNO8jAfkm",
        "outputId": "b3b0db81-91b6-4543-f90d-2467d718d814"
      },
      "source": [
        "X.isnull().sum()"
      ],
      "execution_count": null,
      "outputs": [
        {
          "output_type": "execute_result",
          "data": {
            "text/plain": [
              "GrLivArea    0\n",
              "YearBuilt    0\n",
              "dtype: int64"
            ]
          },
          "metadata": {
            "tags": []
          },
          "execution_count": 39
        }
      ]
    },
    {
      "cell_type": "code",
      "metadata": {
        "id": "pRHBpyncAfkm",
        "outputId": "597ca02d-68d0-4812-adb4-034a64177cd9"
      },
      "source": [
        "y.isnull().sum()"
      ],
      "execution_count": null,
      "outputs": [
        {
          "output_type": "execute_result",
          "data": {
            "text/plain": [
              "SalePrice    0\n",
              "dtype: int64"
            ]
          },
          "metadata": {
            "tags": []
          },
          "execution_count": 40
        }
      ]
    },
    {
      "cell_type": "code",
      "metadata": {
        "id": "A5Pbfw3HAfkn"
      },
      "source": [
        "from sklearn.model_selection import train_test_split\n",
        "X_train, X_test, y_train, y_test = train_test_split(X, y, test_size = 0.25, random_state = 43)\n",
        "\n",
        "from sklearn.preprocessing import StandardScaler\n",
        "scaler = StandardScaler()\n",
        "scaler.fit(X_train, X_test)\n",
        "X_train_std = scaler.transform(X_train)\n",
        "X_test_std = scaler.transform(X_test)"
      ],
      "execution_count": null,
      "outputs": []
    },
    {
      "cell_type": "code",
      "metadata": {
        "id": "yoQb1TDHAfkn",
        "outputId": "b7fbce79-1c4f-4224-a272-5897d8b0cc36"
      },
      "source": [
        "# ハイパーパラメタの設定\n",
        "batch_size = 10\n",
        "epochs = 15\n",
        "inputs= Input(shape=(2,))\n",
        "\n",
        "# モデルの定義\n",
        "x = Dense(128, activation='relu', input_shape = (X_train_std.shape[1],))(inputs)\n",
        "x = Dense(64, activation='relu', input_shape = (128,))(x)\n",
        "x = Dense(32, activation='relu', input_shape = (64,))(x)\n",
        "predictions = Dense(1, activation='relu', input_shape = (32,))(x) # 多項目分類のため、活性化関数はsoftmaxを選択\n",
        "\n",
        "# モデルの呼び出し\n",
        "model = Model(inputs=inputs, outputs=predictions) \n",
        "\n",
        "# モデルのコンパイル\n",
        "model.compile(optimizer='Adam',\n",
        "              loss='mean_squared_error'\n",
        "             )\n",
        "\n",
        "# 学習および検証\n",
        "model.fit(X_train_std, y_train, epochs=30, batch_size=30, validation_data = (X_test_std, y_test))"
      ],
      "execution_count": null,
      "outputs": [
        {
          "output_type": "stream",
          "text": [
            "Epoch 1/30\n",
            "37/37 [==============================] - 1s 7ms/step - loss: 39551446501.0526 - val_loss: 40217100288.0000\n",
            "Epoch 2/30\n",
            "37/37 [==============================] - 0s 3ms/step - loss: 37526877237.8947 - val_loss: 40207708160.0000\n",
            "Epoch 3/30\n",
            "37/37 [==============================] - 0s 3ms/step - loss: 39027540506.9474 - val_loss: 40164995072.0000\n",
            "Epoch 4/30\n",
            "37/37 [==============================] - 0s 3ms/step - loss: 36820852035.3684 - val_loss: 40029413376.0000\n",
            "Epoch 5/30\n",
            "37/37 [==============================] - 0s 3ms/step - loss: 36834788190.3158 - val_loss: 39699726336.0000\n",
            "Epoch 6/30\n",
            "37/37 [==============================] - 0s 3ms/step - loss: 38442373982.3158 - val_loss: 39028072448.0000\n",
            "Epoch 7/30\n",
            "37/37 [==============================] - 0s 2ms/step - loss: 37905823258.9474 - val_loss: 37849255936.0000\n",
            "Epoch 8/30\n",
            "37/37 [==============================] - 0s 2ms/step - loss: 36114511009.6842 - val_loss: 35985412096.0000\n",
            "Epoch 9/30\n",
            "37/37 [==============================] - 0s 2ms/step - loss: 36174261679.1579 - val_loss: 33225859072.0000\n",
            "Epoch 10/30\n",
            "37/37 [==============================] - 0s 2ms/step - loss: 31382308378.9474 - val_loss: 29575114752.0000\n",
            "Epoch 11/30\n",
            "37/37 [==============================] - 0s 2ms/step - loss: 27475348695.5789 - val_loss: 25055062016.0000\n",
            "Epoch 12/30\n",
            "37/37 [==============================] - 0s 3ms/step - loss: 22819461874.5263 - val_loss: 19917645824.0000\n",
            "Epoch 13/30\n",
            "37/37 [==============================] - 0s 3ms/step - loss: 18206383508.2105 - val_loss: 14705254400.0000\n",
            "Epoch 14/30\n",
            "37/37 [==============================] - 0s 3ms/step - loss: 12720841539.3684 - val_loss: 10126886912.0000\n",
            "Epoch 15/30\n",
            "37/37 [==============================] - 0s 3ms/step - loss: 9029728053.8947 - val_loss: 6514795008.0000\n",
            "Epoch 16/30\n",
            "37/37 [==============================] - 0s 2ms/step - loss: 5532690324.2105 - val_loss: 4335451136.0000\n",
            "Epoch 17/30\n",
            "37/37 [==============================] - 0s 2ms/step - loss: 3567153111.5789 - val_loss: 3232319488.0000\n",
            "Epoch 18/30\n",
            "37/37 [==============================] - 0s 3ms/step - loss: 3313936592.8421 - val_loss: 2810290944.0000\n",
            "Epoch 19/30\n",
            "37/37 [==============================] - 0s 3ms/step - loss: 2445937970.5263 - val_loss: 2653374720.0000\n",
            "Epoch 20/30\n",
            "37/37 [==============================] - 0s 3ms/step - loss: 2615189096.4211 - val_loss: 2595977472.0000\n",
            "Epoch 21/30\n",
            "37/37 [==============================] - 0s 3ms/step - loss: 1990804759.5789 - val_loss: 2575813632.0000\n",
            "Epoch 22/30\n",
            "37/37 [==============================] - 0s 3ms/step - loss: 1918907247.1579 - val_loss: 2544772864.0000\n",
            "Epoch 23/30\n",
            "37/37 [==============================] - 0s 3ms/step - loss: 1904494238.3158 - val_loss: 2526425856.0000\n",
            "Epoch 24/30\n",
            "37/37 [==============================] - 0s 2ms/step - loss: 2353515853.4737 - val_loss: 2499003136.0000\n",
            "Epoch 25/30\n",
            "37/37 [==============================] - 0s 3ms/step - loss: 2310703865.2632 - val_loss: 2479435264.0000\n",
            "Epoch 26/30\n",
            "37/37 [==============================] - 0s 3ms/step - loss: 2568558073.2632 - val_loss: 2468870656.0000\n",
            "Epoch 27/30\n",
            "37/37 [==============================] - 0s 2ms/step - loss: 2149430972.6316 - val_loss: 2450608896.0000\n",
            "Epoch 28/30\n",
            "37/37 [==============================] - 0s 2ms/step - loss: 2553736660.2105 - val_loss: 2437574912.0000\n",
            "Epoch 29/30\n",
            "37/37 [==============================] - 0s 2ms/step - loss: 2580028405.8947 - val_loss: 2425428736.0000\n",
            "Epoch 30/30\n",
            "37/37 [==============================] - 0s 2ms/step - loss: 1952500688.8421 - val_loss: 2412952320.0000\n"
          ],
          "name": "stdout"
        },
        {
          "output_type": "execute_result",
          "data": {
            "text/plain": [
              "<tensorflow.python.keras.callbacks.History at 0x27392d741c0>"
            ]
          },
          "metadata": {
            "tags": []
          },
          "execution_count": 55
        }
      ]
    },
    {
      "cell_type": "markdown",
      "metadata": {
        "id": "E_ugid4LAfkn"
      },
      "source": [
        "## 【問題6】MNISTをKerasで学習"
      ]
    },
    {
      "cell_type": "code",
      "metadata": {
        "id": "WjjOnvNmAfko",
        "outputId": "655f98b8-9c87-4a1f-b734-30df1cd5da28"
      },
      "source": [
        "# データセットをダウンロードするコード\n",
        "from keras.datasets import mnist\n",
        "(X_train, y_train), (X_test, y_test) = mnist.load_data()\n",
        "\n",
        "# データセットの確認\n",
        "print(X_train.shape) # (60000, 28, 28)\n",
        "print(X_test.shape) # (10000, 28, 28)\n",
        "print(y_train.shape) # (60000,)\n",
        "print(y_test.shape) # (10000,)"
      ],
      "execution_count": null,
      "outputs": [
        {
          "output_type": "stream",
          "text": [
            "(60000, 28, 28)\n",
            "(10000, 28, 28)\n",
            "(60000,)\n",
            "(10000,)\n"
          ],
          "name": "stdout"
        }
      ]
    },
    {
      "cell_type": "code",
      "metadata": {
        "id": "yYpodvcOAfko",
        "outputId": "61e70d34-7080-4aa0-c8d9-2f9228d1fc58"
      },
      "source": [
        "# 画像データの可視化\n",
        "import matplotlib.pyplot as plt\n",
        "%matplotlib inline\n",
        "index = 2\n",
        "image = X_train[index].reshape(28,28)\n",
        "# X_train[index]: (784,)\n",
        "# image: (28, 28)\n",
        "plt.imshow(image, 'gray')\n",
        "plt.title('label : {}'.format(y_train[index]))\n",
        "plt.show()"
      ],
      "execution_count": null,
      "outputs": [
        {
          "output_type": "display_data",
          "data": {
            "image/png": "[encoded data removed]",
            "text/plain": [
              "<Figure size 432x288 with 1 Axes>"
            ]
          },
          "metadata": {
            "tags": [],
            "needs_background": "light"
          }
        }
      ]
    },
    {
      "cell_type": "code",
      "metadata": {
        "id": "GLaOw62XAfko",
        "outputId": "e234d18f-05af-4de5-d4c7-7ce08e36690f"
      },
      "source": [
        "# 前処理\n",
        "X_train = X_train.astype(np.float)\n",
        "X_test = X_test.astype(np.float)\n",
        "X_train /= 255\n",
        "X_test /= 255\n",
        "print(X_train.max()) # 1.0\n",
        "print(X_train.min()) # 0.0"
      ],
      "execution_count": null,
      "outputs": [
        {
          "output_type": "stream",
          "text": [
            "1.0\n",
            "0.0\n"
          ],
          "name": "stdout"
        }
      ]
    },
    {
      "cell_type": "code",
      "metadata": {
        "id": "1GyFo0vaAfkp",
        "outputId": "0e88d42b-b5e8-4185-845b-cdaba5804002"
      },
      "source": [
        "y_train_one_hot = (y_train.reshape(-1,1) == np.arange(10)).astype(np.float64)\n",
        "y_test_one_hot = (y_test.reshape(-1,1) == np.arange(10)).astype(np.float64)\n",
        "print(y_train.shape)\n",
        "print(y_train_one_hot.shape)\n",
        "print(y_train_one_hot.dtype)"
      ],
      "execution_count": null,
      "outputs": [
        {
          "output_type": "stream",
          "text": [
            "(60000,)\n",
            "(60000, 10)\n",
            "float64\n"
          ],
          "name": "stdout"
        }
      ]
    },
    {
      "cell_type": "code",
      "metadata": {
        "id": "fp5Qdkk1Afkp",
        "outputId": "838740c3-225f-4638-a12f-7cc6ac637d0c"
      },
      "source": [
        "y_train_one_hot"
      ],
      "execution_count": null,
      "outputs": [
        {
          "output_type": "execute_result",
          "data": {
            "text/plain": [
              "array([[0., 0., 0., ..., 0., 0., 0.],\n",
              "       [1., 0., 0., ..., 0., 0., 0.],\n",
              "       [0., 0., 0., ..., 0., 0., 0.],\n",
              "       ...,\n",
              "       [0., 0., 0., ..., 0., 0., 0.],\n",
              "       [0., 0., 0., ..., 0., 0., 0.],\n",
              "       [0., 0., 0., ..., 0., 1., 0.]])"
            ]
          },
          "metadata": {
            "tags": []
          },
          "execution_count": 188
        }
      ]
    },
    {
      "cell_type": "code",
      "metadata": {
        "id": "T5W2okLuAfkp",
        "outputId": "81f8241a-c7f8-4211-9286-d3087e15537d"
      },
      "source": [
        "def split_data(X, permutation, val_size_rate=0.2):\n",
        "    X = X[permutation]\n",
        "    val_size = int(len(X) * val_size_rate)\n",
        "    val = X[:val_size]\n",
        "    train = X[val_size:]\n",
        "    return train, val\n",
        "\n",
        "permutation = np.random.permutation(np.arange(len(X_train)))\n",
        "X_train, X_val = split_data(X_train, permutation)\n",
        "X_train = X_train[:, :, :, np.newaxis]\n",
        "X_val = X_val[:, :, :, np.newaxis]\n",
        "y_train, y_val = split_data(y_train_one_hot, permutation)\n",
        "print(X_train.shape)\n",
        "print(y_train.shape)\n",
        "print(X_val.shape)\n",
        "print(y_val.shape)"
      ],
      "execution_count": null,
      "outputs": [
        {
          "output_type": "stream",
          "text": [
            "(48000, 28, 28, 1)\n",
            "(48000, 10)\n",
            "(12000, 28, 28, 1)\n",
            "(12000, 10)\n"
          ],
          "name": "stdout"
        }
      ]
    },
    {
      "cell_type": "code",
      "metadata": {
        "id": "Wch1kXjhAfkq",
        "outputId": "1b559362-867c-4d0f-bf69-83c749ca1c48"
      },
      "source": [
        "# ハイパーパラメタの設定\n",
        "num_classes = 10\n",
        "batch_size = 10\n",
        "epochs = 15\n",
        "bn_model = 0\n",
        "p_activation = 'relu'\n",
        "input_1 = Input(shape=(28, 28, 1))\n",
        "\n",
        "# モデルの定義\n",
        "img_1 = Conv2D(32, kernel_size=(3, 3), activation=p_activation)(input_1)\n",
        "img_1 = Conv2D(64, kernel_size=(3, 3), activation=p_activation)(img_1)\n",
        "img_1 = MaxPooling2D((2, 2))(img_1)\n",
        "img_1 = Dropout(0.25)(img_1)\n",
        "\n",
        "img_1 = Conv2D(32, kernel_size=(3, 3), activation=p_activation)(img_1)\n",
        "img_1 = Conv2D(32, kernel_size=(3, 3), activation=p_activation)(img_1)\n",
        "img_1 = MaxPooling2D((2, 2))(img_1)\n",
        "img_1 = Dropout(0.25)(img_1)\n",
        "\n",
        "x = Flatten()(img_1)\n",
        "x = Dense(128, activation='relu', input_shape = (32,))(x)\n",
        "x = Dense(64, activation='relu', input_shape = (128,))(x)\n",
        "x = Dense(32, activation='relu', input_shape = (64,))(x)\n",
        "predictions = Dense(num_classes, activation='softmax', input_shape = (32,))(x) # 多項目分類のため、活性化関数はsoftmaxを選択\n",
        "\n",
        "# モデルの呼び出し\n",
        "model = Model(input_1, predictions) \n",
        "\n",
        "# モデルのコンパイル\n",
        "optimizer = Adam(lr=0.001, beta_1=0.9, beta_2=0.999, epsilon=1e-08, decay=0.0)\n",
        "model.compile(loss=\"categorical_crossentropy\", optimizer=optimizer, metrics=[\"accuracy\"])\n",
        "\n",
        "# 学習および検証\n",
        "model.fit(X_train, y_train, epochs=30, validation_split=0.2, validation_data = (X_val, y_val))"
      ],
      "execution_count": null,
      "outputs": [
        {
          "output_type": "stream",
          "text": [
            "Epoch 1/30\n",
            "1200/1200 [==============================] - 94s 77ms/step - loss: 0.5462 - accuracy: 0.8191 - val_loss: 0.0677 - val_accuracy: 0.9798\n",
            "Epoch 2/30\n",
            "1200/1200 [==============================] - 82s 68ms/step - loss: 0.0789 - accuracy: 0.9752 - val_loss: 0.0662 - val_accuracy: 0.9775\n",
            "Epoch 3/30\n",
            "1200/1200 [==============================] - 76s 64ms/step - loss: 0.0577 - accuracy: 0.9819 - val_loss: 0.0367 - val_accuracy: 0.9882\n",
            "Epoch 4/30\n",
            "1200/1200 [==============================] - 78s 65ms/step - loss: 0.0460 - accuracy: 0.9858 - val_loss: 0.0327 - val_accuracy: 0.9900\n",
            "Epoch 5/30\n",
            "1200/1200 [==============================] - 79s 66ms/step - loss: 0.0386 - accuracy: 0.9877 - val_loss: 0.0353 - val_accuracy: 0.9880\n",
            "Epoch 6/30\n",
            "1200/1200 [==============================] - 79s 66ms/step - loss: 0.0363 - accuracy: 0.9883 - val_loss: 0.0316 - val_accuracy: 0.9893\n",
            "Epoch 7/30\n",
            "1200/1200 [==============================] - 79s 66ms/step - loss: 0.0317 - accuracy: 0.9901 - val_loss: 0.0294 - val_accuracy: 0.9909\n",
            "Epoch 8/30\n",
            "1200/1200 [==============================] - 79s 66ms/step - loss: 0.0317 - accuracy: 0.9906 - val_loss: 0.0353 - val_accuracy: 0.9890\n",
            "Epoch 9/30\n",
            "1200/1200 [==============================] - 79s 66ms/step - loss: 0.0259 - accuracy: 0.9916 - val_loss: 0.0300 - val_accuracy: 0.9910\n",
            "Epoch 10/30\n",
            "1200/1200 [==============================] - 80s 66ms/step - loss: 0.0236 - accuracy: 0.9927 - val_loss: 0.0365 - val_accuracy: 0.9885\n",
            "Epoch 11/30\n",
            "1200/1200 [==============================] - 80s 67ms/step - loss: 0.0233 - accuracy: 0.9924 - val_loss: 0.0303 - val_accuracy: 0.9905\n",
            "Epoch 12/30\n",
            "1200/1200 [==============================] - 79s 66ms/step - loss: 0.0217 - accuracy: 0.9936 - val_loss: 0.0304 - val_accuracy: 0.9916\n",
            "Epoch 13/30\n",
            "1200/1200 [==============================] - 79s 66ms/step - loss: 0.0187 - accuracy: 0.9946 - val_loss: 0.0296 - val_accuracy: 0.9916\n",
            "Epoch 14/30\n",
            "1200/1200 [==============================] - 80s 67ms/step - loss: 0.0174 - accuracy: 0.9946 - val_loss: 0.0314 - val_accuracy: 0.9909\n",
            "Epoch 15/30\n",
            "1200/1200 [==============================] - 80s 66ms/step - loss: 0.0176 - accuracy: 0.9951 - val_loss: 0.0323 - val_accuracy: 0.9909\n",
            "Epoch 16/30\n",
            "1200/1200 [==============================] - 79s 66ms/step - loss: 0.0211 - accuracy: 0.9935 - val_loss: 0.0304 - val_accuracy: 0.9918\n",
            "Epoch 17/30\n",
            "1200/1200 [==============================] - 80s 67ms/step - loss: 0.0155 - accuracy: 0.9955 - val_loss: 0.0289 - val_accuracy: 0.9916\n",
            "Epoch 18/30\n",
            "1200/1200 [==============================] - 80s 67ms/step - loss: 0.0182 - accuracy: 0.9947 - val_loss: 0.0407 - val_accuracy: 0.9909\n",
            "Epoch 19/30\n",
            "1200/1200 [==============================] - 81s 67ms/step - loss: 0.0187 - accuracy: 0.9950 - val_loss: 0.0265 - val_accuracy: 0.9923\n",
            "Epoch 20/30\n",
            "1200/1200 [==============================] - 80s 67ms/step - loss: 0.0113 - accuracy: 0.9964 - val_loss: 0.0321 - val_accuracy: 0.9914\n",
            "Epoch 21/30\n",
            "1200/1200 [==============================] - 84s 70ms/step - loss: 0.0162 - accuracy: 0.9952 - val_loss: 0.0392 - val_accuracy: 0.9904\n",
            "Epoch 22/30\n",
            "1200/1200 [==============================] - 82s 69ms/step - loss: 0.0167 - accuracy: 0.9955 - val_loss: 0.0405 - val_accuracy: 0.9890\n",
            "Epoch 23/30\n",
            "1200/1200 [==============================] - 82s 69ms/step - loss: 0.0122 - accuracy: 0.9965 - val_loss: 0.0371 - val_accuracy: 0.9912\n",
            "Epoch 24/30\n",
            "1200/1200 [==============================] - 83s 69ms/step - loss: 0.0152 - accuracy: 0.9956 - val_loss: 0.0286 - val_accuracy: 0.9928\n",
            "Epoch 25/30\n",
            "1200/1200 [==============================] - 82s 68ms/step - loss: 0.0147 - accuracy: 0.9954 - val_loss: 0.0434 - val_accuracy: 0.9909\n",
            "Epoch 26/30\n",
            "1200/1200 [==============================] - 79s 66ms/step - loss: 0.0178 - accuracy: 0.9943 - val_loss: 0.0307 - val_accuracy: 0.9927\n",
            "Epoch 27/30\n",
            "1200/1200 [==============================] - 81s 67ms/step - loss: 0.0131 - accuracy: 0.9960 - val_loss: 0.0383 - val_accuracy: 0.9914\n",
            "Epoch 28/30\n",
            "1200/1200 [==============================] - 82s 68ms/step - loss: 0.0118 - accuracy: 0.9970 - val_loss: 0.0301 - val_accuracy: 0.9921\n",
            "Epoch 29/30\n",
            "1200/1200 [==============================] - 77s 64ms/step - loss: 0.0103 - accuracy: 0.9965 - val_loss: 0.0382 - val_accuracy: 0.9900\n",
            "Epoch 30/30\n",
            "1200/1200 [==============================] - 76s 63ms/step - loss: 0.0133 - accuracy: 0.9964 - val_loss: 0.0316 - val_accuracy: 0.9915oss: 0.0133 - accuracy\n"
          ],
          "name": "stdout"
        },
        {
          "output_type": "execute_result",
          "data": {
            "text/plain": [
              "<tensorflow.python.keras.callbacks.History at 0x273918664c0>"
            ]
          },
          "metadata": {
            "tags": []
          },
          "execution_count": 197
        }
      ]
    },
    {
      "cell_type": "code",
      "metadata": {
        "id": "g-PXy0-tAfkq"
      },
      "source": [
        ""
      ],
      "execution_count": null,
      "outputs": []
    }
  ]
}