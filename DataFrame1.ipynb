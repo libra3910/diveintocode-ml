{
  "nbformat": 4,
  "nbformat_minor": 0,
  "metadata": {
    "colab": {
      "name": "DataFrame1.ipynb",
      "provenance": [],
      "collapsed_sections": [],
      "mount_file_id": "1RjUpuApiz55ejQaCKjG0knscY1qr3hwL",
      "authorship_tag": "ABX9TyOkYEk5i1xLKUSgBve4AHpg",
      "include_colab_link": true
    },
    "kernelspec": {
      "name": "python3",
      "display_name": "Python 3"
    },
    "language_info": {
      "name": "python"
    }
  },
  "cells": [
    {
      "cell_type": "markdown",
      "metadata": {
        "id": "view-in-github",
        "colab_type": "text"
      },
      "source": [
        "<a href=\"https://colab.research.google.com/github/libra3910/diveintocode-ml/blob/master/DataFrame1.ipynb\" target=\"_parent\"><img src=\"https://colab.research.google.com/assets/colab-badge.svg\" alt=\"Open In Colab\"/></a>"
      ]
    },
    {
      "cell_type": "code",
      "metadata": {
        "colab": {
          "base_uri": "https://localhost:8080/"
        },
        "id": "06OxjWs6nLvw",
        "outputId": "b8e4b4f8-39e1-4449-cf20-58c572bfc47f"
      },
      "source": [
        "!pip install tensorflow==1.15.0"
      ],
      "execution_count": 2,
      "outputs": [
        {
          "output_type": "stream",
          "text": [
            "Collecting tensorflow==1.15.0\n",
            "\u001b[?25l  Downloading https://files.pythonhosted.org/packages/92/2b/e3af15221da9ff323521565fa3324b0d7c7c5b1d7a8ca66984c8d59cb0ce/tensorflow-1.15.0-cp37-cp37m-manylinux2010_x86_64.whl (412.3MB)\n",
            "\u001b[K     |████████████████████████████████| 412.3MB 34kB/s \n",
            "\u001b[?25hRequirement already satisfied: opt-einsum>=2.3.2 in /usr/local/lib/python3.7/dist-packages (from tensorflow==1.15.0) (3.3.0)\n",
            "Requirement already satisfied: protobuf>=3.6.1 in /usr/local/lib/python3.7/dist-packages (from tensorflow==1.15.0) (3.12.4)\n",
            "Requirement already satisfied: termcolor>=1.1.0 in /usr/local/lib/python3.7/dist-packages (from tensorflow==1.15.0) (1.1.0)\n",
            "Requirement already satisfied: grpcio>=1.8.6 in /usr/local/lib/python3.7/dist-packages (from tensorflow==1.15.0) (1.32.0)\n",
            "Collecting tensorboard<1.16.0,>=1.15.0\n",
            "\u001b[?25l  Downloading https://files.pythonhosted.org/packages/1e/e9/d3d747a97f7188f48aa5eda486907f3b345cd409f0a0850468ba867db246/tensorboard-1.15.0-py3-none-any.whl (3.8MB)\n",
            "\u001b[K     |████████████████████████████████| 3.8MB 29.5MB/s \n",
            "\u001b[?25hCollecting tensorflow-estimator==1.15.1\n",
            "\u001b[?25l  Downloading https://files.pythonhosted.org/packages/de/62/2ee9cd74c9fa2fa450877847ba560b260f5d0fb70ee0595203082dafcc9d/tensorflow_estimator-1.15.1-py2.py3-none-any.whl (503kB)\n",
            "\u001b[K     |████████████████████████████████| 512kB 26.9MB/s \n",
            "\u001b[?25hRequirement already satisfied: astor>=0.6.0 in /usr/local/lib/python3.7/dist-packages (from tensorflow==1.15.0) (0.8.1)\n",
            "Collecting keras-applications>=1.0.8\n",
            "\u001b[?25l  Downloading https://files.pythonhosted.org/packages/71/e3/19762fdfc62877ae9102edf6342d71b28fbfd9dea3d2f96a882ce099b03f/Keras_Applications-1.0.8-py3-none-any.whl (50kB)\n",
            "\u001b[K     |████████████████████████████████| 51kB 4.1MB/s \n",
            "\u001b[?25hRequirement already satisfied: six>=1.10.0 in /usr/local/lib/python3.7/dist-packages (from tensorflow==1.15.0) (1.15.0)\n",
            "Requirement already satisfied: absl-py>=0.7.0 in /usr/local/lib/python3.7/dist-packages (from tensorflow==1.15.0) (0.12.0)\n",
            "Requirement already satisfied: wrapt>=1.11.1 in /usr/local/lib/python3.7/dist-packages (from tensorflow==1.15.0) (1.12.1)\n",
            "Requirement already satisfied: wheel>=0.26 in /usr/local/lib/python3.7/dist-packages (from tensorflow==1.15.0) (0.36.2)\n",
            "Collecting gast==0.2.2\n",
            "  Downloading https://files.pythonhosted.org/packages/4e/35/11749bf99b2d4e3cceb4d55ca22590b0d7c2c62b9de38ac4a4a7f4687421/gast-0.2.2.tar.gz\n",
            "Requirement already satisfied: numpy<2.0,>=1.16.0 in /usr/local/lib/python3.7/dist-packages (from tensorflow==1.15.0) (1.19.5)\n",
            "Requirement already satisfied: keras-preprocessing>=1.0.5 in /usr/local/lib/python3.7/dist-packages (from tensorflow==1.15.0) (1.1.2)\n",
            "Requirement already satisfied: google-pasta>=0.1.6 in /usr/local/lib/python3.7/dist-packages (from tensorflow==1.15.0) (0.2.0)\n",
            "Requirement already satisfied: setuptools in /usr/local/lib/python3.7/dist-packages (from protobuf>=3.6.1->tensorflow==1.15.0) (54.2.0)\n",
            "Requirement already satisfied: werkzeug>=0.11.15 in /usr/local/lib/python3.7/dist-packages (from tensorboard<1.16.0,>=1.15.0->tensorflow==1.15.0) (1.0.1)\n",
            "Requirement already satisfied: markdown>=2.6.8 in /usr/local/lib/python3.7/dist-packages (from tensorboard<1.16.0,>=1.15.0->tensorflow==1.15.0) (3.3.4)\n",
            "Requirement already satisfied: h5py in /usr/local/lib/python3.7/dist-packages (from keras-applications>=1.0.8->tensorflow==1.15.0) (2.10.0)\n",
            "Requirement already satisfied: importlib-metadata; python_version < \"3.8\" in /usr/local/lib/python3.7/dist-packages (from markdown>=2.6.8->tensorboard<1.16.0,>=1.15.0->tensorflow==1.15.0) (3.8.1)\n",
            "Requirement already satisfied: typing-extensions>=3.6.4; python_version < \"3.8\" in /usr/local/lib/python3.7/dist-packages (from importlib-metadata; python_version < \"3.8\"->markdown>=2.6.8->tensorboard<1.16.0,>=1.15.0->tensorflow==1.15.0) (3.7.4.3)\n",
            "Requirement already satisfied: zipp>=0.5 in /usr/local/lib/python3.7/dist-packages (from importlib-metadata; python_version < \"3.8\"->markdown>=2.6.8->tensorboard<1.16.0,>=1.15.0->tensorflow==1.15.0) (3.4.1)\n",
            "Building wheels for collected packages: gast\n",
            "  Building wheel for gast (setup.py) ... \u001b[?25l\u001b[?25hdone\n",
            "  Created wheel for gast: filename=gast-0.2.2-cp37-none-any.whl size=7540 sha256=fbdb8d9ac9bf1c7c42a717379084c874ecce78e97c6f02699349b988ac8a472a\n",
            "  Stored in directory: /root/.cache/pip/wheels/5c/2e/7e/a1d4d4fcebe6c381f378ce7743a3ced3699feb89bcfbdadadd\n",
            "Successfully built gast\n",
            "\u001b[31mERROR: tensorflow-probability 0.12.1 has requirement gast>=0.3.2, but you'll have gast 0.2.2 which is incompatible.\u001b[0m\n",
            "Installing collected packages: tensorboard, tensorflow-estimator, keras-applications, gast, tensorflow\n",
            "  Found existing installation: tensorboard 2.4.1\n",
            "    Uninstalling tensorboard-2.4.1:\n",
            "      Successfully uninstalled tensorboard-2.4.1\n",
            "  Found existing installation: tensorflow-estimator 2.4.0\n",
            "    Uninstalling tensorflow-estimator-2.4.0:\n",
            "      Successfully uninstalled tensorflow-estimator-2.4.0\n",
            "  Found existing installation: gast 0.3.3\n",
            "    Uninstalling gast-0.3.3:\n",
            "      Successfully uninstalled gast-0.3.3\n",
            "  Found existing installation: tensorflow 2.4.1\n",
            "    Uninstalling tensorflow-2.4.1:\n",
            "      Successfully uninstalled tensorflow-2.4.1\n",
            "Successfully installed gast-0.2.2 keras-applications-1.0.8 tensorboard-1.15.0 tensorflow-1.15.0 tensorflow-estimator-1.15.1\n"
          ],
          "name": "stdout"
        }
      ]
    },
    {
      "cell_type": "code",
      "metadata": {
        "colab": {
          "base_uri": "https://localhost:8080/"
        },
        "id": "gVjeesgLnOUd",
        "outputId": "dd7fa9f8-c8ac-40b2-ec0b-551f4ac19246"
      },
      "source": [
        "!pip install keras==2.2.4"
      ],
      "execution_count": 3,
      "outputs": [
        {
          "output_type": "stream",
          "text": [
            "Collecting keras==2.2.4\n",
            "\u001b[?25l  Downloading https://files.pythonhosted.org/packages/5e/10/aa32dad071ce52b5502266b5c659451cfd6ffcbf14e6c8c4f16c0ff5aaab/Keras-2.2.4-py2.py3-none-any.whl (312kB)\n",
            "\r\u001b[K     |█                               | 10kB 13.6MB/s eta 0:00:01\r\u001b[K     |██                              | 20kB 10.0MB/s eta 0:00:01\r\u001b[K     |███▏                            | 30kB 7.3MB/s eta 0:00:01\r\u001b[K     |████▏                           | 40kB 7.4MB/s eta 0:00:01\r\u001b[K     |█████▎                          | 51kB 4.3MB/s eta 0:00:01\r\u001b[K     |██████▎                         | 61kB 5.0MB/s eta 0:00:01\r\u001b[K     |███████▍                        | 71kB 5.1MB/s eta 0:00:01\r\u001b[K     |████████▍                       | 81kB 5.4MB/s eta 0:00:01\r\u001b[K     |█████████▍                      | 92kB 5.3MB/s eta 0:00:01\r\u001b[K     |██████████▌                     | 102kB 4.4MB/s eta 0:00:01\r\u001b[K     |███████████▌                    | 112kB 4.4MB/s eta 0:00:01\r\u001b[K     |████████████▋                   | 122kB 4.4MB/s eta 0:00:01\r\u001b[K     |█████████████▋                  | 133kB 4.4MB/s eta 0:00:01\r\u001b[K     |██████████████▊                 | 143kB 4.4MB/s eta 0:00:01\r\u001b[K     |███████████████▊                | 153kB 4.4MB/s eta 0:00:01\r\u001b[K     |████████████████▊               | 163kB 4.4MB/s eta 0:00:01\r\u001b[K     |█████████████████▉              | 174kB 4.4MB/s eta 0:00:01\r\u001b[K     |██████████████████▉             | 184kB 4.4MB/s eta 0:00:01\r\u001b[K     |████████████████████            | 194kB 4.4MB/s eta 0:00:01\r\u001b[K     |█████████████████████           | 204kB 4.4MB/s eta 0:00:01\r\u001b[K     |██████████████████████          | 215kB 4.4MB/s eta 0:00:01\r\u001b[K     |███████████████████████         | 225kB 4.4MB/s eta 0:00:01\r\u001b[K     |████████████████████████▏       | 235kB 4.4MB/s eta 0:00:01\r\u001b[K     |█████████████████████████▏      | 245kB 4.4MB/s eta 0:00:01\r\u001b[K     |██████████████████████████▏     | 256kB 4.4MB/s eta 0:00:01\r\u001b[K     |███████████████████████████▎    | 266kB 4.4MB/s eta 0:00:01\r\u001b[K     |████████████████████████████▎   | 276kB 4.4MB/s eta 0:00:01\r\u001b[K     |█████████████████████████████▍  | 286kB 4.4MB/s eta 0:00:01\r\u001b[K     |██████████████████████████████▍ | 296kB 4.4MB/s eta 0:00:01\r\u001b[K     |███████████████████████████████▌| 307kB 4.4MB/s eta 0:00:01\r\u001b[K     |████████████████████████████████| 317kB 4.4MB/s \n",
            "\u001b[?25hRequirement already satisfied: h5py in /usr/local/lib/python3.7/dist-packages (from keras==2.2.4) (2.10.0)\n",
            "Requirement already satisfied: six>=1.9.0 in /usr/local/lib/python3.7/dist-packages (from keras==2.2.4) (1.15.0)\n",
            "Requirement already satisfied: keras-preprocessing>=1.0.5 in /usr/local/lib/python3.7/dist-packages (from keras==2.2.4) (1.1.2)\n",
            "Requirement already satisfied: pyyaml in /usr/local/lib/python3.7/dist-packages (from keras==2.2.4) (3.13)\n",
            "Requirement already satisfied: keras-applications>=1.0.6 in /usr/local/lib/python3.7/dist-packages (from keras==2.2.4) (1.0.8)\n",
            "Requirement already satisfied: numpy>=1.9.1 in /usr/local/lib/python3.7/dist-packages (from keras==2.2.4) (1.19.5)\n",
            "Requirement already satisfied: scipy>=0.14 in /usr/local/lib/python3.7/dist-packages (from keras==2.2.4) (1.4.1)\n",
            "Installing collected packages: keras\n",
            "  Found existing installation: Keras 2.4.3\n",
            "    Uninstalling Keras-2.4.3:\n",
            "      Successfully uninstalled Keras-2.4.3\n",
            "Successfully installed keras-2.2.4\n"
          ],
          "name": "stdout"
        }
      ]
    },
    {
      "cell_type": "code",
      "metadata": {
        "id": "3U9_-z-gnyEz"
      },
      "source": [
        "import tensorflow"
      ],
      "execution_count": 4,
      "outputs": []
    },
    {
      "cell_type": "code",
      "metadata": {
        "colab": {
          "base_uri": "https://localhost:8080/",
          "height": 35
        },
        "id": "YPOfN7uhn8_G",
        "outputId": "4c7f8d34-2316-4c38-c10d-e7ea3acea02d"
      },
      "source": [
        "tensorflow.__version__"
      ],
      "execution_count": 5,
      "outputs": [
        {
          "output_type": "execute_result",
          "data": {
            "application/vnd.google.colaboratory.intrinsic+json": {
              "type": "string"
            },
            "text/plain": [
              "'1.15.0'"
            ]
          },
          "metadata": {
            "tags": []
          },
          "execution_count": 5
        }
      ]
    },
    {
      "cell_type": "code",
      "metadata": {
        "colab": {
          "base_uri": "https://localhost:8080/"
        },
        "id": "yEhzgLQloAKt",
        "outputId": "a36d5794-f5bf-4578-e104-612cfaaf1297"
      },
      "source": [
        "# カレントディレクトリの変更\n",
        "\n",
        "import os\n",
        "\n",
        "os.chdir('/content/drive/MyDrive/unet')\n",
        "\n",
        "# カレントディレクトリの取得\n",
        "print(os.getcwd())"
      ],
      "execution_count": 7,
      "outputs": [
        {
          "output_type": "stream",
          "text": [
            "/content/drive/MyDrive/unet\n"
          ],
          "name": "stdout"
        }
      ]
    },
    {
      "cell_type": "code",
      "metadata": {
        "colab": {
          "base_uri": "https://localhost:8080/"
        },
        "id": "mkx3fCMN8TSG",
        "outputId": "825b0ece-2353-4a74-ff92-cbe87e744940"
      },
      "source": [
        "!python main.py"
      ],
      "execution_count": 8,
      "outputs": [
        {
          "output_type": "stream",
          "text": [
            "Using TensorFlow backend.\n",
            "WARNING:tensorflow:From /usr/local/lib/python3.7/dist-packages/keras/backend/tensorflow_backend.py:74: The name tf.get_default_graph is deprecated. Please use tf.compat.v1.get_default_graph instead.\n",
            "\n",
            "WARNING:tensorflow:From /usr/local/lib/python3.7/dist-packages/keras/backend/tensorflow_backend.py:517: The name tf.placeholder is deprecated. Please use tf.compat.v1.placeholder instead.\n",
            "\n",
            "WARNING:tensorflow:From /usr/local/lib/python3.7/dist-packages/keras/backend/tensorflow_backend.py:4185: The name tf.truncated_normal is deprecated. Please use tf.random.truncated_normal instead.\n",
            "\n",
            "WARNING:tensorflow:From /usr/local/lib/python3.7/dist-packages/keras/backend/tensorflow_backend.py:3976: The name tf.nn.max_pool is deprecated. Please use tf.nn.max_pool2d instead.\n",
            "\n",
            "WARNING:tensorflow:From /usr/local/lib/python3.7/dist-packages/keras/backend/tensorflow_backend.py:133: The name tf.placeholder_with_default is deprecated. Please use tf.compat.v1.placeholder_with_default instead.\n",
            "\n",
            "WARNING:tensorflow:From /usr/local/lib/python3.7/dist-packages/keras/backend/tensorflow_backend.py:3445: calling dropout (from tensorflow.python.ops.nn_ops) with keep_prob is deprecated and will be removed in a future version.\n",
            "Instructions for updating:\n",
            "Please use `rate` instead of `keep_prob`. Rate should be set to `rate = 1 - keep_prob`.\n",
            "WARNING:tensorflow:From /usr/local/lib/python3.7/dist-packages/keras/backend/tensorflow_backend.py:2018: The name tf.image.resize_nearest_neighbor is deprecated. Please use tf.compat.v1.image.resize_nearest_neighbor instead.\n",
            "\n",
            "WARNING:tensorflow:From /usr/local/lib/python3.7/dist-packages/keras/backend/tensorflow_backend.py:4138: The name tf.random_uniform is deprecated. Please use tf.random.uniform instead.\n",
            "\n",
            "/content/drive/My Drive/unet/model.py:55: UserWarning: Update your `Model` call to the Keras 2 API: `Model(inputs=Tensor(\"in..., outputs=Tensor(\"co...)`\n",
            "  model = Model(input = inputs, output = conv10)\n",
            "WARNING:tensorflow:From /usr/local/lib/python3.7/dist-packages/keras/optimizers.py:790: The name tf.train.Optimizer is deprecated. Please use tf.compat.v1.train.Optimizer instead.\n",
            "\n",
            "WARNING:tensorflow:From /usr/local/lib/python3.7/dist-packages/keras/backend/tensorflow_backend.py:3376: The name tf.log is deprecated. Please use tf.math.log instead.\n",
            "\n",
            "WARNING:tensorflow:From /usr/local/lib/python3.7/dist-packages/tensorflow_core/python/ops/nn_impl.py:183: where (from tensorflow.python.ops.array_ops) is deprecated and will be removed in a future version.\n",
            "Instructions for updating:\n",
            "Use tf.where in 2.0, which has the same broadcast rule as np.where\n",
            "WARNING:tensorflow:From /usr/local/lib/python3.7/dist-packages/keras/backend/tensorflow_backend.py:986: The name tf.assign_add is deprecated. Please use tf.compat.v1.assign_add instead.\n",
            "\n",
            "WARNING:tensorflow:From /usr/local/lib/python3.7/dist-packages/keras/backend/tensorflow_backend.py:973: The name tf.assign is deprecated. Please use tf.compat.v1.assign instead.\n",
            "\n",
            "WARNING:tensorflow:From /usr/local/lib/python3.7/dist-packages/keras/backend/tensorflow_backend.py:2741: The name tf.Session is deprecated. Please use tf.compat.v1.Session instead.\n",
            "\n",
            "Epoch 1/5\n",
            "Found 4000 images belonging to 1 classes.\n",
            "Found 4000 images belonging to 1 classes.\n",
            "WARNING:tensorflow:From /usr/local/lib/python3.7/dist-packages/keras/backend/tensorflow_backend.py:174: The name tf.get_default_session is deprecated. Please use tf.compat.v1.get_default_session instead.\n",
            "\n",
            "WARNING:tensorflow:From /usr/local/lib/python3.7/dist-packages/keras/backend/tensorflow_backend.py:181: The name tf.ConfigProto is deprecated. Please use tf.compat.v1.ConfigProto instead.\n",
            "\n",
            "2021-04-01 10:25:00.766981: I tensorflow/core/platform/cpu_feature_guard.cc:142] Your CPU supports instructions that this TensorFlow binary was not compiled to use: AVX2 FMA\n",
            "2021-04-01 10:25:00.773716: I tensorflow/core/platform/profile_utils/cpu_utils.cc:94] CPU Frequency: 2299995000 Hz\n",
            "2021-04-01 10:25:00.774055: I tensorflow/compiler/xla/service/service.cc:168] XLA service 0x56236d528a00 initialized for platform Host (this does not guarantee that XLA will be used). Devices:\n",
            "2021-04-01 10:25:00.774098: I tensorflow/compiler/xla/service/service.cc:176]   StreamExecutor device (0): Host, Default Version\n",
            "2021-04-01 10:25:00.800841: I tensorflow/stream_executor/platform/default/dso_loader.cc:44] Successfully opened dynamic library libcuda.so.1\n",
            "2021-04-01 10:25:00.884190: E tensorflow/stream_executor/cuda/cuda_driver.cc:318] failed call to cuInit: CUDA_ERROR_NO_DEVICE: no CUDA-capable device is detected\n",
            "2021-04-01 10:25:00.884256: I tensorflow/stream_executor/cuda/cuda_diagnostics.cc:156] kernel driver does not appear to be running on this host (59e7058341a1): /proc/driver/nvidia/version does not exist\n",
            "WARNING:tensorflow:From /usr/local/lib/python3.7/dist-packages/keras/backend/tensorflow_backend.py:190: The name tf.global_variables is deprecated. Please use tf.compat.v1.global_variables instead.\n",
            "\n",
            "WARNING:tensorflow:From /usr/local/lib/python3.7/dist-packages/keras/backend/tensorflow_backend.py:199: The name tf.is_variable_initialized is deprecated. Please use tf.compat.v1.is_variable_initialized instead.\n",
            "\n",
            "WARNING:tensorflow:From /usr/local/lib/python3.7/dist-packages/keras/backend/tensorflow_backend.py:206: The name tf.variables_initializer is deprecated. Please use tf.compat.v1.variables_initializer instead.\n",
            "\n",
            "200/200 [==============================] - 3311s 17s/step - loss: 0.6954 - acc: 0.7392\n",
            "\n",
            "Epoch 00001: loss improved from inf to 0.69537, saving model to unet_membrane.hdf5\n",
            "Epoch 2/5\n",
            "200/200 [==============================] - 3103s 16s/step - loss: 0.6882 - acc: 0.7351\n",
            "\n",
            "Epoch 00002: loss improved from 0.69537 to 0.68823, saving model to unet_membrane.hdf5\n",
            "Epoch 3/5\n",
            "200/200 [==============================] - 3079s 15s/step - loss: 0.6846 - acc: 0.7469\n",
            "\n",
            "Epoch 00003: loss improved from 0.68823 to 0.68459, saving model to unet_membrane.hdf5\n",
            "Epoch 4/5\n",
            "200/200 [==============================] - 3039s 15s/step - loss: 0.6798 - acc: 0.7707\n",
            "\n",
            "Epoch 00004: loss improved from 0.68459 to 0.67983, saving model to unet_membrane.hdf5\n",
            "Epoch 5/5\n",
            "200/200 [==============================] - 3059s 15s/step - loss: 0.6772 - acc: 0.7515\n",
            "\n",
            "Epoch 00005: loss improved from 0.67983 to 0.67721, saving model to unet_membrane.hdf5\n",
            "11/11 [==============================] - 27s 2s/step\n",
            "/content/drive/My Drive/unet/data.py:131: UserWarning: ../tgs/competition_data/test/0_predict.png is a low contrast image\n",
            "  io.imsave(os.path.join(save_path,\"%d_predict.png\"%i),img)\n",
            "WARNING:root:Lossy conversion from float32 to uint8. Range [0, 1]. Convert image to uint8 prior to saving to suppress this warning.\n",
            "/content/drive/My Drive/unet/data.py:131: UserWarning: ../tgs/competition_data/test/1_predict.png is a low contrast image\n",
            "  io.imsave(os.path.join(save_path,\"%d_predict.png\"%i),img)\n",
            "WARNING:root:Lossy conversion from float32 to uint8. Range [0, 1]. Convert image to uint8 prior to saving to suppress this warning.\n",
            "/content/drive/My Drive/unet/data.py:131: UserWarning: ../tgs/competition_data/test/2_predict.png is a low contrast image\n",
            "  io.imsave(os.path.join(save_path,\"%d_predict.png\"%i),img)\n",
            "WARNING:root:Lossy conversion from float32 to uint8. Range [0, 1]. Convert image to uint8 prior to saving to suppress this warning.\n",
            "/content/drive/My Drive/unet/data.py:131: UserWarning: ../tgs/competition_data/test/3_predict.png is a low contrast image\n",
            "  io.imsave(os.path.join(save_path,\"%d_predict.png\"%i),img)\n",
            "WARNING:root:Lossy conversion from float32 to uint8. Range [0, 1]. Convert image to uint8 prior to saving to suppress this warning.\n",
            "/content/drive/My Drive/unet/data.py:131: UserWarning: ../tgs/competition_data/test/4_predict.png is a low contrast image\n",
            "  io.imsave(os.path.join(save_path,\"%d_predict.png\"%i),img)\n",
            "WARNING:root:Lossy conversion from float32 to uint8. Range [0, 1]. Convert image to uint8 prior to saving to suppress this warning.\n",
            "/content/drive/My Drive/unet/data.py:131: UserWarning: ../tgs/competition_data/test/5_predict.png is a low contrast image\n",
            "  io.imsave(os.path.join(save_path,\"%d_predict.png\"%i),img)\n",
            "WARNING:root:Lossy conversion from float32 to uint8. Range [0, 1]. Convert image to uint8 prior to saving to suppress this warning.\n",
            "/content/drive/My Drive/unet/data.py:131: UserWarning: ../tgs/competition_data/test/6_predict.png is a low contrast image\n",
            "  io.imsave(os.path.join(save_path,\"%d_predict.png\"%i),img)\n",
            "WARNING:root:Lossy conversion from float32 to uint8. Range [0, 1]. Convert image to uint8 prior to saving to suppress this warning.\n",
            "/content/drive/My Drive/unet/data.py:131: UserWarning: ../tgs/competition_data/test/7_predict.png is a low contrast image\n",
            "  io.imsave(os.path.join(save_path,\"%d_predict.png\"%i),img)\n",
            "WARNING:root:Lossy conversion from float32 to uint8. Range [0, 1]. Convert image to uint8 prior to saving to suppress this warning.\n",
            "/content/drive/My Drive/unet/data.py:131: UserWarning: ../tgs/competition_data/test/8_predict.png is a low contrast image\n",
            "  io.imsave(os.path.join(save_path,\"%d_predict.png\"%i),img)\n",
            "WARNING:root:Lossy conversion from float32 to uint8. Range [0, 1]. Convert image to uint8 prior to saving to suppress this warning.\n",
            "/content/drive/My Drive/unet/data.py:131: UserWarning: ../tgs/competition_data/test/9_predict.png is a low contrast image\n",
            "  io.imsave(os.path.join(save_path,\"%d_predict.png\"%i),img)\n",
            "WARNING:root:Lossy conversion from float32 to uint8. Range [0, 1]. Convert image to uint8 prior to saving to suppress this warning.\n",
            "/content/drive/My Drive/unet/data.py:131: UserWarning: ../tgs/competition_data/test/10_predict.png is a low contrast image\n",
            "  io.imsave(os.path.join(save_path,\"%d_predict.png\"%i),img)\n",
            "WARNING:root:Lossy conversion from float32 to uint8. Range [0, 1]. Convert image to uint8 prior to saving to suppress this warning.\n"
          ],
          "name": "stdout"
        }
      ]
    },
    {
      "cell_type": "code",
      "metadata": {
        "id": "PeJDQUsQNcoK"
      },
      "source": [
        "!mv ./tgs/competition_data/test/images/* ./tgs/competition_data/test/"
      ],
      "execution_count": 56,
      "outputs": []
    },
    {
      "cell_type": "code",
      "metadata": {
        "id": "IfEIAu6y6h0e",
        "colab": {
          "base_uri": "https://localhost:8080/"
        },
        "outputId": "a9921f86-1e6a-4b3a-95ba-b80bc1da3b09"
      },
      "source": [
        "!ls"
      ],
      "execution_count": 54,
      "outputs": [
        {
          "output_type": "stream",
          "text": [
            "'Colab Notebooks'       flamingo.zip\t        tgs\t    unet\n",
            " competition_data.zip   sample_submission.csv   train.csv\n",
            " depths.csv\t        test.zip\t        train.zip\n"
          ],
          "name": "stdout"
        }
      ]
    },
    {
      "cell_type": "code",
      "metadata": {
        "colab": {
          "base_uri": "https://localhost:8080/"
        },
        "id": "-s41bLzvWOas",
        "outputId": "81fde5f1-ca25-478f-b012-a966e11e7d5f"
      },
      "source": [
        "!ls ./tgs/competition_data/test/"
      ],
      "execution_count": 55,
      "outputs": [
        {
          "output_type": "stream",
          "text": [
            "images\n"
          ],
          "name": "stdout"
        }
      ]
    },
    {
      "cell_type": "markdown",
      "metadata": {
        "id": "pNlUKZi4aRyU"
      },
      "source": [
        "# 【問題2】コードリーディング"
      ]
    },
    {
      "cell_type": "markdown",
      "metadata": {
        "id": "1dt_3RMCaYhX"
      },
      "source": [
        "```PY\n",
        "1.main.py\n",
        "1.1.ライブラリのimport\n",
        " modelのimportを行うことにより、unet関数でU-NETのfull convolution層のモデルが利用可能になる。\n",
        "dataのimportを行うことにより、trainGenerator（学習用画像イメージ作成）、testGenerator（テスト用画像イメージ作成）、\\\n",
        "saveResult（推定結果画像ファイル作成）をそれぞれ実施が可能になる。\n",
        "\n",
        "1.2.ImageDataGeneratorに渡すパラメータを作成\n",
        "trainGeneratorで使用するImageDataGeneratorに渡す引数を以下のように定義する。\n",
        "・rotation_range=0.2, # 回転範囲\n",
        "・width_shift_range=0.05, # ランダムに水平傾斜する範囲\n",
        "・height_shift_range=0.05, #ランダムに垂直低する範囲\n",
        "・shear_range=0.05, # シェアする範囲？\n",
        "・zoom_range=0.05, # ランダムにズームする範囲\n",
        "・horizontal_flip=True, # 水平に反転する範囲\n",
        "・fill_mode='nearest' # 最も近いものを判定\n",
        "\n",
        "1.3.1.2で作成した引数をtrainGeneratorに引き渡し、one-hot化されたimage（特徴量）、masks（目的変数）を受け取る。\n",
        "\n",
        "1.4.modelのunet関数を呼び出し、u-netのfull convolution層による畳み込みができるようにする。\n",
        "\n",
        "1.5.model_chekpointにより、訓練中にモデル内部の状態と統計量を可視化する\n",
        "\n",
        "1.6.model.fitにより、trainGeneratorから受け取ったimageとmasksを使用して学習を実行する。\n",
        "\n",
        "1.7.testGeneratorを実行し、テスト画像イメージを受け取る。\n",
        "\n",
        "1.8.model_predictにより、テスト画像イメージを使って推定を実施する。\n",
        "\n",
        "1.9.推定した画像を保存する。\n",
        "\n",
        "2.data.py\n",
        "2.1.trainGenerator\n",
        "main.pyから受取った引数をもとに学習用画像を、特徴量画像イメージと正解ラベルのone-hot化したものをそれぞれ、main.pyに返す。\n",
        "\n",
        "2.2.testGenerator\n",
        "main.pyから受取った引数をもとにテスト用特徴量画像イメージデータを作成し、main.pyに返す。\n",
        "\n",
        "2.3.saveResult\n",
        "main.pyからの要求のにより、推定した画像をファイル出力する。\n",
        "\n",
        "3.model.py\n",
        "main.pyからの要求により、u-netモデルを構造化したconvolution層を定義し、main.pyに返す。主に以下の機能がある。\n",
        "\n",
        "3.1.エンコーダ（特徴抽出）\n",
        "conv1～pool4までの層で、特徴量を抽出するために、convolution層×2層とMaxPooling層×1層の構成で4階層定義する。\n",
        "\n",
        "3.2.デコーダ（拡張）\n",
        "エンコーダで削減された位置情報を連結するために、エンコーダで使用したconvolution層を追加する。\n",
        "up6～conv10までの層で、up-convolution層×1層×2層の構成で4階層定義する。\n",
        "\n",
        "3.3.スキップコネクション\n",
        "エンコーダで削減された位置情報を連結するための、convolution層を追加する機能。\n",
        "\n",
        "3.4.学習した重みファイルをロードする機能を持つ。\n",
        "\n",
        "\n",
        "```"
      ]
    },
    {
      "cell_type": "code",
      "metadata": {
        "id": "I0uaHObYaQdj"
      },
      "source": [
        ""
      ],
      "execution_count": null,
      "outputs": []
    }
  ]
}