{
  "nbformat": 4,
  "nbformat_minor": 0,
  "metadata": {
    "kernelspec": {
      "display_name": "Python 3",
      "language": "python",
      "name": "python3"
    },
    "language_info": {
      "codemirror_mode": {
        "name": "ipython",
        "version": 3
      },
      "file_extension": ".py",
      "mimetype": "text/x-python",
      "name": "python",
      "nbconvert_exporter": "python",
      "pygments_lexer": "ipython3",
      "version": "3.8.5"
    },
    "colab": {
      "name": "sprint_machine_learning_crossvaridation_1.ipynb",
      "provenance": [],
      "include_colab_link": true
    }
  },
  "cells": [
    {
      "cell_type": "markdown",
      "metadata": {
        "id": "view-in-github",
        "colab_type": "text"
      },
      "source": [
        "<a href=\"https://colab.research.google.com/github/libra3910/diveintocode-ml/blob/master/sprint_machine_learning_crossvaridation_1.ipynb\" target=\"_parent\"><img src=\"https://colab.research.google.com/assets/colab-badge.svg\" alt=\"Open In Colab\"/></a>"
      ]
    },
    {
      "cell_type": "markdown",
      "metadata": {
        "id": "sNhI8qJinFdn"
      },
      "source": [
        "# Sprint 機械学習フロー"
      ]
    },
    {
      "cell_type": "markdown",
      "metadata": {
        "id": "XaxUgiUwnFdx"
      },
      "source": [
        "# 【問題1】クロスバリデーション"
      ]
    },
    {
      "cell_type": "code",
      "metadata": {
        "id": "Me5_r6WbnFdx"
      },
      "source": [
        "import pandas as pd\n",
        "\n",
        "DATA_DIR='C:/Users/es/Documents/Python Scripts/1.Jan/Week4/'\n",
        "data = pd.read_csv(f'{DATA_DIR}train.csv')"
      ],
      "execution_count": null,
      "outputs": []
    },
    {
      "cell_type": "code",
      "metadata": {
        "id": "PqAGx23xnFdy"
      },
      "source": [
        "X = data.loc[:,['GrLivArea','YearBuilt','1stFlrSF','2ndFlrSF','BsmtFullBath','BsmtHalfBath','FullBath','HalfBath','BedroomAbvGr','KitchenAbvGr']]"
      ],
      "execution_count": null,
      "outputs": []
    },
    {
      "cell_type": "code",
      "metadata": {
        "id": "QkDz612LnFdy"
      },
      "source": [
        "y = data.loc[:,['SalePrice']]"
      ],
      "execution_count": null,
      "outputs": []
    },
    {
      "cell_type": "code",
      "metadata": {
        "id": "VII15XLVnFdy",
        "outputId": "74eb6afe-0fe2-499a-9094-f9fd72402cc0"
      },
      "source": [
        "import matplotlib.pyplot as plt\n",
        "import numpy as np\n",
        "X.isnull().sum()\n",
        "y.isnull().sum()"
      ],
      "execution_count": null,
      "outputs": [
        {
          "output_type": "execute_result",
          "data": {
            "text/plain": [
              "SalePrice    0\n",
              "dtype: int64"
            ]
          },
          "metadata": {
            "tags": []
          },
          "execution_count": 956
        }
      ]
    },
    {
      "cell_type": "code",
      "metadata": {
        "id": "dTKoajGNnFdz"
      },
      "source": [
        "from sklearn.model_selection import KFold\n",
        "from sklearn.preprocessing import StandardScaler\n",
        "scaler = StandardScaler()\n",
        "from sklearn.linear_model import LinearRegression\n",
        "from sklearn.metrics import mean_squared_error"
      ],
      "execution_count": null,
      "outputs": []
    },
    {
      "cell_type": "code",
      "metadata": {
        "id": "x3_FzXSnnFdz",
        "outputId": "897f44c1-e025-48b5-9a90-b4bf5d2b697a"
      },
      "source": [
        "kf = KFold(n_splits = 5, shuffle = True)\n",
        "sum_of_score = 0\n",
        "for i, [train_index, test_index] in enumerate(kf.split(X, y), 1):\n",
        "    X_train = X.loc[train_index]\n",
        "    X_test = X.loc[test_index]\n",
        "    y_train = y.loc[train_index]\n",
        "    y_test = y.loc[test_index]\n",
        "    \n",
        "    scaler.fit(X_train, X_test)\n",
        "    #print(\"線形回帰：平均={}\".format(scaler.mean_))\n",
        "\n",
        "    X_train_std = scaler.transform(X_train)\n",
        "    X_test_std = scaler.transform(X_test)\n",
        "\n",
        "    lm = LinearRegression()\n",
        "    reg = lm.fit(X_train_std, y_train)\n",
        "    score = reg.score(X_train_std, y_train)\n",
        "    sum_of_score += score\n",
        "    print(\"線形回帰：スコア={}\".format(score))\n",
        "    #print(\"線形回帰：傾き={}\".format(reg.coef_))\n",
        "    #print(\"線形回帰：切片={}\".format(reg.intercept_))\n",
        "\n",
        "    y_pred = reg.predict(X_test_std) \n",
        "    mse = mean_squared_error(y_test, y_pred, squared = True)\n",
        "    print(\"線形回帰：RMSE={}\".format(round(np.sqrt(mse)))) \n",
        "    print(\"\")\n",
        "print(\"線形回帰：スコア平均={}\".format(sum_of_score / i))"
      ],
      "execution_count": null,
      "outputs": [
        {
          "output_type": "stream",
          "text": [
            "線形回帰：スコア=0.7159032194293955\n",
            "線形回帰：RMSE=32740\n",
            "\n",
            "線形回帰：スコア=0.7311218009111544\n",
            "線形回帰：RMSE=42488\n",
            "\n",
            "線形回帰：スコア=0.7167992567470998\n",
            "線形回帰：RMSE=36154\n",
            "\n",
            "線形回帰：スコア=0.7643850021488454\n",
            "線形回帰：RMSE=55305\n",
            "\n",
            "線形回帰：スコア=0.6998677119574764\n",
            "線形回帰：RMSE=43611\n",
            "\n",
            "線形回帰：スコア平均=0.7256153982387943\n"
          ],
          "name": "stdout"
        }
      ]
    },
    {
      "cell_type": "markdown",
      "metadata": {
        "id": "4ie4gU1nnFd0"
      },
      "source": [
        "# 【問題2】グリッドサーチ"
      ]
    },
    {
      "cell_type": "code",
      "metadata": {
        "id": "R-pDKLQfnFd0"
      },
      "source": [
        "from sklearn.model_selection import GridSearchCV\n",
        "from sklearn.ensemble import RandomForestRegressor"
      ],
      "execution_count": null,
      "outputs": []
    },
    {
      "cell_type": "code",
      "metadata": {
        "id": "flsfTfFmnFd0"
      },
      "source": [
        "DATA_DIR='C:/Users/es/Documents/Python Scripts/1.Jan/Week4/'\n",
        "data = pd.read_csv(f'{DATA_DIR}train.csv')"
      ],
      "execution_count": null,
      "outputs": []
    },
    {
      "cell_type": "code",
      "metadata": {
        "id": "HO1lXUT1nFd1",
        "outputId": "c0c40955-e248-4317-89cb-4ea839020d14"
      },
      "source": [
        "col_names = data.columns\n",
        "for col_name in col_names:\n",
        "  missing_num = sum(pd.isnull(data[col_name]))\n",
        "  print('{} : missing {} , missing_ratio {:.1f}%'.format(col_name, missing_num , missing_num / len(data) * 100))"
      ],
      "execution_count": null,
      "outputs": [
        {
          "output_type": "stream",
          "text": [
            "Id : missing 0 , missing_ratio 0.0%\n",
            "MSSubClass : missing 0 , missing_ratio 0.0%\n",
            "MSZoning : missing 0 , missing_ratio 0.0%\n",
            "LotFrontage : missing 259 , missing_ratio 17.7%\n",
            "LotArea : missing 0 , missing_ratio 0.0%\n",
            "Street : missing 0 , missing_ratio 0.0%\n",
            "Alley : missing 1369 , missing_ratio 93.8%\n",
            "LotShape : missing 0 , missing_ratio 0.0%\n",
            "LandContour : missing 0 , missing_ratio 0.0%\n",
            "Utilities : missing 0 , missing_ratio 0.0%\n",
            "LotConfig : missing 0 , missing_ratio 0.0%\n",
            "LandSlope : missing 0 , missing_ratio 0.0%\n",
            "Neighborhood : missing 0 , missing_ratio 0.0%\n",
            "Condition1 : missing 0 , missing_ratio 0.0%\n",
            "Condition2 : missing 0 , missing_ratio 0.0%\n",
            "BldgType : missing 0 , missing_ratio 0.0%\n",
            "HouseStyle : missing 0 , missing_ratio 0.0%\n",
            "OverallQual : missing 0 , missing_ratio 0.0%\n",
            "OverallCond : missing 0 , missing_ratio 0.0%\n",
            "YearBuilt : missing 0 , missing_ratio 0.0%\n",
            "YearRemodAdd : missing 0 , missing_ratio 0.0%\n",
            "RoofStyle : missing 0 , missing_ratio 0.0%\n",
            "RoofMatl : missing 0 , missing_ratio 0.0%\n",
            "Exterior1st : missing 0 , missing_ratio 0.0%\n",
            "Exterior2nd : missing 0 , missing_ratio 0.0%\n",
            "MasVnrType : missing 8 , missing_ratio 0.5%\n",
            "MasVnrArea : missing 8 , missing_ratio 0.5%\n",
            "ExterQual : missing 0 , missing_ratio 0.0%\n",
            "ExterCond : missing 0 , missing_ratio 0.0%\n",
            "Foundation : missing 0 , missing_ratio 0.0%\n",
            "BsmtQual : missing 37 , missing_ratio 2.5%\n",
            "BsmtCond : missing 37 , missing_ratio 2.5%\n",
            "BsmtExposure : missing 38 , missing_ratio 2.6%\n",
            "BsmtFinType1 : missing 37 , missing_ratio 2.5%\n",
            "BsmtFinSF1 : missing 0 , missing_ratio 0.0%\n",
            "BsmtFinType2 : missing 38 , missing_ratio 2.6%\n",
            "BsmtFinSF2 : missing 0 , missing_ratio 0.0%\n",
            "BsmtUnfSF : missing 0 , missing_ratio 0.0%\n",
            "TotalBsmtSF : missing 0 , missing_ratio 0.0%\n",
            "Heating : missing 0 , missing_ratio 0.0%\n",
            "HeatingQC : missing 0 , missing_ratio 0.0%\n",
            "CentralAir : missing 0 , missing_ratio 0.0%\n",
            "Electrical : missing 1 , missing_ratio 0.1%\n",
            "1stFlrSF : missing 0 , missing_ratio 0.0%\n",
            "2ndFlrSF : missing 0 , missing_ratio 0.0%\n",
            "LowQualFinSF : missing 0 , missing_ratio 0.0%\n",
            "GrLivArea : missing 0 , missing_ratio 0.0%\n",
            "BsmtFullBath : missing 0 , missing_ratio 0.0%\n",
            "BsmtHalfBath : missing 0 , missing_ratio 0.0%\n",
            "FullBath : missing 0 , missing_ratio 0.0%\n",
            "HalfBath : missing 0 , missing_ratio 0.0%\n",
            "BedroomAbvGr : missing 0 , missing_ratio 0.0%\n",
            "KitchenAbvGr : missing 0 , missing_ratio 0.0%\n",
            "KitchenQual : missing 0 , missing_ratio 0.0%\n",
            "TotRmsAbvGrd : missing 0 , missing_ratio 0.0%\n",
            "Functional : missing 0 , missing_ratio 0.0%\n",
            "Fireplaces : missing 0 , missing_ratio 0.0%\n",
            "FireplaceQu : missing 690 , missing_ratio 47.3%\n",
            "GarageType : missing 81 , missing_ratio 5.5%\n",
            "GarageYrBlt : missing 81 , missing_ratio 5.5%\n",
            "GarageFinish : missing 81 , missing_ratio 5.5%\n",
            "GarageCars : missing 0 , missing_ratio 0.0%\n",
            "GarageArea : missing 0 , missing_ratio 0.0%\n",
            "GarageQual : missing 81 , missing_ratio 5.5%\n",
            "GarageCond : missing 81 , missing_ratio 5.5%\n",
            "PavedDrive : missing 0 , missing_ratio 0.0%\n",
            "WoodDeckSF : missing 0 , missing_ratio 0.0%\n",
            "OpenPorchSF : missing 0 , missing_ratio 0.0%\n",
            "EnclosedPorch : missing 0 , missing_ratio 0.0%\n",
            "3SsnPorch : missing 0 , missing_ratio 0.0%\n",
            "ScreenPorch : missing 0 , missing_ratio 0.0%\n",
            "PoolArea : missing 0 , missing_ratio 0.0%\n",
            "PoolQC : missing 1453 , missing_ratio 99.5%\n",
            "Fence : missing 1179 , missing_ratio 80.8%\n",
            "MiscFeature : missing 1406 , missing_ratio 96.3%\n",
            "MiscVal : missing 0 , missing_ratio 0.0%\n",
            "MoSold : missing 0 , missing_ratio 0.0%\n",
            "YrSold : missing 0 , missing_ratio 0.0%\n",
            "SaleType : missing 0 , missing_ratio 0.0%\n",
            "SaleCondition : missing 0 , missing_ratio 0.0%\n",
            "SalePrice : missing 0 , missing_ratio 0.0%\n"
          ],
          "name": "stdout"
        }
      ]
    },
    {
      "cell_type": "code",
      "metadata": {
        "id": "durcdzqlnFd1"
      },
      "source": [
        "data=data.dropna(thresh=len(data)-4, axis=1)"
      ],
      "execution_count": null,
      "outputs": []
    },
    {
      "cell_type": "code",
      "metadata": {
        "id": "Tvzl4zhnnFd1"
      },
      "source": [
        "data = data.dropna(how='any')"
      ],
      "execution_count": null,
      "outputs": []
    },
    {
      "cell_type": "code",
      "metadata": {
        "id": "EhlR4kuYnFd1",
        "outputId": "553c03d3-4a35-42e7-96ce-a14465f7e845"
      },
      "source": [
        "col_names = data.columns\n",
        "for col_name in col_names:\n",
        "  missing_num = sum(pd.isnull(data[col_name]))\n",
        "  print('{} : missing {} , missing_ratio {:.1f}%'.format(col_name, missing_num , missing_num / len(data) * 100))"
      ],
      "execution_count": null,
      "outputs": [
        {
          "output_type": "stream",
          "text": [
            "Id : missing 0 , missing_ratio 0.0%\n",
            "MSSubClass : missing 0 , missing_ratio 0.0%\n",
            "MSZoning : missing 0 , missing_ratio 0.0%\n",
            "LotArea : missing 0 , missing_ratio 0.0%\n",
            "Street : missing 0 , missing_ratio 0.0%\n",
            "LotShape : missing 0 , missing_ratio 0.0%\n",
            "LandContour : missing 0 , missing_ratio 0.0%\n",
            "Utilities : missing 0 , missing_ratio 0.0%\n",
            "LotConfig : missing 0 , missing_ratio 0.0%\n",
            "LandSlope : missing 0 , missing_ratio 0.0%\n",
            "Neighborhood : missing 0 , missing_ratio 0.0%\n",
            "Condition1 : missing 0 , missing_ratio 0.0%\n",
            "Condition2 : missing 0 , missing_ratio 0.0%\n",
            "BldgType : missing 0 , missing_ratio 0.0%\n",
            "HouseStyle : missing 0 , missing_ratio 0.0%\n",
            "OverallQual : missing 0 , missing_ratio 0.0%\n",
            "OverallCond : missing 0 , missing_ratio 0.0%\n",
            "YearBuilt : missing 0 , missing_ratio 0.0%\n",
            "YearRemodAdd : missing 0 , missing_ratio 0.0%\n",
            "RoofStyle : missing 0 , missing_ratio 0.0%\n",
            "RoofMatl : missing 0 , missing_ratio 0.0%\n",
            "Exterior1st : missing 0 , missing_ratio 0.0%\n",
            "Exterior2nd : missing 0 , missing_ratio 0.0%\n",
            "ExterQual : missing 0 , missing_ratio 0.0%\n",
            "ExterCond : missing 0 , missing_ratio 0.0%\n",
            "Foundation : missing 0 , missing_ratio 0.0%\n",
            "BsmtFinSF1 : missing 0 , missing_ratio 0.0%\n",
            "BsmtFinSF2 : missing 0 , missing_ratio 0.0%\n",
            "BsmtUnfSF : missing 0 , missing_ratio 0.0%\n",
            "TotalBsmtSF : missing 0 , missing_ratio 0.0%\n",
            "Heating : missing 0 , missing_ratio 0.0%\n",
            "HeatingQC : missing 0 , missing_ratio 0.0%\n",
            "CentralAir : missing 0 , missing_ratio 0.0%\n",
            "Electrical : missing 0 , missing_ratio 0.0%\n",
            "1stFlrSF : missing 0 , missing_ratio 0.0%\n",
            "2ndFlrSF : missing 0 , missing_ratio 0.0%\n",
            "LowQualFinSF : missing 0 , missing_ratio 0.0%\n",
            "GrLivArea : missing 0 , missing_ratio 0.0%\n",
            "BsmtFullBath : missing 0 , missing_ratio 0.0%\n",
            "BsmtHalfBath : missing 0 , missing_ratio 0.0%\n",
            "FullBath : missing 0 , missing_ratio 0.0%\n",
            "HalfBath : missing 0 , missing_ratio 0.0%\n",
            "BedroomAbvGr : missing 0 , missing_ratio 0.0%\n",
            "KitchenAbvGr : missing 0 , missing_ratio 0.0%\n",
            "KitchenQual : missing 0 , missing_ratio 0.0%\n",
            "TotRmsAbvGrd : missing 0 , missing_ratio 0.0%\n",
            "Functional : missing 0 , missing_ratio 0.0%\n",
            "Fireplaces : missing 0 , missing_ratio 0.0%\n",
            "GarageCars : missing 0 , missing_ratio 0.0%\n",
            "GarageArea : missing 0 , missing_ratio 0.0%\n",
            "PavedDrive : missing 0 , missing_ratio 0.0%\n",
            "WoodDeckSF : missing 0 , missing_ratio 0.0%\n",
            "OpenPorchSF : missing 0 , missing_ratio 0.0%\n",
            "EnclosedPorch : missing 0 , missing_ratio 0.0%\n",
            "3SsnPorch : missing 0 , missing_ratio 0.0%\n",
            "ScreenPorch : missing 0 , missing_ratio 0.0%\n",
            "PoolArea : missing 0 , missing_ratio 0.0%\n",
            "MiscVal : missing 0 , missing_ratio 0.0%\n",
            "MoSold : missing 0 , missing_ratio 0.0%\n",
            "YrSold : missing 0 , missing_ratio 0.0%\n",
            "SaleType : missing 0 , missing_ratio 0.0%\n",
            "SaleCondition : missing 0 , missing_ratio 0.0%\n",
            "SalePrice : missing 0 , missing_ratio 0.0%\n"
          ],
          "name": "stdout"
        }
      ]
    },
    {
      "cell_type": "code",
      "metadata": {
        "id": "izqCQX7qnFd2"
      },
      "source": [
        "X = data.loc[:,['Id','YearBuilt','1stFlrSF','2ndFlrSF','GrLivArea','BsmtFullBath','BsmtHalfBath','FullBath','HalfBath','BedroomAbvGr','KitchenAbvGr']]"
      ],
      "execution_count": null,
      "outputs": []
    },
    {
      "cell_type": "code",
      "metadata": {
        "id": "iCvLpvq9nFd2"
      },
      "source": [
        "X = pd.concat([X,data['MSSubClass']], axis = 1)\n",
        "X = pd.concat([X,data['LotArea']], axis = 1)\n",
        "X = pd.concat([X,data['OverallQual']], axis = 1)\n",
        "X = pd.concat([X,data['OverallCond']], axis = 1)\n",
        "X = pd.concat([X,data['YearRemodAdd']], axis = 1)\n",
        "X = pd.concat([X,data['BsmtFinSF1']], axis = 1)\n",
        "#X = pd.concat([X,data['BsmtFinSF2']], axis = 1)\n",
        "#X = pd.concat([X,data['BsmtUnfSF']], axis = 1)\n",
        "#X = pd.concat([X,data['TotalBsmtSF']], axis = 1)\n",
        "#X = pd.concat([X,data['TotRmsAbvGrd']], axis = 1)\n",
        "#X = pd.concat([X,data['Fireplaces']], axis = 1)\n",
        "#X = pd.concat([X,data['GarageCars']], axis = 1)\n",
        "#X = pd.concat([X,data['GarageArea']], axis = 1)\n",
        "#X = pd.concat([X,data['WoodDeckSF']], axis = 1)\n",
        "#X = pd.concat([X,data['OpenPorchSF']], axis = 1)\n",
        "#X = pd.concat([X,data['EnclosedPorch']], axis = 1)\n",
        "#X = pd.concat([X,data['3SsnPorch']], axis = 1)\n",
        "#X = pd.concat([X,data['ScreenPorch']], axis = 1)\n",
        "#X = pd.concat([X,data['PoolArea']], axis = 1)\n",
        "#X = pd.concat([X,data['MiscVal']], axis = 1)\n",
        "#X = pd.concat([X,data['MoSold']], axis = 1)\n",
        "#X = pd.concat([X,data['YrSold']], axis = 1)\n",
        "#X = pd.concat([X,data['LowQualFinSF']], axis = 1)"
      ],
      "execution_count": null,
      "outputs": []
    },
    {
      "cell_type": "code",
      "metadata": {
        "id": "3aELsxWCnFd2"
      },
      "source": [
        "X = pd.concat([X,data.MSZoning,data.Street,data.LotShape,data.LandContour,data.Utilities,data.LotConfig,data.LandSlope,data.Neighborhood,data.Condition1,data.Condition2,data.BldgType,data.HouseStyle], axis=1)\n",
        "X = pd.concat([X,data.RoofMatl,data.Exterior1st,data.Exterior2nd,data.ExterCond,data.Foundation,data.Heating,data.HeatingQC,data.CentralAir,data.Electrical], axis=1)\n",
        "X = pd.concat([X,data.KitchenQual,data.Functional,data.PavedDrive,data.SaleType,data.SaleCondition], axis=1)"
      ],
      "execution_count": null,
      "outputs": []
    },
    {
      "cell_type": "code",
      "metadata": {
        "id": "PGMOI8eqnFd3"
      },
      "source": [
        "clm = ['MSZoning','Street','LotShape','LandContour','Utilities','LotConfig','LandSlope','Neighborhood','Condition1','Condition2','BldgType','HouseStyle']\n",
        "clm = clm + ['RoofMatl','Exterior1st','Exterior2nd','ExterCond','Foundation','Heating','HeatingQC','CentralAir','Electrical']\n",
        "clm = clm + ['KitchenQual','Functional','PavedDrive','SaleType','SaleCondition']"
      ],
      "execution_count": null,
      "outputs": []
    },
    {
      "cell_type": "code",
      "metadata": {
        "id": "AE2UbuDrnFd3"
      },
      "source": [
        "X = pd.get_dummies(data=X, columns=clm)"
      ],
      "execution_count": null,
      "outputs": []
    },
    {
      "cell_type": "code",
      "metadata": {
        "id": "CVh-g_HTnFd3",
        "outputId": "dac55f2c-1c6d-4dde-b55c-c6d7ebd12151"
      },
      "source": [
        "for col_name in X.columns:\n",
        "    print(\"{}\".format(col_name))"
      ],
      "execution_count": null,
      "outputs": [
        {
          "output_type": "stream",
          "text": [
            "Id\n",
            "YearBuilt\n",
            "1stFlrSF\n",
            "2ndFlrSF\n",
            "GrLivArea\n",
            "BsmtFullBath\n",
            "BsmtHalfBath\n",
            "FullBath\n",
            "HalfBath\n",
            "BedroomAbvGr\n",
            "KitchenAbvGr\n",
            "MSSubClass\n",
            "LotArea\n",
            "OverallQual\n",
            "OverallCond\n",
            "YearRemodAdd\n",
            "BsmtFinSF1\n",
            "MSZoning_C (all)\n",
            "MSZoning_FV\n",
            "MSZoning_RH\n",
            "MSZoning_RL\n",
            "MSZoning_RM\n",
            "Street_Grvl\n",
            "Street_Pave\n",
            "LotShape_IR1\n",
            "LotShape_IR2\n",
            "LotShape_IR3\n",
            "LotShape_Reg\n",
            "LandContour_Bnk\n",
            "LandContour_HLS\n",
            "LandContour_Low\n",
            "LandContour_Lvl\n",
            "Utilities_AllPub\n",
            "Utilities_NoSeWa\n",
            "LotConfig_Corner\n",
            "LotConfig_CulDSac\n",
            "LotConfig_FR2\n",
            "LotConfig_FR3\n",
            "LotConfig_Inside\n",
            "LandSlope_Gtl\n",
            "LandSlope_Mod\n",
            "LandSlope_Sev\n",
            "Neighborhood_Blmngtn\n",
            "Neighborhood_Blueste\n",
            "Neighborhood_BrDale\n",
            "Neighborhood_BrkSide\n",
            "Neighborhood_ClearCr\n",
            "Neighborhood_CollgCr\n",
            "Neighborhood_Crawfor\n",
            "Neighborhood_Edwards\n",
            "Neighborhood_Gilbert\n",
            "Neighborhood_IDOTRR\n",
            "Neighborhood_MeadowV\n",
            "Neighborhood_Mitchel\n",
            "Neighborhood_NAmes\n",
            "Neighborhood_NPkVill\n",
            "Neighborhood_NWAmes\n",
            "Neighborhood_NoRidge\n",
            "Neighborhood_NridgHt\n",
            "Neighborhood_OldTown\n",
            "Neighborhood_SWISU\n",
            "Neighborhood_Sawyer\n",
            "Neighborhood_SawyerW\n",
            "Neighborhood_Somerst\n",
            "Neighborhood_StoneBr\n",
            "Neighborhood_Timber\n",
            "Neighborhood_Veenker\n",
            "Condition1_Artery\n",
            "Condition1_Feedr\n",
            "Condition1_Norm\n",
            "Condition1_PosA\n",
            "Condition1_PosN\n",
            "Condition1_RRAe\n",
            "Condition1_RRAn\n",
            "Condition1_RRNe\n",
            "Condition1_RRNn\n",
            "Condition2_Artery\n",
            "Condition2_Feedr\n",
            "Condition2_Norm\n",
            "Condition2_PosA\n",
            "Condition2_PosN\n",
            "Condition2_RRAe\n",
            "Condition2_RRAn\n",
            "Condition2_RRNn\n",
            "BldgType_1Fam\n",
            "BldgType_2fmCon\n",
            "BldgType_Duplex\n",
            "BldgType_Twnhs\n",
            "BldgType_TwnhsE\n",
            "HouseStyle_1.5Fin\n",
            "HouseStyle_1.5Unf\n",
            "HouseStyle_1Story\n",
            "HouseStyle_2.5Fin\n",
            "HouseStyle_2.5Unf\n",
            "HouseStyle_2Story\n",
            "HouseStyle_SFoyer\n",
            "HouseStyle_SLvl\n",
            "RoofMatl_ClyTile\n",
            "RoofMatl_CompShg\n",
            "RoofMatl_Membran\n",
            "RoofMatl_Metal\n",
            "RoofMatl_Roll\n",
            "RoofMatl_Tar&Grv\n",
            "RoofMatl_WdShake\n",
            "RoofMatl_WdShngl\n",
            "Exterior1st_AsbShng\n",
            "Exterior1st_AsphShn\n",
            "Exterior1st_BrkComm\n",
            "Exterior1st_BrkFace\n",
            "Exterior1st_CBlock\n",
            "Exterior1st_CemntBd\n",
            "Exterior1st_HdBoard\n",
            "Exterior1st_ImStucc\n",
            "Exterior1st_MetalSd\n",
            "Exterior1st_Plywood\n",
            "Exterior1st_Stone\n",
            "Exterior1st_Stucco\n",
            "Exterior1st_VinylSd\n",
            "Exterior1st_Wd Sdng\n",
            "Exterior1st_WdShing\n",
            "Exterior2nd_AsbShng\n",
            "Exterior2nd_AsphShn\n",
            "Exterior2nd_Brk Cmn\n",
            "Exterior2nd_BrkFace\n",
            "Exterior2nd_CBlock\n",
            "Exterior2nd_CmentBd\n",
            "Exterior2nd_HdBoard\n",
            "Exterior2nd_ImStucc\n",
            "Exterior2nd_MetalSd\n",
            "Exterior2nd_Other\n",
            "Exterior2nd_Plywood\n",
            "Exterior2nd_Stone\n",
            "Exterior2nd_Stucco\n",
            "Exterior2nd_VinylSd\n",
            "Exterior2nd_Wd Sdng\n",
            "Exterior2nd_Wd Shng\n",
            "ExterCond_Ex\n",
            "ExterCond_Fa\n",
            "ExterCond_Gd\n",
            "ExterCond_Po\n",
            "ExterCond_TA\n",
            "Foundation_BrkTil\n",
            "Foundation_CBlock\n",
            "Foundation_PConc\n",
            "Foundation_Slab\n",
            "Foundation_Stone\n",
            "Foundation_Wood\n",
            "Heating_Floor\n",
            "Heating_GasA\n",
            "Heating_GasW\n",
            "Heating_Grav\n",
            "Heating_OthW\n",
            "Heating_Wall\n",
            "HeatingQC_Ex\n",
            "HeatingQC_Fa\n",
            "HeatingQC_Gd\n",
            "HeatingQC_Po\n",
            "HeatingQC_TA\n",
            "CentralAir_N\n",
            "CentralAir_Y\n",
            "Electrical_FuseA\n",
            "Electrical_FuseF\n",
            "Electrical_FuseP\n",
            "Electrical_Mix\n",
            "Electrical_SBrkr\n",
            "KitchenQual_Ex\n",
            "KitchenQual_Fa\n",
            "KitchenQual_Gd\n",
            "KitchenQual_TA\n",
            "Functional_Maj1\n",
            "Functional_Maj2\n",
            "Functional_Min1\n",
            "Functional_Min2\n",
            "Functional_Mod\n",
            "Functional_Sev\n",
            "Functional_Typ\n",
            "PavedDrive_N\n",
            "PavedDrive_P\n",
            "PavedDrive_Y\n",
            "SaleType_COD\n",
            "SaleType_CWD\n",
            "SaleType_Con\n",
            "SaleType_ConLD\n",
            "SaleType_ConLI\n",
            "SaleType_ConLw\n",
            "SaleType_New\n",
            "SaleType_Oth\n",
            "SaleType_WD\n",
            "SaleCondition_Abnorml\n",
            "SaleCondition_AdjLand\n",
            "SaleCondition_Alloca\n",
            "SaleCondition_Family\n",
            "SaleCondition_Normal\n",
            "SaleCondition_Partial\n"
          ],
          "name": "stdout"
        }
      ]
    },
    {
      "cell_type": "code",
      "metadata": {
        "id": "dWkjXpFknFd3"
      },
      "source": [
        "y = data.loc[:,['SalePrice']]"
      ],
      "execution_count": null,
      "outputs": []
    },
    {
      "cell_type": "code",
      "metadata": {
        "id": "EbVKLhFnnFd4",
        "outputId": "75902d32-9342-4bf9-cd1a-a6dea5f62ce2"
      },
      "source": [
        "X.isnull().sum()\n",
        "y.isnull().sum()"
      ],
      "execution_count": null,
      "outputs": [
        {
          "output_type": "execute_result",
          "data": {
            "text/plain": [
              "SalePrice    0\n",
              "dtype: int64"
            ]
          },
          "metadata": {
            "tags": []
          },
          "execution_count": 1171
        }
      ]
    },
    {
      "cell_type": "code",
      "metadata": {
        "id": "C9a7v_B9nFd4"
      },
      "source": [
        "from sklearn.model_selection import train_test_split\n",
        "X_train, X_test, y_train, y_test = train_test_split(X, y, test_size = 0.25, random_state = 43)"
      ],
      "execution_count": null,
      "outputs": []
    },
    {
      "cell_type": "code",
      "metadata": {
        "id": "qmb-0BgnnFd4"
      },
      "source": [
        "X_train = X_train.iloc[:,1:]\n",
        "X_Id = X_test.iloc[:,0]\n",
        "X_test = X_test.iloc[:,1:]"
      ],
      "execution_count": null,
      "outputs": []
    },
    {
      "cell_type": "code",
      "metadata": {
        "id": "IW8pm3e4nFd4"
      },
      "source": [
        "scaler.fit(X_train, X_test)\n",
        "X_train_std = scaler.transform(X_train)\n",
        "X_test_std = scaler.transform(X_test)"
      ],
      "execution_count": null,
      "outputs": []
    },
    {
      "cell_type": "code",
      "metadata": {
        "id": "oMRptGwanFd5"
      },
      "source": [
        "rf = RandomForestRegressor(random_state = 1234)"
      ],
      "execution_count": null,
      "outputs": []
    },
    {
      "cell_type": "code",
      "metadata": {
        "id": "hlTj1knfnFd5",
        "outputId": "57c26b2e-2023-4770-ced8-f145d5891cc3"
      },
      "source": [
        "params = {\"n_estimators\": [15, 30, 60], \"max_depth\": [10, 30, 60]}\n",
        "gscv = GridSearchCV(rf, param_grid = params, cv = 5)\n",
        "gscv.fit(X_train_std, y_train)"
      ],
      "execution_count": null,
      "outputs": [
        {
          "output_type": "stream",
          "text": [
            "C:\\Users\\es\\anaconda3\\lib\\site-packages\\sklearn\\model_selection\\_validation.py:531: DataConversionWarning: A column-vector y was passed when a 1d array was expected. Please change the shape of y to (n_samples,), for example using ravel().\n",
            "  estimator.fit(X_train, y_train, **fit_params)\n",
            "C:\\Users\\es\\anaconda3\\lib\\site-packages\\sklearn\\model_selection\\_validation.py:531: DataConversionWarning: A column-vector y was passed when a 1d array was expected. Please change the shape of y to (n_samples,), for example using ravel().\n",
            "  estimator.fit(X_train, y_train, **fit_params)\n",
            "C:\\Users\\es\\anaconda3\\lib\\site-packages\\sklearn\\model_selection\\_validation.py:531: DataConversionWarning: A column-vector y was passed when a 1d array was expected. Please change the shape of y to (n_samples,), for example using ravel().\n",
            "  estimator.fit(X_train, y_train, **fit_params)\n",
            "C:\\Users\\es\\anaconda3\\lib\\site-packages\\sklearn\\model_selection\\_validation.py:531: DataConversionWarning: A column-vector y was passed when a 1d array was expected. Please change the shape of y to (n_samples,), for example using ravel().\n",
            "  estimator.fit(X_train, y_train, **fit_params)\n",
            "C:\\Users\\es\\anaconda3\\lib\\site-packages\\sklearn\\model_selection\\_validation.py:531: DataConversionWarning: A column-vector y was passed when a 1d array was expected. Please change the shape of y to (n_samples,), for example using ravel().\n",
            "  estimator.fit(X_train, y_train, **fit_params)\n",
            "C:\\Users\\es\\anaconda3\\lib\\site-packages\\sklearn\\model_selection\\_validation.py:531: DataConversionWarning: A column-vector y was passed when a 1d array was expected. Please change the shape of y to (n_samples,), for example using ravel().\n",
            "  estimator.fit(X_train, y_train, **fit_params)\n",
            "C:\\Users\\es\\anaconda3\\lib\\site-packages\\sklearn\\model_selection\\_validation.py:531: DataConversionWarning: A column-vector y was passed when a 1d array was expected. Please change the shape of y to (n_samples,), for example using ravel().\n",
            "  estimator.fit(X_train, y_train, **fit_params)\n",
            "C:\\Users\\es\\anaconda3\\lib\\site-packages\\sklearn\\model_selection\\_validation.py:531: DataConversionWarning: A column-vector y was passed when a 1d array was expected. Please change the shape of y to (n_samples,), for example using ravel().\n",
            "  estimator.fit(X_train, y_train, **fit_params)\n",
            "C:\\Users\\es\\anaconda3\\lib\\site-packages\\sklearn\\model_selection\\_validation.py:531: DataConversionWarning: A column-vector y was passed when a 1d array was expected. Please change the shape of y to (n_samples,), for example using ravel().\n",
            "  estimator.fit(X_train, y_train, **fit_params)\n",
            "C:\\Users\\es\\anaconda3\\lib\\site-packages\\sklearn\\model_selection\\_validation.py:531: DataConversionWarning: A column-vector y was passed when a 1d array was expected. Please change the shape of y to (n_samples,), for example using ravel().\n",
            "  estimator.fit(X_train, y_train, **fit_params)\n",
            "C:\\Users\\es\\anaconda3\\lib\\site-packages\\sklearn\\model_selection\\_validation.py:531: DataConversionWarning: A column-vector y was passed when a 1d array was expected. Please change the shape of y to (n_samples,), for example using ravel().\n",
            "  estimator.fit(X_train, y_train, **fit_params)\n",
            "C:\\Users\\es\\anaconda3\\lib\\site-packages\\sklearn\\model_selection\\_validation.py:531: DataConversionWarning: A column-vector y was passed when a 1d array was expected. Please change the shape of y to (n_samples,), for example using ravel().\n",
            "  estimator.fit(X_train, y_train, **fit_params)\n",
            "C:\\Users\\es\\anaconda3\\lib\\site-packages\\sklearn\\model_selection\\_validation.py:531: DataConversionWarning: A column-vector y was passed when a 1d array was expected. Please change the shape of y to (n_samples,), for example using ravel().\n",
            "  estimator.fit(X_train, y_train, **fit_params)\n",
            "C:\\Users\\es\\anaconda3\\lib\\site-packages\\sklearn\\model_selection\\_validation.py:531: DataConversionWarning: A column-vector y was passed when a 1d array was expected. Please change the shape of y to (n_samples,), for example using ravel().\n",
            "  estimator.fit(X_train, y_train, **fit_params)\n",
            "C:\\Users\\es\\anaconda3\\lib\\site-packages\\sklearn\\model_selection\\_validation.py:531: DataConversionWarning: A column-vector y was passed when a 1d array was expected. Please change the shape of y to (n_samples,), for example using ravel().\n",
            "  estimator.fit(X_train, y_train, **fit_params)\n",
            "C:\\Users\\es\\anaconda3\\lib\\site-packages\\sklearn\\model_selection\\_validation.py:531: DataConversionWarning: A column-vector y was passed when a 1d array was expected. Please change the shape of y to (n_samples,), for example using ravel().\n",
            "  estimator.fit(X_train, y_train, **fit_params)\n",
            "C:\\Users\\es\\anaconda3\\lib\\site-packages\\sklearn\\model_selection\\_validation.py:531: DataConversionWarning: A column-vector y was passed when a 1d array was expected. Please change the shape of y to (n_samples,), for example using ravel().\n",
            "  estimator.fit(X_train, y_train, **fit_params)\n",
            "C:\\Users\\es\\anaconda3\\lib\\site-packages\\sklearn\\model_selection\\_validation.py:531: DataConversionWarning: A column-vector y was passed when a 1d array was expected. Please change the shape of y to (n_samples,), for example using ravel().\n",
            "  estimator.fit(X_train, y_train, **fit_params)\n",
            "C:\\Users\\es\\anaconda3\\lib\\site-packages\\sklearn\\model_selection\\_validation.py:531: DataConversionWarning: A column-vector y was passed when a 1d array was expected. Please change the shape of y to (n_samples,), for example using ravel().\n",
            "  estimator.fit(X_train, y_train, **fit_params)\n",
            "C:\\Users\\es\\anaconda3\\lib\\site-packages\\sklearn\\model_selection\\_validation.py:531: DataConversionWarning: A column-vector y was passed when a 1d array was expected. Please change the shape of y to (n_samples,), for example using ravel().\n",
            "  estimator.fit(X_train, y_train, **fit_params)\n",
            "C:\\Users\\es\\anaconda3\\lib\\site-packages\\sklearn\\model_selection\\_validation.py:531: DataConversionWarning: A column-vector y was passed when a 1d array was expected. Please change the shape of y to (n_samples,), for example using ravel().\n",
            "  estimator.fit(X_train, y_train, **fit_params)\n",
            "C:\\Users\\es\\anaconda3\\lib\\site-packages\\sklearn\\model_selection\\_validation.py:531: DataConversionWarning: A column-vector y was passed when a 1d array was expected. Please change the shape of y to (n_samples,), for example using ravel().\n",
            "  estimator.fit(X_train, y_train, **fit_params)\n",
            "C:\\Users\\es\\anaconda3\\lib\\site-packages\\sklearn\\model_selection\\_validation.py:531: DataConversionWarning: A column-vector y was passed when a 1d array was expected. Please change the shape of y to (n_samples,), for example using ravel().\n",
            "  estimator.fit(X_train, y_train, **fit_params)\n",
            "C:\\Users\\es\\anaconda3\\lib\\site-packages\\sklearn\\model_selection\\_validation.py:531: DataConversionWarning: A column-vector y was passed when a 1d array was expected. Please change the shape of y to (n_samples,), for example using ravel().\n",
            "  estimator.fit(X_train, y_train, **fit_params)\n",
            "C:\\Users\\es\\anaconda3\\lib\\site-packages\\sklearn\\model_selection\\_validation.py:531: DataConversionWarning: A column-vector y was passed when a 1d array was expected. Please change the shape of y to (n_samples,), for example using ravel().\n",
            "  estimator.fit(X_train, y_train, **fit_params)\n",
            "C:\\Users\\es\\anaconda3\\lib\\site-packages\\sklearn\\model_selection\\_validation.py:531: DataConversionWarning: A column-vector y was passed when a 1d array was expected. Please change the shape of y to (n_samples,), for example using ravel().\n",
            "  estimator.fit(X_train, y_train, **fit_params)\n",
            "C:\\Users\\es\\anaconda3\\lib\\site-packages\\sklearn\\model_selection\\_validation.py:531: DataConversionWarning: A column-vector y was passed when a 1d array was expected. Please change the shape of y to (n_samples,), for example using ravel().\n",
            "  estimator.fit(X_train, y_train, **fit_params)\n",
            "C:\\Users\\es\\anaconda3\\lib\\site-packages\\sklearn\\model_selection\\_validation.py:531: DataConversionWarning: A column-vector y was passed when a 1d array was expected. Please change the shape of y to (n_samples,), for example using ravel().\n",
            "  estimator.fit(X_train, y_train, **fit_params)\n",
            "C:\\Users\\es\\anaconda3\\lib\\site-packages\\sklearn\\model_selection\\_validation.py:531: DataConversionWarning: A column-vector y was passed when a 1d array was expected. Please change the shape of y to (n_samples,), for example using ravel().\n",
            "  estimator.fit(X_train, y_train, **fit_params)\n"
          ],
          "name": "stderr"
        },
        {
          "output_type": "stream",
          "text": [
            "C:\\Users\\es\\anaconda3\\lib\\site-packages\\sklearn\\model_selection\\_validation.py:531: DataConversionWarning: A column-vector y was passed when a 1d array was expected. Please change the shape of y to (n_samples,), for example using ravel().\n",
            "  estimator.fit(X_train, y_train, **fit_params)\n",
            "C:\\Users\\es\\anaconda3\\lib\\site-packages\\sklearn\\model_selection\\_validation.py:531: DataConversionWarning: A column-vector y was passed when a 1d array was expected. Please change the shape of y to (n_samples,), for example using ravel().\n",
            "  estimator.fit(X_train, y_train, **fit_params)\n",
            "C:\\Users\\es\\anaconda3\\lib\\site-packages\\sklearn\\model_selection\\_validation.py:531: DataConversionWarning: A column-vector y was passed when a 1d array was expected. Please change the shape of y to (n_samples,), for example using ravel().\n",
            "  estimator.fit(X_train, y_train, **fit_params)\n",
            "C:\\Users\\es\\anaconda3\\lib\\site-packages\\sklearn\\model_selection\\_validation.py:531: DataConversionWarning: A column-vector y was passed when a 1d array was expected. Please change the shape of y to (n_samples,), for example using ravel().\n",
            "  estimator.fit(X_train, y_train, **fit_params)\n",
            "C:\\Users\\es\\anaconda3\\lib\\site-packages\\sklearn\\model_selection\\_validation.py:531: DataConversionWarning: A column-vector y was passed when a 1d array was expected. Please change the shape of y to (n_samples,), for example using ravel().\n",
            "  estimator.fit(X_train, y_train, **fit_params)\n",
            "C:\\Users\\es\\anaconda3\\lib\\site-packages\\sklearn\\model_selection\\_validation.py:531: DataConversionWarning: A column-vector y was passed when a 1d array was expected. Please change the shape of y to (n_samples,), for example using ravel().\n",
            "  estimator.fit(X_train, y_train, **fit_params)\n",
            "C:\\Users\\es\\anaconda3\\lib\\site-packages\\sklearn\\model_selection\\_validation.py:531: DataConversionWarning: A column-vector y was passed when a 1d array was expected. Please change the shape of y to (n_samples,), for example using ravel().\n",
            "  estimator.fit(X_train, y_train, **fit_params)\n",
            "C:\\Users\\es\\anaconda3\\lib\\site-packages\\sklearn\\model_selection\\_validation.py:531: DataConversionWarning: A column-vector y was passed when a 1d array was expected. Please change the shape of y to (n_samples,), for example using ravel().\n",
            "  estimator.fit(X_train, y_train, **fit_params)\n",
            "C:\\Users\\es\\anaconda3\\lib\\site-packages\\sklearn\\model_selection\\_validation.py:531: DataConversionWarning: A column-vector y was passed when a 1d array was expected. Please change the shape of y to (n_samples,), for example using ravel().\n",
            "  estimator.fit(X_train, y_train, **fit_params)\n",
            "C:\\Users\\es\\anaconda3\\lib\\site-packages\\sklearn\\model_selection\\_validation.py:531: DataConversionWarning: A column-vector y was passed when a 1d array was expected. Please change the shape of y to (n_samples,), for example using ravel().\n",
            "  estimator.fit(X_train, y_train, **fit_params)\n",
            "C:\\Users\\es\\anaconda3\\lib\\site-packages\\sklearn\\model_selection\\_validation.py:531: DataConversionWarning: A column-vector y was passed when a 1d array was expected. Please change the shape of y to (n_samples,), for example using ravel().\n",
            "  estimator.fit(X_train, y_train, **fit_params)\n",
            "C:\\Users\\es\\anaconda3\\lib\\site-packages\\sklearn\\model_selection\\_validation.py:531: DataConversionWarning: A column-vector y was passed when a 1d array was expected. Please change the shape of y to (n_samples,), for example using ravel().\n",
            "  estimator.fit(X_train, y_train, **fit_params)\n",
            "C:\\Users\\es\\anaconda3\\lib\\site-packages\\sklearn\\model_selection\\_validation.py:531: DataConversionWarning: A column-vector y was passed when a 1d array was expected. Please change the shape of y to (n_samples,), for example using ravel().\n",
            "  estimator.fit(X_train, y_train, **fit_params)\n",
            "C:\\Users\\es\\anaconda3\\lib\\site-packages\\sklearn\\model_selection\\_validation.py:531: DataConversionWarning: A column-vector y was passed when a 1d array was expected. Please change the shape of y to (n_samples,), for example using ravel().\n",
            "  estimator.fit(X_train, y_train, **fit_params)\n",
            "C:\\Users\\es\\anaconda3\\lib\\site-packages\\sklearn\\model_selection\\_validation.py:531: DataConversionWarning: A column-vector y was passed when a 1d array was expected. Please change the shape of y to (n_samples,), for example using ravel().\n",
            "  estimator.fit(X_train, y_train, **fit_params)\n",
            "C:\\Users\\es\\anaconda3\\lib\\site-packages\\sklearn\\model_selection\\_validation.py:531: DataConversionWarning: A column-vector y was passed when a 1d array was expected. Please change the shape of y to (n_samples,), for example using ravel().\n",
            "  estimator.fit(X_train, y_train, **fit_params)\n",
            "C:\\Users\\es\\anaconda3\\lib\\site-packages\\sklearn\\model_selection\\_search.py:765: DataConversionWarning: A column-vector y was passed when a 1d array was expected. Please change the shape of y to (n_samples,), for example using ravel().\n",
            "  self.best_estimator_.fit(X, y, **fit_params)\n"
          ],
          "name": "stderr"
        },
        {
          "output_type": "execute_result",
          "data": {
            "text/plain": [
              "GridSearchCV(cv=5, estimator=RandomForestRegressor(random_state=1234),\n",
              "             param_grid={'max_depth': [10, 30, 60],\n",
              "                         'n_estimators': [15, 30, 60]})"
            ]
          },
          "metadata": {
            "tags": []
          },
          "execution_count": 1176
        }
      ]
    },
    {
      "cell_type": "code",
      "metadata": {
        "id": "a8LJEAZpnFd5",
        "outputId": "1024717d-085d-438e-ec4c-0b713921bd31"
      },
      "source": [
        "gscv.best_params_"
      ],
      "execution_count": null,
      "outputs": [
        {
          "output_type": "execute_result",
          "data": {
            "text/plain": [
              "{'max_depth': 10, 'n_estimators': 60}"
            ]
          },
          "metadata": {
            "tags": []
          },
          "execution_count": 1177
        }
      ]
    },
    {
      "cell_type": "code",
      "metadata": {
        "id": "GIUGIvFynFd5",
        "outputId": "6c1a98e7-1778-4313-e9e9-ee784139d3fd"
      },
      "source": [
        "rf = RandomForestRegressor(max_depth=60, n_estimators=70, random_state=1234)\n",
        "rf.fit(X_train_std, y_train)\n",
        "y_pred = rf.predict(X_test_std)"
      ],
      "execution_count": null,
      "outputs": [
        {
          "output_type": "stream",
          "text": [
            "<ipython-input-1178-c04097e5bf2d>:2: DataConversionWarning: A column-vector y was passed when a 1d array was expected. Please change the shape of y to (n_samples,), for example using ravel().\n",
            "  rf.fit(X_train_std, y_train)\n"
          ],
          "name": "stderr"
        }
      ]
    },
    {
      "cell_type": "code",
      "metadata": {
        "id": "wtFptnPJnFd6",
        "outputId": "2a533ffc-60ba-41f2-c20c-328ee1c99f59"
      },
      "source": [
        "mse = mean_squared_error(y_test, y_pred, squared = True)\n",
        "print(\"線形回帰：RMSE={}\".format(round(np.sqrt(mse)))) "
      ],
      "execution_count": null,
      "outputs": [
        {
          "output_type": "stream",
          "text": [
            "線形回帰：RMSE=29556\n"
          ],
          "name": "stdout"
        }
      ]
    },
    {
      "cell_type": "markdown",
      "metadata": {
        "id": "UFUK9EvcnFd6"
      },
      "source": [
        "# 【問題3】Kaggle Notebooksからの調査"
      ]
    },
    {
      "cell_type": "markdown",
      "metadata": {
        "id": "k-ypO1QJnFd6"
      },
      "source": [
        "```PA\n",
        "①NA値の代わりに平均を追加するか、階乗結果を追加する\n",
        "②BsmtQual（地下室の高さを評価）→　NAを除いて通常の列（ダミー変数）にする。\n",
        "③アルゴリズムを選択する方法→最初に問題のタイプを決定後、そのタイプの機械学習モデルに対してgridsearchcvまたはrandomizedsearchcvを実行。\n",
        "④カテゴリ変数の扱い→決定木の場合は、One HotEncoding（ダニー変数化）よりも、Label Encodingが有効\n",
        "⑤私はアルゴリズムを何度も試しましたが、スコアは0.7178です。改善したい。\n",
        "　→　・Lasso、Ridge、Svr、GradientBoosting、xgboost、lightgbmなどのモデルを使用\n",
        " 　　 ・相関行列を使用して、より重要な機能を選択しました。次に、ランダムフォレストリグレッサを使用して予測しました。\n",
        "    　・PCAのようないくつかの機能エンジニアリング手法を使用しています。autoMLフレームワークを使用\n",
        "```"
      ]
    },
    {
      "cell_type": "markdown",
      "metadata": {
        "id": "sUeW2qYvnFd6"
      },
      "source": [
        "```PY\n",
        "①tqdm：処理の進捗状況をプログレスバーで表示する。\n",
        "　for file in tqdm(file_list):\n",
        "      data = pd.read_csv(f'ttrain.csv')\n",
        "②enumerate：for文のループカウンタの値を、リストから取り出した要素と合わせて変数に取り出す。\n",
        "　for cnt, label_id in enumerate(label_ids.split('|')):\n",
        "      if cnt == 0:\n",
        "③sklearn.preprocessing.LabelEncoder()：文字列や数値で表されたラベルを数値に変換。\n",
        "  from sklearn import preprocessing\n",
        "  le = preprocessing.LabelEncoder()\n",
        "  labels = ['positive', 'negative', 'positive']\n",
        "  le.fit(labels)\n",
        "  labels_id = le.transform(labels)\n",
        "  print(labels_id) # [1 0 1]\n",
        "④klearn.preprocessing.LabelEncoder()：数値で表されたラベルを文字列や数字に変換。\n",
        "  le.fit(labels)\n",
        "  ids = [1, 1, 0]\n",
        "  decoded_labels = le.inverse_transform(ids)\n",
        "  print(ids, '->', decoded_labels) #['positive' 'positive' 'negative']\n",
        "⑤lambda：無名関数\n",
        "  df[(df.apply(lambda x: sum(x.isnull().values), axis = 1)>0)]\n",
        "```"
      ]
    },
    {
      "cell_type": "markdown",
      "metadata": {
        "id": "307xEgXMnFd7"
      },
      "source": [
        "# 【問題4】高い汎化性能のモデル作成"
      ]
    },
    {
      "cell_type": "markdown",
      "metadata": {
        "id": "5NBB9uaXnFd7"
      },
      "source": [
        "問題3で見つけたアイデアと、独自のアイデアを組み合わせ高い汎化性能のモデル作りを進めてください。\\\n",
        "その過程として、何を行うことで、クロスバリデーションの結果がどの程度変化したかを表にまとめてください。"
      ]
    },
    {
      "cell_type": "markdown",
      "metadata": {
        "id": "oVUUYIh8nFd7"
      },
      "source": [
        "[対策１]　選別する特徴量を変え、それぞれrmseが改善するかを確認する。"
      ]
    },
    {
      "cell_type": "markdown",
      "metadata": {
        "id": "PtbCi4kMnFd8"
      },
      "source": [
        "①まずは数値項目（type=int64）を順次追加してみる。"
      ]
    },
    {
      "cell_type": "markdown",
      "metadata": {
        "id": "tZT4eCrQnFd8"
      },
      "source": [
        "![image-2.png](attachment:image-2.png)"
      ]
    },
    {
      "cell_type": "markdown",
      "metadata": {
        "id": "62w9fGLBnFd8"
      },
      "source": [
        "パターン７のケースがRMSEが最小となった。ただし、特徴量をこれ以上増やしてもRMSEは下げ止まるようである。"
      ]
    },
    {
      "cell_type": "markdown",
      "metadata": {
        "id": "zJ2CV-eRnFd8"
      },
      "source": [
        "[対策２]　パターン7のケースで、X_trainを標準化してみる。"
      ]
    },
    {
      "cell_type": "markdown",
      "metadata": {
        "id": "arZG5BMrnFd8"
      },
      "source": [
        "以下の標準化メソッドを実行\\\n",
        "scaler.fit(X_train, X_test)\\\n",
        "X_train_std = scaler.transform(X_train)\\\n",
        "X_test_std = scaler.transform(X_test)"
      ]
    },
    {
      "cell_type": "markdown",
      "metadata": {
        "id": "gHlVVLJWnFd9"
      },
      "source": [
        "RMSE=31401であり、向上はあまり見られない。"
      ]
    },
    {
      "cell_type": "markdown",
      "metadata": {
        "id": "TdaqXez6nFd9"
      },
      "source": [
        "[対策３]　カテゴリ変数をダミー変数化する。"
      ]
    },
    {
      "cell_type": "markdown",
      "metadata": {
        "id": "VGTt26GWnFd9"
      },
      "source": [
        "①まず5つ以上欠損値がある特徴量（列）は削除する。"
      ]
    },
    {
      "cell_type": "markdown",
      "metadata": {
        "id": "iQBhKSuFnFd9"
      },
      "source": [
        "②欠損値があるサンプル（行）は削除する。"
      ]
    },
    {
      "cell_type": "markdown",
      "metadata": {
        "id": "PG0p-BxdnFd9"
      },
      "source": [
        "③MSZoning～HouseStyleをダミー変数化(下記、エンジ色の部分)してみる。"
      ]
    },
    {
      "cell_type": "markdown",
      "metadata": {
        "id": "zT4dx95YnFd9"
      },
      "source": [
        "![image.png](attachment:image.png)"
      ]
    },
    {
      "cell_type": "markdown",
      "metadata": {
        "id": "jL9PEwe_nFd-"
      },
      "source": [
        "RMSEは30761であり、若干改善が見られた。"
      ]
    },
    {
      "cell_type": "code",
      "metadata": {
        "colab": {
          "base_uri": "https://localhost:8080/",
          "height": 136
        },
        "id": "1ei2jAH8nFd-",
        "outputId": "9c84b654-7ab8-4893-8a2a-1c30b4c2399d"
      },
      "source": [
        "さらに、Roofmat1～Electrcalをダミー変数化(下記、肌色の部分)してみる。"
      ],
      "execution_count": 1,
      "outputs": [
        {
          "output_type": "error",
          "ename": "SyntaxError",
          "evalue": "ignored",
          "traceback": [
            "\u001b[0;36m  File \u001b[0;32m\"<ipython-input-1-f5bf7757feb9>\"\u001b[0;36m, line \u001b[0;32m1\u001b[0m\n\u001b[0;31m    さらに、Roofmat1～Electrcalをダミー変数化(下記、肌色の部分)してみる。\u001b[0m\n\u001b[0m                                ^\u001b[0m\n\u001b[0;31mSyntaxError\u001b[0m\u001b[0;31m:\u001b[0m invalid character in identifier\n"
          ]
        }
      ]
    },
    {
      "cell_type": "markdown",
      "metadata": {
        "id": "uJCmPg5knFd-"
      },
      "source": [
        "![image.png](attachment:image.png)"
      ]
    },
    {
      "cell_type": "markdown",
      "metadata": {
        "id": "Gg2vQjHpnFd-"
      },
      "source": [
        "RMSEは30243であり、若干改善が見られた。"
      ]
    },
    {
      "cell_type": "markdown",
      "metadata": {
        "id": "vLBnFZzwnFd-"
      },
      "source": [
        "さらに、KitchenQual～SaleConditionをダミー変数化(下記、ブルーの部分)してみる。"
      ]
    },
    {
      "cell_type": "markdown",
      "metadata": {
        "id": "BFgIdV0OnFd_"
      },
      "source": [
        "![image.png](attachment:image.png)"
      ]
    },
    {
      "cell_type": "markdown",
      "metadata": {
        "id": "NctaBiuHnFd_"
      },
      "source": [
        "RMSEは29631であり、改善した。"
      ]
    },
    {
      "cell_type": "markdown",
      "metadata": {
        "id": "lB7AbvHmnFd_"
      },
      "source": [
        "# 【問題5】最終的なモデルの選定"
      ]
    },
    {
      "cell_type": "code",
      "metadata": {
        "colab": {
          "base_uri": "https://localhost:8080/",
          "height": 154
        },
        "id": "0pBH42ztnFd_",
        "outputId": "adbf9592-0791-4cdb-ddfc-a3181bccddd4"
      },
      "source": [
        "モデルは、回帰モデルではRnndomForestRegressorが経験的に最も精度が良かったことから、今回もこのモデルを選択した。\\\n",
        "評価はRSMEで行う。最も特徴量が良くなる組み合わせを選んだ。カテゴリ変数はダミー変数化して使うほうが精度が良くなると思われる。\n",
        "RnndomForestRegressorでは、木の深さ、数の調整により若干改善した。最終的には、RMSEは、29556になった。"
      ],
      "execution_count": 2,
      "outputs": [
        {
          "output_type": "error",
          "ename": "SyntaxError",
          "evalue": "ignored",
          "traceback": [
            "\u001b[0;36m  File \u001b[0;32m\"<ipython-input-2-9167e89fee4f>\"\u001b[0;36m, line \u001b[0;32m1\u001b[0m\n\u001b[0;31m    モデルは、回帰モデルではRnndomForestRegressorが経験的に最も精度が良かったことから、今回もこのモデルを選択した。評価はRSMEで行う。最も特徴量が良くなる組み合わせを選んだ。カテゴリ変数はダミー変数化して使うほうが精度が良くなると思われる。\u001b[0m\n\u001b[0m                                                                                                                                     ^\u001b[0m\n\u001b[0;31mSyntaxError\u001b[0m\u001b[0;31m:\u001b[0m invalid character in identifier\n"
          ]
        }
      ]
    },
    {
      "cell_type": "markdown",
      "metadata": {
        "id": "97Q13mHOnFd_"
      },
      "source": [
        "Kaggleに提出する。"
      ]
    },
    {
      "cell_type": "code",
      "metadata": {
        "colab": {
          "base_uri": "https://localhost:8080/",
          "height": 224
        },
        "id": "d6tkaanvnFeA",
        "outputId": "1cd4d741-e2fd-4cde-b09c-292dd54a83d8"
      },
      "source": [
        "submission = pd.DataFrame()\n",
        "submission['SK_ID_CURR'] = X_Id.reshape(X_Id.shape[0])\n",
        "submission['TARGET'] = y_pred.reshape((y_pred.shape[0]))\n",
        "submission.to_csv('sub.csv', index=False)"
      ],
      "execution_count": 3,
      "outputs": [
        {
          "output_type": "error",
          "ename": "NameError",
          "evalue": "ignored",
          "traceback": [
            "\u001b[0;31m---------------------------------------------------------------------------\u001b[0m",
            "\u001b[0;31mNameError\u001b[0m                                 Traceback (most recent call last)",
            "\u001b[0;32m<ipython-input-3-0505ec62b8da>\u001b[0m in \u001b[0;36m<module>\u001b[0;34m()\u001b[0m\n\u001b[0;32m----> 1\u001b[0;31m \u001b[0msubmission\u001b[0m \u001b[0;34m=\u001b[0m \u001b[0mpd\u001b[0m\u001b[0;34m.\u001b[0m\u001b[0mDataFrame\u001b[0m\u001b[0;34m(\u001b[0m\u001b[0;34m)\u001b[0m\u001b[0;34m\u001b[0m\u001b[0;34m\u001b[0m\u001b[0m\n\u001b[0m\u001b[1;32m      2\u001b[0m \u001b[0msubmission\u001b[0m\u001b[0;34m[\u001b[0m\u001b[0;34m'SK_ID_CURR'\u001b[0m\u001b[0;34m]\u001b[0m \u001b[0;34m=\u001b[0m \u001b[0mX_Id\u001b[0m\u001b[0;34m.\u001b[0m\u001b[0mreshape\u001b[0m\u001b[0;34m(\u001b[0m\u001b[0mX_Id\u001b[0m\u001b[0;34m.\u001b[0m\u001b[0mshape\u001b[0m\u001b[0;34m[\u001b[0m\u001b[0;36m0\u001b[0m\u001b[0;34m]\u001b[0m\u001b[0;34m)\u001b[0m\u001b[0;34m\u001b[0m\u001b[0;34m\u001b[0m\u001b[0m\n\u001b[1;32m      3\u001b[0m \u001b[0msubmission\u001b[0m\u001b[0;34m[\u001b[0m\u001b[0;34m'TARGET'\u001b[0m\u001b[0;34m]\u001b[0m \u001b[0;34m=\u001b[0m \u001b[0my_pred\u001b[0m\u001b[0;34m.\u001b[0m\u001b[0mreshape\u001b[0m\u001b[0;34m(\u001b[0m\u001b[0;34m(\u001b[0m\u001b[0my_pred\u001b[0m\u001b[0;34m.\u001b[0m\u001b[0mshape\u001b[0m\u001b[0;34m[\u001b[0m\u001b[0;36m0\u001b[0m\u001b[0;34m]\u001b[0m\u001b[0;34m)\u001b[0m\u001b[0;34m)\u001b[0m\u001b[0;34m\u001b[0m\u001b[0;34m\u001b[0m\u001b[0m\n\u001b[1;32m      4\u001b[0m \u001b[0msubmission\u001b[0m\u001b[0;34m.\u001b[0m\u001b[0mto_csv\u001b[0m\u001b[0;34m(\u001b[0m\u001b[0;34m'sub.csv'\u001b[0m\u001b[0;34m,\u001b[0m \u001b[0mindex\u001b[0m\u001b[0;34m=\u001b[0m\u001b[0;32mFalse\u001b[0m\u001b[0;34m)\u001b[0m\u001b[0;34m\u001b[0m\u001b[0;34m\u001b[0m\u001b[0m\n",
            "\u001b[0;31mNameError\u001b[0m: name 'pd' is not defined"
          ]
        }
      ]
    },
    {
      "cell_type": "code",
      "metadata": {
        "id": "gID3FKM_nFeA"
      },
      "source": [
        "submission"
      ],
      "execution_count": null,
      "outputs": []
    },
    {
      "cell_type": "code",
      "metadata": {
        "id": "75R48g3mnFeA"
      },
      "source": [
        ""
      ],
      "execution_count": null,
      "outputs": []
    }
  ]
}