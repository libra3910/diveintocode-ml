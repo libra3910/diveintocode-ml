{
  "nbformat": 4,
  "nbformat_minor": 0,
  "metadata": {
    "kernelspec": {
      "display_name": "Python 3",
      "language": "python",
      "name": "python3"
    },
    "language_info": {
      "codemirror_mode": {
        "name": "ipython",
        "version": 3
      },
      "file_extension": ".py",
      "mimetype": "text/x-python",
      "name": "python",
      "nbconvert_exporter": "python",
      "pygments_lexer": "ipython3",
      "version": "3.8.5"
    },
    "colab": {
      "name": "sprint_ensemble.ipynb",
      "provenance": [],
      "collapsed_sections": [
        "Cls4s7KPVMsU",
        "m_7y06AoVMsa"
      ],
      "include_colab_link": true
    }
  },
  "cells": [
    {
      "cell_type": "markdown",
      "metadata": {
        "id": "view-in-github",
        "colab_type": "text"
      },
      "source": [
        "<a href=\"https://colab.research.google.com/github/libra3910/diveintocode-ml/blob/master/sprint_ensemble.ipynb\" target=\"_parent\"><img src=\"https://colab.research.google.com/assets/colab-badge.svg\" alt=\"Open In Colab\"/></a>"
      ]
    },
    {
      "cell_type": "markdown",
      "metadata": {
        "id": "OCPQ6O_LVMsH"
      },
      "source": [
        "# sprint アンサンブル学習"
      ]
    },
    {
      "cell_type": "code",
      "metadata": {
        "id": "ZJmN36mLVMsM"
      },
      "source": [
        "import pandas as pd\n",
        "import numpy as np\n",
        "DIR = \"C:/Users/es/Documents/Python Scripts/2.Feb/Week4/ensemble/\"\n",
        "data = pd.read_csv(f'{DIR}train.csv')"
      ],
      "execution_count": null,
      "outputs": []
    },
    {
      "cell_type": "code",
      "metadata": {
        "id": "NlYpkTITVMsN"
      },
      "source": [
        "X = data.loc[:,['GrLivArea','YearBuilt']]\n",
        "y = data.loc[:,['SalePrice']]"
      ],
      "execution_count": null,
      "outputs": []
    },
    {
      "cell_type": "code",
      "metadata": {
        "id": "KSnO6gjIVMsO"
      },
      "source": [
        "from sklearn.model_selection import train_test_split\n",
        "X_train, X_val, y_train, y_val = train_test_split(X, y, test_size = 0.2, random_state = 43)"
      ],
      "execution_count": null,
      "outputs": []
    },
    {
      "cell_type": "code",
      "metadata": {
        "id": "5Zf0JUB6VMsO"
      },
      "source": [
        "X_train = np.array(X_train)\n",
        "X_val = np.array(X_val)\n",
        "y_train = np.array(y_train)\n",
        "y_val = np.array(y_val)"
      ],
      "execution_count": null,
      "outputs": []
    },
    {
      "cell_type": "markdown",
      "metadata": {
        "id": "HFFAWMQ-VMsP"
      },
      "source": [
        "## 【問題1】ブレンディングのスクラッチ実装"
      ]
    },
    {
      "cell_type": "markdown",
      "metadata": {
        "id": "VKmo3tusVMsP"
      },
      "source": [
        "### １．線形回帰分析"
      ]
    },
    {
      "cell_type": "code",
      "metadata": {
        "id": "T8LWfP0xVMsQ"
      },
      "source": [
        "from sklearn.linear_model import LinearRegression\n",
        "from sklearn.metrics import mean_squared_error"
      ],
      "execution_count": null,
      "outputs": []
    },
    {
      "cell_type": "code",
      "metadata": {
        "id": "tXDJTS4dVMsQ"
      },
      "source": [
        "lm = LinearRegression()"
      ],
      "execution_count": null,
      "outputs": []
    },
    {
      "cell_type": "code",
      "metadata": {
        "id": "g1qEcu_RVMsR",
        "outputId": "44455589-148e-4877-c7b4-cd635f91f54c"
      },
      "source": [
        "lm.fit(X_train, y_train)"
      ],
      "execution_count": null,
      "outputs": [
        {
          "output_type": "execute_result",
          "data": {
            "text/plain": [
              "LinearRegression()"
            ]
          },
          "metadata": {
            "tags": []
          },
          "execution_count": 242
        }
      ]
    },
    {
      "cell_type": "code",
      "metadata": {
        "id": "jqSOdU13VMsR"
      },
      "source": [
        "y_pred_lm = lm.predict(X_val)"
      ],
      "execution_count": null,
      "outputs": []
    },
    {
      "cell_type": "markdown",
      "metadata": {
        "id": "TqUC721yVMsS"
      },
      "source": [
        "### 2.サポートベクター"
      ]
    },
    {
      "cell_type": "code",
      "metadata": {
        "id": "xU9PnPkjVMsS"
      },
      "source": [
        "from sklearn.svm import SVR"
      ],
      "execution_count": null,
      "outputs": []
    },
    {
      "cell_type": "code",
      "metadata": {
        "id": "1wEOC07IVMsS"
      },
      "source": [
        "model = SVR(kernel='rbf')    # 正則化パラメータ=1, 線形カーネルを使用"
      ],
      "execution_count": null,
      "outputs": []
    },
    {
      "cell_type": "code",
      "metadata": {
        "id": "q670B79MVMsT",
        "outputId": "843f1ace-5be2-483c-b82f-be58884202c5"
      },
      "source": [
        "model.fit(X_train, y_train.reshape(-1))"
      ],
      "execution_count": null,
      "outputs": [
        {
          "output_type": "execute_result",
          "data": {
            "text/plain": [
              "SVR()"
            ]
          },
          "metadata": {
            "tags": []
          },
          "execution_count": 246
        }
      ]
    },
    {
      "cell_type": "code",
      "metadata": {
        "id": "EYZyTN-LVMsU"
      },
      "source": [
        "y_pred_model = model.predict(X_val)"
      ],
      "execution_count": null,
      "outputs": []
    },
    {
      "cell_type": "markdown",
      "metadata": {
        "id": "Cls4s7KPVMsU"
      },
      "source": [
        "### 3.決定回帰"
      ]
    },
    {
      "cell_type": "code",
      "metadata": {
        "id": "dr2uncCpVMsU"
      },
      "source": [
        "from sklearn.tree import DecisionTreeRegressor"
      ],
      "execution_count": null,
      "outputs": []
    },
    {
      "cell_type": "code",
      "metadata": {
        "id": "UoZzmloCVMsV"
      },
      "source": [
        "dt = DecisionTreeRegressor(random_state = 1234)"
      ],
      "execution_count": null,
      "outputs": []
    },
    {
      "cell_type": "code",
      "metadata": {
        "id": "gWudMq2uVMsV",
        "outputId": "108d7f24-c776-4c07-d321-07921bcbb46d"
      },
      "source": [
        "dt.fit(X_train, y_train)"
      ],
      "execution_count": null,
      "outputs": [
        {
          "output_type": "execute_result",
          "data": {
            "text/plain": [
              "DecisionTreeRegressor(random_state=1234)"
            ]
          },
          "metadata": {
            "tags": []
          },
          "execution_count": 250
        }
      ]
    },
    {
      "cell_type": "code",
      "metadata": {
        "id": "_rFl8lUcVMsW"
      },
      "source": [
        "y_pred_dt = dt.predict(X_val)"
      ],
      "execution_count": null,
      "outputs": []
    },
    {
      "cell_type": "code",
      "metadata": {
        "id": "v7016UzLVMsW"
      },
      "source": [
        "y_pred_lm = y_pred_lm.reshape(-1,1)\n",
        "y_pred_model = y_pred_model.reshape(-1,1)\n",
        "y_pred_dt = y_pred_dt.reshape(-1,1)"
      ],
      "execution_count": null,
      "outputs": []
    },
    {
      "cell_type": "code",
      "metadata": {
        "id": "-2dzKlnjVMsW"
      },
      "source": [
        "from sklearn.metrics import mean_squared_error"
      ],
      "execution_count": null,
      "outputs": []
    },
    {
      "cell_type": "code",
      "metadata": {
        "id": "DpGlRjNFVMsX",
        "outputId": "db61af25-275d-453b-e4b6-f2e7d69ed20c"
      },
      "source": [
        "# それぞれのモデル単体で推測した場合のmse\n",
        "print(\"mean_squared_error_lm={:,}\".format(mean_squared_error(y_val, y_pred_lm)))\n",
        "print(\"mean_squared_error_svr={:,}\".format(mean_squared_error(y_val, y_pred_model)))\n",
        "print(\"mean_squared_error_dt={:,}\".format(mean_squared_error(y_val, y_pred_dt)))"
      ],
      "execution_count": null,
      "outputs": [
        {
          "output_type": "stream",
          "text": [
            "mean_squared_error_lm=2,105,369,619.320789\n",
            "mean_squared_error_svr=6,830,342,756.09672\n",
            "mean_squared_error_dt=2,377,447,952.989726\n"
          ],
          "name": "stdout"
        }
      ]
    },
    {
      "cell_type": "code",
      "metadata": {
        "id": "9B73nfcBVMsX"
      },
      "source": [
        "# 線形回帰とSVRをブレンディング\n",
        "y_pred_lmm = (y_pred_lm + y_pred_model) / 2"
      ],
      "execution_count": null,
      "outputs": []
    },
    {
      "cell_type": "code",
      "metadata": {
        "id": "E5HbfiE5VMsX"
      },
      "source": [
        "# 線形回帰と決定木をブレンディング\n",
        "y_pred_lmd = (y_pred_lm + y_pred_dt) / 2"
      ],
      "execution_count": null,
      "outputs": []
    },
    {
      "cell_type": "code",
      "metadata": {
        "id": "rn7_C9QGVMsY"
      },
      "source": [
        "# SVRと決定木をブレンディング\n",
        "y_pred_md = (y_pred_model + y_pred_dt) / 2"
      ],
      "execution_count": null,
      "outputs": []
    },
    {
      "cell_type": "code",
      "metadata": {
        "id": "dFqqJU0yVMsY",
        "outputId": "fda44930-b0b5-4261-eb79-0ba8b04202f4"
      },
      "source": [
        "# それぞれのブレンディングのmse\n",
        "print(\"mean_squared_error_lmm={:,}\".format(mean_squared_error(y_val, y_pred_lmm)))\n",
        "print(\"mean_squared_error_lmd={:,}\".format(mean_squared_error(y_val, y_pred_lmd)))\n",
        "print(\"mean_squared_error_md={:,}\".format(mean_squared_error(y_val, y_pred_md)))"
      ],
      "execution_count": null,
      "outputs": [
        {
          "output_type": "stream",
          "text": [
            "mean_squared_error_lmm=3,145,550,977.3520355\n",
            "mean_squared_error_lmd=1,697,083,726.8823788\n",
            "mean_squared_error_md=3,068,434,433.826223\n"
          ],
          "name": "stdout"
        }
      ]
    },
    {
      "cell_type": "code",
      "metadata": {
        "id": "y0FfAv1bVMsY"
      },
      "source": [
        "# すべてのモデルをブレンディング\n",
        "y_pred_all = (y_pred_lm + y_pred_model + y_pred_dt) / 3"
      ],
      "execution_count": null,
      "outputs": []
    },
    {
      "cell_type": "code",
      "metadata": {
        "id": "BGpwEMkwVMsZ",
        "outputId": "96e49bc4-6362-4bc5-e8b5-43d6b355fcce"
      },
      "source": [
        "# すべてのモデルをブレンディングのmse\n",
        "print(\"mean_squared_error_all={:,}\".format(mean_squared_error(y_val, y_pred_all)))"
      ],
      "execution_count": null,
      "outputs": [
        {
          "output_type": "stream",
          "text": [
            "mean_squared_error_all=2,259,012,913.759479\n"
          ],
          "name": "stdout"
        }
      ]
    },
    {
      "cell_type": "markdown",
      "metadata": {
        "id": "lj8VnSbcVMsZ"
      },
      "source": [
        "```PY\n",
        "MSEランキング\n",
        "　①線形回帰分析と決定木のブレンディング：1,697,083,726.8823788\n",
        "　②線形回帰分析:2,105,369,619.320789\n",
        "　③3モデル全てをブレンディング：2,259,012,913.759479\n",
        "　④決定木：2,377,447,952.989726\n",
        "　⑤SVRと決定木のブレンディング：3,068,434,433.826223\n",
        "　⑥線形回帰とSVRのブレンディング：3,145,550,977.3520355\n",
        "　⑦SVR：6,830,342,756.09672\n",
        "```"
      ]
    },
    {
      "cell_type": "code",
      "metadata": {
        "id": "vMok6uz_VMsa",
        "outputId": "9eb07e73-11c3-49c6-a1eb-e93f573add9d"
      },
      "source": [
        "# 線形回帰と決定木をブレンディング\n",
        "i = 0.1\n",
        "while i < 2.0:\n",
        "    y_pred_lmd = (y_pred_lm * i + y_pred_dt * (1 - i)) / 2\n",
        "    print(\"mean_squared_error_lmd={:,},i={}\".format(mean_squared_error(y_val, y_pred_lmd), i))\n",
        "    i += 0.1"
      ],
      "execution_count": null,
      "outputs": [
        {
          "output_type": "stream",
          "text": [
            "mean_squared_error_lmd=11,648,286,205.445978,i=0.1\n",
            "mean_squared_error_lmd=11,586,819,756.74351,i=0.2\n",
            "mean_squared_error_lmd=11,536,239,809.226498,i=0.30000000000000004\n",
            "mean_squared_error_lmd=11,496,546,362.894945,i=0.4\n",
            "mean_squared_error_lmd=11,467,739,417.748848,i=0.5\n",
            "mean_squared_error_lmd=11,449,818,973.78821,i=0.6\n",
            "mean_squared_error_lmd=11,442,785,031.013027,i=0.7\n",
            "mean_squared_error_lmd=11,446,637,589.423306,i=0.7999999999999999\n",
            "mean_squared_error_lmd=11,461,376,649.01904,i=0.8999999999999999\n",
            "mean_squared_error_lmd=11,487,002,209.80023,i=0.9999999999999999\n",
            "mean_squared_error_lmd=11,523,514,271.76688,i=1.0999999999999999\n",
            "mean_squared_error_lmd=11,570,912,834.918987,i=1.2\n",
            "mean_squared_error_lmd=11,629,197,899.256552,i=1.3\n",
            "mean_squared_error_lmd=11,698,369,464.779575,i=1.4000000000000001\n",
            "mean_squared_error_lmd=11,778,427,531.48805,i=1.5000000000000002\n",
            "mean_squared_error_lmd=11,869,372,099.38199,i=1.6000000000000003\n",
            "mean_squared_error_lmd=11,971,203,168.461384,i=1.7000000000000004\n",
            "mean_squared_error_lmd=12,083,920,738.726236,i=1.8000000000000005\n",
            "mean_squared_error_lmd=12,207,524,810.176548,i=1.9000000000000006\n"
          ],
          "name": "stdout"
        }
      ]
    },
    {
      "cell_type": "markdown",
      "metadata": {
        "id": "m_7y06AoVMsa"
      },
      "source": [
        "### 線形回帰と決定木をブレンディング\n",
        "### 線形回帰モデル=0.7、決定木=0.3が最もMSEが小さい"
      ]
    },
    {
      "cell_type": "markdown",
      "metadata": {
        "id": "p4X5hHWfVMsa"
      },
      "source": [
        "## 【問題2】バギングのスクラッチ実装"
      ]
    },
    {
      "cell_type": "code",
      "metadata": {
        "id": "cfV4yZVzVMsa",
        "outputId": "56212a76-29f9-468a-e183-3715d34a832b"
      },
      "source": [
        "# 線形回帰モデルでバギング\n",
        "y_pred_val = np.zeros(([y_val.shape[0],y_val.shape[1]]), dtype='float64')\n",
        "y_val_val = np.zeros(([y_val.shape[0],y_val.shape[1]]), dtype='float64')\n",
        "i_init = 2000\n",
        "i_inter = 10\n",
        "for i in range(i_init, i_init+i_inter):\n",
        "    X_train, X_val, y_train, y_val = train_test_split(X, y, test_size = 0.2, random_state = i, shuffle=True)\n",
        "    X_train = np.array(X_train)\n",
        "    X_val = np.array(X_val)\n",
        "    y_train = np.array(y_train)\n",
        "    y_val = np.array(y_val)\n",
        "    lm = LinearRegression()\n",
        "    lm.fit(X_train, y_train)\n",
        "    y_pred_tmp = lm.predict(X_val).reshape([y_val.shape[0],y_val.shape[1]])\n",
        "    print(\"MSE={:,}\".format(mean_squared_error(y_val, y_pred_tmp)))\n",
        "    y_val = y_val.astype('float64')\n",
        "    y_pred_val += y_pred_tmp\n",
        "    y_val_val += y_val\n",
        "y_pred_val = y_pred_val / i_inter\n",
        "y_val_val = y_val_val / i_inter\n",
        "print(\"mean_squared_error_lm={:,}\".format(mean_squared_error(y_val_val, y_pred_val)))"
      ],
      "execution_count": null,
      "outputs": [
        {
          "output_type": "stream",
          "text": [
            "MSE=2,382,832,686.1864166\n",
            "MSE=1,938,935,510.7321937\n",
            "MSE=1,613,185,639.5927935\n",
            "MSE=2,236,978,340.1265492\n",
            "MSE=2,918,456,414.673415\n",
            "MSE=2,579,586,005.864271\n",
            "MSE=2,071,087,555.3474815\n",
            "MSE=2,075,595,166.082772\n",
            "MSE=2,553,214,758.3514524\n",
            "MSE=3,064,109,805.175496\n",
            "mean_squared_error_lm=268,032,535.7894783\n"
          ],
          "name": "stdout"
        }
      ]
    },
    {
      "cell_type": "code",
      "metadata": {
        "id": "168roH4OVMsb",
        "outputId": "14502663-ad26-4acc-8d2e-569d63b21792"
      },
      "source": [
        "# SVRモデルでバギング\n",
        "y_pred_val = np.zeros(([y_val.shape[0],y_val.shape[1]]), dtype='float64')\n",
        "y_val_val = np.zeros(([y_val.shape[0],y_val.shape[1]]), dtype='float64')\n",
        "i_init = 2000\n",
        "i_inter = 10\n",
        "for i in range(i_init, i_init+i_inter):\n",
        "    X_train, X_val, y_train, y_val = train_test_split(X, y, test_size = 0.2, random_state = i, shuffle=True)\n",
        "    X_train = np.array(X_train)\n",
        "    y_train = np.array(y_train)\n",
        "    X_val = np.array(X_val)\n",
        "    y_val = np.array(y_val)\n",
        "    model = SVR(kernel='rbf')\n",
        "    model.fit(X_train, y_train.reshape(-1))\n",
        "    y_pred_tmp = model.predict(X_val).reshape([y_val.shape[0],y_val.shape[1]])\n",
        "    print(\"MSE={:,}\".format(mean_squared_error(y_val, y_pred_tmp)))\n",
        "    y_val = y_val.astype('float64')\n",
        "    y_pred_val += y_pred_tmp\n",
        "    y_val_val += y_val\n",
        "y_pred_val = y_pred_val / i_inter\n",
        "y_val_val = y_val_val / i_inter\n",
        "print(\"mean_squared_error_lm={:,}\".format(mean_squared_error(y_val_val, y_pred_val)))"
      ],
      "execution_count": null,
      "outputs": [
        {
          "output_type": "stream",
          "text": [
            "MSE=8,490,166,175.069968\n",
            "MSE=6,636,687,365.351902\n",
            "MSE=6,234,296,771.390477\n",
            "MSE=5,645,222,553.390873\n",
            "MSE=7,849,079,076.46418\n",
            "MSE=7,609,101,704.805023\n",
            "MSE=6,467,974,676.449675\n",
            "MSE=6,678,241,975.482631\n",
            "MSE=8,152,960,832.357161\n",
            "MSE=9,057,737,119.6678\n",
            "mean_squared_error_lm=1,089,212,922.2177458\n"
          ],
          "name": "stdout"
        }
      ]
    },
    {
      "cell_type": "code",
      "metadata": {
        "id": "XQdvGV4QVMsc",
        "outputId": "cba4e7fd-fd3e-4b8e-89d5-126074c0d24f"
      },
      "source": [
        "# 決定木モデルでバギング\n",
        "y_pred_val = 0\n",
        "i_init = 2000\n",
        "i_inter = 10\n",
        "for i in range(i_init, i_init+i_inter):\n",
        "    X_train, X_val, y_train, y_val = train_test_split(X, y, test_size = 0.2, random_state = i, shuffle=True)\n",
        "    X_train = np.array(X_train)\n",
        "    y_train = np.array(y_train)\n",
        "    X_val = np.array(X_val)\n",
        "    y_val = np.array(y_val)\n",
        "    dt = DecisionTreeRegressor(random_state = 1234)\n",
        "    dt.fit(X_train, y_train)\n",
        "    y_pred_tmp = lm.predict(X_val).reshape([y_val.shape[0],y_val.shape[1]])\n",
        "    print(\"MSE={:,}\".format(mean_squared_error(y_val, y_pred_tmp)))\n",
        "    y_pred_val += y_pred_tmp\n",
        "    y_val_val += y_val\n",
        "y_pred_val = y_pred_val / i_inter\n",
        "y_val_val = y_val_val / i_inter\n",
        "print(\"mean_squared_error_lm={:,}\".format(mean_squared_error(y_val_val, y_pred_val)))"
      ],
      "execution_count": null,
      "outputs": [
        {
          "output_type": "stream",
          "text": [
            "MSE=2,175,582,913.889512\n",
            "MSE=1,932,080,350.1447763\n",
            "MSE=1,609,569,703.795124\n",
            "MSE=2,222,605,183.938506\n",
            "MSE=2,909,515,876.9674687\n",
            "MSE=2,574,573,689.4082384\n",
            "MSE=2,070,091,256.5466843\n",
            "MSE=2,062,527,186.5475042\n",
            "MSE=2,521,845,205.4894342\n",
            "MSE=3,064,109,805.175496\n",
            "mean_squared_error_lm=701,200,842.8145317\n"
          ],
          "name": "stdout"
        }
      ]
    },
    {
      "cell_type": "markdown",
      "metadata": {
        "id": "tYCoMUQ-VMsc"
      },
      "source": [
        "# 【問題3】スタッキングのスクラッチ実装"
      ]
    },
    {
      "cell_type": "code",
      "metadata": {
        "id": "dQB6-3VMVMsd"
      },
      "source": [
        "from sklearn.ensemble import RandomForestRegressor\n",
        "rf = RandomForestRegressor()"
      ],
      "execution_count": null,
      "outputs": []
    },
    {
      "cell_type": "code",
      "metadata": {
        "id": "9MXKgyIiVMsd"
      },
      "source": [
        "from sklearn.model_selection import KFold"
      ],
      "execution_count": null,
      "outputs": []
    },
    {
      "cell_type": "code",
      "metadata": {
        "id": "lD0UfhZIVMsd"
      },
      "source": [
        "class ScratchEnsemble():\n",
        "    \n",
        "    def __init__(self, fit_model, pred_model, n_splits=3):\n",
        "        # ハイパーパラメータを属性として記録\n",
        "        self.fit_model = fit_model\n",
        "        self.pred_model = pred_model\n",
        "        self.n_splits = n_splits\n",
        "        \n",
        "    def fit(self, X, y):\n",
        "    \n",
        "        kf = KFold(n_splits = self.n_splits, shuffle = True)\n",
        "        y_pred_all = np.zeros([X.shape[0], len(self.fit_model)])\n",
        "        y_val_all = np.zeros([y.shape[0]])\n",
        "\n",
        "        for i, model in enumerate(self.fit_model): # モデル数分、ループする。\n",
        "            \n",
        "            for j, [train_index, test_index] in enumerate(kf.split(X, y), 0): # 分割分、ループする。\n",
        "                \n",
        "                X_train = X[train_index]\n",
        "                X_val = X[test_index]\n",
        "                y_train = y[train_index]\n",
        "                y_val = y[test_index]\n",
        "                \n",
        "                self.mft = model.fit(X_train, y_train)\n",
        "                y_pred = self.mft.predict(X_val).flatten()\n",
        "\n",
        "                y_pred_all[test_index, i] = y_pred\n",
        "                y_val_all[test_index] = y_val.flatten()\n",
        "\n",
        "        self.pred_model.fit(y_pred_all, y_val_all) # 推定した結果をモデル数分の次元で特徴量とし、新たに学習。\n",
        "        \n",
        "    def predict(self, X):\n",
        "        \n",
        "        pred_f = np.zeros([X.shape[0], len(self.fit_model)])\n",
        "        \n",
        "        for i, model in enumerate(self.fit_model):\n",
        "            \n",
        "            y_pred = np.zeros([X.shape[0], self.n_splits])\n",
        "            \n",
        "            for j in range(self.n_splits):\n",
        "            \n",
        "                y_pred[:,j] = self.mft.predict(X)\n",
        "            \n",
        "            pred_f[:,i] = np.average(y_pred, axis = 1)\n",
        "            \n",
        "        y_pred = self.pred_model.predict(pred_f)\n",
        "        \n",
        "        return y_pred\n",
        "                \n",
        "    def calc_mse(self, y_test, y_pred):\n",
        "    \n",
        "        mse = mean_squared_error(y_test, y_pred, squared = True)\n",
        "        print(\"{}:RMSE={:,}\".format(self.pred_model, mse)) \n"
      ],
      "execution_count": null,
      "outputs": []
    },
    {
      "cell_type": "code",
      "metadata": {
        "id": "UhnwTpUMVMse",
        "outputId": "fbe0263f-5e75-48bc-8b46-cf917950a3df"
      },
      "source": [
        "#分割数（k0）とモデル数（m0）を定義する。\n",
        "k0 = 3\n",
        "m0 = 3\n",
        "fit_model = [lm, model, dt]\n",
        "pred_model = rf\n",
        "\n",
        "se = ScratchEnsemble(fit_model=fit_model, pred_model=pred_model)\n",
        "y_pred = se.fit(X_train, y_train)\n",
        "y_pred = se.predict(X_val)\n",
        "se.calc_mse(y_val, y_pred)"
      ],
      "execution_count": null,
      "outputs": [
        {
          "output_type": "stream",
          "text": [
            "C:\\Users\\es\\anaconda3\\lib\\site-packages\\sklearn\\utils\\validation.py:72: DataConversionWarning: A column-vector y was passed when a 1d array was expected. Please change the shape of y to (n_samples, ), for example using ravel().\n",
            "  return f(**kwargs)\n",
            "C:\\Users\\es\\anaconda3\\lib\\site-packages\\sklearn\\utils\\validation.py:72: DataConversionWarning: A column-vector y was passed when a 1d array was expected. Please change the shape of y to (n_samples, ), for example using ravel().\n",
            "  return f(**kwargs)\n",
            "C:\\Users\\es\\anaconda3\\lib\\site-packages\\sklearn\\utils\\validation.py:72: DataConversionWarning: A column-vector y was passed when a 1d array was expected. Please change the shape of y to (n_samples, ), for example using ravel().\n",
            "  return f(**kwargs)\n"
          ],
          "name": "stderr"
        },
        {
          "output_type": "stream",
          "text": [
            "RandomForestRegressor():RMSE=3,918,074,574.4426427\n"
          ],
          "name": "stdout"
        }
      ]
    },
    {
      "cell_type": "code",
      "metadata": {
        "id": "8kEYU-khVMse"
      },
      "source": [
        ""
      ],
      "execution_count": null,
      "outputs": []
    }
  ]
}