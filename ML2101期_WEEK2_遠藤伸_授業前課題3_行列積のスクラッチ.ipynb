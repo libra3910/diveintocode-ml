{
  "nbformat": 4,
  "nbformat_minor": 0,
  "metadata": {
    "kernelspec": {
      "display_name": "Python 3",
      "language": "python",
      "name": "python3"
    },
    "language_info": {
      "codemirror_mode": {
        "name": "ipython",
        "version": 3
      },
      "file_extension": ".py",
      "mimetype": "text/x-python",
      "name": "python",
      "nbconvert_exporter": "python",
      "pygments_lexer": "ipython3",
      "version": "3.8.5"
    },
    "colab": {
      "name": "ML2101期_WEEK2_遠藤伸_授業前課題3_行列積のスクラッチ.ipynb",
      "provenance": [],
      "collapsed_sections": [],
      "include_colab_link": true
    }
  },
  "cells": [
    {
      "cell_type": "markdown",
      "metadata": {
        "id": "view-in-github",
        "colab_type": "text"
      },
      "source": [
        "<a href=\"https://colab.research.google.com/github/libra3910/diveintocode-ml/blob/master/ML2101%E6%9C%9F_WEEK2_%E9%81%A0%E8%97%A4%E4%BC%B8_%E6%8E%88%E6%A5%AD%E5%89%8D%E8%AA%B2%E9%A1%8C3_%E8%A1%8C%E5%88%97%E7%A9%8D%E3%81%AE%E3%82%B9%E3%82%AF%E3%83%A9%E3%83%83%E3%83%81.ipynb\" target=\"_parent\"><img src=\"https://colab.research.google.com/assets/colab-badge.svg\" alt=\"Open In Colab\"/></a>"
      ]
    },
    {
      "cell_type": "markdown",
      "metadata": {
        "id": "sPRiB8ifKXxx"
      },
      "source": [
        "【問題1】行列積を手計算する"
      ]
    },
    {
      "cell_type": "markdown",
      "metadata": {
        "id": "oUfP3w3IKXx4"
      },
      "source": [
        "A = [[([-1,2,3] * [0,0,2]), ([-1,2,3] * [2,2,9]), ([-1,2,3] * [1,-8,-1])],\n",
        "     [([4,-5,6] * [0,0,2]), ([4,-5,6] * [2,2,9]), ([4,-5,6] * [1,-8,-1])],\n",
        "     [([7,8,-9] * [0,0,2]), ([7,8,-9] * [2,2,9]), ([7,8,-9] * [1,-8,-1])]]\n",
        "  \n",
        "  = [[(-1 * 0 + 2 * 0 + 3 * 2), (-1 * 2+ 2 * 2 + 3 * 9), (-1 * 1 + 2 * -8 + 3 * -1)]\n",
        "     [(4 * 0 + -5 * 0 + 6 * 2), (4 * 2 + -5 * 2 + 6 * 9), (4 * 1 + -5 * -8 + 6 * -1)]\n",
        "     [(7 * 0 + 8 * 0 + -9 * 2), (7 * 2 + 8 * 2 + -9 * 9), (7 * 1 + 8 * -8 + -9 * -1)]]\n",
        "  \n",
        "  = [[  6, 29,-20],\n",
        "     [ 12, 52, 38],\n",
        "     [-18,-51,-48]]"
      ]
    },
    {
      "cell_type": "markdown",
      "metadata": {
        "id": "lfQRUNGjKXx4"
      },
      "source": [
        "【問題2】NumPyの関数による計算"
      ]
    },
    {
      "cell_type": "code",
      "metadata": {
        "id": "JEQtCXYsKXx5",
        "outputId": "e8076de3-1be4-4b04-9277-a22e537b4678"
      },
      "source": [
        "import numpy as np\n",
        "a = np.array([[-1,2,3],[4,-5,6],[7,8,-9]])\n",
        "b = np.array([[0,2,1],[0,2,-8],[2,9,-1]])\n",
        "\n",
        "A = np.matmul(a,b)\n",
        "A"
      ],
      "execution_count": null,
      "outputs": [
        {
          "output_type": "execute_result",
          "data": {
            "text/plain": [
              "array([[  6,  29, -20],\n",
              "       [ 12,  52,  38],\n",
              "       [-18, -51, -48]])"
            ]
          },
          "metadata": {
            "tags": []
          },
          "execution_count": 1
        }
      ]
    },
    {
      "cell_type": "code",
      "metadata": {
        "id": "rRuUxyUiKXx6",
        "outputId": "552f2d26-3d5f-4364-9773-a49d5be60dd5"
      },
      "source": [
        "B = np.dot(a,b)\n",
        "B"
      ],
      "execution_count": null,
      "outputs": [
        {
          "output_type": "execute_result",
          "data": {
            "text/plain": [
              "array([[  6,  29, -20],\n",
              "       [ 12,  52,  38],\n",
              "       [-18, -51, -48]])"
            ]
          },
          "metadata": {
            "tags": []
          },
          "execution_count": 2
        }
      ]
    },
    {
      "cell_type": "code",
      "metadata": {
        "id": "IYCZ8d89KXx7",
        "outputId": "497f72f7-8936-4e54-c01f-c3c6ceb8c456"
      },
      "source": [
        "C = a@b\n",
        "C"
      ],
      "execution_count": null,
      "outputs": [
        {
          "output_type": "execute_result",
          "data": {
            "text/plain": [
              "array([[  6,  29, -20],\n",
              "       [ 12,  52,  38],\n",
              "       [-18, -51, -48]])"
            ]
          },
          "metadata": {
            "tags": []
          },
          "execution_count": 3
        }
      ]
    },
    {
      "cell_type": "markdown",
      "metadata": {
        "id": "zN_iKKVaKXx7"
      },
      "source": [
        "【問題3】ある要素の計算を実装"
      ]
    },
    {
      "cell_type": "code",
      "metadata": {
        "id": "Q4G6T-YOKXx7",
        "outputId": "c66ca9fb-1c75-4ae9-dc81-88ce83b01130"
      },
      "source": [
        "n = 3\n",
        "D = []\n",
        "for i in range(n):\n",
        "  for j in range(n):\n",
        "    mid_val = 0\n",
        "    for k in range(n):\n",
        "      mid_val += a[i, k] * b[k, j]\n",
        "    D.append(mid_val)\n",
        "D"
      ],
      "execution_count": null,
      "outputs": [
        {
          "output_type": "execute_result",
          "data": {
            "text/plain": [
              "[6, 29, -20, 12, 52, 38, -18, -51, -48]"
            ]
          },
          "metadata": {
            "tags": []
          },
          "execution_count": 4
        }
      ]
    },
    {
      "cell_type": "markdown",
      "metadata": {
        "id": "fzhGUMVaKXx8"
      },
      "source": [
        "【問題4】行列積を行う関数の作成"
      ]
    },
    {
      "cell_type": "code",
      "metadata": {
        "id": "6K9pJM3WKXx8",
        "outputId": "7cfcd69f-8e38-47f4-a2b4-2ff2c595e5dd"
      },
      "source": [
        "def matrix_product(a,b):\n",
        "  n = len(a)\n",
        "  D = []\n",
        "  for i in range(n):\n",
        "    for j in range(n):\n",
        "      mid_val = 0\n",
        "      for k in range(n):\n",
        "        mid_val += a[i, k] * b[k, j]\n",
        "      D.append(mid_val)\n",
        "  return(D)\n",
        "\n",
        "a2 = np.array([[-1,2,3,4],[4,-5,6,7],[7,8,-9,0],[3,5,6,-7]])\n",
        "b2 = np.array([[0,2,1,0],[0,2,-8,6],[2,9,-1,3],[4,5,6,-7]])\n",
        "print(matrix_product(a2,b2))"
      ],
      "execution_count": null,
      "outputs": [
        {
          "output_type": "stream",
          "text": [
            "[22, 49, 4, -7, 40, 87, 80, -61, -18, -51, -48, 21, -16, 35, -85, 97]\n"
          ],
          "name": "stdout"
        }
      ]
    },
    {
      "cell_type": "markdown",
      "metadata": {
        "id": "5FtstFYZKXx8"
      },
      "source": [
        "【問題5】計算が定義されない入力を判定する"
      ]
    },
    {
      "cell_type": "code",
      "metadata": {
        "id": "Az8k09JkKXx9",
        "outputId": "e2a847bc-a7ba-4431-d484-27d8dd9a606e"
      },
      "source": [
        "def matrix_product(a,b):\n",
        "  l = a.shape\n",
        "  m = b.shape\n",
        "  if (l[1] == m[0]):\n",
        "    n = len(a)\n",
        "    D = []\n",
        "    for i in range(n):\n",
        "      for j in range(n):\n",
        "        mid_val = 0\n",
        "        for k in range(n):\n",
        "          mid_val += a[i, k] * b[k, j]\n",
        "        D.append(mid_val)\n",
        "    return(D)\n",
        "  else:\n",
        "      return(\"cannot be multiple: {}×{}\".format(l[1],m[0]))\n",
        "\n",
        "d_ndarray = np.array([[-1, 2, 3], [4, -5, 6]])\n",
        "e_ndarray = np.array([[-9, 8, 7], [6, -5, 4]])\n",
        "print(matrix_product(d_ndarray,e_ndarray))\n",
        "#print(matrix_product(a2,b2))"
      ],
      "execution_count": null,
      "outputs": [
        {
          "output_type": "stream",
          "text": [
            "cannot be multiple: 3×2\n"
          ],
          "name": "stdout"
        }
      ]
    },
    {
      "cell_type": "markdown",
      "metadata": {
        "id": "gJVjdv6oKXx9"
      },
      "source": [
        "【問題6】転置"
      ]
    },
    {
      "cell_type": "code",
      "metadata": {
        "id": "r71f4hzGKXx9",
        "outputId": "797f3aaf-0260-47d5-8b4a-3dc6199c55c0"
      },
      "source": [
        "print(matrix_product(d_ndarray, np.transpose(e_ndarray)))"
      ],
      "execution_count": null,
      "outputs": [
        {
          "output_type": "stream",
          "text": [
            "[25, -16, -76, 49]\n"
          ],
          "name": "stdout"
        }
      ]
    },
    {
      "cell_type": "code",
      "metadata": {
        "id": "n4S_pSGQKXx9",
        "outputId": "c8529778-0939-447a-8667-e57d9157e044"
      },
      "source": [
        "print(matrix_product(d_ndarray, e_ndarray.T))"
      ],
      "execution_count": null,
      "outputs": [
        {
          "output_type": "stream",
          "text": [
            "[25, -16, -76, 49]\n"
          ],
          "name": "stdout"
        }
      ]
    },
    {
      "cell_type": "code",
      "metadata": {
        "id": "qph4velqKXx-"
      },
      "source": [
        ""
      ],
      "execution_count": null,
      "outputs": []
    }
  ]
}