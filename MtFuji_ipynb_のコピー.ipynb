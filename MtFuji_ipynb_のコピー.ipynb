{
  "nbformat": 4,
  "nbformat_minor": 0,
  "metadata": {
    "kernelspec": {
      "display_name": "Python 3",
      "language": "python",
      "name": "python3"
    },
    "language_info": {
      "codemirror_mode": {
        "name": "ipython",
        "version": 3
      },
      "file_extension": ".py",
      "mimetype": "text/x-python",
      "name": "python",
      "nbconvert_exporter": "python",
      "pygments_lexer": "ipython3",
      "version": "3.8.5"
    },
    "colab": {
      "name": "MtFuji.ipynb のコピー",
      "provenance": [],
      "include_colab_link": true
    }
  },
  "cells": [
    {
      "cell_type": "markdown",
      "metadata": {
        "id": "view-in-github",
        "colab_type": "text"
      },
      "source": [
        "<a href=\"https://colab.research.google.com/github/libra3910/diveintocode-ml/blob/master/MtFuji_ipynb_%E3%81%AE%E3%82%B3%E3%83%94%E3%83%BC.ipynb\" target=\"_parent\"><img src=\"https://colab.research.google.com/assets/colab-badge.svg\" alt=\"Open In Colab\"/></a>"
      ]
    },
    {
      "cell_type": "markdown",
      "metadata": {
        "id": "RgOdhgxP1mPB"
      },
      "source": [
        "# 2.何回折ったら富士山を超えるか問題"
      ]
    },
    {
      "cell_type": "markdown",
      "metadata": {
        "id": "7SKap0T31mPD"
      },
      "source": [
        "# 【問題1】富士山を超える最小の折る回数"
      ]
    },
    {
      "cell_type": "code",
      "metadata": {
        "id": "TGbT-xkL1mPE",
        "outputId": "19b8c810-b7b5-49b8-92fd-4f5062786b63"
      },
      "source": [
        "t0 = 0.00008\n",
        "height = 3776\n",
        "i = 0\n",
        "t1 = t0 * 2**i\n",
        "while t1 <= height:\n",
        "  i += 1\n",
        "  t1 = t0 * 2**i\n",
        "print(\"富士山を超える最小の折る回数は、{}回です。\".format(i))"
      ],
      "execution_count": null,
      "outputs": [
        {
          "output_type": "stream",
          "text": [
            "富士山を超える最小の折る回数は、26回です。\n"
          ],
          "name": "stdout"
        }
      ]
    },
    {
      "cell_type": "markdown",
      "metadata": {
        "id": "rN4QZkYx1mPF"
      },
      "source": [
        "# 【問題2】任意の厚さに対応した関数を作成"
      ]
    },
    {
      "cell_type": "code",
      "metadata": {
        "id": "3ReIpWpc1mPF",
        "outputId": "e738e7a0-bab0-4f77-8a69-92885582919c"
      },
      "source": [
        "def how_meny_times_fold(distance, t0 = 0.00008):\n",
        "  i = 0\n",
        "  t1 = t0 * 2**i\n",
        "  while t1 <= distance:\n",
        "    i += 1\n",
        "    t1 = t0 * 2**i\n",
        "  return i\n",
        "\n",
        "distance = 4.243 * 300000 * 3600 * 24 * 365\n",
        "print(\"「最も近い太陽以外の恒星」の距離を超える回数は、{}回です。\".format(how_meny_times_fold(distance=distance)))"
      ],
      "execution_count": null,
      "outputs": [
        {
          "output_type": "stream",
          "text": [
            "「最も近い太陽以外の恒星」の距離を超える回数は、59回です。\n"
          ],
          "name": "stdout"
        }
      ]
    },
    {
      "cell_type": "markdown",
      "metadata": {
        "id": "5QC8lTif1mPG"
      },
      "source": [
        "# 【問題3】必要な紙の長さ"
      ]
    },
    {
      "cell_type": "code",
      "metadata": {
        "id": "kBhIj-0x1mPG",
        "outputId": "dc73e279-6847-48eb-c8a5-35d075ae7d36"
      },
      "source": [
        "import math\n",
        "def how_meny_times_fold_length(distance, t0 = 0.00008):\n",
        "  n = how_meny_times_fold(distance, t0 = 0.00008)\n",
        "  l = (t0 * math.pi / 6) * (2 ** n + 4) * (2 ** n - 1)\n",
        "  return l\n",
        "\n",
        "fujisan=3776\n",
        "print(\"富士山までの距離を超えるためには、{}mの紙が必要。\".format(how_meny_times_fold_length(fujisan)))\n",
        "tsuki=380000 * 1000\n",
        "print(\"月までの距離を超えるためには、{}mの紙が必要。\".format(how_meny_times_fold_length(tsuki)))\n",
        "kousei=4.243 * 300000 * 3600 * 24 * 365\n",
        "print(\"最も近い太陽以外の恒星までの距離を超えるためには、{}mの紙が必要。\".format(how_meny_times_fold_length(kousei)))"
      ],
      "execution_count": null,
      "outputs": [
        {
          "output_type": "stream",
          "text": [
            "富士山までの距離を超えるためには、188646348487.24017mの紙が必要。\n",
            "月までの距離を超えるためには、3.240919444170781e+21mの紙が必要。\n",
            "最も近い太陽以外の恒星までの距離を超えるためには、1.3919643021679256e+31mの紙が必要。\n"
          ],
          "name": "stdout"
        }
      ]
    },
    {
      "cell_type": "code",
      "metadata": {
        "id": "BOMjj-M01mPH"
      },
      "source": [
        ""
      ],
      "execution_count": null,
      "outputs": []
    }
  ]
}