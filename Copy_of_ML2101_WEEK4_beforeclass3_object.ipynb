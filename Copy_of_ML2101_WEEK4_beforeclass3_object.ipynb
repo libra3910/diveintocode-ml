{
  "nbformat": 4,
  "nbformat_minor": 0,
  "metadata": {
    "kernelspec": {
      "display_name": "Python 3",
      "language": "python",
      "name": "python3"
    },
    "language_info": {
      "codemirror_mode": {
        "name": "ipython",
        "version": 3
      },
      "file_extension": ".py",
      "mimetype": "text/x-python",
      "name": "python",
      "nbconvert_exporter": "python",
      "pygments_lexer": "ipython3",
      "version": "3.8.5"
    },
    "colab": {
      "name": "Copy of ML2101_WEEK4_beforeclass3_object.ipynb",
      "provenance": [],
      "include_colab_link": true
    }
  },
  "cells": [
    {
      "cell_type": "markdown",
      "metadata": {
        "id": "view-in-github",
        "colab_type": "text"
      },
      "source": [
        "<a href=\"https://colab.research.google.com/github/libra3910/diveintocode-ml/blob/master/Copy_of_ML2101_WEEK4_beforeclass3_object.ipynb\" target=\"_parent\"><img src=\"https://colab.research.google.com/assets/colab-badge.svg\" alt=\"Open In Colab\"/></a>"
      ]
    },
    {
      "cell_type": "markdown",
      "metadata": {
        "id": "J9DIPKaKFy7x"
      },
      "source": [
        "# WEEK3　授業前課題3　オブジェクト指向の活用　by　遠藤伸"
      ]
    },
    {
      "cell_type": "markdown",
      "metadata": {
        "id": "8kLQVkKBFy74"
      },
      "source": [
        "# 【問題1】これまで利用してきたクラスの列挙"
      ]
    },
    {
      "cell_type": "markdown",
      "metadata": {
        "id": "wny3UaxUFy75"
      },
      "source": [
        "### ①Pandasのオブジェクト\n",
        "```PY\n",
        "DataFrame、\n",
        "Series、\n",
        "Index\n",
        "```"
      ]
    },
    {
      "cell_type": "markdown",
      "metadata": {
        "id": "-k-1WvEmFy76"
      },
      "source": [
        "### ②matplotlibのオブジェクト\n",
        "```PY\n",
        "colors：ListedColormap、\n",
        "matplotlib\n",
        "patches\n",
        "```"
      ]
    },
    {
      "cell_type": "markdown",
      "metadata": {
        "id": "4nKezYdqFy76"
      },
      "source": [
        "### ③scikit-learnのオブジェクト\n",
        "```PY\n",
        "1.前処理：\n",
        "　model_selection：train_test_split、\n",
        "　preprocessing：StandardScaler\n",
        "2.学習モデル：\n",
        "　neighbors：KNeighborsClassifier、\n",
        "　linear_model：LinearRegression、\n",
        "　svm：SVR、\n",
        "　pipeline：make_pipeline、\n",
        "　tree：DecisionTreeRegressor、plot_tree、\n",
        "　ensemble：RandomForestRegressor\n",
        "評価：\n",
        "　metrics：mean_squared_error、accuracy_score、precision_score、recall_score、f1_score、confusion_matrix\n",
        "```"
      ]
    },
    {
      "cell_type": "markdown",
      "metadata": {
        "id": "r3vq3cazFy76"
      },
      "source": [
        "# 【問題2】これまで利用してきたメソッドやインスタンス変数の列挙"
      ]
    },
    {
      "cell_type": "markdown",
      "metadata": {
        "id": "30AZHZ-hFy76"
      },
      "source": [
        "### ①Pandasオブジェクト\n",
        "```PY\n",
        "DataFrame：\n",
        "　メソッド：concat()、head()、sum()、isna()、describe()、info()\n",
        "　属性：loc、iloc、index\n",
        "Series：\n",
        "　メソッド：head()、sum()、isna()、describe()、info()\n",
        "　属性：loc、iloc、index\n",
        "```"
      ]
    },
    {
      "cell_type": "markdown",
      "metadata": {
        "id": "DT61lzUAFy77"
      },
      "source": [
        "### ②matplotlibのオブジェクト\n",
        "```PY\n",
        "matplotlib\n",
        "　メソッド：scatterplot()、boxplot()、violinplot()、pie()、pairplot()\n",
        "patches\n",
        "　メソッド：Patch\n",
        "```"
      ]
    },
    {
      "cell_type": "markdown",
      "metadata": {
        "id": "_cMAIKolFy77"
      },
      "source": [
        "### ③scikit-learnのオブジェクト\n",
        "```PY\n",
        "1.前処理：\n",
        "　model_selection：train_test_split、\n",
        "　preprocessing：StandardScaler\n",
        "　　メソッド：fit()、transform()\n",
        "2.学習モデル：\n",
        "　neighbors：KNeighborsClassifier、\n",
        "    メソッド：fit()、predict()\n",
        "　linear_model：LinearRegression、\n",
        "　　メソッド：fit()、predict()、score()\n",
        "    インスタンス変数：coef_、intercept_\n",
        "　svm：SVR、\n",
        "　pipeline：make_pipeline、\n",
        "　tree：DecisionTreeRegressor、plot_tree、\n",
        "　　メソッド：fit()、predict()\n",
        "　ensemble：RandomForestRegressor\n",
        "　　メソッド：fit()、predict()\n",
        "評価：\n",
        "　metrics：mean_squared_error、accuracy_score、precision_score、recall_score、f1_score、confusion_matrix\n",
        "```"
      ]
    },
    {
      "cell_type": "markdown",
      "metadata": {
        "id": "N5SHc0S8Fy77"
      },
      "source": [
        "# 【問題3】標準化クラスをスクラッチで作成"
      ]
    },
    {
      "cell_type": "code",
      "metadata": {
        "id": "CPzug6LuFy78"
      },
      "source": [
        "import numpy as np\n",
        "class ScratchStandardScaler():\n",
        "    \"\"\"\n",
        "    標準化のためのクラス\n",
        "    Attributes\n",
        "    ----------\n",
        "    mean_ : 次の形のndarray, shape(n_features,)\n",
        "        平均\n",
        "    var_ : 次の形のndarray, shape(n_features,)\n",
        "        分散\n",
        "    \"\"\"\n",
        "    def fit(self, X):\n",
        "        \"\"\"\n",
        "        標準化のために平均と標準偏差を計算する。\n",
        "        Parameters\n",
        "        ----------\n",
        "        X : 次の形のndarray, shape (n_samples, n_features)\n",
        "            訓練データ\n",
        "        \"\"\"\n",
        "        self.mean_ = np.mean(X, axis=0)\n",
        "        self.var_ = np.sum((X - self.mean_)**2,axis=0)\n",
        "\n",
        "    def transform(self, X):\n",
        "        \"\"\"\n",
        "        fitで求めた値を使い標準化を行う。\n",
        "        Parameters\n",
        "        ----------\n",
        "        X : 次の形のndarray, shape (n_samples, n_features)\n",
        "            特徴量\n",
        "        Returns\n",
        "        ----------\n",
        "        X_scaled : 次の形のndarray, shape (n_samples, n_features)\n",
        "            標準化された特緒量\n",
        "        \"\"\"\n",
        "        X_scaled = (X - self.mean_) / np.sqrt(self.var_)\n",
        "        return X_scaled"
      ],
      "execution_count": null,
      "outputs": []
    },
    {
      "cell_type": "code",
      "metadata": {
        "scrolled": true,
        "id": "YPME9ZQxFy78",
        "outputId": "618b2d83-709f-4db0-c492-f3238a81c12a"
      },
      "source": [
        "from sklearn.datasets import load_iris\n",
        "data = load_iris()\n",
        "X = data.data[:10]\n",
        "scratch_scaler = ScratchStandardScaler()\n",
        "scratch_scaler.fit(X)\n",
        "print(\"平均 : {}\".format(scratch_scaler.mean_))\n",
        "print(\"分散 : {}\".format(scratch_scaler.var_))\n",
        "X_std = scratch_scaler.transform(X)\n",
        "print(X_std)"
      ],
      "execution_count": null,
      "outputs": [
        {
          "output_type": "stream",
          "text": [
            "平均 : [4.86 3.31 1.45 0.22]\n",
            "分散 : [0.764 0.849 0.105 0.056]\n",
            "[[ 0.27457726  0.20620527 -0.15430335 -0.08451543]\n",
            " [ 0.04576288 -0.33644017 -0.15430335 -0.08451543]\n",
            " [-0.1830515  -0.119382   -0.46291005 -0.08451543]\n",
            " [-0.2974587  -0.22791109  0.15430335 -0.08451543]\n",
            " [ 0.16017007  0.31473436 -0.15430335 -0.08451543]\n",
            " [ 0.61779883  0.64032162  0.77151675  0.76063883]\n",
            " [-0.2974587   0.09767618 -0.15430335  0.3380617 ]\n",
            " [ 0.16017007  0.09767618  0.15430335 -0.08451543]\n",
            " [-0.52627308 -0.44496926 -0.15430335 -0.08451543]\n",
            " [ 0.04576288 -0.22791109  0.15430335 -0.50709255]]\n"
          ],
          "name": "stdout"
        }
      ]
    },
    {
      "cell_type": "code",
      "metadata": {
        "id": "4Jd7XND3Fy79"
      },
      "source": [
        "from sklearn.preprocessing import StandardScaler\n",
        "scaler = StandardScaler()"
      ],
      "execution_count": null,
      "outputs": []
    },
    {
      "cell_type": "code",
      "metadata": {
        "id": "vDoVq0TGFy79",
        "outputId": "32396be9-73ca-46ef-c120-7121186e0903"
      },
      "source": [
        "scaler.fit(X)"
      ],
      "execution_count": null,
      "outputs": [
        {
          "output_type": "execute_result",
          "data": {
            "text/plain": [
              "StandardScaler()"
            ]
          },
          "metadata": {
            "tags": []
          },
          "execution_count": 19
        }
      ]
    },
    {
      "cell_type": "code",
      "metadata": {
        "id": "uimXhbigFy79",
        "outputId": "4aafbd80-fcc0-47f5-f524-ef86d0edaa66"
      },
      "source": [
        "scaler.mean_"
      ],
      "execution_count": null,
      "outputs": [
        {
          "output_type": "execute_result",
          "data": {
            "text/plain": [
              "array([4.86, 3.31, 1.45, 0.22])"
            ]
          },
          "metadata": {
            "tags": []
          },
          "execution_count": 20
        }
      ]
    },
    {
      "cell_type": "code",
      "metadata": {
        "id": "V3D3Ukz0Fy79",
        "outputId": "6c61fc05-b4d9-458c-f178-9fb7b93af19e"
      },
      "source": [
        "scaler.var_"
      ],
      "execution_count": null,
      "outputs": [
        {
          "output_type": "execute_result",
          "data": {
            "text/plain": [
              "array([0.0764, 0.0849, 0.0105, 0.0056])"
            ]
          },
          "metadata": {
            "tags": []
          },
          "execution_count": 21
        }
      ]
    },
    {
      "cell_type": "code",
      "metadata": {
        "id": "GdTkBuoUFy7-"
      },
      "source": [
        "X_std2 = scaler.transform(X)"
      ],
      "execution_count": null,
      "outputs": []
    },
    {
      "cell_type": "code",
      "metadata": {
        "id": "ZgclXgRmFy7-",
        "outputId": "8dcf4a37-d517-4f46-9e48-07a7cc22b101"
      },
      "source": [
        "X_std2"
      ],
      "execution_count": null,
      "outputs": [
        {
          "output_type": "execute_result",
          "data": {
            "text/plain": [
              "array([[ 0.86828953,  0.65207831, -0.48795004, -0.26726124],\n",
              "       [ 0.14471492, -1.06391725, -0.48795004, -0.26726124],\n",
              "       [-0.57885968, -0.37751902, -1.46385011, -0.26726124],\n",
              "       [-0.94064699, -0.72071813,  0.48795004, -0.26726124],\n",
              "       [ 0.50650222,  0.99527742, -0.48795004, -0.26726124],\n",
              "       [ 1.95365143,  2.02487476,  2.43975018,  2.40535118],\n",
              "       [-0.94064699,  0.3088792 , -0.48795004,  1.06904497],\n",
              "       [ 0.50650222,  0.3088792 ,  0.48795004, -0.26726124],\n",
              "       [-1.66422159, -1.40711636, -0.48795004, -0.26726124],\n",
              "       [ 0.14471492, -0.72071813,  0.48795004, -1.60356745]])"
            ]
          },
          "metadata": {
            "tags": []
          },
          "execution_count": 23
        }
      ]
    },
    {
      "cell_type": "markdown",
      "metadata": {
        "id": "mOd2KCc2Fy7-"
      },
      "source": [
        "# 【問題4】 四則演算を行うクラスの作成"
      ]
    },
    {
      "cell_type": "code",
      "metadata": {
        "id": "OFUcR_lDFy7-",
        "outputId": "34b73f1e-9789-4da6-cf51-b75cdd47554f"
      },
      "source": [
        "class ExampleClass():\n",
        "    \"\"\"\n",
        "    説明用の簡単なクラス\n",
        "    Parameters\n",
        "    ----------\n",
        "    value : float or int\n",
        "        初期値\n",
        "    Attributes\n",
        "    ----------\n",
        "    value : float or int\n",
        "        計算結果\n",
        "    \"\"\"\n",
        "    def __init__(self, value):\n",
        "        self.value = value\n",
        "        print(\"初期値{}が設定されました\".format(self.value))\n",
        "    def add(self, value2):\n",
        "        \"\"\"\n",
        "        受け取った引数をself.valueに加える\n",
        "        \"\"\"\n",
        "        self.value += value2\n",
        "\n",
        "    def subtract(self, value3):\n",
        "        \"\"\"\n",
        "        受け取った引数をself.valueから差し引く\n",
        "        \"\"\"\n",
        "        self.value -= value3\n",
        "        \n",
        "    def multiple(self, value4):\n",
        "        \"\"\"\n",
        "        受け取った引数をself.valueに乗算する\n",
        "        \"\"\"\n",
        "        self.value *= value4\n",
        "\n",
        "    def divide(self, value5):\n",
        "        \"\"\"\n",
        "        受け取った引数をself.valueに除算する\n",
        "        \"\"\"\n",
        "        self.value /= value5\n",
        "\n",
        "example = ExampleClass(5)\n",
        "print(\"value : {}\".format(example.value))\n",
        "example.add(3)\n",
        "print(\"value add (5 + 3): {}\".format(example.value))\n",
        "example.subtract(3)\n",
        "print(\"value subtract (8 - 3): {}\".format(example.value))\n",
        "example.multiple(3)\n",
        "print(\"value multiple (5 * 3): {}\".format(example.value))\n",
        "example.divide(3)\n",
        "print(\"value devide (15 / 3): {}\".format(example.value))\n"
      ],
      "execution_count": null,
      "outputs": [
        {
          "output_type": "stream",
          "text": [
            "初期値5が設定されました\n",
            "value : 5\n",
            "value add (5 + 3): 8\n",
            "value subtract (8 - 3): 5\n",
            "value multiple (5 * 3): 15\n",
            "value devide (15 / 3): 5.0\n"
          ],
          "name": "stdout"
        }
      ]
    },
    {
      "cell_type": "code",
      "metadata": {
        "id": "C4P-c0w9Fy7_"
      },
      "source": [
        ""
      ],
      "execution_count": null,
      "outputs": []
    }
  ]
}