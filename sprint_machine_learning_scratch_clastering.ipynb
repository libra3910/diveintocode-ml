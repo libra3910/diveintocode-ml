{
  "nbformat": 4,
  "nbformat_minor": 0,
  "metadata": {
    "kernelspec": {
      "display_name": "Python 3",
      "language": "python",
      "name": "python3"
    },
    "language_info": {
      "codemirror_mode": {
        "name": "ipython",
        "version": 3
      },
      "file_extension": ".py",
      "mimetype": "text/x-python",
      "name": "python",
      "nbconvert_exporter": "python",
      "pygments_lexer": "ipython3",
      "version": "3.8.5"
    },
    "colab": {
      "name": "sprint_machine_learning_scratch_clastering.ipynb",
      "provenance": [],
      "collapsed_sections": [],
      "include_colab_link": true
    }
  },
  "cells": [
    {
      "cell_type": "markdown",
      "metadata": {
        "id": "view-in-github",
        "colab_type": "text"
      },
      "source": [
        "<a href=\"https://colab.research.google.com/github/libra3910/diveintocode-ml/blob/master/sprint_machine_learning_scratch_clastering.ipynb\" target=\"_parent\"><img src=\"https://colab.research.google.com/assets/colab-badge.svg\" alt=\"Open In Colab\"/></a>"
      ]
    },
    {
      "cell_type": "markdown",
      "metadata": {
        "id": "OgEtTK4rkIMI"
      },
      "source": [
        "# Sprint機械学習スクラッチ　クラスタリング"
      ]
    },
    {
      "cell_type": "code",
      "metadata": {
        "id": "pf9NSHgckIMP"
      },
      "source": [
        "import numpy as np\n",
        "import random\n",
        "import matplotlib.pyplot as plt\n",
        "%matplotlib inline"
      ],
      "execution_count": null,
      "outputs": []
    },
    {
      "cell_type": "code",
      "metadata": {
        "id": "qknSsFLgkIMQ"
      },
      "source": [
        "class ScratchKMeans():\n",
        "    \"\"\"\n",
        "    K-meansのスクラッチ実装\n",
        "    Parameters\n",
        "    ----------\n",
        "    n_clusters : int\n",
        "      クラスタ数\n",
        "    n_init : int\n",
        "      中心点の初期値を何回変えて計算するか\n",
        "    max_iter : int\n",
        "      1回の計算で最大何イテレーションするか\n",
        "    tol : float\n",
        "      イテレーションを終了する基準となる中心点と重心の許容誤差\n",
        "    verbose : bool\n",
        "      学習過程を出力する場合はTrue\n",
        "    \"\"\"\n",
        "    def __init__(self, n_clusters, n_init, max_iter, tol, verbose=False):\n",
        "        # ハイパーパラメータを属性として記録\n",
        "        self.n_clusters = n_clusters\n",
        "        self.n_init = n_init\n",
        "        self.max_iter = max_iter\n",
        "        self.tol = tol\n",
        "        self.verbose = verbose\n",
        "        \n",
        "        # インスタンス変数\n",
        "        self.cluster_centers = None          # クラスターごとの中心点\n",
        "        self.best_sse = None                 # 初期化から繰り返した後の最良のSSE\n",
        "        self.best_cluster_centers = None     # 初期化から繰り返した後の最良のSSEの時の中心点\n",
        "\n",
        "    # 【問題１】中心点の初期値を決める\n",
        "    def _cluster_center_init(self, X):\n",
        "        \"\"\" 変数説明\n",
        "            X : 特徴量\n",
        "            self.cluster_centers : 中心点の初期値\n",
        "        \"\"\"\n",
        "        a = 0\n",
        "        b = X.shape[0]-1\n",
        "        ns = []\n",
        "        while len(ns) < self.n_clusters:        # クラスターごとに初期値を求める\n",
        "            n = random.randint(a, b)\n",
        "            if not n in ns:\n",
        "                ns.append(n)\n",
        "        self.cluster_centers = X[ns]\n",
        "\n",
        "        return self.cluster_centers\n",
        "\n",
        "    # 【問題２】SSEを求める関数の作成\n",
        "    def _output_sse(self, distance_matrix_cluster):\n",
        "        \"\"\" 変数説明\n",
        "\n",
        "        sse :クラスタ内誤差平方和（SSE, Sum of Squared Errors）\n",
        "\n",
        "        \"\"\"\n",
        "        sse = np.sum(distance_matrix_cluster[:,0])\n",
        "        \n",
        "        return sse\n",
        "\n",
        "    # 【問題３】クラスタへの割り当て\n",
        "    def _assign_cluster(self, X):\n",
        "        \"\"\" 変数説明\n",
        "\n",
        "        distance_matrix : 各中心点までの距離を、全要素分格納\n",
        "        distance_matrix_cluster: distance_matrixに距離が最小値になるindexを追加\n",
        "\n",
        "        \"\"\"\n",
        "        distance_matrix = np.zeros((X.shape[0], self.n_clusters))\n",
        "        \n",
        "        distance_matrix_cluster = np.array([])\n",
        "        for j in range(X.shape[0]):\n",
        "            for i in range(self.n_clusters):\n",
        "                diff = self.cluster_centers[i] - X[j]\n",
        "                distance_matrix[j][i] = np.linalg.norm(diff, ord=2)\n",
        "            tmp = np.append(distance_matrix[j][np.argmin(distance_matrix[j])], np.argmin(distance_matrix[j]))\n",
        "            distance_matrix_cluster = np.append(distance_matrix_cluster, tmp)\n",
        "        distance_matrix_cluster = distance_matrix_cluster.reshape(-1, 2)\n",
        "\n",
        "        return distance_matrix_cluster\n",
        "\n",
        "    # 【問題７】クラスタへの割り当て\n",
        "    def _predict_assign_cluster(self, X):\n",
        "        \"\"\" 変数説明\n",
        "\n",
        "        distance_matrix : 各中心点までの距離を、全要素分格納\n",
        "        distance_matrix_cluster: distance_matrixに距離が最小値になるindexを追加\n",
        "\n",
        "        \"\"\"\n",
        "        distance_matrix = np.zeros((X.shape[0], self.n_clusters))\n",
        "        \n",
        "        distance_matrix_cluster = np.array([])\n",
        "        for j in range(X.shape[0]):\n",
        "            for i in range(self.n_clusters):\n",
        "                diff = self.best_cluster_centers[i] - X[j]\n",
        "                distance_matrix[j][i] = np.linalg.norm(diff, ord=2)\n",
        "            tmp = np.append(distance_matrix[j][np.argmin(distance_matrix[j])], np.argmin(distance_matrix[j]))\n",
        "            distance_matrix_cluster = np.append(distance_matrix_cluster, tmp)\n",
        "        distance_matrix_cluster = distance_matrix_cluster.reshape(-1, 2)\n",
        "\n",
        "        return distance_matrix_cluster\n",
        "    \n",
        "    # 【問題4】中心点の移動\n",
        "    def _update_cluster_center(self, X, distance_matrix_cluster):\n",
        "        \"\"\" 変数説明\n",
        "  \n",
        "        X_distance_cluster: distance_matrix_clusterに、X（特徴量）を追加\n",
        "\n",
        "        \"\"\"\n",
        "        X_distance_cluster = np.concatenate([X, distance_matrix_cluster], axis=1)\n",
        "        for i in range(self.n_clusters):\n",
        "            for j in range(X.shape[1]):\n",
        "                self.cluster_centers[i][j] = np.mean(X_distance_cluster[:,j][X_distance_cluster[:,-1] == i])\n",
        "\n",
        "        return self.cluster_centers, X_distance_cluster\n",
        "\n",
        "    # 更新した中心点と更新前の中心点の差分を合計\n",
        "    def _save_distance_of_cluster(self, cluster_centers_bfr):\n",
        "        \"\"\" 変数説明\n",
        "  \n",
        "        diff_of_clusters: 更新した中心点と更新前の中心点の差分\n",
        "\n",
        "        \"\"\"\n",
        "        diff_of_clusters = np.array(self.cluster_centers - cluster_centers_bfr)\n",
        "        diff_of_clusters_distance = np.linalg.norm(diff_of_clusters, ord=2)\n",
        "\n",
        "        return diff_of_clusters_distance\n",
        "\n",
        "    def fit(self, X):\n",
        "        \"\"\"\n",
        "        K-meansによるクラスタリングを計算\n",
        "        Parameters\n",
        "        ----------\n",
        "        X : 次の形のndarray, shape (n_samples, n_features)\n",
        "            訓練データの特徴量\n",
        "        \"\"\"\n",
        "\n",
        "        # 【問題６】 異なる初期値で計算\n",
        "        # 以下の条件の場合、繰り返しを終了し、最良のsseの中心点を確定する\n",
        "        # 繰り返しが指定した回数（n_init）に到達する。\n",
        "\n",
        "        self.best_sse = 0\n",
        "        for j in range(1, self.n_init+1):\n",
        "        \n",
        "            # 【問題１】中心点の初期値を決める\n",
        "            self.cluster_centers = self._cluster_center_init(X)\n",
        "            #if self.verbose:\n",
        "                #verboseをTrueにした際は学習過程を出力。中心点とXをプロット。\n",
        "                #print(\"初期中心点={}\".format(self.cluster_centers))\n",
        "                #plt.scatter(X[:,0],X[:,1], c=\"blue\")\n",
        "                #plt.scatter(self.cluster_centers[:,0], self.cluster_centers[:,1], c=\"yellow\")\n",
        "                #plt.show()\n",
        "\n",
        "            # 【問題5】繰り返し\n",
        "            # 以下の条件の場合、繰り返しを終了し、中心点を確定する。\n",
        "            # 繰り返しが指定した回数（max_iter）に到達する。\n",
        "            # 中心点と重心の差の合計が指定した許容値（tol）以下になる。\n",
        "\n",
        "            i = 1\n",
        "            diff_of_clusters_distance = self.tol + 1\n",
        "            last_sse = 0\n",
        "            while (i < self.max_iter+1) and (diff_of_clusters_distance > self.tol):\n",
        "\n",
        "                # 中心点を保存しておく\n",
        "                cluster_centers_bfr = np.array(self.cluster_centers)\n",
        "\n",
        "                # 【問題３】クラスタへの割り当て\n",
        "                distance_matrix_cluster = self._assign_cluster(X) \n",
        "\n",
        "                # 【問題２】SSEを求める関数の作成\n",
        "                sse = self._output_sse(distance_matrix_cluster)\n",
        "        \n",
        "                # 【問題4】中心点の移動\n",
        "                self.cluster_centers, X_distance_cluster = self._update_cluster_center(X, distance_matrix_cluster)\n",
        "        \n",
        "                # 更新前後の中心点の差を求める\n",
        "                diff_of_clusters_distance = self._save_distance_of_cluster(cluster_centers_bfr)\n",
        "        \n",
        "                #if self.verbose:\n",
        "                    #print(\"{}回目の{}回目:sse={}\".format(j,i,sse))\n",
        "\n",
        "                i += 1\n",
        "\n",
        "            last_sse = sse\n",
        "        \n",
        "            #if self.verbose:\n",
        "                #print(\"最終中心点={}\".format(last_sse))\n",
        "                #colorlist = [\"r\", \"g\", \"b\", \"c\", \"m\", \"y\", \"k\", \"w\",\"orange\",\"gold\"]\n",
        "                #for i in range(self.n_clusters):\n",
        "                    #plt.scatter(X_distance_cluster[:,0][X_distance_cluster[:,-1]==i],\\\n",
        "                                #X_distance_cluster[:,1][X_distance_cluster[:,-1]==i], c=colorlist[i])\n",
        "                    #plt.scatter(self.cluster_centers[:,0], self.cluster_centers[:,1], c=\"yellow\")\n",
        "                #plt.show()\n",
        "                \n",
        "            if j == 1:\n",
        "                self.best_sse = sse\n",
        "                self.best_cluster_centers = self.cluster_centers\n",
        "            elif self.best_sse > sse:\n",
        "                self.best_sse = sse\n",
        "                self.best_cluster_centers = self.cluster_centers\n",
        "\n",
        "        if self.verbose:\n",
        "            print(\"初期化繰り返し後の最終中心点={},sse={}\".format(self.best_cluster_centers, self.best_sse))\n",
        "            colorlist = [\"r\", \"g\", \"b\", \"c\", \"m\", \"y\", \"k\", \"w\",\"orange\",\"gold\"]\n",
        "            for i in range(self.n_clusters):\n",
        "                plt.scatter(X_distance_cluster[:,0][X_distance_cluster[:,-1]==i],\\\n",
        "                            X_distance_cluster[:,1][X_distance_cluster[:,-1]==i], c=colorlist[i])\n",
        "                plt.scatter(self.cluster_centers[:,0], self.cluster_centers[:,1], c=\"yellow\")\n",
        "            plt.show()\n",
        "\n",
        "    def predict(self, X):\n",
        "        \"\"\"\n",
        "        入力されたデータがどのクラスタに属するかを計算\n",
        "        \"\"\"\n",
        "        distance_matrix_cluster = self._predict_assign_cluster(X)\n",
        "        X_distance_cluster = np.concatenate([X, distance_matrix_cluster], axis=1)\n",
        "        \n",
        "        return X_distance_cluster\n",
        "\n",
        "    def elbow(self, X, try_count):\n",
        "        \"\"\"\n",
        "        入力されたデータに基づいて、クラスター数に対するSSEの推移を可視化する\n",
        "\n",
        "        try_count : 試行回数\n",
        "        \"\"\"\n",
        "        elb_best_sse = []\n",
        "        \n",
        "        for cluster in range(1, try_count):\n",
        "            elb = ScratchKMeans(n_clusters = cluster, n_init = 10, max_iter = 10, tol = 0.0, verbose=True)\n",
        "            elb.fit(X)\n",
        "            print(\"self.best_sse={}\".format(elb.best_sse))\n",
        "            elb_best_sse.append(elb.best_sse)\n",
        "        X1 = np.arange(1, try_count, 1)\n",
        "        X2 = np.array(elb_best_sse)\n",
        "        print(\"X1={},X2={}\".format(X1,X2))\n",
        "        plt.scatter(X1,X2, c=\"yellow\")\n",
        "        plt.plot(X1,X2, C=\"blue\")\n",
        "    def silhouette(self, X):\n",
        "        \"\"\"\n",
        "        入力されたデータに基づいて、クラスター数に対するシルエット係数を可視化する\n",
        "        \n",
        "        coheision_cluster: 凝集度\n",
        "        divergence_cluster: 乖離度\n",
        "        an: クラスター内の各点との距離\n",
        "        sb: クラスター間の各点との距離\n",
        "        \"\"\"\n",
        "\n",
        "        distance_matrix_cluster = self._assign_cluster(X)\n",
        "        X_distance_cluster = np.concatenate([X, distance_matrix_cluster], axis=1)\n",
        "\n",
        "        # 凝集度(an）を求める\n",
        "        coheision_cluster = np.zeros(((X.shape[0]), 2))\n",
        "        idx = 0\n",
        "        for i in range(self.n_clusters):\n",
        "            tmp = X_distance_cluster[:,0:X.shape[1]][X_distance_cluster[:,-1]==i]\n",
        "            for j in range(len(tmp)):\n",
        "                an = 0\n",
        "                for k in range(len(tmp)):\n",
        "                    diff = tmp[j] - tmp[k]\n",
        "                    an += np.linalg.norm(diff, ord=2)\n",
        "                coheision_cluster[idx][0] = an / len(tmp)\n",
        "                coheision_cluster[idx][1] = i\n",
        "                idx += 1        \n",
        "\n",
        "        # 乖離度(ab）を求める\n",
        "        divergence_cluster = np.zeros(((X.shape[0]), 2))\n",
        "        idx = 0\n",
        "        for i in range(self.n_clusters):\n",
        "            tmp1 = X_distance_cluster[:,0:X.shape[1]][X_distance_cluster[:,-1]==i]\n",
        "            for j in range(len(tmp1)):\n",
        "                abs = np.zeros(self.n_clusters-1)\n",
        "                abs_min = 0\n",
        "                for k in range(self.n_clusters):\n",
        "                    ab = 0\n",
        "                    tmp2 = X_distance_cluster[:,0:X.shape[1]][X_distance_cluster[:,-1]==k]\n",
        "                    if not (i==k):\n",
        "                        for l in range(len(tmp2)):\n",
        "                            diff = tmp1[j] - tmp2[l]\n",
        "                            ab += np.linalg.norm(diff, ord=2)        \n",
        "                        abs = ab / len(tmp2)\n",
        "                        if (i == 0 and k == 1) or (i != 0 and k == 0):\n",
        "                            abs_min = abs\n",
        "                        elif (abs_min > abs):\n",
        "                            abs_min = abs\n",
        "                divergence_cluster[idx][0] = abs_min\n",
        "                divergence_cluster[idx][1] = i\n",
        "                idx += 1\n",
        "        \n",
        "        #return coheision_cluster, divergence_cluster\n",
        "        from matplotlib import cm\n",
        "        y_ax_lower, y_ax_upper = 0, 0\n",
        "        yticks = []\n",
        "        \n",
        "        cluster_labels = np.arange(self.n_clusters)        # クラスター数分のラベルを作成する。\n",
        "        silhouette_vals = []\n",
        "        k=0\n",
        "        for k in range(len(divergence_cluster)):\n",
        "            sn = np.abs(divergence_cluster[k][0] - coheision_cluster[k][0]) / np.max([divergence_cluster[k][0], coheision_cluster[k][0]])\n",
        "            silhouette_vals.append([sn, divergence_cluster[k][1].astype(int)])\n",
        "        silhouette_vals = np.array(silhouette_vals)\n",
        "        for i, c in enumerate(cluster_labels):             # クラスター数分処理する。\n",
        "            c_silhouette_vals = silhouette_vals[silhouette_vals[:,1] == c] # シルエット係数の配列を、クラスターごとに格納する。\n",
        "            c_silhouette_vals = c_silhouette_vals[:,0]\n",
        "            silhouette_avg = np.mean(c_silhouette_vals)    # シルエット係数の配列の平均値を求める。\n",
        "            #print(\"c_silhouette_vals={},silhouette_avg={}\".format(c_silhouette_vals,silhouette_avg))\n",
        "            c_silhouette_vals.sort()                       # シルエット係数の配列をソートする。\n",
        "            y_ax_upper += len(c_silhouette_vals)           # シルエット係数の長さ分、上限に加算する。\n",
        "            color = cm.jet(i / self.n_clusters)                 # 描画する色を決定する。\n",
        "            plt.barh(range(y_ax_lower, y_ax_upper), c_silhouette_vals, height=1.0, edgecolor='none', color=color)\n",
        "            yticks.append((y_ax_lower + y_ax_upper) / 2)   # 上限と下限の平均をとる。\n",
        "            y_ax_lower += len(c_silhouette_vals)           # シルエット係数の長さ分、下限に加算する。\n",
        "        plt.axvline(silhouette_avg, color=\"red\", linestyle=\"--\")\n",
        "        plt.yticks(yticks, cluster_labels + 1)\n",
        "        plt.ylabel('Cluster')\n",
        "        plt.xlabel('Silhouette coefficient')\n",
        "        plt.show()"
      ],
      "execution_count": null,
      "outputs": []
    },
    {
      "cell_type": "code",
      "metadata": {
        "id": "8YLS8djkkIMZ"
      },
      "source": [
        ""
      ],
      "execution_count": null,
      "outputs": []
    },
    {
      "cell_type": "code",
      "metadata": {
        "id": "mlzDn_09kIMf"
      },
      "source": [
        "# シンプルデータセット3の読み込み\n",
        "\n",
        "from sklearn.datasets import make_blobs\n",
        "X, _ = make_blobs(n_samples=100, n_features=2, centers=4, cluster_std=0.5, shuffle=True, random_state=0)"
      ],
      "execution_count": null,
      "outputs": []
    },
    {
      "cell_type": "code",
      "metadata": {
        "id": "A583mlnOkIMg"
      },
      "source": [
        "from sklearn.model_selection import train_test_split\n",
        "X_train, X_test = train_test_split(X, test_size = 0.25, random_state = 42)"
      ],
      "execution_count": null,
      "outputs": []
    },
    {
      "cell_type": "code",
      "metadata": {
        "id": "K1TefCXbkIMg",
        "outputId": "45668834-34a2-4a5d-9ef5-bd666f232199"
      },
      "source": [
        "plt.scatter(X_train[:,0], X_train[:,1], c=\"blue\")"
      ],
      "execution_count": null,
      "outputs": [
        {
          "output_type": "execute_result",
          "data": {
            "text/plain": [
              "<matplotlib.collections.PathCollection at 0x112c98989a0>"
            ]
          },
          "metadata": {
            "tags": []
          },
          "execution_count": 5
        },
        {
          "output_type": "display_data",
          "data": {
            "image/png": "[encoded data removed]",
            "text/plain": [
              "<Figure size 432x288 with 1 Axes>"
            ]
          },
          "metadata": {
            "tags": [],
            "needs_background": "light"
          }
        }
      ]
    },
    {
      "cell_type": "code",
      "metadata": {
        "id": "5yy7_y7MkIMh"
      },
      "source": [
        "kms = ScratchKMeans(n_clusters = 4, n_init = 10, max_iter = 10, tol = 0.0, verbose=True)"
      ],
      "execution_count": null,
      "outputs": []
    },
    {
      "cell_type": "code",
      "metadata": {
        "id": "nlhhZ3BLkIMi",
        "outputId": "b361ab27-e69b-4bfa-b79c-b9ad4275da98"
      },
      "source": [
        "kms.fit(X_train)"
      ],
      "execution_count": null,
      "outputs": [
        {
          "output_type": "stream",
          "text": [
            "初期化繰り返し後の最終中心点=[[ 0.88312196  4.32175244]\n",
            " [-1.21402055  7.9007905 ]\n",
            " [-1.46297494  3.07467781]\n",
            " [ 2.01674893  0.98169361]],sse=46.48716405221856\n"
          ],
          "name": "stdout"
        },
        {
          "output_type": "display_data",
          "data": {
            "image/png": "[encoded data removed]",
            "text/plain": [
              "<Figure size 432x288 with 1 Axes>"
            ]
          },
          "metadata": {
            "tags": [],
            "needs_background": "light"
          }
        }
      ]
    },
    {
      "cell_type": "code",
      "metadata": {
        "id": "KxMD7ZDKkIMi"
      },
      "source": [
        "# 【問題7】推定\n",
        "pred = kms.predict(X_test)"
      ],
      "execution_count": null,
      "outputs": []
    },
    {
      "cell_type": "code",
      "metadata": {
        "id": "GEB8SU1lkIMj",
        "outputId": "3b7c174d-4df9-452e-d4f4-f6eb1a3a9772"
      },
      "source": [
        "colorlist = [\"r\", \"g\", \"b\", \"c\", \"m\", \"y\", \"k\", \"w\", \"p\", \"orange\",\"gold\"]\n",
        "for i in range(4):\n",
        "    plt.scatter(pred[:,0][pred[:,-1]==i],\\\n",
        "                pred[:,1][pred[:,-1]==i], c=colorlist[i])\n",
        "    #plt.scatter(self.cluster_centers[:,0], self.cluster_centers[:,1], c=\"yellow\")\n",
        "plt.show()"
      ],
      "execution_count": null,
      "outputs": [
        {
          "output_type": "display_data",
          "data": {
            "image/png": "[encoded data removed]",
            "text/plain": [
              "<Figure size 432x288 with 1 Axes>"
            ]
          },
          "metadata": {
            "tags": [],
            "needs_background": "light"
          }
        }
      ]
    },
    {
      "cell_type": "code",
      "metadata": {
        "id": "SLc2iOxfkIMj",
        "outputId": "420c22ec-a6be-440b-9d3c-41e5adde815f"
      },
      "source": [
        "# 【問題8】エルボー法の実装\n",
        "kms.elbow(X_train, 10)"
      ],
      "execution_count": null,
      "outputs": [
        {
          "output_type": "stream",
          "text": [
            "初期化繰り返し後の最終中心点=[[0.20851827 3.87058023]],sse=200.70491451830694\n"
          ],
          "name": "stdout"
        },
        {
          "output_type": "display_data",
          "data": {
            "image/png": "[encoded data removed]",
            "text/plain": [
              "<Figure size 432x288 with 1 Axes>"
            ]
          },
          "metadata": {
            "tags": [],
            "needs_background": "light"
          }
        },
        {
          "output_type": "stream",
          "text": [
            "self.best_sse=200.70491451830694\n",
            "初期化繰り返し後の最終中心点=[[ 0.62546931  2.6893117 ]\n",
            " [-1.21402055  7.9007905 ]],sse=130.22352298021093\n"
          ],
          "name": "stdout"
        },
        {
          "output_type": "display_data",
          "data": {
            "image/png": "[encoded data removed]",
            "text/plain": [
              "<Figure size 432x288 with 1 Axes>"
            ]
          },
          "metadata": {
            "tags": [],
            "needs_background": "light"
          }
        },
        {
          "output_type": "stream",
          "text": [
            "self.best_sse=130.22352298021093\n",
            "初期化繰り返し後の最終中心点=[[-0.22475713  3.73285609]\n",
            " [-1.21402055  7.9007905 ]\n",
            " [ 2.01674893  0.98169361]],sse=76.072406517603\n"
          ],
          "name": "stdout"
        },
        {
          "output_type": "display_data",
          "data": {
            "image/png": "[encoded data removed]",
            "text/plain": [
              "<Figure size 432x288 with 1 Axes>"
            ]
          },
          "metadata": {
            "tags": [],
            "needs_background": "light"
          }
        },
        {
          "output_type": "stream",
          "text": [
            "self.best_sse=76.072406517603\n",
            "初期化繰り返し後の最終中心点=[[ 2.01674893  0.98169361]\n",
            " [-1.21402055  7.9007905 ]\n",
            " [-1.46297494  3.07467781]\n",
            " [ 0.88312196  4.32175244]],sse=46.48716405221856\n"
          ],
          "name": "stdout"
        },
        {
          "output_type": "display_data",
          "data": {
            "image/png": "[encoded data removed]",
            "text/plain": [
              "<Figure size 432x288 with 1 Axes>"
            ]
          },
          "metadata": {
            "tags": [],
            "needs_background": "light"
          }
        },
        {
          "output_type": "stream",
          "text": [
            "self.best_sse=46.48716405221856\n",
            "初期化繰り返し後の最終中心点=[[ 0.88312196  4.32175244]\n",
            " [-1.65431717  7.80797619]\n",
            " [ 2.01674893  0.98169361]\n",
            " [-0.71868685  8.0052066 ]\n",
            " [-1.46297494  3.07467781]],sse=42.4167706601646\n"
          ],
          "name": "stdout"
        },
        {
          "output_type": "display_data",
          "data": {
            "image/png": "[encoded data removed]",
            "text/plain": [
              "<Figure size 432x288 with 1 Axes>"
            ]
          },
          "metadata": {
            "tags": [],
            "needs_background": "light"
          }
        },
        {
          "output_type": "stream",
          "text": [
            "self.best_sse=42.4167706601646\n",
            "初期化繰り返し後の最終中心点=[[ 0.88312196  4.32175244]\n",
            " [-1.68193504  7.55208463]\n",
            " [ 2.2581232   0.5503933 ]\n",
            " [-1.46297494  3.07467781]\n",
            " [-0.88648041  8.14488462]\n",
            " [ 1.81560371  1.34111053]],sse=39.11760759949247\n"
          ],
          "name": "stdout"
        },
        {
          "output_type": "display_data",
          "data": {
            "image/png": "[encoded data removed]",
            "text/plain": [
              "<Figure size 432x288 with 1 Axes>"
            ]
          },
          "metadata": {
            "tags": [],
            "needs_background": "light"
          }
        },
        {
          "output_type": "stream",
          "text": [
            "self.best_sse=39.11760759949247\n"
          ],
          "name": "stdout"
        },
        {
          "output_type": "stream",
          "text": [
            "C:\\Users\\es\\anaconda3\\lib\\site-packages\\numpy\\core\\fromnumeric.py:3372: RuntimeWarning: Mean of empty slice.\n",
            "  return _methods._mean(a, axis=axis, dtype=dtype,\n",
            "C:\\Users\\es\\anaconda3\\lib\\site-packages\\numpy\\core\\_methods.py:170: RuntimeWarning: invalid value encountered in double_scalars\n",
            "  ret = ret.dtype.type(ret / rcount)\n"
          ],
          "name": "stderr"
        },
        {
          "output_type": "stream",
          "text": [
            "初期化繰り返し後の最終中心点=[[ 1.79608714  1.24413273]\n",
            " [-1.68193504  7.55208463]\n",
            " [-0.88648041  8.14488462]\n",
            " [ 2.40290707  0.52242514]\n",
            " [-1.76058788  3.37778717]\n",
            " [-1.12816039  2.73367979]\n",
            " [ 0.88312196  4.32175244]],sse=36.18902679682381\n"
          ],
          "name": "stdout"
        },
        {
          "output_type": "display_data",
          "data": {
            "image/png": "[encoded data removed]",
            "text/plain": [
              "<Figure size 432x288 with 1 Axes>"
            ]
          },
          "metadata": {
            "tags": [],
            "needs_background": "light"
          }
        },
        {
          "output_type": "stream",
          "text": [
            "self.best_sse=36.18902679682381\n",
            "初期化繰り返し後の最終中心点=[[ 1.00594821  4.41097077]\n",
            " [ 0.08720359  3.73197152]\n",
            " [ 1.79608714  1.24413273]\n",
            " [ 2.40290707  0.52242514]\n",
            " [-1.38343608  2.57782758]\n",
            " [-1.65431717  7.80797619]\n",
            " [-1.6501322   3.42606753]\n",
            " [-0.71868685  8.0052066 ]],sse=34.208449509453516\n"
          ],
          "name": "stdout"
        },
        {
          "output_type": "display_data",
          "data": {
            "image/png": "[encoded data removed]",
            "text/plain": [
              "<Figure size 432x288 with 1 Axes>"
            ]
          },
          "metadata": {
            "tags": [],
            "needs_background": "light"
          }
        },
        {
          "output_type": "stream",
          "text": [
            "self.best_sse=34.208449509453516\n",
            "初期化繰り返し後の最終中心点=[[ 2.40290707  0.52242514]\n",
            " [-1.55765464  8.70359668]\n",
            " [-1.68193504  7.55208463]\n",
            " [ 0.21634639  3.43242982]\n",
            " [-1.35935115  2.64580078]\n",
            " [-0.71868685  8.0052066 ]\n",
            " [ 1.79608714  1.24413273]\n",
            " [-1.70755415  3.46412432]\n",
            " [ 0.9291145   4.42388994]],sse=32.123523948111284\n"
          ],
          "name": "stdout"
        },
        {
          "output_type": "display_data",
          "data": {
            "image/png": "[encoded data removed]",
            "text/plain": [
              "<Figure size 432x288 with 1 Axes>"
            ]
          },
          "metadata": {
            "tags": [],
            "needs_background": "light"
          }
        },
        {
          "output_type": "stream",
          "text": [
            "self.best_sse=32.123523948111284\n",
            "X1=[1 2 3 4 5 6 7 8 9],X2=[200.70491452 130.22352298  76.07240652  46.48716405  42.41677066\n",
            "  39.1176076   36.1890268   34.20844951  32.12352395]\n"
          ],
          "name": "stdout"
        },
        {
          "output_type": "stream",
          "text": [
            "<ipython-input-2-12f0dacb64e6>:234: MatplotlibDeprecationWarning: Case-insensitive properties were deprecated in 3.3 and support will be removed two minor releases later\n",
            "  plt.plot(X1,X2, C=\"blue\")\n"
          ],
          "name": "stderr"
        },
        {
          "output_type": "display_data",
          "data": {
            "image/png": "[encoded data removed]",
            "text/plain": [
              "<Figure size 432x288 with 1 Axes>"
            ]
          },
          "metadata": {
            "tags": [],
            "needs_background": "light"
          }
        }
      ]
    },
    {
      "cell_type": "code",
      "metadata": {
        "id": "J_VeYRqfkIMj",
        "outputId": "6f7f52e5-e33b-4a75-e169-571b7285e854"
      },
      "source": [
        "# 【問題９】 シルエット法\n",
        "kms.silhouette(X)"
      ],
      "execution_count": null,
      "outputs": [
        {
          "output_type": "display_data",
          "data": {
            "image/png": "[encoded data removed]",
            "text/plain": [
              "<Figure size 432x288 with 1 Axes>"
            ]
          },
          "metadata": {
            "tags": [],
            "needs_background": "light"
          }
        }
      ]
    },
    {
      "cell_type": "markdown",
      "metadata": {
        "id": "87fdFpeYkIMk"
      },
      "source": [
        "## 卸売業者のデータの読み込み"
      ]
    },
    {
      "cell_type": "code",
      "metadata": {
        "id": "OMyBSDRBkIMk"
      },
      "source": [
        "import pandas as pd\n",
        "data_dir = 'C:/Users/es/Documents/Python Scripts/2.Feb/Week4/clustering/'\n",
        "data = pd.read_csv(f'{data_dir}Wholesale customers data.csv')"
      ],
      "execution_count": null,
      "outputs": []
    },
    {
      "cell_type": "code",
      "metadata": {
        "id": "iO7p7ReXkIMk",
        "outputId": "8f97516b-0287-42a8-b49d-a07c7496f1ed"
      },
      "source": [
        "from sklearn.decomposition import PCA\n",
        "import matplotlib.pyplot as plt\n",
        "pca = PCA(n_components=6)\n",
        "pca = pca.fit(data)\n",
        "var_exp = pca.explained_variance_ratio_\n",
        "cum_var_exp = np.cumsum(var_exp)\n",
        "print(cum_var_exp)\n",
        "plt.bar(range(1,7), var_exp, alpha=0.5, align='center', label='individual explained variance')\n",
        "plt.step(range(1,7), cum_var_exp, where='mid', label='cumulative expalined variance')\n",
        "plt.ylabel('Explained variance ratio')\n",
        "plt.xlabel('Principal components')\n",
        "plt.hlines(0.7, 0, 6,  \"blue\", linestyles='dashed')\n",
        "plt.legend(loc='best')\n",
        "plt.grid()\n",
        "plt.show()"
      ],
      "execution_count": null,
      "outputs": [
        {
          "output_type": "stream",
          "text": [
            "[0.45961362 0.86478588 0.93481596 0.97883941 0.99386152 1.        ]\n"
          ],
          "name": "stdout"
        },
        {
          "output_type": "display_data",
          "data": {
            "image/png": "[encoded data removed]",
            "text/plain": [
              "<Figure size 432x288 with 1 Axes>"
            ]
          },
          "metadata": {
            "tags": [],
            "needs_background": "light"
          }
        }
      ]
    },
    {
      "cell_type": "markdown",
      "metadata": {
        "id": "SLpEunORkIMk"
      },
      "source": [
        "主成分=1でほぼ40%以上を占める。主成分=2までで80%以上を占める。\n",
        "そのため、2次元まで削減することとする。"
      ]
    },
    {
      "cell_type": "code",
      "metadata": {
        "id": "g8SMvXGgkIMk"
      },
      "source": [
        "pca = PCA(n_components = 2)\n",
        "pca = pca.fit(data)\n",
        "data_pca = pca.transform(data)"
      ],
      "execution_count": null,
      "outputs": []
    },
    {
      "cell_type": "code",
      "metadata": {
        "id": "ipssIaBJkIMl",
        "outputId": "2c68440d-f7fd-4c36-a34c-15f72af378d7"
      },
      "source": [
        "data_pca.shape"
      ],
      "execution_count": null,
      "outputs": [
        {
          "output_type": "execute_result",
          "data": {
            "text/plain": [
              "(440, 2)"
            ]
          },
          "metadata": {
            "tags": []
          },
          "execution_count": 15
        }
      ]
    },
    {
      "cell_type": "code",
      "metadata": {
        "id": "rKKTYZwQkIMl"
      },
      "source": [
        "# 【問題10】クラスタ数kの選択"
      ],
      "execution_count": null,
      "outputs": []
    },
    {
      "cell_type": "code",
      "metadata": {
        "id": "fbxkI_6rkIMl"
      },
      "source": [
        "from sklearn.model_selection import train_test_split\n",
        "X_train, X_test = train_test_split(data_pca, test_size = 0.25, random_state = 42)"
      ],
      "execution_count": null,
      "outputs": []
    },
    {
      "cell_type": "code",
      "metadata": {
        "id": "TbVyOT0tkIMl",
        "outputId": "e67ad2f8-3e57-41b4-f04d-044595137b7e"
      },
      "source": [
        "plt.scatter(X_train[:,0], X_train[:,1], c=\"blue\")"
      ],
      "execution_count": null,
      "outputs": [
        {
          "output_type": "execute_result",
          "data": {
            "text/plain": [
              "<matplotlib.collections.PathCollection at 0x112cbca2130>"
            ]
          },
          "metadata": {
            "tags": []
          },
          "execution_count": 18
        },
        {
          "output_type": "display_data",
          "data": {
            "image/png": "[encoded data removed]",
            "text/plain": [
              "<Figure size 432x288 with 1 Axes>"
            ]
          },
          "metadata": {
            "tags": [],
            "needs_background": "light"
          }
        }
      ]
    },
    {
      "cell_type": "code",
      "metadata": {
        "id": "CoUoKEkukIMm",
        "outputId": "6c00a491-1369-4f1f-bbc3-ee61d52cc2c2"
      },
      "source": [
        "kms2 = ScratchKMeans(n_clusters = 4, n_init = 10, max_iter = 10, tol = 0.0, verbose=True)\n",
        "kms2.fit(X_train)"
      ],
      "execution_count": null,
      "outputs": [
        {
          "output_type": "stream",
          "text": [
            "初期化繰り返し後の最終中心点=[[18252.65378312 -5053.47868827]\n",
            " [14526.87610893 50607.64138411]\n",
            " [-6400.29078915 11417.17717593]\n",
            " [-4456.9846758  -5017.43482768]],sse=2475107.133669906\n"
          ],
          "name": "stdout"
        },
        {
          "output_type": "display_data",
          "data": {
            "image/png": "[encoded data removed]",
            "text/plain": [
              "<Figure size 432x288 with 1 Axes>"
            ]
          },
          "metadata": {
            "tags": [],
            "needs_background": "light"
          }
        }
      ]
    },
    {
      "cell_type": "code",
      "metadata": {
        "id": "EYSVZmF5kIMm",
        "outputId": "6cbf03c9-ccec-476d-cd9f-2cadc10a040b"
      },
      "source": [
        "kms2.elbow(X_train, 10)"
      ],
      "execution_count": null,
      "outputs": [
        {
          "output_type": "stream",
          "text": [
            "初期化繰り返し後の最終中心点=[[-245.01476272  316.52921677]],sse=4449153.908193976\n"
          ],
          "name": "stdout"
        },
        {
          "output_type": "display_data",
          "data": {
            "image/png": "[encoded data removed]",
            "text/plain": [
              "<Figure size 432x288 with 1 Axes>"
            ]
          },
          "metadata": {
            "tags": [],
            "needs_background": "light"
          }
        },
        {
          "output_type": "stream",
          "text": [
            "self.best_sse=4449153.908193976\n",
            "初期化繰り返し後の最終中心点=[[-4640.21733323 -1295.19604183]\n",
            " [18382.27232182  7147.17436035]],sse=3647642.471477049\n"
          ],
          "name": "stdout"
        },
        {
          "output_type": "display_data",
          "data": {
            "image/png": "[encoded data removed]",
            "text/plain": [
              "<Figure size 432x288 with 1 Axes>"
            ]
          },
          "metadata": {
            "tags": [],
            "needs_background": "light"
          }
        },
        {
          "output_type": "stream",
          "text": [
            "self.best_sse=3647642.471477049\n",
            "初期化繰り返し後の最終中心点=[[14840.52144971 -5061.76892091]\n",
            " [-6036.13795064 -2002.03343129]\n",
            " [ 2991.95030398 32716.75200107]],sse=2901001.916490829\n"
          ],
          "name": "stdout"
        },
        {
          "output_type": "display_data",
          "data": {
            "image/png": "[encoded data removed]",
            "text/plain": [
              "<Figure size 432x288 with 1 Axes>"
            ]
          },
          "metadata": {
            "tags": [],
            "needs_background": "light"
          }
        },
        {
          "output_type": "stream",
          "text": [
            "self.best_sse=2901001.916490829\n",
            "初期化繰り返し後の最終中心点=[[-4608.69168035 -4996.84077366]\n",
            " [14526.87610893 50607.64138411]\n",
            " [-6494.04817383 11530.58687634]\n",
            " [17680.02528989 -4974.37708095]],sse=2462920.584928222\n"
          ],
          "name": "stdout"
        },
        {
          "output_type": "display_data",
          "data": {
            "image/png": "[encoded data removed]",
            "text/plain": [
              "<Figure size 432x288 with 1 Axes>"
            ]
          },
          "metadata": {
            "tags": [],
            "needs_background": "light"
          }
        },
        {
          "output_type": "stream",
          "text": [
            "self.best_sse=2462920.584928222\n",
            "初期化繰り返し後の最終中心点=[[-6871.82401173  9614.15247531]\n",
            " [-6337.68031086 -5368.57367153]\n",
            " [10085.85223239 47101.79849959]\n",
            " [ 8431.19814092 -5043.10009845]\n",
            " [31639.34479462 -3792.45582557]],sse=2100130.708735185\n"
          ],
          "name": "stdout"
        },
        {
          "output_type": "display_data",
          "data": {
            "image/png": "[encoded data removed]",
            "text/plain": [
              "<Figure size 432x288 with 1 Axes>"
            ]
          },
          "metadata": {
            "tags": [],
            "needs_background": "light"
          }
        },
        {
          "output_type": "stream",
          "text": [
            "self.best_sse=2100130.708735185\n",
            "初期化繰り返し後の最終中心点=[[-2433.66736659 25102.53344081]\n",
            " [ 7670.19026871 -5091.69074922]\n",
            " [-6652.08559948 -5735.18310177]\n",
            " [20964.64980803 68819.21774351]\n",
            " [-7328.99680919  6207.54377258]\n",
            " [31639.34479462 -3792.45582557]],sse=1885272.968235225\n"
          ],
          "name": "stdout"
        },
        {
          "output_type": "display_data",
          "data": {
            "image/png": "[encoded data removed]",
            "text/plain": [
              "<Figure size 432x288 with 1 Axes>"
            ]
          },
          "metadata": {
            "tags": [],
            "needs_background": "light"
          }
        },
        {
          "output_type": "stream",
          "text": [
            "self.best_sse=1885272.968235225\n",
            "初期化繰り返し後の最終中心点=[[-2.78999581e+03  2.30759788e+04]\n",
            " [ 9.46266575e+00 -6.37492568e+03]\n",
            " [ 1.16527411e+04 -3.75270976e+03]\n",
            " [ 2.09646498e+04  6.88192177e+04]\n",
            " [-8.97969587e+03 -5.58060693e+03]\n",
            " [ 3.43667731e+04 -5.03179750e+03]\n",
            " [-7.43536567e+03  5.35101815e+03]],sse=1697218.4716262366\n"
          ],
          "name": "stdout"
        },
        {
          "output_type": "display_data",
          "data": {
            "image/png": "[encoded data removed]",
            "text/plain": [
              "<Figure size 432x288 with 1 Axes>"
            ]
          },
          "metadata": {
            "tags": [],
            "needs_background": "light"
          }
        },
        {
          "output_type": "stream",
          "text": [
            "self.best_sse=1697218.4716262366\n",
            "初期化繰り返し後の最終中心点=[[ 35022.16030191  -5169.23857441]\n",
            " [ 20964.64980803  68819.21774351]\n",
            " [ -7484.7616197    5607.89216458]\n",
            " [ -2675.53770804  22678.05114376]\n",
            " [  4524.43907158  -6288.71692148]\n",
            " [-10226.30442113  -4985.37966372]\n",
            " [ 14387.24308607  -2564.51325495]\n",
            " [ -3775.64818462  -6255.23827548]],sse=1538949.1795403352\n"
          ],
          "name": "stdout"
        },
        {
          "output_type": "display_data",
          "data": {
            "image/png": "[encoded data removed]",
            "text/plain": [
              "<Figure size 432x288 with 1 Axes>"
            ]
          },
          "metadata": {
            "tags": [],
            "needs_background": "light"
          }
        },
        {
          "output_type": "stream",
          "text": [
            "self.best_sse=1538949.1795403352\n",
            "初期化繰り返し後の最終中心点=[[ 14387.24308607  -2564.51325495]\n",
            " [  4607.18535005  -6222.00072911]\n",
            " [ 20964.64980803  68819.21774351]\n",
            " [ -3666.50341957  -6285.10644894]\n",
            " [ -7386.30819573   4750.89950145]\n",
            " [ -5841.1868323   16557.29032538]\n",
            " [  6023.08404893  32433.79361822]\n",
            " [-10181.73611225  -5027.94803069]\n",
            " [ 34815.33895155  -7490.7163422 ]],sse=1461575.553409918\n"
          ],
          "name": "stdout"
        },
        {
          "output_type": "display_data",
          "data": {
            "image/png": "[encoded data removed]",
            "text/plain": [
              "<Figure size 432x288 with 1 Axes>"
            ]
          },
          "metadata": {
            "tags": [],
            "needs_background": "light"
          }
        },
        {
          "output_type": "stream",
          "text": [
            "self.best_sse=1461575.553409918\n",
            "X1=[1 2 3 4 5 6 7 8 9],X2=[4449153.90819398 3647642.47147705 2901001.91649083 2462920.58492822\n",
            " 2100130.70873519 1885272.96823522 1697218.47162624 1538949.17954034\n",
            " 1461575.55340992]\n"
          ],
          "name": "stdout"
        },
        {
          "output_type": "stream",
          "text": [
            "<ipython-input-2-12f0dacb64e6>:234: MatplotlibDeprecationWarning: Case-insensitive properties were deprecated in 3.3 and support will be removed two minor releases later\n",
            "  plt.plot(X1,X2, C=\"blue\")\n"
          ],
          "name": "stderr"
        },
        {
          "output_type": "display_data",
          "data": {
            "image/png": "[encoded data removed]",
            "text/plain": [
              "<Figure size 432x288 with 1 Axes>"
            ]
          },
          "metadata": {
            "tags": [],
            "needs_background": "light"
          }
        }
      ]
    },
    {
      "cell_type": "markdown",
      "metadata": {
        "id": "0KfM6ydSkIMm"
      },
      "source": [
        "なだらかなカーブを描いて下降していくが、クラスタ数=3で若干カーブが下がる。"
      ]
    },
    {
      "cell_type": "code",
      "metadata": {
        "id": "74gVX0-jkIMm",
        "outputId": "5215d324-63cb-4ab3-ef70-f602b75c36ee"
      },
      "source": [
        "kms3 = ScratchKMeans(n_clusters = 3, n_init = 10, max_iter = 10, tol = 0.0, verbose=True)\n",
        "kms3.fit(X_train)"
      ],
      "execution_count": null,
      "outputs": [
        {
          "output_type": "stream",
          "text": [
            "初期化繰り返し後の最終中心点=[[21811.87240612 -4319.19244748]\n",
            " [-4108.06952654 -3509.1740874 ]\n",
            " [-1751.31550283 24728.49801216]],sse=2894098.3556511537\n"
          ],
          "name": "stdout"
        },
        {
          "output_type": "display_data",
          "data": {
            "image/png": "[encoded data removed]",
            "text/plain": [
              "<Figure size 432x288 with 1 Axes>"
            ]
          },
          "metadata": {
            "tags": [],
            "needs_background": "light"
          }
        }
      ]
    },
    {
      "cell_type": "code",
      "metadata": {
        "id": "nxTqHn8MkIMn"
      },
      "source": [
        "# 【問題11】既知のグループとの比較"
      ],
      "execution_count": null,
      "outputs": []
    },
    {
      "cell_type": "code",
      "metadata": {
        "id": "CgIgvX7WkIMn",
        "outputId": "d0c1903e-c84f-4411-dd20-7613ee27362a"
      },
      "source": [
        "data.head()"
      ],
      "execution_count": null,
      "outputs": [
        {
          "output_type": "execute_result",
          "data": {
            "text/html": [
              "<div>\n",
              "<style scoped>\n",
              "    .dataframe tbody tr th:only-of-type {\n",
              "        vertical-align: middle;\n",
              "    }\n",
              "\n",
              "    .dataframe tbody tr th {\n",
              "        vertical-align: top;\n",
              "    }\n",
              "\n",
              "    .dataframe thead th {\n",
              "        text-align: right;\n",
              "    }\n",
              "</style>\n",
              "<table border=\"1\" class=\"dataframe\">\n",
              "  <thead>\n",
              "    <tr style=\"text-align: right;\">\n",
              "      <th></th>\n",
              "      <th>Channel</th>\n",
              "      <th>Region</th>\n",
              "      <th>Fresh</th>\n",
              "      <th>Milk</th>\n",
              "      <th>Grocery</th>\n",
              "      <th>Frozen</th>\n",
              "      <th>Detergents_Paper</th>\n",
              "      <th>Delicassen</th>\n",
              "    </tr>\n",
              "  </thead>\n",
              "  <tbody>\n",
              "    <tr>\n",
              "      <th>0</th>\n",
              "      <td>2</td>\n",
              "      <td>3</td>\n",
              "      <td>12669</td>\n",
              "      <td>9656</td>\n",
              "      <td>7561</td>\n",
              "      <td>214</td>\n",
              "      <td>2674</td>\n",
              "      <td>1338</td>\n",
              "    </tr>\n",
              "    <tr>\n",
              "      <th>1</th>\n",
              "      <td>2</td>\n",
              "      <td>3</td>\n",
              "      <td>7057</td>\n",
              "      <td>9810</td>\n",
              "      <td>9568</td>\n",
              "      <td>1762</td>\n",
              "      <td>3293</td>\n",
              "      <td>1776</td>\n",
              "    </tr>\n",
              "    <tr>\n",
              "      <th>2</th>\n",
              "      <td>2</td>\n",
              "      <td>3</td>\n",
              "      <td>6353</td>\n",
              "      <td>8808</td>\n",
              "      <td>7684</td>\n",
              "      <td>2405</td>\n",
              "      <td>3516</td>\n",
              "      <td>7844</td>\n",
              "    </tr>\n",
              "    <tr>\n",
              "      <th>3</th>\n",
              "      <td>1</td>\n",
              "      <td>3</td>\n",
              "      <td>13265</td>\n",
              "      <td>1196</td>\n",
              "      <td>4221</td>\n",
              "      <td>6404</td>\n",
              "      <td>507</td>\n",
              "      <td>1788</td>\n",
              "    </tr>\n",
              "    <tr>\n",
              "      <th>4</th>\n",
              "      <td>2</td>\n",
              "      <td>3</td>\n",
              "      <td>22615</td>\n",
              "      <td>5410</td>\n",
              "      <td>7198</td>\n",
              "      <td>3915</td>\n",
              "      <td>1777</td>\n",
              "      <td>5185</td>\n",
              "    </tr>\n",
              "  </tbody>\n",
              "</table>\n",
              "</div>"
            ],
            "text/plain": [
              "   Channel  Region  Fresh  Milk  Grocery  Frozen  Detergents_Paper  Delicassen\n",
              "0        2       3  12669  9656     7561     214              2674        1338\n",
              "1        2       3   7057  9810     9568    1762              3293        1776\n",
              "2        2       3   6353  8808     7684    2405              3516        7844\n",
              "3        1       3  13265  1196     4221    6404               507        1788\n",
              "4        2       3  22615  5410     7198    3915              1777        5185"
            ]
          },
          "metadata": {
            "tags": []
          },
          "execution_count": 23
        }
      ]
    },
    {
      "cell_type": "code",
      "metadata": {
        "id": "ao8vFPmGkIMn"
      },
      "source": [
        "data11 = data[(data['Channel'] == 1) & (data['Region'] == 1)]"
      ],
      "execution_count": null,
      "outputs": []
    },
    {
      "cell_type": "code",
      "metadata": {
        "id": "rLS4DyyGkIMn"
      },
      "source": [
        "ch_re = data['Channel'] * 10 + data['Region']"
      ],
      "execution_count": null,
      "outputs": []
    },
    {
      "cell_type": "code",
      "metadata": {
        "id": "GAcKMXqqkIMn"
      },
      "source": [
        "import seaborn as sns"
      ],
      "execution_count": null,
      "outputs": []
    },
    {
      "cell_type": "code",
      "metadata": {
        "id": "t7sdBrAbkIMo",
        "outputId": "31f5297f-8803-4139-fd93-10fe96e844b8"
      },
      "source": [
        "sns.countplot(ch_re)"
      ],
      "execution_count": null,
      "outputs": [
        {
          "output_type": "stream",
          "text": [
            "C:\\Users\\es\\anaconda3\\lib\\site-packages\\seaborn\\_decorators.py:36: FutureWarning: Pass the following variable as a keyword arg: x. From version 0.12, the only valid positional argument will be `data`, and passing other arguments without an explicit keyword will result in an error or misinterpretation.\n",
            "  warnings.warn(\n"
          ],
          "name": "stderr"
        },
        {
          "output_type": "execute_result",
          "data": {
            "text/plain": [
              "<AxesSubplot:ylabel='count'>"
            ]
          },
          "metadata": {
            "tags": []
          },
          "execution_count": 27
        },
        {
          "output_type": "display_data",
          "data": {
            "image/png": "[encoded data removed]",
            "text/plain": [
              "<Figure size 432x288 with 1 Axes>"
            ]
          },
          "metadata": {
            "tags": [],
            "needs_background": "light"
          }
        }
      ]
    },
    {
      "cell_type": "code",
      "metadata": {
        "id": "5TrnIu7AkIMo",
        "outputId": "8eccd59c-f2c9-48f6-f551-b7a3a065f1fd"
      },
      "source": [
        "# チャネル別、地域別売上量の割合\n",
        "label = ['13','23','11','12','22','21']\n",
        " \n",
        "plt.pie(ch_re.value_counts(),\n",
        "       labels=label, counterclock=False, startangle=90,\n",
        "       autopct='%1.1f%%', pctdistance=0.7)\n",
        " \n",
        "plt.show()"
      ],
      "execution_count": null,
      "outputs": [
        {
          "output_type": "display_data",
          "data": {
            "image/png": "[encoded data removed]",
            "text/plain": [
              "<Figure size 432x288 with 1 Axes>"
            ]
          },
          "metadata": {
            "tags": []
          }
        }
      ]
    },
    {
      "cell_type": "markdown",
      "metadata": {
        "id": "Zulp3GE_kIMo"
      },
      "source": [
        "売上量は、チャネル＝1、地域=3が全体の48%、チャネル=2、地域=3が全体の23.9%を占めており、残りが28.1%である。"
      ]
    },
    {
      "cell_type": "code",
      "metadata": {
        "id": "UCXf0xSrkIMo",
        "outputId": "efe60cdc-8322-434f-8dbd-c9e4685eed1f"
      },
      "source": [
        "data_total = data.groupby(['Channel','Region']).sum().sum(axis=1).sort_values(ascending=False)\n",
        "data_total"
      ],
      "execution_count": null,
      "outputs": [
        {
          "output_type": "execute_result",
          "data": {
            "text/plain": [
              "Channel  Region\n",
              "1        3         5742077\n",
              "2        3         4935522\n",
              "1        1         1538342\n",
              "2        1          848471\n",
              "         2          835938\n",
              "1        2          719150\n",
              "dtype: int64"
            ]
          },
          "metadata": {
            "tags": []
          },
          "execution_count": 71
        }
      ]
    },
    {
      "cell_type": "code",
      "metadata": {
        "id": "107ebiaokIMp",
        "outputId": "06cacbca-6023-47a9-c875-0da50f4e789f"
      },
      "source": [
        "# チャネル別、地域別売上高の割合\n",
        "label = ['13','23','11','21','22','12']\n",
        " \n",
        "plt.pie(data_total,\n",
        "       labels=label, counterclock=False, startangle=90,\n",
        "       autopct='%1.1f%%', pctdistance=0.7)\n",
        " \n",
        "plt.show()"
      ],
      "execution_count": null,
      "outputs": [
        {
          "output_type": "display_data",
          "data": {
            "image/png": "[encoded data removed]",
            "text/plain": [
              "<Figure size 432x288 with 1 Axes>"
            ]
          },
          "metadata": {
            "tags": []
          }
        }
      ]
    },
    {
      "cell_type": "markdown",
      "metadata": {
        "id": "Ww0HkwjGkIMp"
      },
      "source": [
        "売上高は、チャネル＝1、地域=3が全体の39.3%、チャネル=2、地域=3が全体の33.8%を占めており、残りが26.9%である。"
      ]
    },
    {
      "cell_type": "code",
      "metadata": {
        "id": "fNpaLriLkIMp",
        "outputId": "dbecde8e-2e0a-4d41-8461-8a91a90a3987"
      },
      "source": [
        "data.groupby(['Channel','Region']).sum()"
      ],
      "execution_count": null,
      "outputs": [
        {
          "output_type": "execute_result",
          "data": {
            "text/html": [
              "<div>\n",
              "<style scoped>\n",
              "    .dataframe tbody tr th:only-of-type {\n",
              "        vertical-align: middle;\n",
              "    }\n",
              "\n",
              "    .dataframe tbody tr th {\n",
              "        vertical-align: top;\n",
              "    }\n",
              "\n",
              "    .dataframe thead th {\n",
              "        text-align: right;\n",
              "    }\n",
              "</style>\n",
              "<table border=\"1\" class=\"dataframe\">\n",
              "  <thead>\n",
              "    <tr style=\"text-align: right;\">\n",
              "      <th></th>\n",
              "      <th></th>\n",
              "      <th>Fresh</th>\n",
              "      <th>Milk</th>\n",
              "      <th>Grocery</th>\n",
              "      <th>Frozen</th>\n",
              "      <th>Detergents_Paper</th>\n",
              "      <th>Delicassen</th>\n",
              "    </tr>\n",
              "    <tr>\n",
              "      <th>Channel</th>\n",
              "      <th>Region</th>\n",
              "      <th></th>\n",
              "      <th></th>\n",
              "      <th></th>\n",
              "      <th></th>\n",
              "      <th></th>\n",
              "      <th></th>\n",
              "    </tr>\n",
              "  </thead>\n",
              "  <tbody>\n",
              "    <tr>\n",
              "      <th rowspan=\"3\" valign=\"top\">1</th>\n",
              "      <th>1</th>\n",
              "      <td>761233</td>\n",
              "      <td>228342</td>\n",
              "      <td>237542</td>\n",
              "      <td>184512</td>\n",
              "      <td>56081</td>\n",
              "      <td>70632</td>\n",
              "    </tr>\n",
              "    <tr>\n",
              "      <th>2</th>\n",
              "      <td>326215</td>\n",
              "      <td>64519</td>\n",
              "      <td>123074</td>\n",
              "      <td>160861</td>\n",
              "      <td>13516</td>\n",
              "      <td>30965</td>\n",
              "    </tr>\n",
              "    <tr>\n",
              "      <th>3</th>\n",
              "      <td>2928269</td>\n",
              "      <td>735753</td>\n",
              "      <td>820101</td>\n",
              "      <td>771606</td>\n",
              "      <td>165990</td>\n",
              "      <td>320358</td>\n",
              "    </tr>\n",
              "    <tr>\n",
              "      <th rowspan=\"3\" valign=\"top\">2</th>\n",
              "      <th>1</th>\n",
              "      <td>93600</td>\n",
              "      <td>194112</td>\n",
              "      <td>332495</td>\n",
              "      <td>46514</td>\n",
              "      <td>148055</td>\n",
              "      <td>33695</td>\n",
              "    </tr>\n",
              "    <tr>\n",
              "      <th>2</th>\n",
              "      <td>138506</td>\n",
              "      <td>174625</td>\n",
              "      <td>310200</td>\n",
              "      <td>29271</td>\n",
              "      <td>159795</td>\n",
              "      <td>23541</td>\n",
              "    </tr>\n",
              "    <tr>\n",
              "      <th>3</th>\n",
              "      <td>1032308</td>\n",
              "      <td>1153006</td>\n",
              "      <td>1675150</td>\n",
              "      <td>158886</td>\n",
              "      <td>724420</td>\n",
              "      <td>191752</td>\n",
              "    </tr>\n",
              "  </tbody>\n",
              "</table>\n",
              "</div>"
            ],
            "text/plain": [
              "                  Fresh     Milk  Grocery  Frozen  Detergents_Paper  \\\n",
              "Channel Region                                                        \n",
              "1       1        761233   228342   237542  184512             56081   \n",
              "        2        326215    64519   123074  160861             13516   \n",
              "        3       2928269   735753   820101  771606            165990   \n",
              "2       1         93600   194112   332495   46514            148055   \n",
              "        2        138506   174625   310200   29271            159795   \n",
              "        3       1032308  1153006  1675150  158886            724420   \n",
              "\n",
              "                Delicassen  \n",
              "Channel Region              \n",
              "1       1            70632  \n",
              "        2            30965  \n",
              "        3           320358  \n",
              "2       1            33695  \n",
              "        2            23541  \n",
              "        3           191752  "
            ]
          },
          "metadata": {
            "tags": []
          },
          "execution_count": 60
        }
      ]
    },
    {
      "cell_type": "markdown",
      "metadata": {
        "id": "7Y5jJ_qEkIMp"
      },
      "source": [
        "Fresh, Frozen, Delicassenについてはチャネル＝1、地域=3がトップだが、Milk,Grocery,Detergents_Paperはチャネル=2、地域=3がであり、\\\n",
        "チャネル＝1、地域=3が売上量がダントツであるが、売上高はチャネル=2、地域=3に追いつかれている要因と思われる。"
      ]
    },
    {
      "cell_type": "code",
      "metadata": {
        "id": "TKuuSFRHkIMp",
        "outputId": "fe8e5437-2209-48c2-fb07-2c741e07799c"
      },
      "source": [
        "data_total_hinmoku = data.groupby(['Channel','Region']).sum().sum().sort_values(ascending=False)\n",
        "data_total_hinmoku"
      ],
      "execution_count": null,
      "outputs": [
        {
          "output_type": "execute_result",
          "data": {
            "text/plain": [
              "Fresh               5280131\n",
              "Grocery             3498562\n",
              "Milk                2550357\n",
              "Frozen              1351650\n",
              "Detergents_Paper    1267857\n",
              "Delicassen           670943\n",
              "dtype: int64"
            ]
          },
          "metadata": {
            "tags": []
          },
          "execution_count": 69
        }
      ]
    },
    {
      "cell_type": "code",
      "metadata": {
        "id": "qYQyNXpvkIMq",
        "outputId": "dd4d4c3a-4d27-4d2a-e88d-62062a3b301b"
      },
      "source": [
        "# 品目別売上高の割合\n",
        "label = ['Fresh','Grocery','Milk','Frozen','Detergents_Paper','Delicassen']\n",
        " \n",
        "plt.pie(data_total_hinmoku,\n",
        "       labels=label, counterclock=False, startangle=90,\n",
        "       autopct='%1.1f%%', pctdistance=0.7)\n",
        " \n",
        "plt.show()"
      ],
      "execution_count": null,
      "outputs": [
        {
          "output_type": "display_data",
          "data": {
            "image/png": "[encoded data removed]",
            "text/plain": [
              "<Figure size 432x288 with 1 Axes>"
            ]
          },
          "metadata": {
            "tags": []
          }
        }
      ]
    },
    {
      "cell_type": "code",
      "metadata": {
        "id": "Mv-IewTAkIMq",
        "outputId": "e2115321-4dfb-4eb5-c638-7560231e15a3"
      },
      "source": [
        "data.groupby(['Channel','Region']).max()"
      ],
      "execution_count": null,
      "outputs": [
        {
          "output_type": "execute_result",
          "data": {
            "text/html": [
              "<div>\n",
              "<style scoped>\n",
              "    .dataframe tbody tr th:only-of-type {\n",
              "        vertical-align: middle;\n",
              "    }\n",
              "\n",
              "    .dataframe tbody tr th {\n",
              "        vertical-align: top;\n",
              "    }\n",
              "\n",
              "    .dataframe thead th {\n",
              "        text-align: right;\n",
              "    }\n",
              "</style>\n",
              "<table border=\"1\" class=\"dataframe\">\n",
              "  <thead>\n",
              "    <tr style=\"text-align: right;\">\n",
              "      <th></th>\n",
              "      <th></th>\n",
              "      <th>Fresh</th>\n",
              "      <th>Milk</th>\n",
              "      <th>Grocery</th>\n",
              "      <th>Frozen</th>\n",
              "      <th>Detergents_Paper</th>\n",
              "      <th>Delicassen</th>\n",
              "    </tr>\n",
              "    <tr>\n",
              "      <th>Channel</th>\n",
              "      <th>Region</th>\n",
              "      <th></th>\n",
              "      <th></th>\n",
              "      <th></th>\n",
              "      <th></th>\n",
              "      <th></th>\n",
              "      <th></th>\n",
              "    </tr>\n",
              "  </thead>\n",
              "  <tbody>\n",
              "    <tr>\n",
              "      <th rowspan=\"3\" valign=\"top\">1</th>\n",
              "      <th>1</th>\n",
              "      <td>56083</td>\n",
              "      <td>23527</td>\n",
              "      <td>16966</td>\n",
              "      <td>18711</td>\n",
              "      <td>5828</td>\n",
              "      <td>6854</td>\n",
              "    </tr>\n",
              "    <tr>\n",
              "      <th>2</th>\n",
              "      <td>32717</td>\n",
              "      <td>16784</td>\n",
              "      <td>13626</td>\n",
              "      <td>60869</td>\n",
              "      <td>1679</td>\n",
              "      <td>5609</td>\n",
              "    </tr>\n",
              "    <tr>\n",
              "      <th>3</th>\n",
              "      <td>112151</td>\n",
              "      <td>43950</td>\n",
              "      <td>21042</td>\n",
              "      <td>36534</td>\n",
              "      <td>6907</td>\n",
              "      <td>47943</td>\n",
              "    </tr>\n",
              "    <tr>\n",
              "      <th rowspan=\"3\" valign=\"top\">2</th>\n",
              "      <th>1</th>\n",
              "      <td>20782</td>\n",
              "      <td>28326</td>\n",
              "      <td>39694</td>\n",
              "      <td>8321</td>\n",
              "      <td>19410</td>\n",
              "      <td>6372</td>\n",
              "    </tr>\n",
              "    <tr>\n",
              "      <th>2</th>\n",
              "      <td>27082</td>\n",
              "      <td>25071</td>\n",
              "      <td>67298</td>\n",
              "      <td>11559</td>\n",
              "      <td>38102</td>\n",
              "      <td>3508</td>\n",
              "    </tr>\n",
              "    <tr>\n",
              "      <th>3</th>\n",
              "      <td>44466</td>\n",
              "      <td>73498</td>\n",
              "      <td>92780</td>\n",
              "      <td>8132</td>\n",
              "      <td>40827</td>\n",
              "      <td>16523</td>\n",
              "    </tr>\n",
              "  </tbody>\n",
              "</table>\n",
              "</div>"
            ],
            "text/plain": [
              "                 Fresh   Milk  Grocery  Frozen  Detergents_Paper  Delicassen\n",
              "Channel Region                                                              \n",
              "1       1        56083  23527    16966   18711              5828        6854\n",
              "        2        32717  16784    13626   60869              1679        5609\n",
              "        3       112151  43950    21042   36534              6907       47943\n",
              "2       1        20782  28326    39694    8321             19410        6372\n",
              "        2        27082  25071    67298   11559             38102        3508\n",
              "        3        44466  73498    92780    8132             40827       16523"
            ]
          },
          "metadata": {
            "tags": []
          },
          "execution_count": 74
        }
      ]
    },
    {
      "cell_type": "markdown",
      "metadata": {
        "id": "53JDdl8MkIMq"
      },
      "source": [
        "売上高の最高をマークした品目について、チャネル別、地域別比較では、Detergents_Paperがチャネル2、地域1,2について、チャネル1,地域3よりも\\\n",
        "売り上げが多かった。"
      ]
    },
    {
      "cell_type": "code",
      "metadata": {
        "id": "QAM9dfOfkIMq"
      },
      "source": [
        "# 【問題12】卸売業者にとって有益な情報"
      ],
      "execution_count": null,
      "outputs": []
    },
    {
      "cell_type": "markdown",
      "metadata": {
        "id": "9ntM0AhEkIMq"
      },
      "source": [
        "```py\n",
        "1.全体の売上量は、チャネル1,地域3が全体の半分を占めるが、売上高については、チャネル2、地域3が迫っている。これはチャネル1,地域3での\n",
        "　Freshの売上高が圧倒的に高く、これに依存していると考えられる。\n",
        "2.Detergents_Paperについては、がチャネル2、地域1,2について、チャネル1,地域3よりも売り上げが多い時もあるため、Detergents_Paperが\n",
        "　売れた要因を調査し対策を講じれば、チャネル2、地域1,2の売上げ上昇が見込めるかもしれない。\n",
        "3.Freshはチャネル1,地域3の稼ぎ頭となっているため、こちらも売上高が圧倒的に高い要因を調査し、売上げを減らさない対策を講じるべきと\n",
        "　考える。\n",
        "4.機械学習でのクラスタリング手法でも、クラスター数=3が推奨されている。これは、売上高が、チャネル1,地域3、チャネル2、地域3、その他で\n",
        "　ほぼ 同じ割合を占めるためと思われる。従い、チャネル1,地域3、チャネル2、地域3の売上げを減らさず、その他の地域の売り上げを増加させる\n",
        " 　施策を考えるほうが良いと思われる。\n",
        "```"
      ]
    },
    {
      "cell_type": "code",
      "metadata": {
        "id": "JamYZcj4kIMr"
      },
      "source": [
        ""
      ],
      "execution_count": null,
      "outputs": []
    }
  ]
}