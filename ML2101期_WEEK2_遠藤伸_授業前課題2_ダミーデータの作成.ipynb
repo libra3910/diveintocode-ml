{
  "nbformat": 4,
  "nbformat_minor": 0,
  "metadata": {
    "kernelspec": {
      "display_name": "Python 3",
      "language": "python",
      "name": "python3"
    },
    "language_info": {
      "codemirror_mode": {
        "name": "ipython",
        "version": 3
      },
      "file_extension": ".py",
      "mimetype": "text/x-python",
      "name": "python",
      "nbconvert_exporter": "python",
      "pygments_lexer": "ipython3",
      "version": "3.8.5"
    },
    "colab": {
      "name": "ML2101期_WEEK2_遠藤伸_授業前課題2_ダミーデータの作成.ipynb",
      "provenance": [],
      "collapsed_sections": [],
      "include_colab_link": true
    }
  },
  "cells": [
    {
      "cell_type": "markdown",
      "metadata": {
        "id": "view-in-github",
        "colab_type": "text"
      },
      "source": [
        "<a href=\"https://colab.research.google.com/github/libra3910/diveintocode-ml/blob/master/ML2101%E6%9C%9F_WEEK2_%E9%81%A0%E8%97%A4%E4%BC%B8_%E6%8E%88%E6%A5%AD%E5%89%8D%E8%AA%B2%E9%A1%8C2_%E3%83%80%E3%83%9F%E3%83%BC%E3%83%87%E3%83%BC%E3%82%BF%E3%81%AE%E4%BD%9C%E6%88%90.ipynb\" target=\"_parent\"><img src=\"https://colab.research.google.com/assets/colab-badge.svg\" alt=\"Open In Colab\"/></a>"
      ]
    },
    {
      "cell_type": "markdown",
      "metadata": {
        "id": "gMI2V38_J0sK"
      },
      "source": [
        "【問題1】乱数の作成"
      ]
    },
    {
      "cell_type": "code",
      "metadata": {
        "id": "5klcVHhFJ0sT",
        "outputId": "a6f0d0ad-35dd-4e20-ed82-0b7be8e6c3d2"
      },
      "source": [
        "from numpy.random import *\n",
        "import numpy as np\n",
        "\n",
        "seed(0)\n",
        "mu = (-3,0)\n",
        "sigma = ([1.0, 0.8], [0.8, 1.0])\n",
        "values = multivariate_normal(mu, sigma, 500)\n",
        "print(values.shape)"
      ],
      "execution_count": null,
      "outputs": [
        {
          "output_type": "stream",
          "text": [
            "(500, 2)\n"
          ],
          "name": "stdout"
        }
      ]
    },
    {
      "cell_type": "markdown",
      "metadata": {
        "id": "hYwRNcRtJ0sV"
      },
      "source": [
        "【問題2】散布図による可視化"
      ]
    },
    {
      "cell_type": "code",
      "metadata": {
        "id": "ucs_YJtcJ0sV"
      },
      "source": [
        "values_X1 = []\n",
        "values_X2 = []\n",
        "for i in range(len(values)):\n",
        "  values_X1.append(values[i,0])\n",
        "  values_X2.append(values[i,1])"
      ],
      "execution_count": null,
      "outputs": []
    },
    {
      "cell_type": "code",
      "metadata": {
        "id": "eS7qOMvwJ0sV",
        "outputId": "d9cf539a-6ecd-46c6-bb3a-1b75d412a8c7"
      },
      "source": [
        "import matplotlib.pyplot as plt\n",
        "%matplotlib inline\n",
        "plt.xlabel(\"X1\")\n",
        "plt.ylabel(\"X2\")\n",
        "plt.title(\"scatter\")\n",
        "plt.scatter(values_X1, values_X2)"
      ],
      "execution_count": null,
      "outputs": [
        {
          "output_type": "execute_result",
          "data": {
            "text/plain": [
              "<matplotlib.collections.PathCollection at 0x1c0fbb8cd00>"
            ]
          },
          "metadata": {
            "tags": []
          },
          "execution_count": 3
        },
        {
          "output_type": "display_data",
          "data": {
            "image/png": "[encoded data removed]",
            "text/plain": [
              "<Figure size 432x288 with 1 Axes>"
            ]
          },
          "metadata": {
            "tags": [],
            "needs_background": "light"
          }
        }
      ]
    },
    {
      "cell_type": "markdown",
      "metadata": {
        "id": "0V5nGUAkJ0sW"
      },
      "source": [
        "【問題3】ヒストグラムによる可視化"
      ]
    },
    {
      "cell_type": "code",
      "metadata": {
        "id": "IEClxURlJ0sW",
        "outputId": "82959330-70e2-4542-9155-489e2270e6d1"
      },
      "source": [
        "plt.xlabel(\"X1\")\n",
        "plt.ylabel(\"frequency\")\n",
        "plt.title(\"histgram of X1\")\n",
        "plt.hist(values_X1, bins=100, histtype = 'bar')"
      ],
      "execution_count": null,
      "outputs": [
        {
          "output_type": "execute_result",
          "data": {
            "text/plain": [
              "(array([ 2.,  1.,  0.,  0.,  2.,  0.,  0.,  1.,  0.,  1.,  3.,  2.,  1.,\n",
              "         4.,  1.,  0.,  4.,  5.,  3.,  1.,  4.,  1.,  5.,  2.,  6.,  4.,\n",
              "         2.,  5.,  2., 13.,  5.,  8.,  9., 10.,  9.,  6., 10., 12., 11.,\n",
              "         7.,  6., 13.,  7., 12.,  7.,  8.,  7., 19.,  8.,  7., 11.,  7.,\n",
              "         9., 10.,  8.,  8., 17., 12.,  8.,  9., 11., 15., 13.,  8.,  8.,\n",
              "         6., 10.,  1.,  8.,  4.,  4.,  8.,  4.,  4.,  4.,  7.,  2.,  2.,\n",
              "         2.,  2.,  3.,  1.,  3.,  1.,  3.,  2.,  3.,  1.,  1.,  1.,  1.,\n",
              "         0.,  0.,  1.,  0.,  0.,  0.,  0.,  0.,  1.]),\n",
              " array([-5.55952028, -5.50577341, -5.45202653, -5.39827966, -5.34453278,\n",
              "        -5.29078591, -5.23703904, -5.18329216, -5.12954529, -5.07579841,\n",
              "        -5.02205154, -4.96830466, -4.91455779, -4.86081091, -4.80706404,\n",
              "        -4.75331716, -4.69957029, -4.64582342, -4.59207654, -4.53832967,\n",
              "        -4.48458279, -4.43083592, -4.37708904, -4.32334217, -4.26959529,\n",
              "        -4.21584842, -4.16210154, -4.10835467, -4.0546078 , -4.00086092,\n",
              "        -3.94711405, -3.89336717, -3.8396203 , -3.78587342, -3.73212655,\n",
              "        -3.67837967, -3.6246328 , -3.57088592, -3.51713905, -3.46339217,\n",
              "        -3.4096453 , -3.35589843, -3.30215155, -3.24840468, -3.1946578 ,\n",
              "        -3.14091093, -3.08716405, -3.03341718, -2.9796703 , -2.92592343,\n",
              "        -2.87217655, -2.81842968, -2.76468281, -2.71093593, -2.65718906,\n",
              "        -2.60344218, -2.54969531, -2.49594843, -2.44220156, -2.38845468,\n",
              "        -2.33470781, -2.28096093, -2.22721406, -2.17346719, -2.11972031,\n",
              "        -2.06597344, -2.01222656, -1.95847969, -1.90473281, -1.85098594,\n",
              "        -1.79723906, -1.74349219, -1.68974531, -1.63599844, -1.58225157,\n",
              "        -1.52850469, -1.47475782, -1.42101094, -1.36726407, -1.31351719,\n",
              "        -1.25977032, -1.20602344, -1.15227657, -1.09852969, -1.04478282,\n",
              "        -0.99103594, -0.93728907, -0.8835422 , -0.82979532, -0.77604845,\n",
              "        -0.72230157, -0.6685547 , -0.61480782, -0.56106095, -0.50731407,\n",
              "        -0.4535672 , -0.39982032, -0.34607345, -0.29232658, -0.2385797 ,\n",
              "        -0.18483283]),\n",
              " <BarContainer object of 100 artists>)"
            ]
          },
          "metadata": {
            "tags": []
          },
          "execution_count": 4
        },
        {
          "output_type": "display_data",
          "data": {
            "image/png": "[encoded data removed]",
            "text/plain": [
              "<Figure size 432x288 with 1 Axes>"
            ]
          },
          "metadata": {
            "tags": [],
            "needs_background": "light"
          }
        }
      ]
    },
    {
      "cell_type": "code",
      "metadata": {
        "id": "oz4zzOdvJ0sX",
        "outputId": "57c1e1b1-6020-4111-9f7f-27acb513528a"
      },
      "source": [
        "plt.xlabel(\"X2\")\n",
        "plt.ylabel(\"frequency\")\n",
        "plt.title(\"histgram of X2\")\n",
        "plt.hist(values_X2, bins=100, histtype = 'bar')"
      ],
      "execution_count": null,
      "outputs": [
        {
          "output_type": "execute_result",
          "data": {
            "text/plain": [
              "(array([ 1.,  0.,  0.,  0.,  0.,  0.,  0.,  1.,  3.,  2.,  0.,  0.,  0.,\n",
              "         0.,  1.,  1.,  0.,  2.,  1.,  2.,  0.,  2.,  1.,  3.,  1.,  3.,\n",
              "         3.,  7.,  3.,  1.,  4.,  5.,  4.,  7.,  8.,  9.,  6.,  6.,  5.,\n",
              "         9., 10.,  7.,  7., 10.,  7., 11., 11.,  8., 10., 10.,  7., 18.,\n",
              "        10., 14.,  9., 22., 14., 12.,  9., 10., 11., 18., 10.,  9.,  9.,\n",
              "         9.,  7.,  8.,  8., 11.,  6.,  7.,  4.,  6.,  6.,  5.,  4.,  6.,\n",
              "         4.,  4.,  5.,  3.,  3.,  3.,  4.,  1.,  0.,  1.,  2.,  1.,  0.,\n",
              "         3.,  1.,  0.,  0.,  0.,  1.,  1.,  1.,  1.]),\n",
              " array([-3.07908535, -3.02115003, -2.9632147 , -2.90527937, -2.84734404,\n",
              "        -2.78940872, -2.73147339, -2.67353806, -2.61560274, -2.55766741,\n",
              "        -2.49973208, -2.44179675, -2.38386143, -2.3259261 , -2.26799077,\n",
              "        -2.21005545, -2.15212012, -2.09418479, -2.03624946, -1.97831414,\n",
              "        -1.92037881, -1.86244348, -1.80450816, -1.74657283, -1.6886375 ,\n",
              "        -1.63070217, -1.57276685, -1.51483152, -1.45689619, -1.39896087,\n",
              "        -1.34102554, -1.28309021, -1.22515489, -1.16721956, -1.10928423,\n",
              "        -1.0513489 , -0.99341358, -0.93547825, -0.87754292, -0.8196076 ,\n",
              "        -0.76167227, -0.70373694, -0.64580161, -0.58786629, -0.52993096,\n",
              "        -0.47199563, -0.41406031, -0.35612498, -0.29818965, -0.24025432,\n",
              "        -0.182319  , -0.12438367, -0.06644834, -0.00851302,  0.04942231,\n",
              "         0.10735764,  0.16529297,  0.22322829,  0.28116362,  0.33909895,\n",
              "         0.39703427,  0.4549696 ,  0.51290493,  0.57084025,  0.62877558,\n",
              "         0.68671091,  0.74464624,  0.80258156,  0.86051689,  0.91845222,\n",
              "         0.97638754,  1.03432287,  1.0922582 ,  1.15019353,  1.20812885,\n",
              "         1.26606418,  1.32399951,  1.38193483,  1.43987016,  1.49780549,\n",
              "         1.55574082,  1.61367614,  1.67161147,  1.7295468 ,  1.78748212,\n",
              "         1.84541745,  1.90335278,  1.96128811,  2.01922343,  2.07715876,\n",
              "         2.13509409,  2.19302941,  2.25096474,  2.30890007,  2.36683539,\n",
              "         2.42477072,  2.48270605,  2.54064138,  2.5985767 ,  2.65651203,\n",
              "         2.71444736]),\n",
              " <BarContainer object of 100 artists>)"
            ]
          },
          "metadata": {
            "tags": []
          },
          "execution_count": 5
        },
        {
          "output_type": "display_data",
          "data": {
            "image/png": "[encoded data removed]",
            "text/plain": [
              "<Figure size 432x288 with 1 Axes>"
            ]
          },
          "metadata": {
            "tags": [],
            "needs_background": "light"
          }
        }
      ]
    },
    {
      "cell_type": "markdown",
      "metadata": {
        "id": "nvTIMaj-J0sX"
      },
      "source": [
        "【問題4】データの追加"
      ]
    },
    {
      "cell_type": "code",
      "metadata": {
        "id": "lMlA5ageJ0sX",
        "outputId": "b19a5286-de96-4041-e312-8e876877c096"
      },
      "source": [
        "mu_2 = (-3,0)\n",
        "sigma_2 = ([1.0, 0.8], [0.8, 1.0])\n",
        "values_2 = multivariate_normal(mu, sigma, 500)\n",
        "print(values_2.shape)"
      ],
      "execution_count": null,
      "outputs": [
        {
          "output_type": "stream",
          "text": [
            "(500, 2)\n"
          ],
          "name": "stdout"
        }
      ]
    },
    {
      "cell_type": "code",
      "metadata": {
        "id": "MjwMbo81J0sY"
      },
      "source": [
        "values_X1_2 = []\n",
        "values_X2_2 = []\n",
        "for i in range(len(values_2)):\n",
        "  values_X1_2.append(values_2[i,0])\n",
        "  values_X2_2.append(values_2[i,1])"
      ],
      "execution_count": null,
      "outputs": []
    },
    {
      "cell_type": "code",
      "metadata": {
        "id": "9f5pMY5SJ0sY",
        "outputId": "22fe290b-a77b-4155-c9bd-757811bb4415"
      },
      "source": [
        "plt.xlabel(\"X1\")\n",
        "plt.ylabel(\"X2\")\n",
        "plt.title(\"scatter\")\n",
        "plt.scatter(values_X1,values_X2, c='blue', label=\"0\")\n",
        "plt.scatter(values_X1_2,values_X2_2, c='orange', label=\"1\")\n",
        "plt.legend()\n",
        "plt.show()"
      ],
      "execution_count": null,
      "outputs": [
        {
          "output_type": "display_data",
          "data": {
            "image/png": "[encoded data removed]",
            "text/plain": [
              "<Figure size 432x288 with 1 Axes>"
            ]
          },
          "metadata": {
            "tags": [],
            "needs_background": "light"
          }
        }
      ]
    },
    {
      "cell_type": "markdown",
      "metadata": {
        "id": "l103In0YJ0sY"
      },
      "source": [
        "【問題5】データの結合"
      ]
    },
    {
      "cell_type": "code",
      "metadata": {
        "id": "vX75eaJtJ0sY",
        "outputId": "145e8b6c-ef9e-4c05-da67-016c740f6e66"
      },
      "source": [
        "values_conc = np.concatenate([values, values_2])\n",
        "print(values_conc.shape)"
      ],
      "execution_count": null,
      "outputs": [
        {
          "output_type": "stream",
          "text": [
            "(1000, 2)\n"
          ],
          "name": "stdout"
        }
      ]
    },
    {
      "cell_type": "markdown",
      "metadata": {
        "id": "ftz3pnWfJ0sZ"
      },
      "source": [
        "【問題6】ラベル付け"
      ]
    },
    {
      "cell_type": "code",
      "metadata": {
        "id": "IVNe-T_ZJ0sZ",
        "outputId": "4e6c28b7-7e3a-4450-f55a-c1bc1faa39a0"
      },
      "source": [
        "values_zeros = np.zeros(len(values))\n",
        "values_ex = []\n",
        "for i in range(len(values)):\n",
        "  values_ex.append(np.append(values[i], values_zeros[i]))\n",
        "values_ex1 = np.array(values_ex)\n",
        "print(values_ex1)"
      ],
      "execution_count": null,
      "outputs": [
        {
          "output_type": "stream",
          "text": [
            "[[-4.80006782 -1.54698618  0.        ]\n",
            " [-4.63714503 -0.21987973  0.        ]\n",
            " [-4.46267867 -2.08076347  0.        ]\n",
            " ...\n",
            " [-3.40484501 -0.14372258  0.        ]\n",
            " [-2.8415685   0.21800394  0.        ]\n",
            " [-1.79803505  0.97547372  0.        ]]\n"
          ],
          "name": "stdout"
        }
      ]
    },
    {
      "cell_type": "code",
      "metadata": {
        "id": "EpXmeQaQJ0sZ",
        "outputId": "0b350e0b-5950-403e-c15d-9c62a0d89a8c"
      },
      "source": [
        "values_ones = np.ones(len(values_2))\n",
        "values_ex = []\n",
        "for i in range(len(values_2)):\n",
        "  values_ex.append(np.append(values_2[i], values_ones[i]))\n",
        "values_ex2 = np.array(values_ex)\n",
        "print(values_ex2)"
      ],
      "execution_count": null,
      "outputs": [
        {
          "output_type": "stream",
          "text": [
            "[[-3.80965753 -0.24520748  1.        ]\n",
            " [-2.63247046  0.4337565   1.        ]\n",
            " [-3.28006393 -0.15263683  1.        ]\n",
            " ...\n",
            " [-3.2185878  -0.15676476  1.        ]\n",
            " [-4.37970304 -1.27950068  1.        ]\n",
            " [-1.50213196  0.66873757  1.        ]]\n"
          ],
          "name": "stdout"
        }
      ]
    },
    {
      "cell_type": "code",
      "metadata": {
        "id": "9nvwb2JQJ0sa",
        "outputId": "ab31dcbb-b55d-46df-ede6-224cf3f931f7"
      },
      "source": [
        "values_conc_2 = np.concatenate([values_ex1, values_ex2])\n",
        "print(values_conc_2.shape)"
      ],
      "execution_count": null,
      "outputs": [
        {
          "output_type": "stream",
          "text": [
            "(1000, 3)\n"
          ],
          "name": "stdout"
        }
      ]
    },
    {
      "cell_type": "code",
      "metadata": {
        "id": "VaOFm_81J0sa"
      },
      "source": [
        ""
      ],
      "execution_count": null,
      "outputs": []
    }
  ]
}