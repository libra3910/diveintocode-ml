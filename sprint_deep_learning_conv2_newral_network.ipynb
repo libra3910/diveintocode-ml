{
  "nbformat": 4,
  "nbformat_minor": 0,
  "metadata": {
    "kernelspec": {
      "display_name": "Python 3",
      "language": "python",
      "name": "python3"
    },
    "language_info": {
      "codemirror_mode": {
        "name": "ipython",
        "version": 3
      },
      "file_extension": ".py",
      "mimetype": "text/x-python",
      "name": "python",
      "nbconvert_exporter": "python",
      "pygments_lexer": "ipython3",
      "version": "3.8.5"
    },
    "colab": {
      "name": "sprint_deep_learning_conv2_newral_network.ipynb",
      "provenance": [],
      "collapsed_sections": [
        "9rW7P7Vo7r28",
        "fQAxo_Bo7r3B",
        "Dr6QynTp7r3F",
        "7ouVo9ey7r3J",
        "ihinXg0b7r3L",
        "h72midZ_7r3L",
        "EPYunFjj7r3N",
        "HBtZ5RIv7r3O",
        "pfpPjZvL7r3P",
        "zXN_qDDH7r3P",
        "eJk0mK527r3R"
      ],
      "include_colab_link": true
    }
  },
  "cells": [
    {
      "cell_type": "markdown",
      "metadata": {
        "id": "view-in-github",
        "colab_type": "text"
      },
      "source": [
        "<a href=\"https://colab.research.google.com/github/libra3910/diveintocode-ml/blob/master/sprint_deep_learning_conv2_newral_network.ipynb\" target=\"_parent\"><img src=\"https://colab.research.google.com/assets/colab-badge.svg\" alt=\"Open In Colab\"/></a>"
      ]
    },
    {
      "cell_type": "markdown",
      "metadata": {
        "id": "w7H-K9db7r2s"
      },
      "source": [
        "# 2次元の畳み込みニューラルネットワークスクラッチ"
      ]
    },
    {
      "cell_type": "code",
      "metadata": {
        "id": "gV74TClH7r20"
      },
      "source": [
        "import numpy as np"
      ],
      "execution_count": null,
      "outputs": []
    },
    {
      "cell_type": "code",
      "metadata": {
        "id": "WYFF8oY_7r21"
      },
      "source": [
        "np.set_printoptions(threshold=100000)"
      ],
      "execution_count": null,
      "outputs": []
    },
    {
      "cell_type": "markdown",
      "metadata": {
        "id": "2WoXMxvl7r21"
      },
      "source": [
        "### ミニバッチ"
      ]
    },
    {
      "cell_type": "code",
      "metadata": {
        "id": "xDZewOac7r22"
      },
      "source": [
        "# Utilityクラス\n",
        "# GetMiniBatch\n",
        "class GetMiniBatch:\n",
        "\n",
        "    def __init__(self, X, y, batch_size = 20, seed=0):\n",
        "        \n",
        "        self.batch_size = batch_size\n",
        "        np.random.seed(seed)\n",
        "        shuffle_index = np.random.permutation(np.arange(X.shape[0]))\n",
        "        self._X = X[shuffle_index]\n",
        "        self._y = y[shuffle_index]\n",
        "        self._stop = np.ceil(X.shape[0]/self.batch_size).astype(np.int)\n",
        "        \n",
        "    def __len__(self):\n",
        "        \n",
        "        return self._stop\n",
        "    \n",
        "    def __getitem__(self,item):\n",
        "        \n",
        "        p0 = item*self.batch_size\n",
        "        p1 = item*self.batch_size + self.batch_size\n",
        "        \n",
        "        return self._X[p0:p1], self._y[p0:p1]   \n",
        "    \n",
        "    def __iter__(self):\n",
        "        \n",
        "        self._counter = 0\n",
        "        \n",
        "        return self\n",
        "    \n",
        "    def __next__(self):\n",
        "        \n",
        "        if self._counter >= self._stop:\n",
        "            raise StopIteration()\n",
        "        p0 = self._counter*self.batch_size\n",
        "        p1 = self._counter*self.batch_size + self.batch_size\n",
        "        self._counter += 1\n",
        "        \n",
        "        return self._X[p0:p1], self._y[p0:p1]"
      ],
      "execution_count": null,
      "outputs": []
    },
    {
      "cell_type": "markdown",
      "metadata": {
        "id": "1tVG5CIs7r23"
      },
      "source": [
        "### 全結合層"
      ]
    },
    {
      "cell_type": "code",
      "metadata": {
        "id": "XpHRywJO7r23"
      },
      "source": [
        "# Initializerクラス\n",
        "# SimpleInitializer 【問題2】初期化方法のクラス化\n",
        "class SimpleInitializer:\n",
        "    \n",
        "    def __init__(self, sigma, seed=0):\n",
        "        \n",
        "        self.sigma = sigma\n",
        "        self.seed = seed\n",
        "        np.random.seed(self.seed)\n",
        "        \n",
        "    def W(self, n_nodes1, n_nodes2):\n",
        "        \n",
        "        W = self.sigma * np.random.randn(n_nodes1, n_nodes2)\n",
        "        \n",
        "        return W\n",
        "    \n",
        "    def B(self, n_nodes2):\n",
        "        \n",
        "        B = self.sigma * np.random.randn(n_nodes2)\n",
        "        \n",
        "        return B"
      ],
      "execution_count": null,
      "outputs": []
    },
    {
      "cell_type": "code",
      "metadata": {
        "id": "0X-xbyDF7r23"
      },
      "source": [
        "# Xavier\n",
        "class Xavier:\n",
        "    \"\"\"\n",
        "    初期値を正規分布化するため、前層のノード数の根で除算する。\n",
        "    活性化関数がシグモイド関数やハイパボリックタンジェント関数の場合に適用。\n",
        "    \n",
        "    \"\"\"\n",
        "    def __init__(self, sigma, seed=0):\n",
        "        \n",
        "        self.sigma = sigma\n",
        "        self.seed = seed\n",
        "        np.random.seed(self.seed)\n",
        "        \n",
        "    def W(self, n_nodes1, n_nodes2):\n",
        "        \n",
        "        W = self.sigma * np.random.randn(n_nodes1, n_nodes2) * (1 / np.sqrt(n_nodes1))\n",
        "        \n",
        "        return W\n",
        "    \n",
        "    def B(self, n_nodes2):\n",
        "        \n",
        "        B = self.sigma * np.random.randn(n_nodes2)\n",
        "        \n",
        "        return B"
      ],
      "execution_count": null,
      "outputs": []
    },
    {
      "cell_type": "code",
      "metadata": {
        "id": "fZz8WgTV7r24"
      },
      "source": [
        "# He\n",
        "class He:\n",
        "    \"\"\"\n",
        "    （2×前層のノード数の根）で除算する。\n",
        "    活性化関数がReLU関数の場合に適用。\n",
        "    \n",
        "    \"\"\"\n",
        "    def __init__(self, sigma, seed=0):\n",
        "        \n",
        "        self.sigma = sigma\n",
        "        self.seed = seed\n",
        "        np.random.seed(self.seed)\n",
        "        \n",
        "    def W(self, n_nodes1, n_nodes2):\n",
        "        \n",
        "        W = self.sigma * np.random.randn(n_nodes1, n_nodes2) * (2 / np.sqrt(n_nodes1))\n",
        "        \n",
        "        return W\n",
        "    \n",
        "    def B(self, n_nodes2):\n",
        "        \n",
        "        B = self.sigma * np.random.randn(n_nodes2)\n",
        "        \n",
        "        return B"
      ],
      "execution_count": null,
      "outputs": []
    },
    {
      "cell_type": "code",
      "metadata": {
        "id": "140px7e17r24"
      },
      "source": [
        "# Optimizerクラス\n",
        "# SGD\n",
        "class SGD:\n",
        "\n",
        "    def __init__(self, lr):\n",
        "        \n",
        "        self.lr = lr\n",
        "        \n",
        "    def update(self, layer):\n",
        "\n",
        "        #layer.W -= self.lr * np.dot(layer.X.T, layer.dA)\n",
        "        #layer.B -= self.lr * np.sum(layer.dA, axis=0)\n",
        "        layer.W -= self.lr * layer.dAW\n",
        "        layer.B -= self.lr * layer.dAB\n",
        "        \n",
        "        return layer"
      ],
      "execution_count": null,
      "outputs": []
    },
    {
      "cell_type": "code",
      "metadata": {
        "id": "-mhr3qSL7r25"
      },
      "source": [
        "# AdaGrad\n",
        "class AdaGrad:\n",
        "\n",
        "    def __init__(self, lr):\n",
        "        \n",
        "        self.lr = lr\n",
        "        self.HiW = 0\n",
        "        self.HiB = 0\n",
        "        \n",
        "    def update(self, layer):\n",
        "        \n",
        "        self.HiW += layer.dAW ** 2\n",
        "        self.HiB += layer.dAB ** 2\n",
        "        \n",
        "        layer.W -= self.lr * (1 / (np.sqrt(self.HiW) + 1e-7)) * layer.dAW\n",
        "        layer.B -= self.lr * (1 / (np.sqrt(self.HiB) + 1e-7)) * layer.dAB\n",
        "        \n",
        "        return layer"
      ],
      "execution_count": null,
      "outputs": []
    },
    {
      "cell_type": "code",
      "metadata": {
        "id": "_hEfGVOk7r25"
      },
      "source": [
        "# Layerクラス\n",
        "# FC\n",
        "class FC:\n",
        "\n",
        "    def __init__(self, n_nodes1, n_nodes2, initializer, optimizer):\n",
        "\n",
        "        self.n_nodes1 = n_nodes1\n",
        "        self.n_nodes2 = n_nodes2\n",
        "        self.initializer = initializer\n",
        "        self.optimizer = optimizer\n",
        "\n",
        "        # 初期化\n",
        "        # initializerのメソッドを使い、self.Wとself.Bを初期化する\n",
        "\n",
        "        self.W = self.initializer.W(n_nodes1, n_nodes2)\n",
        "        self.B = self.initializer.B(n_nodes2)\n",
        "        self.X = None\n",
        "        self.dA = None\n",
        "        \n",
        "    def forward(self, X):\n",
        "\n",
        "        self.X = X\n",
        "        A = np.dot(self.X, self.W) + self.B\n",
        "        return A\n",
        "    \n",
        "    def backward(self, dA):\n",
        "\n",
        "        self.dA = dA\n",
        "\n",
        "        self.dAW = np.dot(self.X.T, self.dA)\n",
        "        self.dAB = np.sum(self.dA, axis=0)\n",
        "        \n",
        "        dz = np.dot(dA, self.W.T)\n",
        "        \n",
        "        self = self.optimizer.update(self)\n",
        "\n",
        "        return dz"
      ],
      "execution_count": null,
      "outputs": []
    },
    {
      "cell_type": "code",
      "metadata": {
        "id": "C1oHi8X77r26"
      },
      "source": [
        "# ReLU\n",
        "class ReLU:\n",
        "\n",
        "    def __init__(self):\n",
        "\n",
        "        self.A = None\n",
        "    \n",
        "    def forward(self, X):\n",
        "  \n",
        "        self.A = np.copy(X)\n",
        "        \n",
        "        return np.maximum(0, X)\n",
        "        \n",
        "    def backward(self, dA):\n",
        "\n",
        "        return np.where(self.A > 0, dA, 0)"
      ],
      "execution_count": null,
      "outputs": []
    },
    {
      "cell_type": "code",
      "metadata": {
        "id": "K2UYcljX7r27"
      },
      "source": [
        "# Tanh\n",
        "class Tanh:\n",
        "\n",
        "    def __init__(self):\n",
        "\n",
        "        pass\n",
        "\n",
        "    def forward(self, X):\n",
        "\n",
        "        self.Z = (np.exp(X) - np.exp(-X)) / (np.exp(X) + np.exp(-X))\n",
        "        return self.Z\n",
        "        \n",
        "    def backward(self, dA):\n",
        "        \n",
        "        dA2 = dA * (1 - self.Z**2)\n",
        "        \n",
        "        return dA2"
      ],
      "execution_count": null,
      "outputs": []
    },
    {
      "cell_type": "code",
      "metadata": {
        "id": "0TYa9Gw87r27"
      },
      "source": [
        "# Softmax\n",
        "class Softmax:\n",
        "    \n",
        "    def __init__(self):\n",
        "        \n",
        "        pass\n",
        "    \n",
        "    def forward(self, X):\n",
        "        \n",
        "        dz = np.exp(X) / np.sum(np.exp(X), axis=1, keepdims=True)\n",
        "        return dz\n",
        "    \n",
        "    def backward(self, Z3, y):\n",
        "\n",
        "        y_one_hot = (y.reshape(-1,1)==np.arange(10))\n",
        "        dza = (Z3 - y) / y.shape[0]\n",
        "        #【問題3】交差エントロピー誤差の実装\n",
        "        L = np.sum(np.mean(-(y_one_hot * Z3), axis=0))\n",
        "        C = np.sum(np.array(dza).argmax(axis=1) == y)\n",
        "        \n",
        "        return dza, L, C"
      ],
      "execution_count": null,
      "outputs": []
    },
    {
      "cell_type": "code",
      "metadata": {
        "id": "7AEUIj367r27"
      },
      "source": [
        "# Calculates log(sum(exp(x)))\n",
        "class logsumexp:\n",
        "    \n",
        "    def __init__(self):\n",
        "\n",
        "        pass\n",
        "\n",
        "    def forward(self, X):\n",
        "        \n",
        "        xmax = X.max(axis=1, keepdims=True)\n",
        "        self.Z = np.log(np.exp(X - xmax).sum(axis=1, keepdims=True)) + xmax\n",
        "        \n",
        "        return self.Z\n",
        "\n",
        "    def backward(self, Z3, log_Z3, y):\n",
        "\n",
        "        y_one_hot = (y.reshape(-1,1)==np.arange(10)).reshape(Z3.shape)\n",
        "        dza = (Z3 - y_one_hot) / y_one_hot.shape[0]\n",
        "\n",
        "        L = np.sum(np.mean(-(y_one_hot * log_Z3), axis=0))\n",
        "        C = np.sum(Z3.argmax(axis=1) == y)\n",
        "        \n",
        "        return dza, L, C"
      ],
      "execution_count": null,
      "outputs": []
    },
    {
      "cell_type": "markdown",
      "metadata": {
        "id": "9rW7P7Vo7r28"
      },
      "source": [
        "### 畳み込み層¶"
      ]
    },
    {
      "cell_type": "code",
      "metadata": {
        "id": "uDobOr1Y7r28"
      },
      "source": [
        "# Initializerクラス\n",
        "# SimpleInitializer 【問題2】初期化方法のクラス化\n",
        "class SimpleInitializerConv2d:\n",
        "    \n",
        "    def __init__(self, sigma, seed=0):\n",
        "        \n",
        "        self.sigma = sigma\n",
        "        self.seed = seed\n",
        "        np.random.seed(self.seed)\n",
        "        \n",
        "    def W(self, out_channel, in_channel, filter_size_h, filter_size_w):\n",
        "        \n",
        "        W = self.sigma * np.random.randn(out_channel, in_channel, filter_size_h, filter_size_w)\n",
        "        \n",
        "        return W\n",
        "    \n",
        "    def B(self, out_channel):\n",
        "        \n",
        "        B = self.sigma * np.random.randn(out_channel)\n",
        "        \n",
        "        return B"
      ],
      "execution_count": null,
      "outputs": []
    },
    {
      "cell_type": "code",
      "metadata": {
        "id": "mcGGrQIm7r29"
      },
      "source": [
        "# 1次元畳み込み層\n",
        "class SimpleConv2d:\n",
        "\n",
        "    def __init__(self, out_channel, in_channel, filter_size_h, filter_size_w,\n",
        "                padding_size_h = 0, padding_size_w = 0, stride_size_h = 1, stride_size_w = 1, \n",
        "                initializer = None, optimizer = None):\n",
        "        \n",
        "        self.padding_size_h = padding_size_h\n",
        "        self.padding_size_w = padding_size_w\n",
        "        self.stride_size_h = stride_size_h\n",
        "        self.stride_size_w = stride_size_w\n",
        "        self.initializer = initializer\n",
        "        self.optimizer = optimizer\n",
        "        \n",
        "        # 初期化\n",
        "        # initializerのメソッドを使い、self.Wとself.Bを初期化する\n",
        "\n",
        "        self.W = self.initializer.W(out_channel, in_channel, filter_size_h, filter_size_w)\n",
        "        self.B = self.initializer.B(out_channel)\n",
        "        self.X = None\n",
        "        self.dA = None\n",
        "\n",
        "    def N_out_H_W(X_h_shape, X_w_shape, W_h_shape, W_w_shape, pad_h, pad_w, strd_h, strd_w):\n",
        "        N_out_h = int((X_h_shape + 2*pad_h - W_h_shape) / strd_h) + 1 # 【問題２】1次元畳み込み後の出力サイズの計算:高さ\n",
        "        N_out_w = int((X_w_shape + 2*pad_w - W_w_shape) / strd_w) + 1 # 【問題２】1次元畳み込み後の出力サイズの計算:幅\n",
        "    \n",
        "        return N_out_h, N_out_w\n",
        "\n",
        "    def forward(self, X):\n",
        "        \n",
        "        self.X = X\n",
        "        \n",
        "        self.N_out_h, self.N_out_w =  N_out_H_W(X_h_shape=X.shape[2], X_w_shape=X.shape[3], W_h_shape=W.shape[2], W_w_shape=W.shape[3], \n",
        "                                      pad_h=0, pad_w=0, strd_h=1, strd_w=1)\n",
        "        \n",
        "        a = np.array([])\n",
        "\n",
        "        for n1 in range(self.X.shape[0]):     # バッチ数分\n",
        "            for n2 in range(self.X.shape[1]):     # 画像チャネル数分\n",
        "                for f in range(self.W.shape[1]):  # フィルターの枚数分\n",
        "                    for h in range(self.N_out_h):      # 縦のストライド\n",
        "                        for w in range(self.N_out_w):  # 横のストライド\n",
        "                            a = np.append(a, np.sum(self.X[n1, n2, h:h+self.W.shape[2], w:w+self.W.shape[3]] * self.W[n1,f]) + self.B[n1])\n",
        "\n",
        "        a = a.reshape(self.X.shape[0], self.X.shape[1], self.N_out_h, self.N_out_w)\n",
        "        \n",
        "        return a\n",
        "        \n",
        "    def backward(self, delta_a):\n",
        "        \n",
        "        # Xを更新\n",
        "        self.aX = np.zeros((self.X.shape))\n",
        "        for n1 in range(self.X.shape[0]):     # バッチ数分\n",
        "            for n2 in range(self.X.shape[1]):     # 画像チャネル数分\n",
        "                for f in range(self.W.shape[1]):      # フィルターの枚数分\n",
        "                    for h in range(self.N_out_h):         # 縦のストライド\n",
        "                        for w in range(self.N_out_w):         # 横のストライド\n",
        "                            self.aX[n1, n2, h:h+self.W.shape[2], w:w+self.W.shape[3]] += self.W[n1, f, 0:self.W.shape[2], 0:self.W.shape[3]] * delta_a[n1, f, h, w]\n",
        "\n",
        "        # Wを更新\n",
        "        self.dAW = np.zeros((self.W.shape))\n",
        "        for n1 in range(self.X.shape[0]):     # バッチ数分\n",
        "            for n2 in range(self.X.shape[1]):     # 画像チャネル数分\n",
        "                for f in range(self.W.shape[1]):      # フィルターの枚数分\n",
        "                    for h in range(self.N_out_h):         # 縦のストライド\n",
        "                        for w in range(self.N_out_w):         # 横のストライド\n",
        "                            self.dAW[n1, f] += self.X[n1, n2, h:h+self.W.shape[2], w:w+self.W.shape[3]] * delta_a[n1, f, h, w]\n",
        "\n",
        "        # Bを更新\n",
        "        self.dAB = np.zeros((self.W.shape[0]))\n",
        "        for f in range(self.W.shape[0]):\n",
        "            self.dAB[f] = np.sum(delta_a[f])\n",
        "\n",
        "        self = self.optimizer.update(self)\n",
        "        \n",
        "        return self.aX\n",
        "            "
      ],
      "execution_count": null,
      "outputs": []
    },
    {
      "cell_type": "code",
      "metadata": {
        "id": "wZVjJhyC7r2_"
      },
      "source": [
        "# MaxPooling\n",
        "class MaxPooling:\n",
        "    \n",
        "    def __init__(self, strd_h=2, strd_w=2):\n",
        "        \n",
        "        self.strd_h = strd_h\n",
        "        self.strd_w = strd_w\n",
        "\n",
        "    def N_out_H_W(X_h_shape, X_w_shape, W_h_shape, W_w_shape, pad_h, pad_w, strd_h, strd_w):\n",
        "\n",
        "        N_out_h = int((self.X_h_shape + 2*pad_h - W_h_shape) / strd_h) + 1 # 【問題２】1次元畳み込み後の出力サイズの計算:高さ\n",
        "        N_out_w = int((X_w_shape + 2*pad_w - W_w_shape) / strd_w) + 1 # 【問題２】1次元畳み込み後の出力サイズの計算:幅\n",
        "        \n",
        "        return N_out_h, N_out_w\n",
        "    \n",
        "    def forward(self, X):\n",
        "        \n",
        "        self.X = X\n",
        "        \n",
        "        self.N_out_h, self.N_out_w = N_out_H_W(X_h_shape=self.X.shape[2], X_w_shape=self.X.shape[3], W_h_shape=2, W_w_shape=2, \n",
        "                                     pad_h=0, pad_w=0, strd_h=self.strd_h, strd_w=self.strd_w)\n",
        "        \n",
        "        self.a_MP = np.zeros((self.X.shape[0], self.X.shape[1], int(self.X.shape[2]/self.strd_h), int(self.X.shape[3]/self.strd_w)))\n",
        "        self.X_MPi = np.array([])\n",
        "        for n1 in range(X.shape[0]):     # バッチ数分\n",
        "            for n2 in range(self.X.shape[1]):     # 画像チャネル数分\n",
        "                for h in range(self.N_out_h):         # 縦のストライド\n",
        "                    for w in range(self.N_out_w):         # 横のストライド\n",
        "                        self.a_MP[n1, n2, h, w] = np.max(self.X[n1 , n2 , h*self.strd_h : h*self.strd_h+self.strd_h , w*self.strd_w : w*self.strd_w+self.strd_w])\n",
        "                        MPi_h = np.argmax(self.X[n1 , n2 , h*self.strd_h : h*self.strd_h+self.strd_h , w*self.strd_w : w*self.strd_w+self.strd_w]) // self.strd_h + h*self.strd_h\n",
        "                        MPi_w = np.argmax(self.X[n1 , n2 , h*self.strd_h : h*self.strd_h+self.strd_h , w*self.strd_w : w*self.strd_w+self.strd_w]) %  self.strd_w + w*self.strd_w\n",
        "                        self.X_MPi = np.append(self.X_MPi, [MPi_h, MPi_w]).astype(int)\n",
        "\n",
        "        self.X_MPi = self.X_MPi.reshape(self.X.shape[0], self.X.shape[1], self.N_out_h, self.N_out_w, 2)\n",
        "        return self.a_MP\n",
        "\n",
        "    def backward(self, aX):\n",
        "        \n",
        "        self.aX = aX\n",
        "\n",
        "        self.X_MP = np.zeros(self.X.shape)\n",
        "        for n1 in range(self.X.shape[0]):     # バッチ数分\n",
        "            for n2 in range(self.X.shape[1]):     # 画像チャネル数分\n",
        "                for h in range(0, self.X_MPi.shape[2]):         # 縦のストライド\n",
        "                    for w in range(0, self.X_MPi.shape[3]):\n",
        "                        self.X_MP[n1, n2, int(self.X_MPi[n1, n2, h, w, 0]), int(self.X_MPi[n1, n2, h, w, 1])] = self.aX[n1, n2, h, w]\n",
        "                    \n",
        "        return self.X_MP"
      ],
      "execution_count": null,
      "outputs": []
    },
    {
      "cell_type": "code",
      "metadata": {
        "id": "TyxcwXWJ7r3A"
      },
      "source": [
        "# 平準化\n",
        "class Flatten:\n",
        "\n",
        "    def __init__(self):\n",
        "        \n",
        "        pass\n",
        "\n",
        "    def forward(self, X):\n",
        "\n",
        "        self.Xshape = X.shape\n",
        "        X = X.reshape(X.shape[0], X.shape[1], -1)\n",
        "        \n",
        "        return X\n",
        "        \n",
        "    def backward(self, X):\n",
        "        \n",
        "        X = X.reshape(self.Xshape)\n",
        "        \n",
        "        return X"
      ],
      "execution_count": null,
      "outputs": []
    },
    {
      "cell_type": "markdown",
      "metadata": {
        "id": "fQAxo_Bo7r3B"
      },
      "source": [
        "### 学習および推定"
      ]
    },
    {
      "cell_type": "code",
      "metadata": {
        "id": "jMfkMQE17r3B"
      },
      "source": [
        "import matplotlib.pyplot as plt\n",
        "%matplotlib inline\n",
        "# Tranerクラス\n",
        "class ScratchDeepNeuralNetrowkClassifier():\n",
        "    \"\"\"\n",
        "    Trainerクラスの定義\n",
        "    \n",
        "    \"\"\"\n",
        "    # self.sigma : ガウス分布の標準偏差\n",
        "    # self.lr : 学習率\n",
        "    # self.n_nodes1 : 1層目のノード数\n",
        "    # self.n_nodes2 : 2層目のノード数\n",
        "    # self.n_output : 出力層のノード数\n",
        "    \n",
        "    batch_size = 20\n",
        "    sigma = 0.01\n",
        "    n_features = 169\n",
        "    n_nodes1 = 400\n",
        "    n_nodes2 = 200\n",
        "    n_output = 10\n",
        "    lr = 0.01\n",
        "\n",
        "    def __init__(self, seed=0, verbose = True, verbose2 = False):\n",
        "        \n",
        "        self.seed = 0\n",
        "        self.verbose = verbose\n",
        "        self.verbose2 = verbose2\n",
        "\n",
        "    def fit(self, X, y, X_val=None, y_val=None, pinit=\"Initializer\", pact1=\"Tanh\", pact2=\"logsumexp\", popt=\"SGD\",\n",
        "            cinit = \"InitializerConv2d\", cact = \"ReLU\", copt = \"SGD\", MaxPool = True, Flat = True, \n",
        "            out_channel = 20, in_channel = 1, filter_size_h = 3, filter_size_w = 3, padding_size_h = 0, padding_size_w = 0, \n",
        "            stride_size_h = 1, stride_size_w = 1, pooling_size_h = 2, pooling_size_w = 2):\n",
        "\n",
        "        # 畳み込み層　初期化、学習用の各関数を定義\n",
        "        # 初期化関数\n",
        "        if cinit == \"InitializerConv2d\":\n",
        "            initializerConv2d =SimpleInitializerConv2d(self.sigma, self.seed)\n",
        "        \n",
        "        # 最適化関数\n",
        "        if copt == \"SGD\":\n",
        "            optimizerConv2d = SGD(self.lr)\n",
        "        \n",
        "        # 活性化関数\n",
        "        if cact == \"ReLU\":\n",
        "            self.activationConv2d = ReLU()\n",
        "        \n",
        "        # 学習用関数初期化\n",
        "        if copt == \"SGD\":\n",
        "            self.Conv2d = SimpleConv2d(out_channel, in_channel, filter_size_h, filter_size_w, padding_size_h, padding_size_w,\n",
        "                                       stride_size_h, stride_size_w, initializerConv2d, optimizerConv2d)\n",
        "        \n",
        "        # MaxPooling関数\n",
        "        if MaxPool:\n",
        "            self.MaxPooling = MaxPooling(pooling_size_h, pooling_size_w)\n",
        "        \n",
        "        # 平滑化関数\n",
        "        if Flat:\n",
        "            self.Flatten = Flatten()\n",
        "       \n",
        "        # 全結合層　初期化、最適化、活性化、学習用の各関数を定義\n",
        "        # 初期化関数\n",
        "        if pinit == \"Initializer\":\n",
        "            initializer = SimpleInitializer(self.sigma, self.seed)\n",
        "        elif pinit == \"Xavier\":\n",
        "            initializer = Xavier(self.sigma, self.seed)\n",
        "        elif pinit == \"He\":\n",
        "            initializer = He(self.sigma, self.seed)\n",
        "        \n",
        "        # 最適化関数\n",
        "        if popt == \"SGD\":\n",
        "            optimizer = SGD(self.lr)\n",
        "        elif popt == \"AdaGrad\":\n",
        "            optimizer1 = AdaGrad(self.lr) \n",
        "            optimizer2 = AdaGrad(self.lr) \n",
        "            optimizer3 = AdaGrad(self.lr) \n",
        "        \n",
        "        # 活性化関数1\n",
        "        if pact1 == \"Tanh\":\n",
        "            self.activation1 = Tanh()\n",
        "            self.activation2 = Tanh()\n",
        "        if pact1 == \"ReLU\":\n",
        "            self.activation1 = ReLU()\n",
        "            self.activation2 = ReLU()\n",
        "\n",
        "        # 活性化関数2\n",
        "        if pact2 == \"logsumexp\":\n",
        "            self.activation3 = logsumexp()\n",
        "        elif pact2 == \"Softmax\":\n",
        "            self.activation3 = Softmax()\n",
        "        \n",
        "        # 学習用関数初期化\n",
        "        if popt == \"SGD\":\n",
        "            self.FC1 = FC(self.n_features, self.n_nodes1, initializer, optimizer) # W1: (169, 400)\n",
        "            self.FC2 = FC(self.n_nodes1, self.n_nodes2, initializer, optimizer) # W2: (400, 200) \n",
        "            self.FC3 = FC(self.n_nodes2, self.n_output, initializer, optimizer) # W3: (200, 10)\n",
        "        elif popt == \"AdaGrad\":\n",
        "            self.FC1 = FC(self.n_features, self.n_nodes1, initializer, optimizer1) # W1: (782, 400)\n",
        "            self.FC2 = FC(self.n_nodes1, self.n_nodes2, initializer, optimizer2) # W2: (400, 200) \n",
        "            self.FC3 = FC(self.n_nodes2, self.n_output, initializer, optimizer3) # W3: (200, 10)            \n",
        "        \n",
        "        epoch = 20\n",
        "        n_step_iteration_report = 1\n",
        "        plot_data = []\n",
        "        \n",
        "        # Utility(epochごとに、全データ分ミニバッチを取得)\n",
        "        for i in range(epoch):\n",
        "\n",
        "            sum_of_loss = 0\n",
        "            get_mini_batch = GetMiniBatch(X, y, batch_size = self.batch_size)\n",
        "            for j, (mini_X_train, mini_y_train) in enumerate(get_mini_batch):\n",
        "                \n",
        "                mini_X_train = mini_X_train.reshape(out_channel, in_channel, 28, 28)\n",
        "                \n",
        "                # 畳み込み層　学習用Forward Propergation\n",
        "                C1  = self.Conv2d.forward(mini_X_train)\n",
        "                ZC1 = self.activationConv2d.forward(C1)\n",
        "\n",
        "                # 畳み込み層　Maxpooling\n",
        "                M1 = self.MaxPooling.forward(ZC1)\n",
        "                \n",
        "                # 畳み込み層　平滑化\n",
        "                ZC1 = self.Flatten.forward(M1)\n",
        "                ZC1 = ZC1.reshape(out_channel, ZC1.shape[-1])\n",
        "                \n",
        "                # 全結合層　学習用Forward Propergation\n",
        "                A1 = self.FC1.forward(ZC1)\n",
        "                Z1 = self.activation1.forward(A1)\n",
        "                A2 = self.FC2.forward(Z1)\n",
        "                Z2 = self.activation2.forward(A2)\n",
        "                A3 = self.FC3.forward(Z2)\n",
        "                log_Z3 = A3 - self.activation3.forward(A3)\n",
        "                Z3 = np.exp(log_Z3)\n",
        "                \n",
        "                # 全結合層　学習用Back Propergation\n",
        "                dA3,L,C = self.activation3.backward(Z3, log_Z3, mini_y_train) # 交差エントロピー誤差とソフトマックスを合わせている\n",
        "                dZ2 = self.FC3.backward(dA3)\n",
        "                dA2 = self.activation2.backward(dZ2)\n",
        "                dZ1 = self.FC2.backward(dA2)\n",
        "                dA1 = self.activation1.backward(dZ1)\n",
        "                dZ0 = self.FC1.backward(dA1) # dZ0は使用しない\n",
        "                \n",
        "                # 畳み込み層　平滑化Back Propergation\n",
        "                dZ0 = dZ0.reshape(out_channel, in_channel, dZ0.shape[-1])\n",
        "                dF0 = self.Flatten.backward(dZ0)\n",
        "                \n",
        "                # 畳み込み層　MaxPooling Back Propergation\n",
        "                dM0 = self.MaxPooling.backward(dF0)\n",
        "                \n",
        "                # 畳み込み層　学習用Back Propergation\n",
        "                dA0 = self.activationConv2d.backward(dM0)\n",
        "                dZC = self.Conv2d.backward(dA0)\n",
        "                \n",
        "                # ログ出力\n",
        "                sum_of_loss += L\n",
        "                if self.verbose and (j + 1) % n_step_iteration_report == 0:\n",
        "                    train_loss = sum_of_loss / n_step_iteration_report\n",
        "\n",
        "                    # 検証用Forward Propergation、損失、Accuracy\n",
        "                    #C1  = self.Conv1d.forward(X_val)\n",
        "                    #ZC1 = self.activationConv1d.forward(C1)                    \n",
        "                    #A1 = self.FC1.forward(ZC1)\n",
        "                    #Z1 = self.activation1.forward(A1)\n",
        "                    #A2 = self.FC2.forward(Z1)\n",
        "                    #Z2 = self.activation2.forward(A2)\n",
        "                    #A3 = self.FC3.forward(Z2)\n",
        "                    #log_Z3 = A3 - self.activation3.forward(A3)\n",
        "                    #Z3 = np.exp(log_Z3)\n",
        "\n",
        "                    #dA3,val_loss,val_accuracy = self.activation3.backward(Z3, log_Z3, y_val)\n",
        "                    \n",
        "                    #print(f'epoch: {i+1}, iteration: {j+1}, train_loss: {train_loss:.3}, val_loss: {val_loss:.3}, accuracty: {val_accuracy / len(y_val):.3}')\n",
        "                    print(f'epoch: {i+1}, iteration: {j+1}, train_loss: {train_loss:.3}, accuracy: {C / len(mini_y_train):.3}')\n",
        "                    sum_of_loss = 0\n",
        "\n",
        "                    iters_per_epoch = len(X_train) / self.batch_size\n",
        "                    print(\"iters_per_epoch={}\".format(iters_per_epoch))\n",
        "                    #plot_data.append((i + (j + 1) / iters_per_epoch, train_loss, val_loss))\n",
        "                    plot_data.append((i + (j + 1) / iters_per_epoch, train_loss))\n",
        "                \n",
        "            if self.verbose:\n",
        "                #verboseをTrueにした際は学習過程などを出力する\n",
        "                pass\n",
        "                \n",
        "                if self.verbose2:\n",
        "                    print(\"epoch={}\".format(i))\n",
        "                    print(\"forward propergation\")                    \n",
        "                    print(\" A1={}\".format(A1))\n",
        "                    print(\" Z1={}\".format(Z1))\n",
        "                    print(\" A2={}\".format(A2))\n",
        "                    print(\" Z2={}\".format(Z2))\n",
        "                    print(\" A3={}\".format(A3))\n",
        "                    print(\" Z3={}\".format(Z3))\n",
        "                    print(\"back propergation\")\n",
        "                    print(\"dA3={}\".format(dA3))                    \n",
        "                    print(\"dZ2={}\".format(dZ2))\n",
        "                    print(\"dA2={}\".format(dA2))\n",
        "                    print(\"dZ1={}\".format(dZ1))\n",
        "                    print(\"dA1={}\".format(dA1))\n",
        "                    print(\"dA0={}\".format(dA0)) \n",
        "                    \n",
        "        if self.verbose:\n",
        "            #verboseをTrueにした際は学習過程などを出力する\n",
        "            #epochs, train_loss, val_loss = zip(*plot_data)\n",
        "            epochs, train_loss = zip(*plot_data)\n",
        "            plt.plot(epochs, train_loss, color='r', label='train_loss')\n",
        "            #plt.plot(epochs, val_loss, color='b', label='val_loss')\n",
        "            plt.xlabel('epoch')\n",
        "            plt.ylabel('loss')\n",
        "            plt.show()\n",
        "\n",
        "    def predict(self, X):\n",
        "\n",
        "        C1  = self.Conv2d.forward(X)\n",
        "        ZC1 = self.activationConv2d.forward(C1)\n",
        "        M1 = self.MaxPooling.forward(ZC1)\n",
        "        ZC1 = self.Flatten.forward(M1)\n",
        "        ZC1 = ZC1.reshape(20, ZC1.shape[-1])\n",
        "        A1 = self.FC1.forward(ZC1)\n",
        "        Z1 = self.activation1.forward(A1)\n",
        "        A2 = self.FC2.forward(Z1)\n",
        "        Z2 = self.activation2.forward(A2)\n",
        "        A3 = self.FC3.forward(Z2)\n",
        "        log_Z3 = A3 - self.activation3.forward(A3)\n",
        "        y_pred = log_Z3.argmax(axis=1)\n",
        "        \n",
        "        return y_pred"
      ],
      "execution_count": null,
      "outputs": []
    },
    {
      "cell_type": "markdown",
      "metadata": {
        "id": "Dr6QynTp7r3F"
      },
      "source": [
        "### 【問題7】学習と推定"
      ]
    },
    {
      "cell_type": "code",
      "metadata": {
        "id": "iUh2hANh7r3F"
      },
      "source": [
        "# データセットをダウンロードするコード\n",
        "from keras.datasets import mnist\n",
        "(X_train, y_train), (X_test, y_test) = mnist.load_data()"
      ],
      "execution_count": null,
      "outputs": []
    },
    {
      "cell_type": "code",
      "metadata": {
        "id": "ST6oAOhe7r3G"
      },
      "source": [
        "# 平滑化\n",
        "X_train = X_train.reshape(-1, 784)\n",
        "X_test = X_test.reshape(-1, 784)"
      ],
      "execution_count": null,
      "outputs": []
    },
    {
      "cell_type": "code",
      "metadata": {
        "id": "m_xBNYzq7r3G",
        "outputId": "5c488704-0942-4513-b06f-5fdd82d5457b"
      },
      "source": [
        "# 前処理\n",
        "X_train = X_train.astype(np.float)\n",
        "X_test = X_test.astype(np.float)\n",
        "X_train /= 255\n",
        "X_test /= 255\n",
        "print(X_train.max()) # 1.0\n",
        "print(X_train.min()) # 0.0"
      ],
      "execution_count": null,
      "outputs": [
        {
          "output_type": "stream",
          "text": [
            "1.0\n",
            "0.0\n"
          ],
          "name": "stdout"
        }
      ]
    },
    {
      "cell_type": "code",
      "metadata": {
        "id": "tiIQ5qM47r3H",
        "outputId": "391f85de-eb04-4579-810a-0a9d9596ea9b"
      },
      "source": [
        "y_train_one_hot = (y_train.reshape(-1,1) == np.arange(10)).astype(np.float64)\n",
        "y_test_one_hot = (y_train.reshape(-1,1) == np.arange(10)).astype(np.float64)\n",
        "print(y_train.shape)\n",
        "print(y_train_one_hot.shape)\n",
        "print(y_train_one_hot.dtype)"
      ],
      "execution_count": null,
      "outputs": [
        {
          "output_type": "stream",
          "text": [
            "(60000,)\n",
            "(60000, 10)\n",
            "float64\n"
          ],
          "name": "stdout"
        }
      ]
    },
    {
      "cell_type": "code",
      "metadata": {
        "id": "7V9uP_Ii7r3I",
        "outputId": "e6aa46d6-b59b-4649-b66e-90ebc34d2a51"
      },
      "source": [
        "def split_data(X, permutation, val_size_rate=0.90):\n",
        "    X = X[permutation]\n",
        "    val_size = int(len(X) * val_size_rate)\n",
        "    val = X[:val_size]\n",
        "    train = X[val_size:]\n",
        "    return train, val\n",
        "\n",
        "permutation = np.random.permutation(np.arange(len(X_train)))\n",
        "X_train, X_val = split_data(X_train, permutation)\n",
        "y_train, y_val = split_data(y_train, permutation)\n",
        "print(X_train.shape)\n",
        "print(y_train.shape)\n",
        "print(X_val.shape)\n",
        "print(y_val.shape)"
      ],
      "execution_count": null,
      "outputs": [
        {
          "output_type": "stream",
          "text": [
            "(60, 784)\n",
            "(60,)\n",
            "(540, 784)\n",
            "(540,)\n"
          ],
          "name": "stdout"
        }
      ]
    },
    {
      "cell_type": "code",
      "metadata": {
        "id": "aRZsiXO27r3I",
        "outputId": "765e28a5-939e-4109-81b2-63ba2e5526fa"
      },
      "source": [
        "dnnc = ScratchDeepNeuralNetrowkClassifier()\n",
        "dnnc.fit(X_train, y_train, X_val=None, y_val=None, pinit=\"Initializer\", pact1=\"Tanh\", pact2=\"logsumexp\", popt=\"SGD\",\n",
        "            cinit = \"InitializerConv2d\", cact = \"ReLU\", copt = \"SGD\", MaxPool = True, Flat = True, \n",
        "            out_channel = 20, in_channel = 1, filter_size_h = 3, filter_size_w = 3, padding_size_h = 0, padding_size_w = 0, \n",
        "            stride_size_h = 1, stride_size_w = 1, pooling_size_h = 2, pooling_size_w = 2)"
      ],
      "execution_count": null,
      "outputs": [
        {
          "output_type": "stream",
          "text": [
            "epoch: 1, iteration: 1, train_loss: 2.3, accuracy: 0.1\n",
            "iters_per_epoch=3.0\n",
            "epoch: 1, iteration: 2, train_loss: 2.3, accuracy: 0.1\n",
            "iters_per_epoch=3.0\n",
            "epoch: 1, iteration: 3, train_loss: 2.3, accuracy: 0.05\n",
            "iters_per_epoch=3.0\n",
            "epoch: 2, iteration: 1, train_loss: 2.3, accuracy: 0.1\n",
            "iters_per_epoch=3.0\n",
            "epoch: 2, iteration: 2, train_loss: 2.3, accuracy: 0.1\n",
            "iters_per_epoch=3.0\n",
            "epoch: 2, iteration: 3, train_loss: 2.3, accuracy: 0.05\n",
            "iters_per_epoch=3.0\n",
            "epoch: 3, iteration: 1, train_loss: 2.3, accuracy: 0.1\n",
            "iters_per_epoch=3.0\n",
            "epoch: 3, iteration: 2, train_loss: 2.3, accuracy: 0.1\n",
            "iters_per_epoch=3.0\n",
            "epoch: 3, iteration: 3, train_loss: 2.3, accuracy: 0.05\n",
            "iters_per_epoch=3.0\n",
            "epoch: 4, iteration: 1, train_loss: 2.3, accuracy: 0.1\n",
            "iters_per_epoch=3.0\n",
            "epoch: 4, iteration: 2, train_loss: 2.3, accuracy: 0.1\n",
            "iters_per_epoch=3.0\n",
            "epoch: 4, iteration: 3, train_loss: 2.3, accuracy: 0.05\n",
            "iters_per_epoch=3.0\n",
            "epoch: 5, iteration: 1, train_loss: 2.3, accuracy: 0.1\n",
            "iters_per_epoch=3.0\n",
            "epoch: 5, iteration: 2, train_loss: 2.3, accuracy: 0.1\n",
            "iters_per_epoch=3.0\n",
            "epoch: 5, iteration: 3, train_loss: 2.3, accuracy: 0.05\n",
            "iters_per_epoch=3.0\n",
            "epoch: 6, iteration: 1, train_loss: 2.3, accuracy: 0.1\n",
            "iters_per_epoch=3.0\n",
            "epoch: 6, iteration: 2, train_loss: 2.3, accuracy: 0.1\n",
            "iters_per_epoch=3.0\n",
            "epoch: 6, iteration: 3, train_loss: 2.3, accuracy: 0.1\n",
            "iters_per_epoch=3.0\n",
            "epoch: 7, iteration: 1, train_loss: 2.3, accuracy: 0.2\n",
            "iters_per_epoch=3.0\n",
            "epoch: 7, iteration: 2, train_loss: 2.3, accuracy: 0.25\n",
            "iters_per_epoch=3.0\n",
            "epoch: 7, iteration: 3, train_loss: 2.3, accuracy: 0.1\n",
            "iters_per_epoch=3.0\n",
            "epoch: 8, iteration: 1, train_loss: 2.3, accuracy: 0.2\n",
            "iters_per_epoch=3.0\n",
            "epoch: 8, iteration: 2, train_loss: 2.3, accuracy: 0.25\n",
            "iters_per_epoch=3.0\n",
            "epoch: 8, iteration: 3, train_loss: 2.3, accuracy: 0.1\n",
            "iters_per_epoch=3.0\n",
            "epoch: 9, iteration: 1, train_loss: 2.29, accuracy: 0.2\n",
            "iters_per_epoch=3.0\n",
            "epoch: 9, iteration: 2, train_loss: 2.3, accuracy: 0.25\n",
            "iters_per_epoch=3.0\n",
            "epoch: 9, iteration: 3, train_loss: 2.3, accuracy: 0.1\n",
            "iters_per_epoch=3.0\n",
            "epoch: 10, iteration: 1, train_loss: 2.29, accuracy: 0.2\n",
            "iters_per_epoch=3.0\n",
            "epoch: 10, iteration: 2, train_loss: 2.3, accuracy: 0.25\n",
            "iters_per_epoch=3.0\n",
            "epoch: 10, iteration: 3, train_loss: 2.3, accuracy: 0.1\n",
            "iters_per_epoch=3.0\n",
            "epoch: 11, iteration: 1, train_loss: 2.29, accuracy: 0.2\n",
            "iters_per_epoch=3.0\n",
            "epoch: 11, iteration: 2, train_loss: 2.3, accuracy: 0.25\n",
            "iters_per_epoch=3.0\n",
            "epoch: 11, iteration: 3, train_loss: 2.3, accuracy: 0.1\n",
            "iters_per_epoch=3.0\n",
            "epoch: 12, iteration: 1, train_loss: 2.29, accuracy: 0.2\n",
            "iters_per_epoch=3.0\n",
            "epoch: 12, iteration: 2, train_loss: 2.3, accuracy: 0.25\n",
            "iters_per_epoch=3.0\n",
            "epoch: 12, iteration: 3, train_loss: 2.3, accuracy: 0.1\n",
            "iters_per_epoch=3.0\n",
            "epoch: 13, iteration: 1, train_loss: 2.29, accuracy: 0.2\n",
            "iters_per_epoch=3.0\n",
            "epoch: 13, iteration: 2, train_loss: 2.3, accuracy: 0.25\n",
            "iters_per_epoch=3.0\n",
            "epoch: 13, iteration: 3, train_loss: 2.3, accuracy: 0.1\n",
            "iters_per_epoch=3.0\n",
            "epoch: 14, iteration: 1, train_loss: 2.29, accuracy: 0.2\n",
            "iters_per_epoch=3.0\n",
            "epoch: 14, iteration: 2, train_loss: 2.3, accuracy: 0.25\n",
            "iters_per_epoch=3.0\n",
            "epoch: 14, iteration: 3, train_loss: 2.3, accuracy: 0.1\n",
            "iters_per_epoch=3.0\n",
            "epoch: 15, iteration: 1, train_loss: 2.29, accuracy: 0.2\n",
            "iters_per_epoch=3.0\n",
            "epoch: 15, iteration: 2, train_loss: 2.3, accuracy: 0.25\n",
            "iters_per_epoch=3.0\n",
            "epoch: 15, iteration: 3, train_loss: 2.3, accuracy: 0.1\n",
            "iters_per_epoch=3.0\n",
            "epoch: 16, iteration: 1, train_loss: 2.29, accuracy: 0.2\n",
            "iters_per_epoch=3.0\n",
            "epoch: 16, iteration: 2, train_loss: 2.29, accuracy: 0.25\n",
            "iters_per_epoch=3.0\n",
            "epoch: 16, iteration: 3, train_loss: 2.3, accuracy: 0.1\n",
            "iters_per_epoch=3.0\n",
            "epoch: 17, iteration: 1, train_loss: 2.29, accuracy: 0.2\n",
            "iters_per_epoch=3.0\n",
            "epoch: 17, iteration: 2, train_loss: 2.29, accuracy: 0.25\n",
            "iters_per_epoch=3.0\n",
            "epoch: 17, iteration: 3, train_loss: 2.3, accuracy: 0.1\n",
            "iters_per_epoch=3.0\n",
            "epoch: 18, iteration: 1, train_loss: 2.29, accuracy: 0.2\n",
            "iters_per_epoch=3.0\n",
            "epoch: 18, iteration: 2, train_loss: 2.29, accuracy: 0.25\n",
            "iters_per_epoch=3.0\n",
            "epoch: 18, iteration: 3, train_loss: 2.3, accuracy: 0.1\n",
            "iters_per_epoch=3.0\n",
            "epoch: 19, iteration: 1, train_loss: 2.28, accuracy: 0.2\n",
            "iters_per_epoch=3.0\n",
            "epoch: 19, iteration: 2, train_loss: 2.29, accuracy: 0.25\n",
            "iters_per_epoch=3.0\n",
            "epoch: 19, iteration: 3, train_loss: 2.3, accuracy: 0.1\n",
            "iters_per_epoch=3.0\n",
            "epoch: 20, iteration: 1, train_loss: 2.28, accuracy: 0.2\n",
            "iters_per_epoch=3.0\n",
            "epoch: 20, iteration: 2, train_loss: 2.29, accuracy: 0.25\n",
            "iters_per_epoch=3.0\n",
            "epoch: 20, iteration: 3, train_loss: 2.3, accuracy: 0.1\n",
            "iters_per_epoch=3.0\n"
          ],
          "name": "stdout"
        },
        {
          "output_type": "display_data",
          "data": {
            "image/png": "[encoded data removed]",
            "text/plain": [
              "<Figure size 432x288 with 1 Axes>"
            ]
          },
          "metadata": {
            "tags": [],
            "needs_background": "light"
          }
        }
      ]
    },
    {
      "cell_type": "code",
      "metadata": {
        "id": "Xg8K-sr_7r3I",
        "outputId": "f240f2d3-f412-45e2-a7df-6e4d3ad45e1f"
      },
      "source": [
        "dnnc.predict(X_val[0:20].reshape(20, 1, 28, 28))"
      ],
      "execution_count": null,
      "outputs": [
        {
          "output_type": "execute_result",
          "data": {
            "text/plain": [
              "array([3, 3, 3, 3, 3, 3, 3, 3, 3, 3, 3, 3, 3, 3, 3, 3, 3, 3, 3, 3],\n",
              "      dtype=int64)"
            ]
          },
          "metadata": {
            "tags": []
          },
          "execution_count": 649
        }
      ]
    },
    {
      "cell_type": "markdown",
      "metadata": {
        "id": "7ouVo9ey7r3J"
      },
      "source": [
        "### 【問題2】小さな配列での2次元畳み込み層の実験"
      ]
    },
    {
      "cell_type": "code",
      "metadata": {
        "id": "df3XUbL77r3J"
      },
      "source": [
        "# Forward Propergation\n",
        "# CNN2 のフォワードを流す時の入力データ\n",
        "# (1,1,4,4)\n",
        "X = np.array([[[[ 1,  2,  3,  4],\n",
        "                [ 5,  6,  7,  8],\n",
        "                [ 9, 10, 11, 12],\n",
        "                [13, 14, 15, 16]]]])\n",
        "# (2,3,3)\n",
        "W = np.array([[[[ 0.,  0.,  0.],\n",
        "               [ 0.,  1.,  0.],\n",
        "               [ 0., -1.,  0.]],\n",
        "              [[ 0.,  0.,  0.],\n",
        "               [ 0., -1.,  1.],\n",
        "               [ 0.,  0.,  0.]]]])\n",
        "# (2)\n",
        "B = np.array([0, 0])"
      ],
      "execution_count": null,
      "outputs": []
    },
    {
      "cell_type": "code",
      "metadata": {
        "id": "xmJ9qCDg7r3J",
        "outputId": "3d935722-2475-4ca5-dbfc-75b38b42578f"
      },
      "source": [
        "# Forward Propergation\n",
        "# Xの要素の位置をストライドして計算\n",
        "pad_h=0 #パディング\n",
        "pad_w=0\n",
        "strd_h=1 #ストライド\n",
        "strd_w=1\n",
        "\n",
        "N_out_h = int((X.shape[2] + 2*pad_h - W.shape[2]) / strd_h) + 1 # 【問題２】1次元畳み込み後の出力サイズの計算:高さ\n",
        "N_out_w = int((X.shape[3] + 2*pad_w - W.shape[3]) / strd_w) + 1 # 【問題２】1次元畳み込み後の出力サイズの計算:幅\n",
        "\n",
        "Yhat = np.array([])\n",
        "\n",
        "for n1 in range(X.shape[0]):     # バッチ数分\n",
        "    for n2 in range(X.shape[1]):     # 画像チャネル数分\n",
        "        for f in range(W.shape[1]):      # フィルターの枚数分\n",
        "            for h in range(N_out_h):         # 縦のストライド\n",
        "                for w in range(N_out_w):         # 横のストライド\n",
        "                    Yhat = np.append(Yhat, np.sum(X[n1, n2, h:h+W.shape[2], w:w+W.shape[3]] * W[n1, f]) + B[n1])\n",
        "\n",
        "Yhat = Yhat.reshape(X.shape[0], X.shape[1], N_out_h, N_out_w, 2)\n",
        "\n",
        "print(Yhat)"
      ],
      "execution_count": null,
      "outputs": [
        {
          "output_type": "stream",
          "text": [
            "[[[[[-4. -4.]\n",
            "    [-4. -4.]]\n",
            "\n",
            "   [[ 1.  1.]\n",
            "    [ 1.  1.]]]]]\n"
          ],
          "name": "stdout"
        }
      ]
    },
    {
      "cell_type": "code",
      "metadata": {
        "id": "g5hYSpXM7r3K",
        "outputId": "9b6f9111-e5cc-4428-c462-9d6aba1d11e8"
      },
      "source": [
        "# Back Propergation\n",
        "# CNN2 のフォワードを流す時の入力データ\n",
        "# (2,2,2)\n",
        "delta_a = np.array([[[[ -4,  -4],\n",
        "                   [ 10,  11]],\n",
        "                  [[  1,  -7],\n",
        "                   [  1, -11]]]])\n",
        "print(delta_a.shape)"
      ],
      "execution_count": null,
      "outputs": [
        {
          "output_type": "stream",
          "text": [
            "(1, 2, 2, 2)\n"
          ],
          "name": "stdout"
        }
      ]
    },
    {
      "cell_type": "code",
      "metadata": {
        "id": "ZF40-wOY7r3K",
        "outputId": "dadb8eda-3f6a-4d22-fc2d-8c1da4a2acd2"
      },
      "source": [
        "# Back Propergation\n",
        "# Xを更新\n",
        "aX = np.zeros((X.shape))\n",
        "for n1 in range(X.shape[0]):     # バッチ数分 = 1\n",
        "    for n2 in range(X.shape[1]):     # 画像チャネル数分 = 1\n",
        "        for f in range(W.shape[1]):      # フィルターの枚数分 = 2\n",
        "            for h in range(N_out_h):         # 縦のストライド = 2\n",
        "                for w in range(N_out_w):         # 横のストライド = 2\n",
        "                    aX[n1, n2, h:h+W.shape[2], w:w+W.shape[3]] += W[n1, f, 0:W.shape[2], 0:W.shape[3]] * delta_a[n1, f, h, w]\n",
        "print(\"aX={}\".format(aX))\n",
        " \n",
        "# Wを更新\n",
        "aW = np.zeros((W.shape))\n",
        "for n1 in range(X.shape[0]):     # バッチ数分 = 1\n",
        "    for n2 in range(X.shape[1]):     # 画像チャネル数分 = 1\n",
        "        for f in range(W.shape[1]):      # フィルターの枚数分 = 2\n",
        "            for h in range(N_out_h):         # 縦のストライド = 2\n",
        "                for w in range(N_out_w):         # 横のストライド = 2\n",
        "                    aW[n1, f] += X[n1, n2, h:h+W.shape[2], w:w+W.shape[3]] * delta_a[n1, f, h, w]\n",
        "                    \n",
        "print(\"aW={}\".format(aW))\n",
        "\n",
        "# Bを更新\n",
        "aB = np.zeros((W.shape[0]))\n",
        "for f in range(W.shape[0]):\n",
        "    aB[f] = np.sum(delta_a[f])\n",
        "print(\"aB={}\".format(aB))"
      ],
      "execution_count": null,
      "outputs": [
        {
          "output_type": "stream",
          "text": [
            "aX=[[[[  0.   0.   0.   0.]\n",
            "   [  0.  -5.   4.  -7.]\n",
            "   [  0.  13.  27. -11.]\n",
            "   [  0. -10. -11.   0.]]]]\n",
            "aW=[[[[ 104.  117.  130.]\n",
            "   [ 156.  169.  182.]\n",
            "   [ 208.  221.  234.]]\n",
            "\n",
            "  [[ -74.  -90. -106.]\n",
            "   [-138. -154. -170.]\n",
            "   [-202. -218. -234.]]]]\n",
            "aB=[-3.]\n"
          ],
          "name": "stdout"
        }
      ]
    },
    {
      "cell_type": "markdown",
      "metadata": {
        "id": "ihinXg0b7r3L"
      },
      "source": [
        "### 【問題3】2次元畳み込み後の出力サイズ"
      ]
    },
    {
      "cell_type": "code",
      "metadata": {
        "id": "HdsbvHC17r3L",
        "outputId": "e0769b6b-66fe-4115-ff18-c2df588ab85b"
      },
      "source": [
        "def N_out_H_W(X_h_shape, X_w_shape, W_h_shape, W_w_shape, pad_h, pad_w, strd_h, strd_w):\n",
        "    N_out_h = int((X_h_shape + 2*pad_h - W_h_shape) / strd_h) + 1 # 【問題２】1次元畳み込み後の出力サイズの計算:高さ\n",
        "    N_out_w = int((X_w_shape + 2*pad_w - W_w_shape) / strd_w) + 1 # 【問題２】1次元畳み込み後の出力サイズの計算:幅\n",
        "    \n",
        "    return N_out_h, N_out_w\n",
        "\n",
        "N_out_h, N_out_w =  N_out_H_W(X_h_shape=X.shape[2], X_w_shape=X.shape[3], W_h_shape=W.shape[1], W_w_shape=W.shape[2], \n",
        "                    pad_h=0, pad_w=0, strd_h=1, strd_w=1)\n",
        "\n",
        "print(\"N_out_h={}\".format(N_out_h))\n",
        "print(\"N_out_w={}\".format(N_out_w))"
      ],
      "execution_count": null,
      "outputs": [
        {
          "output_type": "stream",
          "text": [
            "N_out_h=2\n",
            "N_out_w=2\n"
          ],
          "name": "stdout"
        }
      ]
    },
    {
      "cell_type": "markdown",
      "metadata": {
        "id": "h72midZ_7r3L"
      },
      "source": [
        "### 【問題4】最大プーリング層の作成"
      ]
    },
    {
      "cell_type": "code",
      "metadata": {
        "id": "kjjWpVHi7r3L"
      },
      "source": [
        "# Forward Propergation\n",
        "# Filter = (2, 2)\n",
        "strd_h=2\n",
        "strd_w=2\n",
        "\n",
        "# (1,1,4,4)\n",
        "X = np.array([[[[ 1,  2,  3,  4],\n",
        "                [ 5,  6,  7,  8],\n",
        "                [ 9, 10, 11, 12],\n",
        "                [13, 14, 15, 16]]]])"
      ],
      "execution_count": null,
      "outputs": []
    },
    {
      "cell_type": "code",
      "metadata": {
        "id": "Y4b5E7tD7r3M",
        "outputId": "989ef0c8-5951-46a8-f279-2256429563fb"
      },
      "source": [
        "N_out_h, N_out_w =  N_out_H_W(X_h_shape=X.shape[2], X_w_shape=X.shape[3], W_h_shape=2, W_w_shape=2, \n",
        "                    pad_h=0, pad_w=0, strd_h=strd_h, strd_w=strd_w)\n",
        "print(\"N_out_h={}\".format(N_out_h))\n",
        "print(\"N_out_w={}\".format(N_out_w))"
      ],
      "execution_count": null,
      "outputs": [
        {
          "output_type": "stream",
          "text": [
            "N_out_h=2\n",
            "N_out_w=2\n"
          ],
          "name": "stdout"
        }
      ]
    },
    {
      "cell_type": "code",
      "metadata": {
        "id": "2DNTdEFM7r3M",
        "outputId": "d34d827c-4386-4de3-eb29-2fd3c376bd21"
      },
      "source": [
        "Yhat_MP = np.zeros((X.shape[0], X.shape[1], int(X.shape[2]/strd_h), int(X.shape[3]/strd_w)))\n",
        "X_MPi = np.array([])\n",
        "for n1 in range(X.shape[0]):     # バッチ数分\n",
        "    for n2 in range(X.shape[1]):     # 画像チャネル数分\n",
        "        for h in range(N_out_h):         # 縦のストライド\n",
        "            for w in range(N_out_w):         # 横のストライド\n",
        "                Yhat_MP[n1, n2, h, w] = np.max(X[n1 , n2 , h*strd_h : h*strd_h+strd_h , w*strd_w : w*strd_w+strd_w])\n",
        "                MPi_h = np.argmax(X[n1 , n2 , h*strd_h : h*strd_h+strd_h , w*strd_w : w*strd_w+strd_w]) // strd_h + h*strd_h\n",
        "                MPi_w = np.argmax(X[n1 , n2 , h*strd_h : h*strd_h+strd_h , w*strd_w : w*strd_w+strd_w]) % strd_w + w*strd_w\n",
        "                X_MPi = np.append(X_MPi, [MPi_h, MPi_w]).astype(int)\n",
        "X_MPi = X_MPi.reshape(X.shape[0], X.shape[1], N_out_h, N_out_w, 2)\n",
        "print(\"MAXPooling of X={}\".format(Yhat_MP))"
      ],
      "execution_count": null,
      "outputs": [
        {
          "output_type": "stream",
          "text": [
            "MAXPooling of X=[[[[ 6.  8.]\n",
            "   [14. 16.]]]]\n"
          ],
          "name": "stdout"
        }
      ]
    },
    {
      "cell_type": "code",
      "metadata": {
        "id": "5nq16aSE7r3M",
        "outputId": "2d046fbe-43ee-44f6-868a-873853aceb76"
      },
      "source": [
        "X_MP = np.zeros(X.shape)\n",
        "for n1 in range(X.shape[0]):     # バッチ数分\n",
        "    for n2 in range(X.shape[1]):     # 画像チャネル数分\n",
        "        for h in range(0, X_MPi.shape[2]):         # 縦のストライド\n",
        "            for w in range(0, X_MPi.shape[3]):\n",
        "                X_MP[n1, n2, int(X_MPi[n1, n2, h, w, 0]), int(X_MPi[n1, n2, h, w, 1])] = Yhat_MP[n1, n2, h, w]            \n",
        "\n",
        "print(\"backwards of X_MP={}\".format(X_MP))"
      ],
      "execution_count": null,
      "outputs": [
        {
          "output_type": "stream",
          "text": [
            "backwards of X_MP=[[[[ 0.  0.  0.  0.]\n",
            "   [ 0.  6.  0.  8.]\n",
            "   [ 0.  0.  0.  0.]\n",
            "   [ 0. 14.  0. 16.]]]]\n"
          ],
          "name": "stdout"
        }
      ]
    },
    {
      "cell_type": "markdown",
      "metadata": {
        "id": "EPYunFjj7r3N"
      },
      "source": [
        "### 【問題5】（アドバンス課題）平均プーリングの作成"
      ]
    },
    {
      "cell_type": "code",
      "metadata": {
        "id": "x5XgZe_H7r3N"
      },
      "source": [
        "# Forward Propergation\n",
        "# Filter = (2, 2)\n",
        "strd_h=2\n",
        "strd_w=2\n",
        "\n",
        "# (1,1,4,4)\n",
        "X = np.array([[[[ 1,  2,  3,  4],\n",
        "                [ 5,  6,  7,  8],\n",
        "                [ 9, 10, 11, 12],\n",
        "                [13, 14, 15, 16]]]])"
      ],
      "execution_count": null,
      "outputs": []
    },
    {
      "cell_type": "code",
      "metadata": {
        "id": "WOsFEV3f7r3N",
        "outputId": "2997e3c1-e8c7-4533-8a86-a0a7804e038f"
      },
      "source": [
        "N_out_h, N_out_w =  N_out_H_W(X_h_shape=X.shape[2], X_w_shape=X.shape[3], W_h_shape=2, W_w_shape=2, \n",
        "                    pad_h=0, pad_w=0, strd_h=strd_h, strd_w=strd_w)\n",
        "print(\"N_out_h={}\".format(N_out_h))\n",
        "print(\"N_out_w={}\".format(N_out_w))"
      ],
      "execution_count": null,
      "outputs": [
        {
          "output_type": "stream",
          "text": [
            "N_out_h=2\n",
            "N_out_w=2\n"
          ],
          "name": "stdout"
        }
      ]
    },
    {
      "cell_type": "code",
      "metadata": {
        "id": "lL-kPGg57r3N",
        "outputId": "250f64a2-eebd-4154-832c-55084d346cc5"
      },
      "source": [
        "Yhat_AP = np.zeros((X.shape[0], X.shape[1], int(X.shape[2]/strd_h), int(X.shape[3]/strd_w)))\n",
        "X_MPi = np.array([])\n",
        "for n1 in range(X.shape[0]):     # バッチ数分\n",
        "    for n2 in range(X.shape[1]):     # 画像チャネル数分\n",
        "        for h in range(N_out_h):         # 縦のストライド\n",
        "            for w in range(N_out_w):         # 横のストライド\n",
        "                Yhat_AP[n1, n2, h, w] = np.mean(X[n1, n2, h*N_out_h:h*N_out_h+strd_h, w*N_out_w:w*N_out_w+strd_w]).astype(int)\n",
        "#X_MPi = X_MPi.reshape(-1, 2)\n",
        "print(\"AveragePooling of X={}\".format(Yhat_AP))"
      ],
      "execution_count": null,
      "outputs": [
        {
          "output_type": "stream",
          "text": [
            "AveragePooling of X=[[[[ 3.  5.]\n",
            "   [11. 13.]]]]\n"
          ],
          "name": "stdout"
        }
      ]
    },
    {
      "cell_type": "markdown",
      "metadata": {
        "id": "HBtZ5RIv7r3O"
      },
      "source": [
        "### 【問題6】平滑化"
      ]
    },
    {
      "cell_type": "code",
      "metadata": {
        "id": "TR9KaGf67r3O"
      },
      "source": [
        "# Forward Propergation\n",
        "# (1,1,4,4)\n",
        "X = np.array([[[[ 1,  2,  3,  4],\n",
        "                [ 5,  6,  7,  8],\n",
        "                [ 9, 10, 11, 12],\n",
        "                [13, 14, 15, 16]]]])"
      ],
      "execution_count": null,
      "outputs": []
    },
    {
      "cell_type": "code",
      "metadata": {
        "id": "8MljigOo7r3O"
      },
      "source": [
        "Xshape = X.shape\n",
        "X = X.reshape(X.shape[0], X.shape[1], -1)"
      ],
      "execution_count": null,
      "outputs": []
    },
    {
      "cell_type": "code",
      "metadata": {
        "id": "JCmvdc9v7r3O",
        "outputId": "435b43c2-8b04-4ce6-e32e-f765f5a2ba8f"
      },
      "source": [
        "X"
      ],
      "execution_count": null,
      "outputs": [
        {
          "output_type": "execute_result",
          "data": {
            "text/plain": [
              "array([[[ 1,  2,  3,  4,  5,  6,  7,  8,  9, 10, 11, 12, 13, 14, 15, 16]]])"
            ]
          },
          "metadata": {
            "tags": []
          },
          "execution_count": 502
        }
      ]
    },
    {
      "cell_type": "code",
      "metadata": {
        "id": "POu5Ut9n7r3P"
      },
      "source": [
        "# Back Propergation\n",
        "X = X.reshape(Xshape)"
      ],
      "execution_count": null,
      "outputs": []
    },
    {
      "cell_type": "code",
      "metadata": {
        "id": "dxgXyxfP7r3P",
        "outputId": "8d3dd937-5e1a-44ad-b780-eee2da79c5c1"
      },
      "source": [
        "X"
      ],
      "execution_count": null,
      "outputs": [
        {
          "output_type": "execute_result",
          "data": {
            "text/plain": [
              "array([[[[ 1,  2,  3,  4],\n",
              "         [ 5,  6,  7,  8],\n",
              "         [ 9, 10, 11, 12],\n",
              "         [13, 14, 15, 16]]]])"
            ]
          },
          "metadata": {
            "tags": []
          },
          "execution_count": 504
        }
      ]
    },
    {
      "cell_type": "markdown",
      "metadata": {
        "id": "pfpPjZvL7r3P"
      },
      "source": [
        "### 【問題9】（アドバンス課題）有名な画像認識モデルの調査"
      ]
    },
    {
      "cell_type": "markdown",
      "metadata": {
        "id": "ypZn8gYp7r3P"
      },
      "source": [
        "◆R-CNN:Fast R-CNN、Faster R-CNN、SSD、yolo、U-netなど"
      ]
    },
    {
      "cell_type": "markdown",
      "metadata": {
        "id": "zXN_qDDH7r3P"
      },
      "source": [
        "### 【問題10】出力サイズとパラメータ数の計算"
      ]
    },
    {
      "cell_type": "markdown",
      "metadata": {
        "id": "No9_4w8o7r3Q"
      },
      "source": [
        "CNNモデルを構築する際には、全結合層に入力する段階で特徴量がいくつになっているかを事前に計算する必要があります。\n",
        "また、巨大なモデルを扱うようになると、メモリや計算速度の関係でパラメータ数の計算は必須になってきます。フレームワークでは各層のパラメータ数を表示させることが可能ですが、意味を理解していなくては適切な調整が行えません。\n",
        "以下の3つの畳み込み層の出力サイズとパラメータ数を計算してください。パラメータ数についてはバイアス項も考えてください。"
      ]
    },
    {
      "cell_type": "markdown",
      "metadata": {
        "id": "z1HsXOgN7r3Q"
      },
      "source": [
        "1.\\\n",
        "・入力サイズ : 144×144, 3チャンネル\\\n",
        "・フィルタサイズ : 3×3, 6チャンネル\\\n",
        "・ストライド : 1\n",
        "・パディング : なし"
      ]
    },
    {
      "cell_type": "markdown",
      "metadata": {
        "id": "QyTMjFr97r3Q"
      },
      "source": [
        "⑴　出力サイズ\\\n",
        "出力サイズ(縦方向)　=　(入力のサイズ（特徴量の数） + 2 *  ある方向へのパディングの数 - フィルタのサイズ) / ストライドのサイズ + 1\\\n",
        "出力サイズ(横方向)　=　(入力のサイズ（特徴量の数） + 2 *  ある方向へのパディングの数 - フィルタのサイズ) / ストライドのサイズ + 1\\\n",
        "→　( 144 + 2 * 0 - 3 ) / 1 + 1 = 142\\\n",
        "⑵　パラメータ数\\\n",
        "・ストライド数（縦=1、横=1）\\\n",
        "・パディング数（縦=0、横=0）\\\n",
        "・チャンネル数（入力=3、出力=18）\\\n",
        "・フィルタサイズ（縦=3、横=3）\\\n",
        "・バイアス項の数=18"
      ]
    },
    {
      "cell_type": "markdown",
      "metadata": {
        "id": "haeCVt1V7r3Q"
      },
      "source": [
        "2.\\\n",
        "入力サイズ : 60×60, 24チャンネル\\\n",
        "フィルタサイズ : 3×3, 48チャンネル\\\n",
        "ストライド　: 1\\\n",
        "パディング : なし"
      ]
    },
    {
      "cell_type": "markdown",
      "metadata": {
        "id": "MEWcEHfF7r3Q"
      },
      "source": [
        "⑴　出力サイズ\\\n",
        "出力サイズ(縦方向)　=　(入力のサイズ（特徴量の数） + 2 * ある方向へのパディングの数 - フィルタのサイズ) / ストライドのサイズ + 1\\\n",
        "出力サイズ(横方向)　=　(入力のサイズ（特徴量の数） + 2 * ある方向へのパディングの数 - フィルタのサイズ) / ストライドのサイズ + 1\\\n",
        "→　( 60 + 2 * 0 - 3 ) / 1 + 1 = 58\\\n",
        "⑵　パラメータ数\\\n",
        "・ストライド数（縦=1、横=1）\\\n",
        "・パディング数（縦=0、横=0）\\\n",
        "・チャンネル数（入力=24、出力=1152）\\\n",
        "・フィルタサイズ（縦=3、横=3）\\\n",
        "・バイアス項の数=1152"
      ]
    },
    {
      "cell_type": "markdown",
      "metadata": {
        "id": "BtMFXDgB7r3R"
      },
      "source": [
        "3.\\\n",
        "入力サイズ : 20×20, 10チャンネル\\\n",
        "フィルタサイズ: 3×3, 20チャンネル\\\n",
        "ストライド : 2\\\n",
        "パディング : なし"
      ]
    },
    {
      "cell_type": "markdown",
      "metadata": {
        "id": "m0bbeipC7r3R"
      },
      "source": [
        "⑴　出力サイズ\\\n",
        "出力サイズ(縦方向)　=　(入力のサイズ（特徴量の数） + 2 * ある方向へのパディングの数 - フィルタのサイズ) / ストライドのサイズ + 1\\\n",
        "出力サイズ(横方向)　=　(入力のサイズ（特徴量の数） + 2 * ある方向へのパディングの数 - フィルタのサイズ) / ストライドのサイズ + 1\\\n",
        "→　(( 20 + 2 * 0 - 3 ) // 2 + 1) + 1 = 10 (端が欠けた分の部分フィルタリングのため、1追加する。\\\n",
        "⑵　パラメータ数\\\n",
        "・ストライド数（縦=2、横=2）\\\n",
        "・パディング数（縦=0、横=0）\\\n",
        "・チャンネル数（入力=10、出力=300）\\\n",
        "・フィルタサイズ（縦=3、横=3）\\\n",
        "・バイアス項の数=300"
      ]
    },
    {
      "cell_type": "markdown",
      "metadata": {
        "id": "eJk0mK527r3R"
      },
      "source": [
        "### 【問題8】（アドバンス課題）LeNet"
      ]
    },
    {
      "cell_type": "code",
      "metadata": {
        "id": "pMJkXl8V7r3R"
      },
      "source": [
        "# Tranerクラス\n",
        "class ScratchDeepNeuralNetrowkReNet():\n",
        "    \"\"\"\n",
        "    Trainerクラスの定義\n",
        "    \n",
        "    \"\"\"\n",
        "    # self.sigma : ガウス分布の標準偏差\n",
        "    # self.lr : 学習率\n",
        "    # self.n_nodes1 : 1層目のノード数\n",
        "    # self.n_nodes2 : 2層目のノード数\n",
        "    # self.n_output : 出力層のノード数\n",
        "    \n",
        "    batch_size = 6\n",
        "    sigma = 0.01\n",
        "    n_features = 120\n",
        "    n_nodes1 = 84\n",
        "    n_output = 10\n",
        "    lr = 0.01\n",
        "\n",
        "    def __init__(self, seed=0, verbose = True, verbose2 = False):\n",
        "        \n",
        "        self.seed = 0\n",
        "        self.verbose = verbose\n",
        "        self.verbose2 = verbose2\n",
        "\n",
        "    def fit(self, X, y, X_val=None, y_val=None, pinit=\"Initializer\", pact1=\"Tanh\", pact2=\"logsumexp\", popt=\"SGD\",\n",
        "            cinit = \"InitializerConv2d\", cact = \"ReLU\", copt = \"SGD\", MaxPool = True, Flat = True, \n",
        "            out_channel = 20, in_channel = 1, filter_size_h = 3, filter_size_w = 3, padding_size_h = 0, padding_size_w = 0, \n",
        "            stride_size_h = 1, stride_size_w = 1, pooling_size_h = 2, pooling_size_w = 2):\n",
        "\n",
        "        # 畳み込み層　初期化、学習用の各関数を定義\n",
        "        # 初期化関数\n",
        "        if cinit == \"InitializerConv2d\":\n",
        "            initializerConv2d =SimpleInitializerConv2d(self.sigma, self.seed)\n",
        "        \n",
        "        # 最適化関数\n",
        "        if copt == \"SGD\":\n",
        "            optimizerConv2d = SGD(self.lr)\n",
        "        \n",
        "        # 活性化関数\n",
        "        if cact == \"ReLU\":\n",
        "            self.activationConv2d = ReLU()\n",
        "        \n",
        "        # 学習用関数初期化\n",
        "        if copt == \"SGD\":\n",
        "            self.Conv2d = SimpleConv2d(out_channel, in_channel, filter_size_h, filter_size_w, padding_size_h, padding_size_w,\n",
        "                                       stride_size_h, stride_size_w, initializerConv2d, optimizerConv2d)\n",
        "        \n",
        "        # MaxPooling関数\n",
        "        if MaxPool:\n",
        "            self.MaxPooling = MaxPooling(pooling_size_h, pooling_size_w)\n",
        "        \n",
        "        # 平滑化関数\n",
        "        if Flat:\n",
        "            self.Flatten = Flatten()\n",
        "       \n",
        "        # 全結合層　初期化、最適化、活性化、学習用の各関数を定義\n",
        "        # 初期化関数\n",
        "        if pinit == \"Initializer\":\n",
        "            initializer = SimpleInitializer(self.sigma, self.seed)\n",
        "        elif pinit == \"Xavier\":\n",
        "            initializer = Xavier(self.sigma, self.seed)\n",
        "        elif pinit == \"He\":\n",
        "            initializer = He(self.sigma, self.seed)\n",
        "        \n",
        "        # 最適化関数\n",
        "        if popt == \"SGD\":\n",
        "            optimizer = SGD(self.lr)\n",
        "        elif popt == \"AdaGrad\":\n",
        "            optimizer1 = AdaGrad(self.lr) \n",
        "            optimizer2 = AdaGrad(self.lr) \n",
        "            optimizer3 = AdaGrad(self.lr) \n",
        "        \n",
        "        # 活性化関数1\n",
        "        if pact1 == \"Tanh\":\n",
        "            self.activation1 = Tanh()\n",
        "            self.activation2 = Tanh()\n",
        "        if pact1 == \"ReLU\":\n",
        "            self.activation1 = ReLU()\n",
        "            self.activation2 = ReLU()\n",
        "\n",
        "        # 活性化関数2\n",
        "        if pact2 == \"logsumexp\":\n",
        "            self.activation3 = logsumexp()\n",
        "        elif pact2 == \"Softmax\":\n",
        "            self.activation3 = Softmax()\n",
        "        \n",
        "        # 学習用関数初期化\n",
        "        if popt == \"SGD\":\n",
        "            self.FC1 = FC(self.n_features, self.n_nodes1, initializer, optimizer) # W1: (120, 84)\n",
        "            self.FC2 = FC(self.n_nodes1, self.n_output, initializer, optimizer) # W2: (84, 10) \n",
        "        elif popt == \"AdaGrad\":\n",
        "            self.FC1 = FC(self.n_features, self.n_nodes1, initializer, optimizer1) # W1: (120, 84)\n",
        "            self.FC2 = FC(self.n_nodes1, self.n_output, initializer, optimizer2) # W2: (84, 10) \n",
        "        \n",
        "        epoch = 20\n",
        "        n_step_iteration_report = 1\n",
        "        plot_data = []\n",
        "        \n",
        "        # Utility(epochごとに、全データ分ミニバッチを取得)\n",
        "        for i in range(epoch):\n",
        "\n",
        "            sum_of_loss = 0\n",
        "            get_mini_batch = GetMiniBatch(X, y, batch_size = self.batch_size)\n",
        "            for j, (mini_X_train, mini_y_train) in enumerate(get_mini_batch):\n",
        "                \n",
        "                mini_X_train = mini_X_train.reshape(out_channel, in_channel, 28, 28)\n",
        "                \n",
        "                # 畳み込み層　学習用Forward Propergation\n",
        "                C1  = self.Conv2d.forward(mini_X_train)\n",
        "                ZC1 = self.activationConv2d.forward(C1)\n",
        "\n",
        "                # 畳み込み層　Maxpooling\n",
        "                M1 = self.MaxPooling.forward(ZC1)\n",
        "                \n",
        "                # 畳み込み層　学習用Forward Propergation\n",
        "                C2  = self.Conv2d.forward(M1)\n",
        "                ZC2 = self.activationConv2d.forward(C2)\n",
        "\n",
        "                # 畳み込み層　Maxpooling\n",
        "                M2 = self.MaxPooling.forward(ZC2)\n",
        "                \n",
        "                # 畳み込み層　平滑化\n",
        "                ZC1 = self.Flatten.forward(M2)\n",
        "                ZC1 = ZC1.reshape(out_channel, ZC1.shape[-1])\n",
        "                \n",
        "                # 全結合層　学習用Forward Propergation\n",
        "                A1 = self.FC1.forward(ZC1)\n",
        "                Z1 = self.activation1.forward(A1)\n",
        "                A2 = self.FC2.forward(Z1)\n",
        "                log_Z2 = A2 - self.activation2.forward(A2)\n",
        "                Z2 = np.exp(log_Z2)\n",
        "                \n",
        "                # 全結合層　学習用Back Propergation\n",
        "                dA2,L,C = self.activation2.backward(Z2, log_Z2, mini_y_train) # 交差エントロピー誤差とソフトマックスを合わせている\n",
        "                dZ1 = self.FC2.backward(dA2)\n",
        "                dA1 = self.activation1.backward(dZ1)\n",
        "                dZ0 = self.FC1.backward(dA1) # dZ0は使用しない\n",
        "                \n",
        "                # 畳み込み層　平滑化Back Propergation\n",
        "                dZ0 = dZ0.reshape(out_channel, in_channel, dZ0.shape[-1])\n",
        "                dF0 = self.Flatten.backward(dZ0)\n",
        "                \n",
        "                # 畳み込み層　MaxPooling Back Propergation\n",
        "                dM0 = self.MaxPooling.backward(dF0)\n",
        "                \n",
        "                # 畳み込み層　学習用Back Propergation\n",
        "                dA0 = self.activationConv2d.backward(dM0)\n",
        "                dZC = self.Conv2d.backward(dA0)\n",
        "\n",
        "                # 畳み込み層　MaxPooling Back Propergation\n",
        "                dM1 = self.MaxPooling.backward(dFC)\n",
        "                \n",
        "                # 畳み込み層　学習用Back Propergation\n",
        "                dA1 = self.activationConv2d.backward(dM1)\n",
        "                dZD = self.Conv2d.backward(dA1)\n",
        "                \n",
        "                # ログ出力\n",
        "                sum_of_loss += L\n",
        "                if self.verbose and (j + 1) % n_step_iteration_report == 0:\n",
        "                    train_loss = sum_of_loss / n_step_iteration_report\n",
        "\n",
        "                    # 検証用Forward Propergation、損失、Accuracy\n",
        "                    #C1  = self.Conv1d.forward(X_val)\n",
        "                    #ZC1 = self.activationConv1d.forward(C1)                    \n",
        "                    #A1 = self.FC1.forward(ZC1)\n",
        "                    #Z1 = self.activation1.forward(A1)\n",
        "                    #A2 = self.FC2.forward(Z1)\n",
        "                    #Z2 = self.activation2.forward(A2)\n",
        "                    #A3 = self.FC3.forward(Z2)\n",
        "                    #log_Z3 = A3 - self.activation3.forward(A3)\n",
        "                    #Z3 = np.exp(log_Z3)\n",
        "\n",
        "                    #dA3,val_loss,val_accuracy = self.activation3.backward(Z3, log_Z3, y_val)\n",
        "                    \n",
        "                    #print(f'epoch: {i+1}, iteration: {j+1}, train_loss: {train_loss:.3}, val_loss: {val_loss:.3}, accuracty: {val_accuracy / len(y_val):.3}')\n",
        "                    print(f'epoch: {i+1}, iteration: {j+1}, train_loss: {train_loss:.3}, accuracy: {C / len(mini_y_train):.3}')\n",
        "                    sum_of_loss = 0\n",
        "\n",
        "                    iters_per_epoch = len(X_train) / self.batch_size\n",
        "                    print(\"iters_per_epoch={}\".format(iters_per_epoch))\n",
        "                    #plot_data.append((i + (j + 1) / iters_per_epoch, train_loss, val_loss))\n",
        "                    plot_data.append((i + (j + 1) / iters_per_epoch, train_loss))\n",
        "                \n",
        "            if self.verbose:\n",
        "                #verboseをTrueにした際は学習過程などを出力する\n",
        "                pass\n",
        "                \n",
        "                if self.verbose2:\n",
        "                    print(\"epoch={}\".format(i))\n",
        "                    print(\"forward propergation\")                    \n",
        "                    print(\" A1={}\".format(A1))\n",
        "                    print(\" Z1={}\".format(Z1))\n",
        "                    print(\" A2={}\".format(A2))\n",
        "                    print(\" Z2={}\".format(Z2))\n",
        "                    print(\" A3={}\".format(A3))\n",
        "                    print(\" Z3={}\".format(Z3))\n",
        "                    print(\"back propergation\")\n",
        "                    print(\"dA3={}\".format(dA3))                    \n",
        "                    print(\"dZ2={}\".format(dZ2))\n",
        "                    print(\"dA2={}\".format(dA2))\n",
        "                    print(\"dZ1={}\".format(dZ1))\n",
        "                    print(\"dA1={}\".format(dA1))\n",
        "                    print(\"dA0={}\".format(dA0)) \n",
        "                    \n",
        "        if self.verbose:\n",
        "            #verboseをTrueにした際は学習過程などを出力する\n",
        "            #epochs, train_loss, val_loss = zip(*plot_data)\n",
        "            epochs, train_loss = zip(*plot_data)\n",
        "            plt.plot(epochs, train_loss, color='r', label='train_loss')\n",
        "            #plt.plot(epochs, val_loss, color='b', label='val_loss')\n",
        "            plt.xlabel('epoch')\n",
        "            plt.ylabel('loss')\n",
        "            plt.show()\n",
        "\n",
        "    def predict(self, X):\n",
        "\n",
        "        C1  = self.Conv2d.forward(X)\n",
        "        ZC1 = self.activationConv2d.forward(C1)\n",
        "        M1 = self.MaxPooling.forward(ZC1)\n",
        "        ZC1 = self.Flatten.forward(M1)\n",
        "        ZC1 = ZC1.reshape(20, ZC1.shape[-1])\n",
        "        A1 = self.FC1.forward(ZC1)\n",
        "        Z1 = self.activation1.forward(A1)\n",
        "        A2 = self.FC2.forward(Z1)\n",
        "        Z2 = self.activation2.forward(A2)\n",
        "        A3 = self.FC3.forward(Z2)\n",
        "        log_Z3 = A3 - self.activation3.forward(A3)\n",
        "        y_pred = log_Z3.argmax(axis=1)\n",
        "        \n",
        "        return y_pred"
      ],
      "execution_count": null,
      "outputs": []
    },
    {
      "cell_type": "code",
      "metadata": {
        "id": "Bsjjz3yw7r3S",
        "outputId": "f875913a-b983-43ca-b063-48799032bda9"
      },
      "source": [
        "ReNetc = ScratchDeepNeuralNetrowkReNet()\n",
        "ReNetc.fit(X_train, y_train, X_val=None, y_val=None, pinit=\"Initializer\", pact1=\"Tanh\", pact2=\"logsumexp\", popt=\"SGD\",\n",
        "            cinit = \"InitializerConv2d\", cact = \"ReLU\", copt = \"SGD\", MaxPool = True, Flat = True, \n",
        "            out_channel = 6, in_channel = 1, filter_size_h = 5, filter_size_w = 5, padding_size_h = 0, padding_size_w = 0, \n",
        "            stride_size_h = 1, stride_size_w = 1, pooling_size_h = 2, pooling_size_w = 2)"
      ],
      "execution_count": null,
      "outputs": [
        {
          "output_type": "error",
          "ename": "ValueError",
          "evalue": "operands could not be broadcast together with shapes (5,4) (5,5) ",
          "traceback": [
            "\u001b[1;31m---------------------------------------------------------------------------\u001b[0m",
            "\u001b[1;31mValueError\u001b[0m                                Traceback (most recent call last)",
            "\u001b[1;32m<ipython-input-655-220980c201e0>\u001b[0m in \u001b[0;36m<module>\u001b[1;34m\u001b[0m\n\u001b[0;32m      1\u001b[0m \u001b[0mReNetc\u001b[0m \u001b[1;33m=\u001b[0m \u001b[0mScratchDeepNeuralNetrowkReNet\u001b[0m\u001b[1;33m(\u001b[0m\u001b[1;33m)\u001b[0m\u001b[1;33m\u001b[0m\u001b[1;33m\u001b[0m\u001b[0m\n\u001b[1;32m----> 2\u001b[1;33m ReNetc.fit(X_train, y_train, X_val=None, y_val=None, pinit=\"Initializer\", pact1=\"Tanh\", pact2=\"logsumexp\", popt=\"SGD\",\n\u001b[0m\u001b[0;32m      3\u001b[0m             \u001b[0mcinit\u001b[0m \u001b[1;33m=\u001b[0m \u001b[1;34m\"InitializerConv2d\"\u001b[0m\u001b[1;33m,\u001b[0m \u001b[0mcact\u001b[0m \u001b[1;33m=\u001b[0m \u001b[1;34m\"ReLU\"\u001b[0m\u001b[1;33m,\u001b[0m \u001b[0mcopt\u001b[0m \u001b[1;33m=\u001b[0m \u001b[1;34m\"SGD\"\u001b[0m\u001b[1;33m,\u001b[0m \u001b[0mMaxPool\u001b[0m \u001b[1;33m=\u001b[0m \u001b[1;32mTrue\u001b[0m\u001b[1;33m,\u001b[0m \u001b[0mFlat\u001b[0m \u001b[1;33m=\u001b[0m \u001b[1;32mTrue\u001b[0m\u001b[1;33m,\u001b[0m\u001b[1;33m\u001b[0m\u001b[1;33m\u001b[0m\u001b[0m\n\u001b[0;32m      4\u001b[0m             \u001b[0mout_channel\u001b[0m \u001b[1;33m=\u001b[0m \u001b[1;36m6\u001b[0m\u001b[1;33m,\u001b[0m \u001b[0min_channel\u001b[0m \u001b[1;33m=\u001b[0m \u001b[1;36m1\u001b[0m\u001b[1;33m,\u001b[0m \u001b[0mfilter_size_h\u001b[0m \u001b[1;33m=\u001b[0m \u001b[1;36m5\u001b[0m\u001b[1;33m,\u001b[0m \u001b[0mfilter_size_w\u001b[0m \u001b[1;33m=\u001b[0m \u001b[1;36m5\u001b[0m\u001b[1;33m,\u001b[0m \u001b[0mpadding_size_h\u001b[0m \u001b[1;33m=\u001b[0m \u001b[1;36m0\u001b[0m\u001b[1;33m,\u001b[0m \u001b[0mpadding_size_w\u001b[0m \u001b[1;33m=\u001b[0m \u001b[1;36m0\u001b[0m\u001b[1;33m,\u001b[0m\u001b[1;33m\u001b[0m\u001b[1;33m\u001b[0m\u001b[0m\n\u001b[0;32m      5\u001b[0m             stride_size_h = 1, stride_size_w = 1, pooling_size_h = 2, pooling_size_w = 2)\n",
            "\u001b[1;32m<ipython-input-654-fe2f4b1f1096>\u001b[0m in \u001b[0;36mfit\u001b[1;34m(self, X, y, X_val, y_val, pinit, pact1, pact2, popt, cinit, cact, copt, MaxPool, Flat, out_channel, in_channel, filter_size_h, filter_size_w, padding_size_h, padding_size_w, stride_size_h, stride_size_w, pooling_size_h, pooling_size_w)\u001b[0m\n\u001b[0;32m    108\u001b[0m \u001b[1;33m\u001b[0m\u001b[0m\n\u001b[0;32m    109\u001b[0m                 \u001b[1;31m# 畳み込み層　学習用Forward Propergation\u001b[0m\u001b[1;33m\u001b[0m\u001b[1;33m\u001b[0m\u001b[1;33m\u001b[0m\u001b[0m\n\u001b[1;32m--> 110\u001b[1;33m                 \u001b[0mC1\u001b[0m  \u001b[1;33m=\u001b[0m \u001b[0mself\u001b[0m\u001b[1;33m.\u001b[0m\u001b[0mConv2d\u001b[0m\u001b[1;33m.\u001b[0m\u001b[0mforward\u001b[0m\u001b[1;33m(\u001b[0m\u001b[0mmini_X_train\u001b[0m\u001b[1;33m)\u001b[0m\u001b[1;33m\u001b[0m\u001b[1;33m\u001b[0m\u001b[0m\n\u001b[0m\u001b[0;32m    111\u001b[0m                 \u001b[0mZC1\u001b[0m \u001b[1;33m=\u001b[0m \u001b[0mself\u001b[0m\u001b[1;33m.\u001b[0m\u001b[0mactivationConv2d\u001b[0m\u001b[1;33m.\u001b[0m\u001b[0mforward\u001b[0m\u001b[1;33m(\u001b[0m\u001b[0mC1\u001b[0m\u001b[1;33m)\u001b[0m\u001b[1;33m\u001b[0m\u001b[1;33m\u001b[0m\u001b[0m\n\u001b[0;32m    112\u001b[0m \u001b[1;33m\u001b[0m\u001b[0m\n",
            "\u001b[1;32m<ipython-input-632-429fa1bcdf4b>\u001b[0m in \u001b[0;36mforward\u001b[1;34m(self, X)\u001b[0m\n\u001b[0;32m     41\u001b[0m                     \u001b[1;32mfor\u001b[0m \u001b[0mh\u001b[0m \u001b[1;32min\u001b[0m \u001b[0mrange\u001b[0m\u001b[1;33m(\u001b[0m\u001b[0mself\u001b[0m\u001b[1;33m.\u001b[0m\u001b[0mN_out_h\u001b[0m\u001b[1;33m)\u001b[0m\u001b[1;33m:\u001b[0m      \u001b[1;31m# 縦のストライド\u001b[0m\u001b[1;33m\u001b[0m\u001b[1;33m\u001b[0m\u001b[0m\n\u001b[0;32m     42\u001b[0m                         \u001b[1;32mfor\u001b[0m \u001b[0mw\u001b[0m \u001b[1;32min\u001b[0m \u001b[0mrange\u001b[0m\u001b[1;33m(\u001b[0m\u001b[0mself\u001b[0m\u001b[1;33m.\u001b[0m\u001b[0mN_out_w\u001b[0m\u001b[1;33m)\u001b[0m\u001b[1;33m:\u001b[0m  \u001b[1;31m# 横のストライド\u001b[0m\u001b[1;33m\u001b[0m\u001b[1;33m\u001b[0m\u001b[0m\n\u001b[1;32m---> 43\u001b[1;33m                             \u001b[0ma\u001b[0m \u001b[1;33m=\u001b[0m \u001b[0mnp\u001b[0m\u001b[1;33m.\u001b[0m\u001b[0mappend\u001b[0m\u001b[1;33m(\u001b[0m\u001b[0ma\u001b[0m\u001b[1;33m,\u001b[0m \u001b[0mnp\u001b[0m\u001b[1;33m.\u001b[0m\u001b[0msum\u001b[0m\u001b[1;33m(\u001b[0m\u001b[0mself\u001b[0m\u001b[1;33m.\u001b[0m\u001b[0mX\u001b[0m\u001b[1;33m[\u001b[0m\u001b[0mn1\u001b[0m\u001b[1;33m,\u001b[0m \u001b[0mn2\u001b[0m\u001b[1;33m,\u001b[0m \u001b[0mh\u001b[0m\u001b[1;33m:\u001b[0m\u001b[0mh\u001b[0m\u001b[1;33m+\u001b[0m\u001b[0mself\u001b[0m\u001b[1;33m.\u001b[0m\u001b[0mW\u001b[0m\u001b[1;33m.\u001b[0m\u001b[0mshape\u001b[0m\u001b[1;33m[\u001b[0m\u001b[1;36m2\u001b[0m\u001b[1;33m]\u001b[0m\u001b[1;33m,\u001b[0m \u001b[0mw\u001b[0m\u001b[1;33m:\u001b[0m\u001b[0mw\u001b[0m\u001b[1;33m+\u001b[0m\u001b[0mself\u001b[0m\u001b[1;33m.\u001b[0m\u001b[0mW\u001b[0m\u001b[1;33m.\u001b[0m\u001b[0mshape\u001b[0m\u001b[1;33m[\u001b[0m\u001b[1;36m3\u001b[0m\u001b[1;33m]\u001b[0m\u001b[1;33m]\u001b[0m \u001b[1;33m*\u001b[0m \u001b[0mself\u001b[0m\u001b[1;33m.\u001b[0m\u001b[0mW\u001b[0m\u001b[1;33m[\u001b[0m\u001b[0mn1\u001b[0m\u001b[1;33m,\u001b[0m\u001b[0mf\u001b[0m\u001b[1;33m]\u001b[0m\u001b[1;33m)\u001b[0m \u001b[1;33m+\u001b[0m \u001b[0mself\u001b[0m\u001b[1;33m.\u001b[0m\u001b[0mB\u001b[0m\u001b[1;33m[\u001b[0m\u001b[0mn1\u001b[0m\u001b[1;33m]\u001b[0m\u001b[1;33m)\u001b[0m\u001b[1;33m\u001b[0m\u001b[1;33m\u001b[0m\u001b[0m\n\u001b[0m\u001b[0;32m     44\u001b[0m \u001b[1;33m\u001b[0m\u001b[0m\n\u001b[0;32m     45\u001b[0m         \u001b[0ma\u001b[0m \u001b[1;33m=\u001b[0m \u001b[0ma\u001b[0m\u001b[1;33m.\u001b[0m\u001b[0mreshape\u001b[0m\u001b[1;33m(\u001b[0m\u001b[0mself\u001b[0m\u001b[1;33m.\u001b[0m\u001b[0mX\u001b[0m\u001b[1;33m.\u001b[0m\u001b[0mshape\u001b[0m\u001b[1;33m[\u001b[0m\u001b[1;36m0\u001b[0m\u001b[1;33m]\u001b[0m\u001b[1;33m,\u001b[0m \u001b[0mself\u001b[0m\u001b[1;33m.\u001b[0m\u001b[0mX\u001b[0m\u001b[1;33m.\u001b[0m\u001b[0mshape\u001b[0m\u001b[1;33m[\u001b[0m\u001b[1;36m1\u001b[0m\u001b[1;33m]\u001b[0m\u001b[1;33m,\u001b[0m \u001b[0mself\u001b[0m\u001b[1;33m.\u001b[0m\u001b[0mN_out_h\u001b[0m\u001b[1;33m,\u001b[0m \u001b[0mself\u001b[0m\u001b[1;33m.\u001b[0m\u001b[0mN_out_w\u001b[0m\u001b[1;33m)\u001b[0m\u001b[1;33m\u001b[0m\u001b[1;33m\u001b[0m\u001b[0m\n",
            "\u001b[1;31mValueError\u001b[0m: operands could not be broadcast together with shapes (5,4) (5,5) "
          ]
        }
      ]
    },
    {
      "cell_type": "code",
      "metadata": {
        "id": "CN6Qt62B7r3S"
      },
      "source": [
        ""
      ],
      "execution_count": null,
      "outputs": []
    }
  ]
}