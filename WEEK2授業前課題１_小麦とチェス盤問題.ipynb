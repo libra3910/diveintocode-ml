{
  "nbformat": 4,
  "nbformat_minor": 0,
  "metadata": {
    "kernelspec": {
      "display_name": "Python 3",
      "language": "python",
      "name": "python3"
    },
    "language_info": {
      "codemirror_mode": {
        "name": "ipython",
        "version": 3
      },
      "file_extension": ".py",
      "mimetype": "text/x-python",
      "name": "python",
      "nbconvert_exporter": "python",
      "pygments_lexer": "ipython3",
      "version": "3.8.5"
    },
    "colab": {
      "name": "WEEK2授業前課題１_小麦とチェス盤問題.ipynb",
      "provenance": [],
      "include_colab_link": true
    }
  },
  "cells": [
    {
      "cell_type": "markdown",
      "metadata": {
        "id": "view-in-github",
        "colab_type": "text"
      },
      "source": [
        "<a href=\"https://colab.research.google.com/github/libra3910/diveintocode-ml/blob/master/WEEK2%E6%8E%88%E6%A5%AD%E5%89%8D%E8%AA%B2%E9%A1%8C%EF%BC%91_%E5%B0%8F%E9%BA%A6%E3%81%A8%E3%83%81%E3%82%A7%E3%82%B9%E7%9B%A4%E5%95%8F%E9%A1%8C.ipynb\" target=\"_parent\"><img src=\"https://colab.research.google.com/assets/colab-badge.svg\" alt=\"Open In Colab\"/></a>"
      ]
    },
    {
      "cell_type": "markdown",
      "metadata": {
        "id": "k_Gzq8YdEj2r"
      },
      "source": [
        "【問題１】2×2マスのチェス盤の小麦の数"
      ]
    },
    {
      "cell_type": "code",
      "metadata": {
        "id": "2kwSgn8jEj20",
        "outputId": "760317fd-4190-449b-a184-56a066de53f0"
      },
      "source": [
        "n_squares = 4\n",
        "indices_of_squares = np.arange(n_squares)\n",
        "print(indices_of_squares)\n",
        "small_board_ndarray = 2**indices_of_squares\n",
        "print(\"4マスの板に小麦を並べる（ndarray）：{}\".format(small_board_ndarray))"
      ],
      "execution_count": null,
      "outputs": [
        {
          "output_type": "stream",
          "text": [
            "[0 1 2 3]\n",
            "4マスの板に小麦を並べる（ndarray）：[1 2 4 8]\n"
          ],
          "name": "stdout"
        }
      ]
    },
    {
      "cell_type": "code",
      "metadata": {
        "scrolled": true,
        "id": "5TWgKUfgEj22",
        "outputId": "c6b155c9-f013-499f-c30c-05fae49a7118"
      },
      "source": [
        "small_board_ndarray_2by2 = small_board_ndarray.reshape(2,2)\n",
        "print(small_board_ndarray_2by2)"
      ],
      "execution_count": null,
      "outputs": [
        {
          "output_type": "stream",
          "text": [
            "[[1 2]\n",
            " [4 8]]\n"
          ],
          "name": "stdout"
        }
      ]
    },
    {
      "cell_type": "markdown",
      "metadata": {
        "id": "lTQ7_CWzEj23"
      },
      "source": [
        "【問題２】n×mマスへの拡張"
      ]
    },
    {
      "cell_type": "code",
      "metadata": {
        "id": "Emolaf6dEj23",
        "outputId": "25fd677b-5158-4943-84b7-77425a161752"
      },
      "source": [
        "def nm_array(n,m,first_square = 1):\n",
        "  n_squares = n * m\n",
        "  board_list = [first_square]\n",
        "  for _ in range(n_squares - 1):\n",
        "    board_list.append(board_list[-1]*2)\n",
        "  \n",
        "  board_ndarray = np.array(board_list)\n",
        "  return board_ndarray.reshape(n,m)\n",
        "\n",
        "print(nm_array(8,8,1))"
      ],
      "execution_count": null,
      "outputs": [
        {
          "output_type": "stream",
          "text": [
            "[[1.00000000e+00 2.00000000e+00 4.00000000e+00 8.00000000e+00\n",
            "  1.60000000e+01 3.20000000e+01 6.40000000e+01 1.28000000e+02]\n",
            " [2.56000000e+02 5.12000000e+02 1.02400000e+03 2.04800000e+03\n",
            "  4.09600000e+03 8.19200000e+03 1.63840000e+04 3.27680000e+04]\n",
            " [6.55360000e+04 1.31072000e+05 2.62144000e+05 5.24288000e+05\n",
            "  1.04857600e+06 2.09715200e+06 4.19430400e+06 8.38860800e+06]\n",
            " [1.67772160e+07 3.35544320e+07 6.71088640e+07 1.34217728e+08\n",
            "  2.68435456e+08 5.36870912e+08 1.07374182e+09 2.14748365e+09]\n",
            " [4.29496730e+09 8.58993459e+09 1.71798692e+10 3.43597384e+10\n",
            "  6.87194767e+10 1.37438953e+11 2.74877907e+11 5.49755814e+11]\n",
            " [1.09951163e+12 2.19902326e+12 4.39804651e+12 8.79609302e+12\n",
            "  1.75921860e+13 3.51843721e+13 7.03687442e+13 1.40737488e+14]\n",
            " [2.81474977e+14 5.62949953e+14 1.12589991e+15 2.25179981e+15\n",
            "  4.50359963e+15 9.00719925e+15 1.80143985e+16 3.60287970e+16]\n",
            " [7.20575940e+16 1.44115188e+17 2.88230376e+17 5.76460752e+17\n",
            "  1.15292150e+18 2.30584301e+18 4.61168602e+18 9.22337204e+18]]\n"
          ],
          "name": "stdout"
        }
      ]
    },
    {
      "cell_type": "markdown",
      "metadata": {
        "id": "aHC8UvIOEj23"
      },
      "source": [
        "【問題３】小麦の数の合計"
      ]
    },
    {
      "cell_type": "code",
      "metadata": {
        "id": "9H7cc_VPEj24",
        "outputId": "c6cdc252-e7e2-4986-b533-b669bb3404b8"
      },
      "source": [
        "print(\"小麦の数の合計は、{}です。\".format(nm_array(8,8,1).sum()))"
      ],
      "execution_count": null,
      "outputs": [
        {
          "output_type": "stream",
          "text": [
            "小麦の数の合計は、1.8446744073709552e+19です。\n"
          ],
          "name": "stdout"
        }
      ]
    },
    {
      "cell_type": "code",
      "metadata": {
        "id": "NeOFXElLEj24",
        "outputId": "87b0e60b-f5df-4e52-b58a-2b58fb7b36d7"
      },
      "source": [
        "print(\"小麦の列の平均は、{}です。\".format(nm_array(8,8,1).mean(axis=0)))"
      ],
      "execution_count": null,
      "outputs": [
        {
          "output_type": "stream",
          "text": [
            "小麦の列の平均は、[9.04252160e+15 1.80850432e+16 3.61700864e+16 7.23401728e+16\n",
            " 1.44680346e+17 2.89360691e+17 5.78721383e+17 1.15744277e+18]です。\n"
          ],
          "name": "stdout"
        }
      ]
    },
    {
      "cell_type": "code",
      "metadata": {
        "id": "2bHsJXU9Ej24",
        "outputId": "ffc76806-2716-425e-8d08-3f3016e41edc"
      },
      "source": [
        "import matplotlib.pyplot as plt\n",
        "%matplotlib inline\n",
        "left = np.array(range(8))\n",
        "plt.xlabel(\"column\")\n",
        "plt.ylabel(\"number\")\n",
        "plt.title(\"number in each column\")\n",
        "plt.bar(left,nm_array(8,8,1).mean(axis=0))\n",
        "plt.show()"
      ],
      "execution_count": null,
      "outputs": [
        {
          "output_type": "display_data",
          "data": {
            "image/png": "[encoded data removed]",
            "text/plain": [
              "<Figure size 432x288 with 1 Axes>"
            ]
          },
          "metadata": {
            "tags": [],
            "needs_background": "light"
          }
        }
      ]
    },
    {
      "cell_type": "markdown",
      "metadata": {
        "id": "Y-Bc4TVkEj25"
      },
      "source": [
        "【問題４】小麦の数のヒートマップ"
      ]
    },
    {
      "cell_type": "code",
      "metadata": {
        "id": "NFQ6omBQEj25",
        "outputId": "f50427d6-fc85-40c8-efd7-f9d2f3bc9ead"
      },
      "source": [
        "plt.xlabel(\"column\")\n",
        "plt.ylabel(\"row\")\n",
        "plt.title(\"heatmap\")\n",
        "plt.pcolor(nm_array(8,8,1).mean(axis=0).reshape(4, 2))\n",
        "plt.show()"
      ],
      "execution_count": null,
      "outputs": [
        {
          "output_type": "display_data",
          "data": {
            "image/png": "[encoded data removed]",
            "text/plain": [
              "<Figure size 432x288 with 1 Axes>"
            ]
          },
          "metadata": {
            "tags": [],
            "needs_background": "light"
          }
        }
      ]
    },
    {
      "cell_type": "markdown",
      "metadata": {
        "id": "4pWesJ3CEj25"
      },
      "source": [
        "【問題５】後半は前半の何倍か"
      ]
    },
    {
      "cell_type": "code",
      "metadata": {
        "id": "k7h12mqEEj26",
        "outputId": "32206247-6e5e-4795-f9cd-6e7b55781631"
      },
      "source": [
        "n_squares = 32\n",
        "indices_of_squares = np.arange(n_squares).astype(np.uint64)\n",
        "board_ndarray = 2**indices_of_squares\n",
        "board_ndarray_sum_a = board_ndarray.sum()\n",
        "print(\"前半の最後のマスの小麦の合計数：{}\".format(board_ndarray_sum_a)) # 9223372036854775808\n",
        "\n",
        "n_squares = 64\n",
        "indices_of_squares = np.arange(n_squares).astype(np.uint64)\n",
        "board_ndarray = 2**indices_of_squares\n",
        "board_ndarray_sum_b = board_ndarray.sum() - board_ndarray_sum_a\n",
        "print(\"後半の最後のマスの小麦の合計数：{}\".format(board_ndarray_sum_b)) # 9223372036854775808\n",
        "\n",
        "print(\"後半は前半の{}倍です。\".format(board_ndarray_sum_b / board_ndarray_sum_a))"
      ],
      "execution_count": null,
      "outputs": [
        {
          "output_type": "stream",
          "text": [
            "前半の最後のマスの小麦の合計数：4294967295\n",
            "後半の最後のマスの小麦の合計数：18446744069414584320\n",
            "後半は前半の4294967296.0倍です。\n"
          ],
          "name": "stdout"
        }
      ]
    },
    {
      "cell_type": "markdown",
      "metadata": {
        "id": "TJgps_dAEj26"
      },
      "source": [
        "【問題６】他の計算方法によるn×mマスへの拡張"
      ]
    },
    {
      "cell_type": "code",
      "metadata": {
        "id": "7V-Mh461Ej26",
        "outputId": "2f7f8e98-ae2d-4e2c-f869-a5c08446e8bc"
      },
      "source": [
        "def ndarray_append(n,m,first_square = 1):\n",
        "  n_square = n * m\n",
        "  small_board_ndarray = np.array([first_square])\n",
        "  for _ in range(n_square - 1):\n",
        "    small_board_ndarray = np.append(small_board_ndarray, 2*small_board_ndarray[-1].astype(np.uint64))\n",
        "  return small_board_ndarray.astype(np.uint64)\n",
        "\n",
        "print(ndarray_append(8,8))"
      ],
      "execution_count": null,
      "outputs": [
        {
          "output_type": "stream",
          "text": [
            "[                  1                   2                   4\n",
            "                   8                  16                  32\n",
            "                  64                 128                 256\n",
            "                 512                1024                2048\n",
            "                4096                8192               16384\n",
            "               32768               65536              131072\n",
            "              262144              524288             1048576\n",
            "             2097152             4194304             8388608\n",
            "            16777216            33554432            67108864\n",
            "           134217728           268435456           536870912\n",
            "          1073741824          2147483648          4294967296\n",
            "          8589934592         17179869184         34359738368\n",
            "         68719476736        137438953472        274877906944\n",
            "        549755813888       1099511627776       2199023255552\n",
            "       4398046511104       8796093022208      17592186044416\n",
            "      35184372088832      70368744177664     140737488355328\n",
            "     281474976710656     562949953421312    1125899906842624\n",
            "    2251799813685248    4503599627370496    9007199254740992\n",
            "   18014398509481984   36028797018963968   72057594037927936\n",
            "  144115188075855872  288230376151711744  576460752303423488\n",
            " 1152921504606846976 2305843009213693952 4611686018427387904\n",
            " 9223372036854775808]\n"
          ],
          "name": "stdout"
        }
      ]
    },
    {
      "cell_type": "code",
      "metadata": {
        "id": "WyvFH0CUEj27",
        "outputId": "2c575824-8a0c-44dd-bbee-75603cc6992b"
      },
      "source": [
        "def ndarray_broadcast(n,m,first_square = 1):\n",
        "  n_square = n * m\n",
        "  small_board_square = np.arange(n_square)\n",
        "  small_board_ndarray2 = 2**small_board_square.astype(np.uint64)\n",
        "  return small_board_ndarray2\n",
        "\n",
        "print(ndarray_broadcast(8,8))"
      ],
      "execution_count": null,
      "outputs": [
        {
          "output_type": "stream",
          "text": [
            "[                  1                   2                   4\n",
            "                   8                  16                  32\n",
            "                  64                 128                 256\n",
            "                 512                1024                2048\n",
            "                4096                8192               16384\n",
            "               32768               65536              131072\n",
            "              262144              524288             1048576\n",
            "             2097152             4194304             8388608\n",
            "            16777216            33554432            67108864\n",
            "           134217728           268435456           536870912\n",
            "          1073741824          2147483648          4294967296\n",
            "          8589934592         17179869184         34359738368\n",
            "         68719476736        137438953472        274877906944\n",
            "        549755813888       1099511627776       2199023255552\n",
            "       4398046511104       8796093022208      17592186044416\n",
            "      35184372088832      70368744177664     140737488355328\n",
            "     281474976710656     562949953421312    1125899906842624\n",
            "    2251799813685248    4503599627370496    9007199254740992\n",
            "   18014398509481984   36028797018963968   72057594037927936\n",
            "  144115188075855872  288230376151711744  576460752303423488\n",
            " 1152921504606846976 2305843009213693952 4611686018427387904\n",
            " 9223372036854775808]\n"
          ],
          "name": "stdout"
        }
      ]
    },
    {
      "cell_type": "markdown",
      "metadata": {
        "id": "F_bKJix-Ej27"
      },
      "source": [
        "【問題7】計算時間の比較"
      ]
    },
    {
      "cell_type": "code",
      "metadata": {
        "id": "qQZx8E3yEj27",
        "outputId": "a9c27c73-c7f8-47e8-cbdb-1a35f3e47d6e"
      },
      "source": [
        "%%timeit\n",
        "n_squares = 64\n",
        "first_square = 1\n",
        "board_list = [first_square]\n",
        "for _ in range(n_squares - 1):\n",
        "  board_list.append(board_list[-1]*2)\n",
        "  \n",
        "board_ndarray = np.array(board_list)"
      ],
      "execution_count": null,
      "outputs": [
        {
          "output_type": "stream",
          "text": [
            "19.7 µs ± 836 ns per loop (mean ± std. dev. of 7 runs, 10000 loops each)\n"
          ],
          "name": "stdout"
        }
      ]
    },
    {
      "cell_type": "code",
      "metadata": {
        "id": "jx8pjWS0Ej27",
        "outputId": "4248dc65-56f1-488d-d842-1de482dcd111"
      },
      "source": [
        "%%timeit\n",
        "n_square = 64\n",
        "first_square = 1\n",
        "board_list = np.array([first_square])\n",
        "for _ in range(n_square - 1):\n",
        "  board_list = np.append(board_list, 2*board_list[-1])"
      ],
      "execution_count": null,
      "outputs": [
        {
          "output_type": "stream",
          "text": [
            "<magic-timeit>:5: RuntimeWarning: overflow encountered in long_scalars\n"
          ],
          "name": "stderr"
        },
        {
          "output_type": "stream",
          "text": [
            "516 µs ± 24.6 µs per loop (mean ± std. dev. of 7 runs, 1000 loops each)\n"
          ],
          "name": "stdout"
        }
      ]
    },
    {
      "cell_type": "code",
      "metadata": {
        "id": "vOmXP3g6Ej28",
        "outputId": "07a944ee-946f-4473-947c-9b45f3809213"
      },
      "source": [
        "%%timeit\n",
        "n_square = 64\n",
        "first_square = 1\n",
        "board_list = np.arange(n_square)\n",
        "board_list = 2**board_list"
      ],
      "execution_count": null,
      "outputs": [
        {
          "output_type": "stream",
          "text": [
            "2.91 µs ± 138 ns per loop (mean ± std. dev. of 7 runs, 100000 loops each)\n"
          ],
          "name": "stdout"
        }
      ]
    },
    {
      "cell_type": "code",
      "metadata": {
        "id": "jMERLYuQEj28"
      },
      "source": [
        ""
      ],
      "execution_count": null,
      "outputs": []
    }
  ]
}