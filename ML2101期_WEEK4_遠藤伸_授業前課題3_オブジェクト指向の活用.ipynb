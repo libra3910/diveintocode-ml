{
  "nbformat": 4,
  "nbformat_minor": 0,
  "metadata": {
    "kernelspec": {
      "display_name": "Python 3",
      "language": "python",
      "name": "python3"
    },
    "language_info": {
      "codemirror_mode": {
        "name": "ipython",
        "version": 3
      },
      "file_extension": ".py",
      "mimetype": "text/x-python",
      "name": "python",
      "nbconvert_exporter": "python",
      "pygments_lexer": "ipython3",
      "version": "3.8.5"
    },
    "colab": {
      "name": "ML2101期_WEEK4_遠藤伸_授業前課題3_オブジェクト指向の活用.ipynb",
      "provenance": [],
      "collapsed_sections": [],
      "include_colab_link": true
    }
  },
  "cells": [
    {
      "cell_type": "markdown",
      "metadata": {
        "id": "view-in-github",
        "colab_type": "text"
      },
      "source": [
        "<a href=\"https://colab.research.google.com/github/libra3910/diveintocode-ml/blob/master/ML2101%E6%9C%9F_WEEK4_%E9%81%A0%E8%97%A4%E4%BC%B8_%E6%8E%88%E6%A5%AD%E5%89%8D%E8%AA%B2%E9%A1%8C3_%E3%82%AA%E3%83%96%E3%82%B8%E3%82%A7%E3%82%AF%E3%83%88%E6%8C%87%E5%90%91%E3%81%AE%E6%B4%BB%E7%94%A8.ipynb\" target=\"_parent\"><img src=\"https://colab.research.google.com/assets/colab-badge.svg\" alt=\"Open In Colab\"/></a>"
      ]
    },
    {
      "cell_type": "markdown",
      "metadata": {
        "id": "qJ5t-5sCS-X4"
      },
      "source": [
        "# WEEK3　授業前課題3　オブジェクト指向の活用　by　遠藤伸"
      ]
    },
    {
      "cell_type": "markdown",
      "metadata": {
        "id": "IQGS5dd0S-X6"
      },
      "source": [
        "# 【問題1】これまで利用してきたクラスの列挙"
      ]
    },
    {
      "cell_type": "markdown",
      "metadata": {
        "id": "TE30yEnTS-X7"
      },
      "source": [
        "### ①Pandasのオブジェクト\n",
        "```PY\n",
        "DataFrame、\n",
        "Series、\n",
        "Index\n",
        "```"
      ]
    },
    {
      "cell_type": "markdown",
      "metadata": {
        "id": "PiStNWnaS-X8"
      },
      "source": [
        "### ②matplotlibのオブジェクト\n",
        "```PY\n",
        "colors：ListedColormap、\n",
        "matplotlib\n",
        "patches\n",
        "```"
      ]
    },
    {
      "cell_type": "markdown",
      "metadata": {
        "id": "6xXMkn3QS-X8"
      },
      "source": [
        "### ③scikit-learnのオブジェクト\n",
        "```PY\n",
        "1.前処理：\n",
        "　model_selection：train_test_split、\n",
        "　preprocessing：StandardScaler\n",
        "2.学習モデル：\n",
        "　neighbors：KNeighborsClassifier、\n",
        "　linear_model：LinearRegression、\n",
        "　svm：SVR、\n",
        "　pipeline：make_pipeline、\n",
        "　tree：DecisionTreeRegressor、plot_tree、\n",
        "　ensemble：RandomForestRegressor\n",
        "評価：\n",
        "　metrics：mean_squared_error、accuracy_score、precision_score、recall_score、f1_score、confusion_matrix\n",
        "```"
      ]
    },
    {
      "cell_type": "markdown",
      "metadata": {
        "id": "aC5yd1jsS-X8"
      },
      "source": [
        "# 【問題2】これまで利用してきたメソッドやインスタンス変数の列挙"
      ]
    },
    {
      "cell_type": "markdown",
      "metadata": {
        "id": "2JCuNwwzS-X9"
      },
      "source": [
        "### ①Pandasオブジェクト\n",
        "```PY\n",
        "DataFrame：\n",
        "　メソッド：concat()、head()、sum()、isna()、describe()、info()\n",
        "　属性：loc、iloc、index\n",
        "Series：\n",
        "　メソッド：head()、sum()、isna()、describe()、info()\n",
        "　属性：loc、iloc、index\n",
        "```"
      ]
    },
    {
      "cell_type": "markdown",
      "metadata": {
        "id": "Cg1EEJ66S-X9"
      },
      "source": [
        "### ②matplotlibのオブジェクト\n",
        "```PY\n",
        "matplotlib\n",
        "　メソッド：scatterplot()、boxplot()、violinplot()、pie()、pairplot()\n",
        "patches\n",
        "　メソッド：Patch\n",
        "```"
      ]
    },
    {
      "cell_type": "markdown",
      "metadata": {
        "id": "9rcZhc8KS-X9"
      },
      "source": [
        "### ③scikit-learnのオブジェクト\n",
        "```PY\n",
        "1.前処理：\n",
        "　model_selection：train_test_split、\n",
        "　preprocessing：StandardScaler\n",
        "　　メソッド：fit()、transform()\n",
        "2.学習モデル：\n",
        "　neighbors：KNeighborsClassifier、\n",
        "    メソッド：fit()、predict()\n",
        "　linear_model：LinearRegression、\n",
        "　　メソッド：fit()、predict()、score()\n",
        "    インスタンス変数：coef_、intercept_\n",
        "　svm：SVR、\n",
        "　pipeline：make_pipeline、\n",
        "　tree：DecisionTreeRegressor、plot_tree、\n",
        "　　メソッド：fit()、predict()\n",
        "　ensemble：RandomForestRegressor\n",
        "　　メソッド：fit()、predict()\n",
        "評価：\n",
        "　metrics：mean_squared_error、accuracy_score、precision_score、recall_score、f1_score、confusion_matrix\n",
        "```"
      ]
    },
    {
      "cell_type": "code",
      "metadata": {
        "id": "1Mq2c3XbS-X-"
      },
      "source": [
        ""
      ],
      "execution_count": null,
      "outputs": []
    }
  ]
}